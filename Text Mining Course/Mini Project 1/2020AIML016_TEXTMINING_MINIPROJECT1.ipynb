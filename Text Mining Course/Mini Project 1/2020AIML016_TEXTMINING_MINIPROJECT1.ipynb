{
 "cells": [
  {
   "cell_type": "markdown",
   "metadata": {},
   "source": [
    "# Group 6 Mini Project 2\n"
   ]
  },
  {
   "cell_type": "markdown",
   "metadata": {},
   "source": [
    "# 1. Term - Frequency Inverse Document Frequency \n",
    "\n",
    "1) Remove Stopwords (1 Mark)\n",
    "\n",
    "2) Remove the punctuations. the special characters and convert the text to lower case.        (2 Mark)\n",
    "\n",
    "3) create bigrams and trigrams for the entire dataset and list down 20 most frequent bigram and 20 most frequent trigrams ( 3 Marks )\n",
    "\n",
    "4) You have to implement TF-IDF the Algorithm from scratch.   ( 3 Mark )\n",
    "\n",
    "5) Use the above-implemented algorithm and the values to calculate TF-IDF (using TF IDF formula) on the dataset and list down the top 10 words which have the highest TF-IDF Value. (2 Marks)"
   ]
  },
  {
   "cell_type": "code",
   "execution_count": 1,
   "metadata": {},
   "outputs": [
    {
     "name": "stderr",
     "output_type": "stream",
     "text": [
      "C:\\Users\\jaghos\\AppData\\Local\\Continuum\\anaconda3\\lib\\site-packages\\numpy\\_distributor_init.py:32: UserWarning: loaded more than 1 DLL from .libs:\n",
      "C:\\Users\\jaghos\\AppData\\Local\\Continuum\\anaconda3\\lib\\site-packages\\numpy\\.libs\\libopenblas.GK7GX5KEQ4F6UYO3P26ULGBQYHGQO7J4.gfortran-win_amd64.dll\n",
      "C:\\Users\\jaghos\\AppData\\Local\\Continuum\\anaconda3\\lib\\site-packages\\numpy\\.libs\\libopenblas.IPBC74C7KURV7CB2PKT5Z5FNR3SIBV4J.gfortran-win_amd64.dll\n",
      "  stacklevel=1)\n",
      "C:\\Users\\jaghos\\AppData\\Local\\Continuum\\anaconda3\\lib\\site-packages\\statsmodels\\tools\\_testing.py:19: FutureWarning: pandas.util.testing is deprecated. Use the functions in the public API at pandas.testing instead.\n",
      "  import pandas.util.testing as tm\n"
     ]
    }
   ],
   "source": [
    "#Imports\n",
    "import numpy as np\n",
    "import math\n",
    "import matplotlib.pyplot as plt\n",
    "from sklearn.model_selection import train_test_split\n",
    "# for integer encoding using sklearn\n",
    "from sklearn.preprocessing import LabelEncoder\n",
    "import pandas as pd\n",
    "import seaborn as sns\n",
    "from matplotlib import style\n",
    "import plotly.express as px\n",
    "import warnings\n",
    "warnings.filterwarnings('ignore')\n",
    "import datetime as dt\n",
    "from tkinter import *\n",
    "from tkinter.font import Font\n",
    "from sklearn.preprocessing import StandardScaler\n",
    "from sklearn.metrics import confusion_matrix\n",
    "from sklearn.metrics import classification_report\n",
    "from sklearn.preprocessing import scale\n",
    "from pyclustertend import hopkins\n",
    "from sklearn.decomposition import PCA\n",
    "from tqdm import tqdm \n",
    "from math import sqrt \n",
    "from time import gmtime, strftime\n",
    "from sklearn.cluster import KMeans\n",
    "import os\n",
    "##print(os.listdir(\"../input\"))\n",
    "sns.set()\n",
    "from sklearn import preprocessing as pp\n",
    "from sklearn.cluster import KMeans\n",
    "import random\n",
    "import pylab as pl\n",
    "%matplotlib inline\n",
    "import matplotlib.pyplot as plt\n",
    "from scipy.spatial import distance_matrix\n",
    "from scipy.cluster.hierarchy import dendrogram, linkage\n",
    "from sklearn.cluster import DBSCAN,AgglomerativeClustering, KMeans\n",
    "from apyori import apriori\n",
    "######## Capture the start time to check the runt ime of the whole notebook #########\n",
    "startTime = strftime(\"%a, %d %b %Y %H:%M:%S +0000\", gmtime())\n",
    "from sklearn.feature_extraction.text import TfidfVectorizer,CountVectorizer\n",
    "from nltk.corpus import stopwords\n",
    "from nltk.stem.snowball import SnowballStemmer\n",
    "import unicodedata\n",
    "import nltk\n",
    "from nltk import word_tokenize\n",
    "import re  #regular expression\n",
    "from bs4 import BeautifulSoup\n",
    "from gensim.parsing.preprocessing import remove_stopwords\n",
    "import gensim.corpora as corpora\n",
    "from pprint import pprint\n",
    "import gensim\n",
    "import pyLDAvis.gensim_models\n",
    "import pickle \n",
    "import pyLDAvis\n",
    "sw = stopwords.words('english')\n",
    "stemmer = SnowballStemmer(\"english\")\n",
    "url_re = r'(?i)\\b((?:https?://|www\\d{0,3}[.]|[a-z0-9.\\-]+[.][a-z]{2,4}/)(?:[^\\s()<>]+|\\(([^\\s()<>]+|(\\([^\\s()<>]+\\)))*\\))+(?:\\(([^\\s()<>]+|(\\([^\\s()<>]+\\)))*\\)|[^\\s`!()\\[\\]{};:\\'\".,<>?«»“”‘’]))'\n"
   ]
  },
  {
   "cell_type": "code",
   "execution_count": 2,
   "metadata": {},
   "outputs": [
    {
     "name": "stdout",
     "output_type": "stream",
     "text": [
      "                                             sentences    chapter\n",
      "0    I am by birth a Genevese, and my family is one...  Chapter 1\n",
      "1    distinguished of that republic.  My ancestors ...  Chapter 1\n",
      "2    counsellors and syndics, and my father had fil...  Chapter 1\n",
      "3    situations with honour and reputation.  He was...  Chapter 1\n",
      "4    knew him for his integrity and indefatigable a...  Chapter 1\n",
      "..                                                 ...        ...\n",
      "215  worked up her mind to an appearance of courage...  Chapter 8\n",
      "216  court she threw her eyes round it and quickly ...  Chapter 8\n",
      "217  seated.  A tear seemed to dim her eye when she...  Chapter 8\n",
      "218  recovered herself, and a look of sorrowful aff...  Chapter 8\n",
      "219                           her utter guiltlessness.  Chapter 8\n",
      "\n",
      "[220 rows x 2 columns]\n"
     ]
    }
   ],
   "source": [
    "#Extract and read text files\n",
    "\n",
    "sentence = pd.DataFrame()\n",
    "file1 = open('TF-IDF_dataset-Copy.txt', 'r',encoding=\"mbcs\")\n",
    "\n",
    "# Using readlines()\n",
    "try:\n",
    "    \n",
    "    \n",
    "    Lines = file1.readlines()\n",
    " \n",
    "    count = 0\n",
    "    # Strips the newline character\n",
    "    chapter = 'Chapter 1'\n",
    "    for line in Lines:\n",
    "        count += 1\n",
    "        \n",
    "        if len(line.strip()) > 0 and line.strip().find('Chapter') == -1 :\n",
    "            current_df = pd.DataFrame({'sentences': [ line.strip()] , 'chapter':[chapter]})\n",
    "            sentence = sentence.append(current_df, ignore_index=True)\n",
    "        else:\n",
    "            if line.strip().find('Chapter') != -1:\n",
    "                \n",
    "                chapter = line.strip()\n",
    "                #print(chapter)\n",
    "            \n",
    "    file1.close() \n",
    "\n",
    "except Exception as e:\n",
    "    print('Exception occured ',str(e))\n",
    "    file1.close\n",
    "    \n",
    "print(sentence)"
   ]
  },
  {
   "cell_type": "code",
   "execution_count": 3,
   "metadata": {},
   "outputs": [
    {
     "name": "stderr",
     "output_type": "stream",
     "text": [
      "<>:58: DeprecationWarning: invalid escape sequence \\d\n",
      "<>:58: DeprecationWarning: invalid escape sequence \\d\n",
      "<>:58: DeprecationWarning: invalid escape sequence \\d\n",
      "<ipython-input-3-dc4875ae85da>:58: DeprecationWarning: invalid escape sequence \\d\n",
      "  text = re.sub('[^a-zA-Z0-9.\\d\\s]', '', text)\n"
     ]
    }
   ],
   "source": [
    "#Sentence curation functions\n",
    "def stopwords(text):\n",
    "    '''a function for removing the stopword'''\n",
    "    \n",
    "    # removing the stop words and lowercasing the selected words\n",
    "    #text = [word.lower() for word in text.split() if word.lower() not in sw]\n",
    "    # joining the list of words with space separator\n",
    "    text = remove_stopwords(text)\n",
    "    text = [word.lower() for word in text.split() if word.lower() not in sw]\n",
    "    #return(text)\n",
    "    return \" \".join(text)\n",
    "\n",
    "def remove_punctuation(text):\n",
    "    '''a function for removing punctuation'''\n",
    "    import string\n",
    "    # replacing the punctuations with no space, \n",
    "    # which in effect deletes the punctuation marks \n",
    "    translator = str.maketrans('', '', string.punctuation)\n",
    "    # return the text stripped of punctuation marks\n",
    "    return text.translate(translator)\n",
    "\n",
    "def stemming(text):    \n",
    "    \n",
    "    '''a function which stems each word in the given text'''\n",
    "    text = [stemmer.stem(word) for word in text.split()]\n",
    "    return \" \".join(text)     \n",
    "\n",
    "def remove_html(text):\n",
    "    '''\n",
    "    remove the HTML tags and URLS from the tweets\n",
    "    '''\n",
    "    if text:\n",
    "        # BeautifulSoup on content\n",
    "        soup = BeautifulSoup(text, \"html.parser\")\n",
    "        # Stripping all <code> tags with their content if any\n",
    "        if soup.code:\n",
    "            soup.code.decompose()\n",
    "        # Get all the text out of the html\n",
    "        text =  soup.get_text()\n",
    "        # Returning text stripping out all uris\n",
    "        return re.sub(url_re, \"\", text)\n",
    "    else:\n",
    "        return \"\"\n",
    "    \n",
    "def remove_emojis(text):\n",
    "    \n",
    "    emoji_pattern = re.compile(\"[\"\n",
    "        r\"\\U0001F600-\\U0001F64F\"  # emoticons\n",
    "        r\"\\U0001F300-\\U0001F5FF\"  # symbols & pictographs\n",
    "        r\"\\U0001F680-\\U0001F6FF\"  # transport & map symbols\n",
    "        r\"\\U0001F1E0-\\U0001F1FF\"  # flags (iOS)\n",
    "                           \"]+\", flags=re.UNICODE)\n",
    "    text = emoji_pattern.sub(r'', text)# no emoji \n",
    "  \n",
    "    return text\n",
    "\n",
    "def remove_specialChars(text):\n",
    "    text = re.sub('[^a-zA-Z0-9.\\d\\s]', '', text)\n",
    "    return text"
   ]
  },
  {
   "cell_type": "code",
   "execution_count": 4,
   "metadata": {},
   "outputs": [
    {
     "name": "stdout",
     "output_type": "stream",
     "text": [
      "                                         sentences    chapter\n",
      "0                            birth genevese family  Chapter 1\n",
      "1           distinguished republic ancestors years  Chapter 1\n",
      "2         counsellors syndics father filled public  Chapter 1\n",
      "3           situations honour reputation respected  Chapter 1\n",
      "4    knew integrity indefatigable attention public  Chapter 1\n",
      "..                                             ...        ...\n",
      "215         worked mind appearance courage entered  Chapter 8\n",
      "216      court threw eyes round quickly discovered  Chapter 8\n",
      "217                seated tear dim eye saw quickly  Chapter 8\n",
      "218      recovered look sorrowful affection attest  Chapter 8\n",
      "219                            utter guiltlessness  Chapter 8\n",
      "\n",
      "[220 rows x 2 columns]\n"
     ]
    }
   ],
   "source": [
    "## Remove unwanted words ##\n",
    "\n",
    "sentence_duplicate = sentence.copy()\n",
    "sentence['sentences'] = sentence['sentences'].apply(remove_html)\n",
    "sentence['sentences'] = sentence['sentences'].apply(remove_emojis)\n",
    "sentence['sentences'] = sentence['sentences'].apply(remove_punctuation)\n",
    "sentence['sentences'] = sentence['sentences'].apply(stopwords)\n",
    "sentence['sentences'] = sentence['sentences'].apply(remove_specialChars)\n",
    "sentence_duplicate = sentence.copy()\n",
    "#sentence['sentences'] = sentence['sentences'].apply(stemming)\n",
    "\n",
    "print(sentence)"
   ]
  },
  {
   "cell_type": "code",
   "execution_count": 5,
   "metadata": {},
   "outputs": [
    {
     "name": "stdout",
     "output_type": "stream",
     "text": [
      "20 most frequent bigrams \n",
      " (thought, returning)      2\n",
      "(natural, philosophy)     2\n",
      "(native, country)         2\n",
      "(long, time)              2\n",
      "(pen, word)               1\n",
      "(writeto, hold)           1\n",
      "(forbidden, writeto)      1\n",
      "(account, forbidden)      1\n",
      "(reassure, account)       1\n",
      "(sufficient, reassure)    1\n",
      "(henry, sufficient)       1\n",
      "(kind, henry)             1\n",
      "(dear, kind)              1\n",
      "(letters, dear)           1\n",
      "(constant, letters)       1\n",
      "(ill, constant)           1\n",
      "(ill, ill)                1\n",
      "(hold, pen)               1\n",
      "(word, dear)              1\n",
      "(6, you)                  1\n",
      "dtype: int64\n",
      "\n",
      "20 most frequent trigrams \n",
      " (birth, genevese, family)          1\n",
      "(hold, pen, word)                  1\n",
      "(6, you, ill)                      1\n",
      "(you, ill, ill)                    1\n",
      "(ill, ill, constant)               1\n",
      "(ill, constant, letters)           1\n",
      "(constant, letters, dear)          1\n",
      "(letters, dear, kind)              1\n",
      "(dear, kind, henry)                1\n",
      "(kind, henry, sufficient)          1\n",
      "(henry, sufficient, reassure)      1\n",
      "(sufficient, reassure, account)    1\n",
      "(reassure, account, forbidden)     1\n",
      "(account, forbidden, writeto)      1\n",
      "(forbidden, writeto, hold)         1\n",
      "(writeto, hold, pen)               1\n",
      "(pen, word, dear)                  1\n",
      "(beautiful, beautiful, great)      1\n",
      "(word, dear, victor)               1\n",
      "(dear, victor, necessary)          1\n",
      "dtype: int64\n"
     ]
    }
   ],
   "source": [
    "## Extract the BIGrams and the TRIGrams ##\n",
    "tokenized_text = []\n",
    "\n",
    "for index , row in sentence.iterrows():\n",
    "    #print(sentence)\n",
    "    sequence = word_tokenize(row[\"sentences\"]) \n",
    "    tokenized_text.extend(sequence) \n",
    "#Words = sentence['sentences'].tolist()\n",
    "#hf = [\"\".join(review) for review in sentence['sentences'].values]\n",
    "#print(hf)\n",
    "#print(tokenized_text)\n",
    "print('20 most frequent bigrams \\n',(pd.Series(nltk.ngrams(tokenized_text, 2)).value_counts())[:20])\n",
    "print('\\n20 most frequent trigrams \\n',(pd.Series(nltk.ngrams(tokenized_text, 3)).value_counts())[:20])"
   ]
  },
  {
   "cell_type": "code",
   "execution_count": 6,
   "metadata": {},
   "outputs": [
    {
     "name": "stdout",
     "output_type": "stream",
     "text": [
      "length of word dictionary 840\n"
     ]
    },
    {
     "name": "stderr",
     "output_type": "stream",
     "text": [
      "220it [00:00, 2973.22it/s]\n",
      "220it [00:00, 252.29it/s]\n",
      "220it [00:01, 123.66it/s]\n"
     ]
    },
    {
     "name": "stdout",
     "output_type": "stream",
     "text": [
      "Final TD IDF Vector: \n",
      "      divine  blood  abstruse  counsellors  companion  instruments  last  \\\n",
      "0       0.0    0.0       0.0     0.000000        0.0          0.0   0.0   \n",
      "1       0.0    0.0       0.0     0.000000        0.0          0.0   0.0   \n",
      "2       0.0    0.0       0.0     0.408279        0.0          0.0   0.0   \n",
      "3       0.0    0.0       0.0     0.000000        0.0          0.0   0.0   \n",
      "4       0.0    0.0       0.0     0.000000        0.0          0.0   0.0   \n",
      "..      ...    ...       ...          ...        ...          ...   ...   \n",
      "215     0.0    0.0       0.0     0.000000        0.0          0.0   0.0   \n",
      "216     0.0    0.0       0.0     0.000000        0.0          0.0   0.0   \n",
      "217     0.0    0.0       0.0     0.000000        0.0          0.0   0.0   \n",
      "218     0.0    0.0       0.0     0.000000        0.0          0.0   0.0   \n",
      "219     0.0    0.0       0.0     0.000000        0.0          0.0   0.0   \n",
      "\n",
      "     valuable  hours  horror  ...  considered  lawless      tear  prospect  \\\n",
      "0         0.0    0.0     0.0  ...         0.0      0.0  0.000000       0.0   \n",
      "1         0.0    0.0     0.0  ...         0.0      0.0  0.000000       0.0   \n",
      "2         0.0    0.0     0.0  ...         0.0      0.0  0.000000       0.0   \n",
      "3         0.0    0.0     0.0  ...         0.0      0.0  0.000000       0.0   \n",
      "4         0.0    0.0     0.0  ...         0.0      0.0  0.000000       0.0   \n",
      "..        ...    ...     ...  ...         ...      ...       ...       ...   \n",
      "215       0.0    0.0     0.0  ...         0.0      0.0  0.000000       0.0   \n",
      "216       0.0    0.0     0.0  ...         0.0      0.0  0.000000       0.0   \n",
      "217       0.0    0.0     0.0  ...         0.0      0.0  0.340232       0.0   \n",
      "218       0.0    0.0     0.0  ...         0.0      0.0  0.000000       0.0   \n",
      "219       0.0    0.0     0.0  ...         0.0      0.0  0.000000       0.0   \n",
      "\n",
      "     alas  old  yield  schools  confusion  adventure  \n",
      "0     0.0  0.0    0.0      0.0        0.0        0.0  \n",
      "1     0.0  0.0    0.0      0.0        0.0        0.0  \n",
      "2     0.0  0.0    0.0      0.0        0.0        0.0  \n",
      "3     0.0  0.0    0.0      0.0        0.0        0.0  \n",
      "4     0.0  0.0    0.0      0.0        0.0        0.0  \n",
      "..    ...  ...    ...      ...        ...        ...  \n",
      "215   0.0  0.0    0.0      0.0        0.0        0.0  \n",
      "216   0.0  0.0    0.0      0.0        0.0        0.0  \n",
      "217   0.0  0.0    0.0      0.0        0.0        0.0  \n",
      "218   0.0  0.0    0.0      0.0        0.0        0.0  \n",
      "219   0.0  0.0    0.0      0.0        0.0        0.0  \n",
      "\n",
      "[220 rows x 840 columns]\n"
     ]
    }
   ],
   "source": [
    "## Implement TF- IDF ##\n",
    "\n",
    "# Create the dictionary of words\n",
    "final_dictionary=set()\n",
    "for index , row in sentence.iterrows():\n",
    "    split_sentence = row['sentences'].split(\" \")\n",
    "    set_sentence =  set(split_sentence)\n",
    "    final_dictionary = final_dictionary.union(set_sentence)\n",
    "print('length of word dictionary', len(final_dictionary))\n",
    "\n",
    "\n",
    "wordDict = []#pd.DataFrame()\n",
    "for index , row in tqdm(sentence.iterrows()):\n",
    "    split_sentence = row['sentences'].split(\" \")\n",
    "    wordDictA = dict.fromkeys(final_dictionary, 0)\n",
    "    for word in split_sentence:\n",
    "        wordDictA[word]+=1\n",
    "    #print([wordDictA])\n",
    "    wordDict.append(wordDictA.copy())\n",
    "    #print(wordDict)\n",
    "#print(len(wordDict))\n",
    "\n",
    "\n",
    "#Create the Term Frequency for each sentence\n",
    "def computeTF(wordDict, doc):\n",
    "    tfDict = {}\n",
    "    corpusCount = len(doc)\n",
    "    for word, count in wordDict.items():\n",
    "        tfDict[word] = count/float(corpusCount)\n",
    "    return(tfDict)\n",
    "\n",
    "wordDictTF = pd.DataFrame()\n",
    "for index , row in tqdm(sentence.iterrows()):\n",
    "    split_sentence = row['sentences'].split(\" \")\n",
    "    wordDictA = dict.fromkeys(final_dictionary, 0)\n",
    "    for word in split_sentence:\n",
    "        wordDictA[word]+=1\n",
    "    #print([wordDictA])\n",
    "    tfSentence = computeTF(wordDictA, split_sentence)\n",
    "    wordDictTF = wordDictTF.append(tfSentence,ignore_index = True)\n",
    "    #print(wordDict)\n",
    "#print(\"TF word dictionary \\n\",wordDictTF)\n",
    "\n",
    "#Create the IDF for the corpus\n",
    "\n",
    "def computeIDF(docList):\n",
    "    idfDict = {}\n",
    "    N = len(docList)\n",
    "    \n",
    "    idfDict = dict.fromkeys(docList[0].keys(), 0)\n",
    "    for word , val in idfDict.items():\n",
    "        wordcount = 0\n",
    "        for itemlist in docList:\n",
    "            if itemlist[word] > 0:\n",
    "                wordcount = wordcount+1\n",
    "        #print(\"word is \",word)\n",
    "        #print(\"val is \",wordcount )\n",
    "        \n",
    "        idfDict[word] = math.log10(N / (float(wordcount) + 1))\n",
    "        \n",
    "    return(idfDict)\n",
    "idfs = computeIDF(wordDict)\n",
    "#print(idfs)\n",
    "\n",
    "# Calculate TF- IDF\n",
    "FinalTFIDF = pd.DataFrame()\n",
    "def computeTFIDF(tfBow, idfs):\n",
    "    tfidf = {}\n",
    "    for word, val in tfBow.items():\n",
    "        tfidf[word] = val*idfs[word]\n",
    "    return(tfidf)\n",
    "\n",
    "for index , row in tqdm(wordDictTF.iterrows()):\n",
    "    tfIDF = computeTFIDF(row.to_dict(), idfs)\n",
    "    FinalTFIDF = FinalTFIDF.append(tfIDF,ignore_index = True)\n",
    "\n",
    "# Print the TF IDF Vector final\n",
    "print(\"Final TD IDF Vector: \\n\",FinalTFIDF)"
   ]
  },
  {
   "cell_type": "code",
   "execution_count": 7,
   "metadata": {},
   "outputs": [
    {
     "name": "stdout",
     "output_type": "stream",
     "text": [
      "Top 10 words with the highest TFIDF value:\n",
      " life          0.010577\n",
      "country       0.009362\n",
      "infidels      0.009279\n",
      "father        0.008167\n",
      "return        0.006848\n",
      "family        0.006592\n",
      "university    0.006592\n",
      "elizabeth     0.006225\n",
      "ingolstadt    0.006197\n",
      "ernest        0.006101\n",
      "dtype: float64\n"
     ]
    }
   ],
   "source": [
    "# Top 10 words with highest TF-IDF value\n",
    "\n",
    "print(\"Top 10 words with the highest TFIDF value:\\n\",FinalTFIDF.mean().sort_values(ascending=False)[:10])"
   ]
  },
  {
   "cell_type": "code",
   "execution_count": 8,
   "metadata": {},
   "outputs": [
    {
     "name": "stdout",
     "output_type": "stream",
     "text": [
      "\n",
      "TD-IDF Vectorizer\n",
      "\n",
      "     7th  able  absence  absent  abstruse  accompanied  accomplishment  \\\n",
      "0    0.0   0.0      0.0     0.0       0.0          0.0             0.0   \n",
      "1    0.0   0.0      0.0     0.0       0.0          0.0             0.0   \n",
      "2    0.0   0.0      0.0     0.0       0.0          0.0             0.0   \n",
      "3    0.0   0.0      0.0     0.0       0.0          0.0             0.0   \n",
      "4    0.0   0.0      0.0     0.0       0.0          0.0             0.0   \n",
      "..   ...   ...      ...     ...       ...          ...             ...   \n",
      "215  0.0   0.0      0.0     0.0       0.0          0.0             0.0   \n",
      "216  0.0   0.0      0.0     0.0       0.0          0.0             0.0   \n",
      "217  0.0   0.0      0.0     0.0       0.0          0.0             0.0   \n",
      "218  0.0   0.0      0.0     0.0       0.0          0.0             0.0   \n",
      "219  0.0   0.0      0.0     0.0       0.0          0.0             0.0   \n",
      "\n",
      "     accordingly  account  acquaintance  ...  write  writes  writeto  written  \\\n",
      "0            0.0      0.0           0.0  ...    0.0     0.0      0.0      0.0   \n",
      "1            0.0      0.0           0.0  ...    0.0     0.0      0.0      0.0   \n",
      "2            0.0      0.0           0.0  ...    0.0     0.0      0.0      0.0   \n",
      "3            0.0      0.0           0.0  ...    0.0     0.0      0.0      0.0   \n",
      "4            0.0      0.0           0.0  ...    0.0     0.0      0.0      0.0   \n",
      "..           ...      ...           ...  ...    ...     ...      ...      ...   \n",
      "215          0.0      0.0           0.0  ...    0.0     0.0      0.0      0.0   \n",
      "216          0.0      0.0           0.0  ...    0.0     0.0      0.0      0.0   \n",
      "217          0.0      0.0           0.0  ...    0.0     0.0      0.0      0.0   \n",
      "218          0.0      0.0           0.0  ...    0.0     0.0      0.0      0.0   \n",
      "219          0.0      0.0           0.0  ...    0.0     0.0      0.0      0.0   \n",
      "\n",
      "     year     years  yellow  yield  yielded  younger  \n",
      "0     0.0  0.000000     0.0    0.0      0.0      0.0  \n",
      "1     0.0  0.444408     0.0    0.0      0.0      0.0  \n",
      "2     0.0  0.000000     0.0    0.0      0.0      0.0  \n",
      "3     0.0  0.000000     0.0    0.0      0.0      0.0  \n",
      "4     0.0  0.000000     0.0    0.0      0.0      0.0  \n",
      "..    ...       ...     ...    ...      ...      ...  \n",
      "215   0.0  0.000000     0.0    0.0      0.0      0.0  \n",
      "216   0.0  0.000000     0.0    0.0      0.0      0.0  \n",
      "217   0.0  0.000000     0.0    0.0      0.0      0.0  \n",
      "218   0.0  0.000000     0.0    0.0      0.0      0.0  \n",
      "219   0.0  0.000000     0.0    0.0      0.0      0.0  \n",
      "\n",
      "[220 rows x 829 columns]\n",
      "Top 10 words with the highest TFIDF value:\n",
      " life         0.012576\n",
      "father       0.010263\n",
      "country      0.010017\n",
      "return       0.008079\n",
      "elizabeth    0.007678\n",
      "long         0.007471\n",
      "ernest       0.007360\n",
      "years        0.007303\n",
      "happy        0.007277\n",
      "day          0.007198\n",
      "dtype: float64\n"
     ]
    }
   ],
   "source": [
    "## Extract TF-IDF Vector using library - Extra done to check the accuracy of the self implemented TF-IDF algorithm ##\n",
    "\n",
    "# instantiate the vectorizer object\n",
    "tfidfvectorizer = TfidfVectorizer(analyzer='word',stop_words= 'english')\n",
    "# convert th sentences into a matrix\n",
    "#hf = sentence['sentences'].values #[\" \".join(review) for review in sentence['sentences'].values]\n",
    "hf = [\" \".join(review) for review in sentence['sentences'].values]\n",
    "'''\n",
    "for review in tqdm(sentence['sentences'].values):\n",
    "    hf = hf + \" \" + review\n",
    "'''\n",
    "#print(hf)\n",
    "tfidf_wm = tfidfvectorizer.fit_transform(sentence['sentences'])# becauase TFIDF vectorizer takes texts and not lists\n",
    "#retrieve the terms found in the corpora\n",
    "\n",
    "\n",
    "tfidf_tokens = tfidfvectorizer.get_feature_names()\n",
    "df_tfidfvect = pd.DataFrame(data = tfidf_wm.toarray(),columns = tfidf_tokens)#index = ['Doc1','Doc2'])\n",
    "\n",
    "print(\"\\nTD-IDF Vectorizer\\n\")\n",
    "print(df_tfidfvect)\n",
    "\n",
    "\n",
    "print(\"Top 10 words with the highest TFIDF value:\\n\",df_tfidfvect.mean().sort_values(ascending=False)[:10])"
   ]
  },
  {
   "cell_type": "markdown",
   "metadata": {},
   "source": [
    "# Perform Part of Speech Tagging using the Viterbi Algorithm, \n",
    "\n",
    "\n",
    "6) Label the cleaned Tf-IDF dataset ( obtained after performing step 1 and step 2 )   ( 2 Mark )\n",
    "\n",
    "7) Split the Train and the Test Dataset                      (1 Mark)\n",
    "\n",
    "8) Implement the Viterbi Algorithm ( you can use Library) to get the Part of Speech Tagging.        ( 3 Marks)\n",
    "\n",
    "9) Calculate the Accuracy and F1 score. ( Number of Predicted Correct Tag in the test set / Total number of Data points in the test set)   (2 Marks)"
   ]
  },
  {
   "cell_type": "code",
   "execution_count": 9,
   "metadata": {},
   "outputs": [
    {
     "name": "stdout",
     "output_type": "stream",
     "text": [
      "[[('birth', 'NN'), ('genevese', 'JJ'), ('family', 'NN')], [('distinguished', 'VBN'), ('republic', 'JJ'), ('ancestors', 'NNS'), ('years', 'NNS')], [('counsellors', 'NNS'), ('syndics', 'VBP'), ('father', 'RB'), ('filled', 'VBN'), ('public', 'NN')], [('situations', 'NNS'), ('honour', 'VBP'), ('reputation', 'NN'), ('respected', 'VBD')], [('knew', 'JJ'), ('integrity', 'NN'), ('indefatigable', 'JJ'), ('attention', 'NN'), ('public', 'NN')], [('business', 'NN'), ('passed', 'VBD'), ('younger', 'JJR'), ('days', 'NNS'), ('perpetually', 'RB'), ('occupied', 'VBD')], [('affairs', 'NNS'), ('country', 'NN'), ('variety', 'NN'), ('circumstances', 'NNS'), ('prevented', 'VBD')], [('marrying', 'VBG'), ('early', 'JJ'), ('decline', 'NN'), ('life', 'NN')], [('husband', 'NN'), ('father', 'RBR'), ('family', 'NN')], [('circumstances', 'NNS'), ('marriage', 'NN'), ('illustrate', 'VBP'), ('character', 'NN')], [('refrain', 'NN'), ('relating', 'VBG'), ('one', 'CD'), ('intimate', 'NN'), ('friends', 'NNS')], [('merchant', 'NN'), ('flourishing', 'VBG'), ('state', 'NN'), ('fell', 'VBD'), ('numerous', 'JJ')], [('mischances', 'NNS'), ('poverty', 'VBP'), ('man', 'NN'), ('beaufort', 'NN')], [('proud', 'JJ'), ('unbending', 'JJ'), ('disposition', 'NN'), ('bear', 'IN'), ('live', 'JJ'), ('poverty', 'NN')], [('oblivion', 'NN'), ('country', 'NN')], [('distinguished', 'VBN'), ('rank', 'NN'), ('magnificence', 'NN'), ('paid', 'VBD'), ('debts', 'NNS')], [('honourable', 'JJ'), ('manner', 'NN'), ('retreated', 'VBD')], [('daughter', 'NN'), ('town', 'NN'), ('lucerne', 'JJ'), ('lived', 'VBD'), ('unknown', 'JJ')], [('wretchedness', 'NN'), ('father', 'NN'), ('loved', 'VBD'), ('beaufort', 'NN'), ('truest', 'NN'), ('friendship', 'NN')], [('deeply', 'RB'), ('grieved', 'VBN'), ('retreat', 'NN'), ('unfortunate', 'JJ'), ('circumstances', 'NNS')], [('bitterly', 'RB'), ('deplored', 'VBN'), ('false', 'JJ'), ('pride', 'NN'), ('led', 'VBD'), ('friend', 'NN'), ('conduct', 'NN')], [('little', 'JJ'), ('worthy', 'JJ'), ('affection', 'NN'), ('united', 'VBD'), ('lost', 'JJ'), ('time', 'NN')], [('endeavouring', 'VBG'), ('seek', 'JJ'), ('hope', 'NN'), ('persuading', 'VBG'), ('begin', 'VB')], [('world', 'NN'), ('credit', 'NN'), ('assistance', 'NN')], [('brought', 'JJ'), ('year', 'NN'), ('difference', 'NN')], [('ages', 'NNS'), ('need', 'VBP'), ('strangers', 'NNS'), ('species', 'NNS')], [('disunion', 'NN'), ('dispute', 'NN'), ('harmony', 'NN'), ('soul', 'NN'), ('companionship', 'NN')], [('diversity', 'NN'), ('contrast', 'NN'), ('subsisted', 'VBD'), ('characters', 'NNS'), ('drew', 'VBD')], [('nearer', 'NN'), ('elizabeth', 'VBZ'), ('calmer', 'NN'), ('concentrated', 'VBD')], [('disposition', 'NN'), ('ardour', 'NN'), ('capable', 'JJ'), ('intense', 'NN')], [('application', 'NN'), ('deeply', 'RB'), ('smitten', 'JJ'), ('thirst', 'JJ'), ('knowledge', 'NN')], [('busied', 'VBN'), ('following', 'VBG'), ('aerial', 'JJ'), ('creations', 'NNS'), ('poets', 'NNS')], [('majestic', 'JJ'), ('wondrous', 'JJ'), ('scenes', 'NNS'), ('surrounded', 'VBD'), ('swiss', 'JJ')], [('home', 'NN'), ('the', 'DT'), ('sublime', 'JJ'), ('shapes', 'NNS'), ('mountains', 'NNS'), ('changes', 'NNS'), ('seasons', 'NNS')], [('tempest', 'JJS'), ('calm', 'NN'), ('silence', 'NN'), ('winter', 'NN'), ('life', 'NN'), ('turbulence', 'NN')], [('alpine', 'NN'), ('summersshe', 'NN'), ('ample', 'JJ'), ('scope', 'NN'), ('admiration', 'NN'), ('delight', 'NN')], [('companion', 'NN'), ('contemplated', 'VBD'), ('satisfied', 'JJ'), ('spirit', 'NN')], [('magnificent', 'JJ'), ('appearances', 'NNS'), ('things', 'NNS'), ('delighted', 'VBD'), ('investigating', 'VBG')], [('causes', 'NNS'), ('world', 'NN'), ('secret', 'NN'), ('desired', 'VBD'), ('divine', 'NN')], [('curiosity', 'NN'), ('earnest', 'JJS'), ('research', 'NN'), ('learn', 'NN'), ('hidden', 'VBD'), ('laws', 'NNS'), ('nature', 'NN')], [('gladness', 'NN'), ('akin', 'JJ'), ('rapture', 'NN'), ('unfolded', 'VBD')], [('earliest', 'JJS'), ('sensations', 'NNS'), ('remember', 'VB')], [('birth', 'JJ'), ('second', 'JJ'), ('son', 'NN'), ('junior', 'JJ'), ('seven', 'CD'), ('years', 'NNS'), ('parents', 'NNS'), ('gave', 'VBD')], [('entirely', 'RB'), ('wandering', 'VBG'), ('life', 'NN'), ('fixed', 'VBN'), ('native', 'JJ')], [('country', 'NN'), ('possessed', 'VBD'), ('house', 'NN'), ('geneva', 'NN'), ('campagne', 'NN'), ('belrive', 'NN')], [('eastern', 'JJ'), ('shore', 'RB'), ('lake', 'JJ'), ('distance', 'NN')], [('league', 'JJ'), ('city', 'NN'), ('resided', 'VBD'), ('principally', 'RB')], [('lives', 'NNS'), ('parents', 'NNS'), ('passed', 'VBD'), ('considerable', 'JJ'), ('seclusion', 'NN')], [('temper', 'NN'), ('avoid', 'NN'), ('crowd', 'NN'), ('attach', 'VBP'), ('fervently', 'RB')], [('indifferent', 'NN'), ('schoolfellows', 'VBZ'), ('general', 'JJ'), ('united', 'JJ')], [('bonds', 'NNS'), ('closest', 'JJS'), ('friendship', 'NN'), ('henry', 'NN')], [('clerval', 'JJ'), ('son', 'NN'), ('merchant', 'NN'), ('geneva', 'NN'), ('boy', 'NN'), ('singular', 'NN')], [('talent', 'NN'), ('fancy', 'NN'), ('loved', 'VBD'), ('enterprise', 'JJ'), ('hardship', 'NN'), ('danger', 'NN')], [('sake', 'VB'), ('deeply', 'NN'), ('read', 'JJ'), ('books', 'NNS'), ('chivalry', 'VBP'), ('romance', 'NN')], [('composed', 'VBN'), ('heroic', 'JJ'), ('songs', 'NNS'), ('began', 'VBD'), ('write', 'JJ'), ('tale', 'NN'), ('enchantment', 'NN')], [('knightly', 'RB'), ('adventure', 'NN'), ('tried', 'VBN'), ('act', 'NN'), ('plays', 'VBZ'), ('enter', 'NN')], [('masquerades', 'NNS'), ('characters', 'NNS'), ('drawn', 'VBP'), ('heroes', 'NNS')], [('roncesvalles', 'NNS'), ('round', 'VBP'), ('table', 'JJ'), ('king', 'NN'), ('arthur', 'RB'), ('chivalrous', 'JJ')], [('train', 'NN'), ('shed', 'VBD'), ('blood', 'NN'), ('redeem', 'NN'), ('holy', 'NN'), ('sepulchre', 'NN'), ('hands', 'NNS')], [('infidels', 'NNS')], [('attained', 'VBN'), ('age', 'NN'), ('seventeen', 'JJ'), ('parents', 'NNS'), ('resolved', 'VBD')], [('student', 'NN'), ('university', 'NN'), ('ingolstadt', 'NN')], [('hitherto', 'NN'), ('attended', 'VBD'), ('schools', 'NNS'), ('geneva', 'FW'), ('father', 'RB'), ('thought', 'VBD')], [('necessary', 'JJ'), ('completion', 'NN'), ('education', 'NN')], [('acquainted', 'VBN'), ('customs', 'NNS'), ('native', 'JJ'), ('country', 'NN')], [('departure', 'NN'), ('fixed', 'VBD'), ('early', 'JJ'), ('date', 'NN'), ('day', 'NN')], [('resolved', 'VBN'), ('arrive', 'JJ'), ('misfortune', 'NN'), ('life', 'NN')], [('occurredan', 'JJ'), ('omen', 'NNS'), ('future', 'JJ'), ('misery', 'NN')], [('elizabeth', 'RB'), ('caught', 'VBN'), ('scarlet', 'NN'), ('fever', 'NN'), ('illness', 'NN'), ('severe', 'JJ')], [('greatest', 'JJS'), ('danger', 'NN'), ('illness', 'NN'), ('arguments', 'NNS'), ('urged', 'VBD')], [('persuade', 'NN'), ('mother', 'NN'), ('refrain', 'NN'), ('attending', 'VBG')], [('yielded', 'VBN'), ('entreaties', 'NNS'), ('heard', 'VBD'), ('life', 'NN')], [('favourite', 'RB'), ('menaced', 'VBN'), ('longer', 'JJR'), ('control', 'NN'), ('anxiety', 'NN')], [('attended', 'VBN'), ('sickbed', 'JJ'), ('watchful', 'JJ'), ('attentions', 'NNS'), ('triumphed', 'VBD'), ('malignity', 'NN')], [('distemperelizabeth', 'NNS'), ('saved', 'VBD'), ('consequences', 'NNS')], [('imprudence', 'NN'), ('fatal', 'JJ'), ('preserver', 'RB'), ('day', 'NN'), ('mother', 'NN')], [('sickened', 'VBN'), ('fever', 'RB'), ('accompanied', 'VBN'), ('alarming', 'NN'), ('symptoms', 'NNS')], [('looks', 'VBZ'), ('medical', 'JJ'), ('attendants', 'NNS'), ('prognosticated', 'VBN'), ('worst', 'CD'), ('event', 'NN')], [('deathbed', 'VBN'), ('fortitude', 'JJ'), ('benignity', 'NN'), ('best', 'JJS'), ('women', 'NNS'), ('desert', 'NN')], [('joined', 'VBN'), ('hands', 'NNS'), ('elizabeth', 'RBR'), ('my', 'PRP$')], [('children', 'NNS'), ('said', 'VBD'), ('my', 'PRP$'), ('firmest', 'JJS'), ('hopes', 'VBZ'), ('future', 'JJ'), ('happiness', 'NN')], [('placed', 'VBN'), ('prospect', 'JJ'), ('union', 'NN'), ('expectation', 'NN')], [('consolation', 'NN'), ('father', 'NN'), ('elizabeth', 'VBZ'), ('love', 'VBP'), ('supply', 'NN'), ('place', 'NN')], [('younger', 'JJR'), ('children', 'NNS'), ('alas', 'VBP'), ('regret', 'NN'), ('taken', 'VBN'), ('happy', 'JJ')], [('beloved', 'VBN'), ('hard', 'JJ'), ('quit', 'NN')], [('thoughts', 'NNS'), ('befitting', 'VBG'), ('endeavour', 'JJ'), ('resign', 'NN'), ('cheerfully', 'RB')], [('death', 'NN'), ('indulge', 'NNS'), ('hope', 'VBP'), ('meeting', 'NN'), ('world', 'NN')], [('day', 'NN'), ('natural', 'JJ'), ('philosophy', 'NN'), ('particularly', 'RB'), ('chemistry', 'NN')], [('comprehensive', 'JJ'), ('sense', 'NN'), ('term', 'NN'), ('nearly', 'RB'), ('sole', 'JJ'), ('occupation', 'NN')], [('read', 'VB'), ('ardour', 'NN'), ('works', 'NNS'), ('genius', 'VBP'), ('discrimination', 'NN')], [('modern', 'JJ'), ('inquirers', 'NNS'), ('written', 'VBN'), ('subjects', 'NNS'), ('attended', 'VBD')], [('lectures', 'NNS'), ('cultivated', 'VBD'), ('acquaintance', 'NN'), ('men', 'NNS'), ('science', 'NN')], [('university', 'NN'), ('krempe', 'VBZ'), ('great', 'JJ'), ('deal', 'NN'), ('sound', 'NN'), ('sense', 'NN')], [('real', 'JJ'), ('information', 'NN'), ('combined', 'VBN'), ('true', 'JJ'), ('repulsive', 'NN')], [('physiognomy', 'NN'), ('manners', 'NNS'), ('account', 'VBP'), ('valuable', 'JJ')], [('waldman', 'JJ'), ('true', 'JJ'), ('friend', 'NN'), ('gentleness', 'NN'), ('tinged', 'VBD')], [('dogmatism', 'NN'), ('instructions', 'NNS'), ('given', 'VBN'), ('air', 'NN'), ('frankness', 'NN')], [('good', 'JJ'), ('nature', 'NN'), ('banished', 'VBD'), ('idea', 'NN'), ('pedantry', 'NN'), ('thousand', 'CD'), ('ways', 'NNS')], [('smoothed', 'VBN'), ('path', 'NN'), ('knowledge', 'NN'), ('abstruse', 'NN')], [('inquiries', 'NNS'), ('clear', 'VBP'), ('facile', 'JJ'), ('apprehension', 'NN'), ('application', 'NN')], [('fluctuating', 'VBG'), ('uncertain', 'JJ'), ('gained', 'JJ'), ('strength', 'NN'), ('proceeded', 'VBD')], [('soon', 'RB'), ('ardent', 'JJ'), ('eager', 'JJ'), ('stars', 'NNS'), ('disappeared', 'VBD')], [('light', 'JJ'), ('morning', 'NN'), ('whilst', 'NN'), ('engaged', 'VBD'), ('laboratory', 'NN')], [('applied', 'VBN'), ('closely', 'RB'), ('easily', 'RB'), ('conceived', 'VBN'), ('progress', 'NN')], [('rapid', 'JJ'), ('ardour', 'CD'), ('astonishment', 'NN'), ('students', 'NNS')], [('proficiency', 'NN'), ('masters', 'NNS'), ('professor', 'VBP'), ('krempe', 'NN'), ('asked', 'VBD')], [('sly', 'RB'), ('smile', 'JJ'), ('cornelius', 'NN'), ('agrippa', 'NN'), ('went', 'VBD'), ('whilst', 'JJ'), ('waldman', 'NN')], [('expressed', 'VBN'), ('heartfelt', 'NN'), ('exultation', 'NN'), ('progress', 'NN'), ('two', 'CD'), ('years', 'NNS')], [('passed', 'VBN'), ('manner', 'NN'), ('paid', 'VBN'), ('visit', 'NN'), ('geneva', 'NN')], [('engaged', 'VBN'), ('heart', 'NN'), ('soul', 'NN'), ('pursuit', 'NN'), ('discoveries', 'NNS')], [('hoped', 'VBD'), ('none', 'NN'), ('experienced', 'VBD'), ('conceive', 'JJ')], [('enticements', 'NNS'), ('science', 'NN'), ('studies', 'NNS'), ('far', 'RB')], [('gone', 'VBN'), ('know', 'JJ')], [('scientific', 'JJ'), ('pursuit', 'NN'), ('continual', 'JJ'), ('food', 'NN'), ('discovery', 'NN'), ('wonder', 'NN')], [('mind', 'NN'), ('moderate', 'JJ'), ('capacity', 'NN'), ('closely', 'RB'), ('pursues', 'VBZ'), ('study', 'NN')], [('infallibly', 'RB'), ('arrive', 'JJ'), ('great', 'JJ'), ('proficiency', 'NN'), ('study', 'NN')], [('continually', 'RB'), ('sought', 'VBN'), ('attainment', 'NN'), ('object', 'NN'), ('pursuit', 'NN')], [('solely', 'RB'), ('wrapped', 'VBD'), ('improved', 'VBN'), ('rapidly', 'RB'), ('end', 'VB')], [('years', 'NNS'), ('discoveries', 'VBZ'), ('improvement', 'NN'), ('chemical', 'NN')], [('instruments', 'NNS'), ('procured', 'VBD'), ('great', 'JJ'), ('esteem', 'JJ'), ('admiration', 'NN')], [('university', 'NN'), ('arrived', 'VBD'), ('point', 'NN')], [('acquainted', 'VBN'), ('theory', 'NN'), ('practice', 'NN'), ('natural', 'JJ'), ('philosophy', 'NN')], [('depended', 'JJ'), ('lessons', 'NNS'), ('professors', 'NNS'), ('ingolstadt', 'VBP')], [('residence', 'NN'), ('longer', 'RBR'), ('conducive', 'JJ'), ('improvements', 'NNS'), ('thought', 'VBD')], [('returning', 'VBG'), ('friends', 'NNS'), ('native', 'JJ'), ('town', 'NN'), ('incident', 'NN')], [('happened', 'VBN'), ('protracted', 'VBD'), ('stay', 'NN')], [('dreary', 'JJ'), ('night', 'NN'), ('november', 'NNP'), ('beheld', 'VBD'), ('accomplishment', 'NN')], [('toils', 'NNS'), ('anxiety', 'NN'), ('amounted', 'VBD'), ('agony', 'NN')], [('collected', 'VBN'), ('instruments', 'NNS'), ('life', 'NN'), ('infuse', 'NN')], [('spark', 'NN'), ('lifeless', 'JJ'), ('thing', 'NN'), ('lay', 'VBD'), ('feet', 'NNS')], [('morning', 'NN'), ('rain', 'NN'), ('pattered', 'VBD'), ('dismally', 'RB')], [('panes', 'NNS'), ('candle', 'VBP'), ('nearly', 'RB'), ('burnt', 'JJ'), ('glimmer', 'NN')], [('halfextinguished', 'VBN'), ('light', 'NN'), ('saw', 'VBD'), ('dull', 'JJ'), ('yellow', 'JJ'), ('eye', 'NN'), ('creature', 'NN')], [('open', 'JJ'), ('breathed', 'VBD'), ('hard', 'JJ'), ('convulsive', 'JJ'), ('motion', 'NN'), ('agitated', 'VBD'), ('limbs', 'NNS')], [('emotions', 'NNS'), ('catastrophe', 'VBP'), ('delineate', 'NN')], [('wretch', 'NN'), ('infinite', 'NN'), ('pains', 'NNS'), ('care', 'NN'), ('endeavoured', 'VBD')], [('form', 'NN'), ('limbs', 'VBZ'), ('proportion', 'NN'), ('selected', 'VBD'), ('features', 'NNS')], [('beautiful', 'JJ'), ('beautiful', 'JJ'), ('great', 'JJ'), ('god', 'NN'), ('yellow', 'JJ'), ('skin', 'NN'), ('scarcely', 'RB'), ('covered', 'VBD')], [('work', 'NN'), ('muscles', 'NNS'), ('arteries', 'NNS'), ('beneath', 'VBP'), ('hair', 'NN'), ('lustrous', 'JJ')], [('black', 'JJ'), ('flowing', 'VBG'), ('teeth', 'JJ'), ('pearly', 'RB'), ('whiteness', 'NN')], [('luxuriances', 'NNS'), ('formed', 'VBD'), ('horrid', 'JJ'), ('contrast', 'NN'), ('watery', 'NN'), ('eyes', 'NNS')], [('colour', 'NN'), ('dunwhite', 'NN'), ('sockets', 'NNS')], [('set', 'NN'), ('shrivelled', 'VBD'), ('complexion', 'NN'), ('straight', 'RB'), ('black', 'JJ'), ('lips', 'NNS')], [('chapter', 'NN'), ('6', 'CD')], [('you', 'PRP'), ('ill', 'VBP'), ('ill', 'VB'), ('constant', 'JJ'), ('letters', 'NNS'), ('dear', 'VBP')], [('kind', 'NN'), ('henry', 'NN'), ('sufficient', 'JJ'), ('reassure', 'NN'), ('account', 'NN')], [('forbidden', 'JJ'), ('writeto', 'NN'), ('hold', 'NN'), ('pen', 'JJ'), ('word', 'NN'), ('dear', 'NN'), ('victor', 'NN')], [('necessary', 'JJ'), ('calm', 'NN'), ('apprehensions', 'NNS'), ('long', 'JJ'), ('time', 'NN'), ('thought', 'NN')], [('post', 'NN'), ('bring', 'NN'), ('line', 'NN'), ('persuasions', 'NNS')], [('restrained', 'VBN'), ('uncle', 'JJ'), ('undertaking', 'VBG'), ('journey', 'NN'), ('ingolstadt', 'NN')], [('prevented', 'VBN'), ('encountering', 'NN'), ('inconveniences', 'NNS'), ('dangers', 'NNS')], [('long', 'JJ'), ('journey', 'NN'), ('regretted', 'VBN'), ('able', 'JJ')], [('perform', 'JJ'), ('figure', 'NN'), ('task', 'NN'), ('attending', 'VBG')], [('sickbed', 'VBN'), ('devolved', 'JJ'), ('mercenary', 'JJ'), ('old', 'JJ'), ('nurse', 'NN')], [('guess', 'NN'), ('wishes', 'NNS'), ('minister', 'NN'), ('care', 'NN'), ('affection', 'NN')], [('poor', 'JJ'), ('cousin', 'NN'), ('yet', 'RB'), ('clerval', 'JJ'), ('writes', 'NNS')], [('getting', 'VBG'), ('better', 'JJR'), ('eagerly', 'RB'), ('hope', 'VBP'), ('confirm', 'NN')], [('intelligence', 'NN'), ('soon', 'RB'), ('handwriting', 'VBG')], [('get', 'NN'), ('welland', 'WRB'), ('return', 'NN'), ('happy', 'JJ'), ('cheerful', 'JJ'), ('home', 'NN')], [('friends', 'NNS'), ('love', 'VBP'), ('dearly', 'RB'), ('fathers', 'NNS'), ('health', 'NN'), ('vigorous', 'JJ')], [('asks', 'NNS'), ('assured', 'VBD')], [('care', 'NN'), ('cloud', 'JJ'), ('benevolent', 'NN'), ('countenance', 'NN'), ('pleased', 'VBD')], [('remark', 'NN'), ('improvement', 'NN'), ('ernest', 'JJS'), ('sixteen', 'NN')], [('activity', 'NN'), ('spirit', 'VBP'), ('desirous', 'JJ'), ('true', 'JJ'), ('swiss', 'JJ'), ('enter', 'NN')], [('foreign', 'JJ'), ('service', 'NN')], [('elder', 'NN'), ('brother', 'NN'), ('returns', 'NNS'), ('uncle', 'VBP'), ('pleased', 'JJ'), ('idea', 'NN')], [('military', 'JJ'), ('career', 'NN'), ('distant', 'JJ'), ('country', 'NN'), ('ernest', 'JJS')], [('powers', 'NNS'), ('application', 'VBP'), ('looks', 'VBZ'), ('study', 'VBP'), ('odious', 'JJ'), ('fetter', 'NN')], [('time', 'NN'), ('spent', 'VBN'), ('open', 'JJ'), ('air', 'NN'), ('climbing', 'VBG'), ('hills', 'NNS'), ('rowing', 'VBG')], [('lake', 'NN'), ('fear', 'NN'), ('idler', 'JJ'), ('yield', 'NN'), ('point', 'NN')], [('permit', 'NN'), ('enter', 'NN'), ('profession', 'NN'), ('selected', 'VBD')], [('you', 'PRP'), ('probably', 'RB'), ('waited', 'VBD'), ('impatiently', 'RB'), ('letter', 'NN'), ('fix', 'NN'), ('date', 'NN')], [('return', 'NN'), ('tempted', 'VBD'), ('write', 'JJ')], [('lines', 'NNS'), ('merely', 'RB'), ('mentioning', 'VBG'), ('day', 'NN'), ('expect', 'VB')], [('cruel', 'NN'), ('kindness', 'NN'), ('dare', 'NN')], [('surprise', 'NN'), ('son', 'NN'), ('expected', 'VBD'), ('happy', 'JJ'), ('glad', 'JJ'), ('welcome', 'NN')], [('behold', 'JJ'), ('contrary', 'JJ'), ('tears', 'NNS'), ('wretchedness', 'JJ'), ('victor', 'NN')], [('relate', 'NN'), ('misfortune', 'NN'), ('absence', 'NN'), ('rendered', 'VBD'), ('callous', 'JJ')], [('joys', 'NNS'), ('griefs', 'VBP'), ('shall', 'MD'), ('inflict', 'VB'), ('pain', 'NN'), ('long', 'JJ'), ('absent', 'NN')], [('son', 'NN'), ('wish', 'JJ'), ('prepare', 'NN'), ('woeful', 'JJ'), ('news', 'NN'), ('know', 'NNS')], [('impossible', 'JJ'), ('eye', 'NN'), ('skims', 'NNS'), ('page', 'VBP'), ('seek', 'JJ'), ('words', 'NNS')], [('convey', 'NN'), ('horrible', 'JJ'), ('tidings', 'NNS')], [('last', 'JJ'), ('thursday', 'NN'), ('may', 'MD'), ('7th', 'VB'), ('niece', 'NN'), ('brothers', 'NNS'), ('went', 'VBD')], [('walk', 'NN'), ('plainpalais', 'NN'), ('evening', 'VBG'), ('warm', 'JJ'), ('serene', 'NN'), ('prolonged', 'VBD')], [('walk', 'NN'), ('farther', 'RB'), ('usual', 'JJ'), ('dusk', 'NN'), ('thought', 'VBD')], [('returning', 'VBG'), ('discovered', 'VBN'), ('william', 'JJ'), ('ernest', 'NN'), ('gone', 'VBN')], [('accordingly', 'RB'), ('rested', 'VBN'), ('seat', 'NN')], [('return', 'NN'), ('presently', 'RB'), ('ernest', 'JJS'), ('came', 'VBD'), ('enquired', 'VBN'), ('seen', 'VBN')], [('brother', 'NN'), ('said', 'VBD'), ('playing', 'NN'), ('william', 'NN')], [('run', 'VB'), ('away', 'RP'), ('hide', 'JJ'), ('vainly', 'RB'), ('sought', 'VBD')], [('waited', 'VBN'), ('long', 'JJ'), ('time', 'NN'), ('return', 'NN')], [('passed', 'VBN'), ('sad', 'JJ'), ('hours', 'NNS'), ('oclock', 'VBP'), ('trial', 'NN')], [('commence', 'NN'), ('father', 'NN'), ('rest', 'NN'), ('family', 'NN'), ('obliged', 'VBD'), ('attend', 'NN')], [('witnesses', 'NNS'), ('accompanied', 'VBN'), ('court', 'NN')], [('wretched', 'VBN'), ('mockery', 'NN'), ('justice', 'NN'), ('suffered', 'VBD'), ('living', 'JJ'), ('torture', 'NN')], [('decided', 'VBD'), ('result', 'NN'), ('curiosity', 'NN'), ('lawless', 'NN'), ('devices', 'NNS')], [('cause', 'NN'), ('death', 'NN'), ('fellow', 'JJ'), ('beings', 'NNS'), ('smiling', 'VBG'), ('babe', 'NN')], [('innocence', 'NN'), ('joy', 'NN'), ('far', 'RB'), ('dreadfully', 'RB'), ('murdered', 'VBN')], [('aggravation', 'NN'), ('infamy', 'NN'), ('murder', 'NN'), ('memorable', 'JJ'), ('horror', 'NN')], [('justine', 'NN'), ('girl', 'NN'), ('merit', 'NN'), ('possessed', 'VBD'), ('qualities', 'NNS'), ('promised', 'VBD')], [('render', 'NN'), ('life', 'NN'), ('happy', 'JJ'), ('obliterated', 'VBD')], [('ignominious', 'JJ'), ('grave', 'NN'), ('cause', 'NN'), ('thousand', 'CD'), ('times', 'NNS')], [('confessed', 'VBN'), ('guilty', 'JJ'), ('crime', 'NN'), ('ascribed', 'VBN'), ('justine', 'NN')], [('absent', 'NN'), ('committed', 'VBN'), ('declaration', 'NN')], [('considered', 'VBN'), ('ravings', 'NNS'), ('madman', 'NN')], [('exculpated', 'VBN'), ('suffered', 'VBD')], [('appearance', 'NN'), ('justine', 'NN'), ('calm', 'NN'), ('dressed', 'VBD'), ('mourning', 'VBG')], [('countenance', 'NN'), ('engaging', 'VBG'), ('rendered', 'VBN'), ('solemnity', 'NN')], [('feelings', 'NNS'), ('exquisitely', 'RB'), ('beautiful', 'JJ'), ('yet', 'RB'), ('appeared', 'VBN'), ('confident', 'NN')], [('innocence', 'NN'), ('tremble', 'JJ'), ('gazed', 'VBN'), ('execrated', 'VBD')], [('thousands', 'NNS'), ('kindness', 'JJ'), ('beauty', 'NN')], [('excited', 'VBN'), ('obliterated', 'JJ'), ('minds', 'NNS'), ('spectators', 'NNS')], [('imagination', 'NN'), ('enormity', 'NN'), ('supposed', 'VBN'), ('committed', 'VBD')], [('tranquil', 'JJ'), ('tranquillity', 'NN'), ('evidently', 'RB'), ('constrained', 'VBD')], [('confusion', 'NN'), ('adduced', 'VBD'), ('proof', 'NN'), ('guilt', 'NN')], [('worked', 'VBN'), ('mind', 'NN'), ('appearance', 'NN'), ('courage', 'NN'), ('entered', 'VBD')], [('court', 'NN'), ('threw', 'VBD'), ('eyes', 'NNS'), ('round', 'JJ'), ('quickly', 'RB'), ('discovered', 'VBD')], [('seated', 'VBN'), ('tear', 'JJ'), ('dim', 'NN'), ('eye', 'NN'), ('saw', 'VBD'), ('quickly', 'RB')], [('recovered', 'VBN'), ('look', 'NN'), ('sorrowful', 'JJ'), ('affection', 'NN'), ('attest', 'NN')], [('utter', 'JJ'), ('guiltlessness', 'NN')]]"
     ]
    },
    {
     "name": "stdout",
     "output_type": "stream",
     "text": [
      "\n"
     ]
    }
   ],
   "source": [
    "## Create the POS tagging label for cleaned corpus ##\n",
    "tagged_text = []\n",
    "for index , row in sentence_duplicate.iterrows():\n",
    "      \n",
    "    # Word tokenizers is used to find the words \n",
    "    # and punctuation in a string\n",
    "    wordsList = nltk.word_tokenize(row[\"sentences\"])\n",
    "  \n",
    "    #  Using a Tagger. Which is part-of-speech \n",
    "    # tagger or POS-tagger. \n",
    "    tagged = nltk.pos_tag(wordsList)\n",
    "    tagged_text.extend([tagged])\n",
    "\n",
    "print(tagged_text)"
   ]
  },
  {
   "cell_type": "code",
   "execution_count": 10,
   "metadata": {},
   "outputs": [
    {
     "name": "stdout",
     "output_type": "stream",
     "text": [
      "[[('##', '##'), ('birth', 'NN'), ('genevese', 'JJ'), ('family', 'NN'), ('&&', '&&')], [('##', '##'), ('distinguished', 'VBN'), ('republic', 'JJ'), ('ancestors', 'NNS'), ('years', 'NNS'), ('&&', '&&')], [('##', '##'), ('counsellors', 'NNS'), ('syndics', 'VBP'), ('father', 'RB'), ('filled', 'VBN'), ('public', 'NN'), ('&&', '&&')], [('##', '##'), ('situations', 'NNS'), ('honour', 'VBP'), ('reputation', 'NN'), ('respected', 'VBD'), ('&&', '&&')], [('##', '##'), ('knew', 'JJ'), ('integrity', 'NN'), ('indefatigable', 'JJ'), ('attention', 'NN'), ('public', 'NN'), ('&&', '&&')], [('##', '##'), ('business', 'NN'), ('passed', 'VBD'), ('younger', 'JJR'), ('days', 'NNS'), ('perpetually', 'RB'), ('occupied', 'VBD'), ('&&', '&&')], [('##', '##'), ('affairs', 'NNS'), ('country', 'NN'), ('variety', 'NN'), ('circumstances', 'NNS'), ('prevented', 'VBD'), ('&&', '&&')], [('##', '##'), ('marrying', 'VBG'), ('early', 'JJ'), ('decline', 'NN'), ('life', 'NN'), ('&&', '&&')], [('##', '##'), ('husband', 'NN'), ('father', 'RBR'), ('family', 'NN'), ('&&', '&&')], [('##', '##'), ('circumstances', 'NNS'), ('marriage', 'NN'), ('illustrate', 'VBP'), ('character', 'NN'), ('&&', '&&')], [('##', '##'), ('refrain', 'NN'), ('relating', 'VBG'), ('one', 'CD'), ('intimate', 'NN'), ('friends', 'NNS'), ('&&', '&&')], [('##', '##'), ('merchant', 'NN'), ('flourishing', 'VBG'), ('state', 'NN'), ('fell', 'VBD'), ('numerous', 'JJ'), ('&&', '&&')], [('##', '##'), ('mischances', 'NNS'), ('poverty', 'VBP'), ('man', 'NN'), ('beaufort', 'NN'), ('&&', '&&')], [('##', '##'), ('proud', 'JJ'), ('unbending', 'JJ'), ('disposition', 'NN'), ('bear', 'IN'), ('live', 'JJ'), ('poverty', 'NN'), ('&&', '&&')], [('##', '##'), ('oblivion', 'NN'), ('country', 'NN'), ('&&', '&&')], [('##', '##'), ('distinguished', 'VBN'), ('rank', 'NN'), ('magnificence', 'NN'), ('paid', 'VBD'), ('debts', 'NNS'), ('&&', '&&')], [('##', '##'), ('honourable', 'JJ'), ('manner', 'NN'), ('retreated', 'VBD'), ('&&', '&&')], [('##', '##'), ('daughter', 'NN'), ('town', 'NN'), ('lucerne', 'JJ'), ('lived', 'VBD'), ('unknown', 'JJ'), ('&&', '&&')], [('##', '##'), ('wretchedness', 'NN'), ('father', 'NN'), ('loved', 'VBD'), ('beaufort', 'NN'), ('truest', 'NN'), ('friendship', 'NN'), ('&&', '&&')], [('##', '##'), ('deeply', 'RB'), ('grieved', 'VBN'), ('retreat', 'NN'), ('unfortunate', 'JJ'), ('circumstances', 'NNS'), ('&&', '&&')], [('##', '##'), ('bitterly', 'RB'), ('deplored', 'VBN'), ('false', 'JJ'), ('pride', 'NN'), ('led', 'VBD'), ('friend', 'NN'), ('conduct', 'NN'), ('&&', '&&')], [('##', '##'), ('little', 'JJ'), ('worthy', 'JJ'), ('affection', 'NN'), ('united', 'VBD'), ('lost', 'JJ'), ('time', 'NN'), ('&&', '&&')], [('##', '##'), ('endeavouring', 'VBG'), ('seek', 'JJ'), ('hope', 'NN'), ('persuading', 'VBG'), ('begin', 'VB'), ('&&', '&&')], [('##', '##'), ('world', 'NN'), ('credit', 'NN'), ('assistance', 'NN'), ('&&', '&&')], [('##', '##'), ('brought', 'JJ'), ('year', 'NN'), ('difference', 'NN'), ('&&', '&&')], [('##', '##'), ('ages', 'NNS'), ('need', 'VBP'), ('strangers', 'NNS'), ('species', 'NNS'), ('&&', '&&')], [('##', '##'), ('disunion', 'NN'), ('dispute', 'NN'), ('harmony', 'NN'), ('soul', 'NN'), ('companionship', 'NN'), ('&&', '&&')], [('##', '##'), ('diversity', 'NN'), ('contrast', 'NN'), ('subsisted', 'VBD'), ('characters', 'NNS'), ('drew', 'VBD'), ('&&', '&&')], [('##', '##'), ('nearer', 'NN'), ('elizabeth', 'VBZ'), ('calmer', 'NN'), ('concentrated', 'VBD'), ('&&', '&&')], [('##', '##'), ('disposition', 'NN'), ('ardour', 'NN'), ('capable', 'JJ'), ('intense', 'NN'), ('&&', '&&')], [('##', '##'), ('application', 'NN'), ('deeply', 'RB'), ('smitten', 'JJ'), ('thirst', 'JJ'), ('knowledge', 'NN'), ('&&', '&&')], [('##', '##'), ('busied', 'VBN'), ('following', 'VBG'), ('aerial', 'JJ'), ('creations', 'NNS'), ('poets', 'NNS'), ('&&', '&&')], [('##', '##'), ('majestic', 'JJ'), ('wondrous', 'JJ'), ('scenes', 'NNS'), ('surrounded', 'VBD'), ('swiss', 'JJ'), ('&&', '&&')], [('##', '##'), ('home', 'NN'), ('the', 'DT'), ('sublime', 'JJ'), ('shapes', 'NNS'), ('mountains', 'NNS'), ('changes', 'NNS'), ('seasons', 'NNS'), ('&&', '&&')], [('##', '##'), ('tempest', 'JJS'), ('calm', 'NN'), ('silence', 'NN'), ('winter', 'NN'), ('life', 'NN'), ('turbulence', 'NN'), ('&&', '&&')], [('##', '##'), ('alpine', 'NN'), ('summersshe', 'NN'), ('ample', 'JJ'), ('scope', 'NN'), ('admiration', 'NN'), ('delight', 'NN'), ('&&', '&&')], [('##', '##'), ('companion', 'NN'), ('contemplated', 'VBD'), ('satisfied', 'JJ'), ('spirit', 'NN'), ('&&', '&&')], [('##', '##'), ('magnificent', 'JJ'), ('appearances', 'NNS'), ('things', 'NNS'), ('delighted', 'VBD'), ('investigating', 'VBG'), ('&&', '&&')], [('##', '##'), ('causes', 'NNS'), ('world', 'NN'), ('secret', 'NN'), ('desired', 'VBD'), ('divine', 'NN'), ('&&', '&&')], [('##', '##'), ('curiosity', 'NN'), ('earnest', 'JJS'), ('research', 'NN'), ('learn', 'NN'), ('hidden', 'VBD'), ('laws', 'NNS'), ('nature', 'NN'), ('&&', '&&')], [('##', '##'), ('gladness', 'NN'), ('akin', 'JJ'), ('rapture', 'NN'), ('unfolded', 'VBD'), ('&&', '&&')], [('##', '##'), ('earliest', 'JJS'), ('sensations', 'NNS'), ('remember', 'VB'), ('&&', '&&')], [('##', '##'), ('birth', 'JJ'), ('second', 'JJ'), ('son', 'NN'), ('junior', 'JJ'), ('seven', 'CD'), ('years', 'NNS'), ('parents', 'NNS'), ('gave', 'VBD'), ('&&', '&&')], [('##', '##'), ('entirely', 'RB'), ('wandering', 'VBG'), ('life', 'NN'), ('fixed', 'VBN'), ('native', 'JJ'), ('&&', '&&')], [('##', '##'), ('country', 'NN'), ('possessed', 'VBD'), ('house', 'NN'), ('geneva', 'NN'), ('campagne', 'NN'), ('belrive', 'NN'), ('&&', '&&')], [('##', '##'), ('eastern', 'JJ'), ('shore', 'RB'), ('lake', 'JJ'), ('distance', 'NN'), ('&&', '&&')], [('##', '##'), ('league', 'JJ'), ('city', 'NN'), ('resided', 'VBD'), ('principally', 'RB'), ('&&', '&&')], [('##', '##'), ('lives', 'NNS'), ('parents', 'NNS'), ('passed', 'VBD'), ('considerable', 'JJ'), ('seclusion', 'NN'), ('&&', '&&')], [('##', '##'), ('temper', 'NN'), ('avoid', 'NN'), ('crowd', 'NN'), ('attach', 'VBP'), ('fervently', 'RB'), ('&&', '&&')], [('##', '##'), ('indifferent', 'NN'), ('schoolfellows', 'VBZ'), ('general', 'JJ'), ('united', 'JJ'), ('&&', '&&')], [('##', '##'), ('bonds', 'NNS'), ('closest', 'JJS'), ('friendship', 'NN'), ('henry', 'NN'), ('&&', '&&')], [('##', '##'), ('clerval', 'JJ'), ('son', 'NN'), ('merchant', 'NN'), ('geneva', 'NN'), ('boy', 'NN'), ('singular', 'NN'), ('&&', '&&')], [('##', '##'), ('talent', 'NN'), ('fancy', 'NN'), ('loved', 'VBD'), ('enterprise', 'JJ'), ('hardship', 'NN'), ('danger', 'NN'), ('&&', '&&')], [('##', '##'), ('sake', 'VB'), ('deeply', 'NN'), ('read', 'JJ'), ('books', 'NNS'), ('chivalry', 'VBP'), ('romance', 'NN'), ('&&', '&&')], [('##', '##'), ('composed', 'VBN'), ('heroic', 'JJ'), ('songs', 'NNS'), ('began', 'VBD'), ('write', 'JJ'), ('tale', 'NN'), ('enchantment', 'NN'), ('&&', '&&')], [('##', '##'), ('knightly', 'RB'), ('adventure', 'NN'), ('tried', 'VBN'), ('act', 'NN'), ('plays', 'VBZ'), ('enter', 'NN'), ('&&', '&&')], [('##', '##'), ('masquerades', 'NNS'), ('characters', 'NNS'), ('drawn', 'VBP'), ('heroes', 'NNS'), ('&&', '&&')], [('##', '##'), ('roncesvalles', 'NNS'), ('round', 'VBP'), ('table', 'JJ'), ('king', 'NN'), ('arthur', 'RB'), ('chivalrous', 'JJ'), ('&&', '&&')], [('##', '##'), ('train', 'NN'), ('shed', 'VBD'), ('blood', 'NN'), ('redeem', 'NN'), ('holy', 'NN'), ('sepulchre', 'NN'), ('hands', 'NNS'), ('&&', '&&')], [('##', '##'), ('infidels', 'NNS'), ('&&', '&&')], [('##', '##'), ('attained', 'VBN'), ('age', 'NN'), ('seventeen', 'JJ'), ('parents', 'NNS'), ('resolved', 'VBD'), ('&&', '&&')], [('##', '##'), ('student', 'NN'), ('university', 'NN'), ('ingolstadt', 'NN'), ('&&', '&&')], [('##', '##'), ('hitherto', 'NN'), ('attended', 'VBD'), ('schools', 'NNS'), ('geneva', 'FW'), ('father', 'RB'), ('thought', 'VBD'), ('&&', '&&')], [('##', '##'), ('necessary', 'JJ'), ('completion', 'NN'), ('education', 'NN'), ('&&', '&&')], [('##', '##'), ('acquainted', 'VBN'), ('customs', 'NNS'), ('native', 'JJ'), ('country', 'NN'), ('&&', '&&')], [('##', '##'), ('departure', 'NN'), ('fixed', 'VBD'), ('early', 'JJ'), ('date', 'NN'), ('day', 'NN'), ('&&', '&&')], [('##', '##'), ('resolved', 'VBN'), ('arrive', 'JJ'), ('misfortune', 'NN'), ('life', 'NN'), ('&&', '&&')], [('##', '##'), ('occurredan', 'JJ'), ('omen', 'NNS'), ('future', 'JJ'), ('misery', 'NN'), ('&&', '&&')], [('##', '##'), ('elizabeth', 'RB'), ('caught', 'VBN'), ('scarlet', 'NN'), ('fever', 'NN'), ('illness', 'NN'), ('severe', 'JJ'), ('&&', '&&')], [('##', '##'), ('greatest', 'JJS'), ('danger', 'NN'), ('illness', 'NN'), ('arguments', 'NNS'), ('urged', 'VBD'), ('&&', '&&')], [('##', '##'), ('persuade', 'NN'), ('mother', 'NN'), ('refrain', 'NN'), ('attending', 'VBG'), ('&&', '&&')], [('##', '##'), ('yielded', 'VBN'), ('entreaties', 'NNS'), ('heard', 'VBD'), ('life', 'NN'), ('&&', '&&')], [('##', '##'), ('favourite', 'RB'), ('menaced', 'VBN'), ('longer', 'JJR'), ('control', 'NN'), ('anxiety', 'NN'), ('&&', '&&')], [('##', '##'), ('attended', 'VBN'), ('sickbed', 'JJ'), ('watchful', 'JJ'), ('attentions', 'NNS'), ('triumphed', 'VBD'), ('malignity', 'NN'), ('&&', '&&')], [('##', '##'), ('distemperelizabeth', 'NNS'), ('saved', 'VBD'), ('consequences', 'NNS'), ('&&', '&&')], [('##', '##'), ('imprudence', 'NN'), ('fatal', 'JJ'), ('preserver', 'RB'), ('day', 'NN'), ('mother', 'NN'), ('&&', '&&')], [('##', '##'), ('sickened', 'VBN'), ('fever', 'RB'), ('accompanied', 'VBN'), ('alarming', 'NN'), ('symptoms', 'NNS'), ('&&', '&&')], [('##', '##'), ('looks', 'VBZ'), ('medical', 'JJ'), ('attendants', 'NNS'), ('prognosticated', 'VBN'), ('worst', 'CD'), ('event', 'NN'), ('&&', '&&')], [('##', '##'), ('deathbed', 'VBN'), ('fortitude', 'JJ'), ('benignity', 'NN'), ('best', 'JJS'), ('women', 'NNS'), ('desert', 'NN'), ('&&', '&&')], [('##', '##'), ('joined', 'VBN'), ('hands', 'NNS'), ('elizabeth', 'RBR'), ('my', 'PRP$'), ('&&', '&&')], [('##', '##'), ('children', 'NNS'), ('said', 'VBD'), ('my', 'PRP$'), ('firmest', 'JJS'), ('hopes', 'VBZ'), ('future', 'JJ'), ('happiness', 'NN'), ('&&', '&&')], [('##', '##'), ('placed', 'VBN'), ('prospect', 'JJ'), ('union', 'NN'), ('expectation', 'NN'), ('&&', '&&')], [('##', '##'), ('consolation', 'NN'), ('father', 'NN'), ('elizabeth', 'VBZ'), ('love', 'VBP'), ('supply', 'NN'), ('place', 'NN'), ('&&', '&&')], [('##', '##'), ('younger', 'JJR'), ('children', 'NNS'), ('alas', 'VBP'), ('regret', 'NN'), ('taken', 'VBN'), ('happy', 'JJ'), ('&&', '&&')], [('##', '##'), ('beloved', 'VBN'), ('hard', 'JJ'), ('quit', 'NN'), ('&&', '&&')], [('##', '##'), ('thoughts', 'NNS'), ('befitting', 'VBG'), ('endeavour', 'JJ'), ('resign', 'NN'), ('cheerfully', 'RB'), ('&&', '&&')], [('##', '##'), ('death', 'NN'), ('indulge', 'NNS'), ('hope', 'VBP'), ('meeting', 'NN'), ('world', 'NN'), ('&&', '&&')], [('##', '##'), ('day', 'NN'), ('natural', 'JJ'), ('philosophy', 'NN'), ('particularly', 'RB'), ('chemistry', 'NN'), ('&&', '&&')], [('##', '##'), ('comprehensive', 'JJ'), ('sense', 'NN'), ('term', 'NN'), ('nearly', 'RB'), ('sole', 'JJ'), ('occupation', 'NN'), ('&&', '&&')], [('##', '##'), ('read', 'VB'), ('ardour', 'NN'), ('works', 'NNS'), ('genius', 'VBP'), ('discrimination', 'NN'), ('&&', '&&')], [('##', '##'), ('modern', 'JJ'), ('inquirers', 'NNS'), ('written', 'VBN'), ('subjects', 'NNS'), ('attended', 'VBD'), ('&&', '&&')], [('##', '##'), ('lectures', 'NNS'), ('cultivated', 'VBD'), ('acquaintance', 'NN'), ('men', 'NNS'), ('science', 'NN'), ('&&', '&&')], [('##', '##'), ('university', 'NN'), ('krempe', 'VBZ'), ('great', 'JJ'), ('deal', 'NN'), ('sound', 'NN'), ('sense', 'NN'), ('&&', '&&')], [('##', '##'), ('real', 'JJ'), ('information', 'NN'), ('combined', 'VBN'), ('true', 'JJ'), ('repulsive', 'NN'), ('&&', '&&')], [('##', '##'), ('physiognomy', 'NN'), ('manners', 'NNS'), ('account', 'VBP'), ('valuable', 'JJ'), ('&&', '&&')], [('##', '##'), ('waldman', 'JJ'), ('true', 'JJ'), ('friend', 'NN'), ('gentleness', 'NN'), ('tinged', 'VBD'), ('&&', '&&')], [('##', '##'), ('dogmatism', 'NN'), ('instructions', 'NNS'), ('given', 'VBN'), ('air', 'NN'), ('frankness', 'NN'), ('&&', '&&')], [('##', '##'), ('good', 'JJ'), ('nature', 'NN'), ('banished', 'VBD'), ('idea', 'NN'), ('pedantry', 'NN'), ('thousand', 'CD'), ('ways', 'NNS'), ('&&', '&&')], [('##', '##'), ('smoothed', 'VBN'), ('path', 'NN'), ('knowledge', 'NN'), ('abstruse', 'NN'), ('&&', '&&')], [('##', '##'), ('inquiries', 'NNS'), ('clear', 'VBP'), ('facile', 'JJ'), ('apprehension', 'NN'), ('application', 'NN'), ('&&', '&&')], [('##', '##'), ('fluctuating', 'VBG'), ('uncertain', 'JJ'), ('gained', 'JJ'), ('strength', 'NN'), ('proceeded', 'VBD'), ('&&', '&&')], [('##', '##'), ('soon', 'RB'), ('ardent', 'JJ'), ('eager', 'JJ'), ('stars', 'NNS'), ('disappeared', 'VBD'), ('&&', '&&')], [('##', '##'), ('light', 'JJ'), ('morning', 'NN'), ('whilst', 'NN'), ('engaged', 'VBD'), ('laboratory', 'NN'), ('&&', '&&')], [('##', '##'), ('applied', 'VBN'), ('closely', 'RB'), ('easily', 'RB'), ('conceived', 'VBN'), ('progress', 'NN'), ('&&', '&&')], [('##', '##'), ('rapid', 'JJ'), ('ardour', 'CD'), ('astonishment', 'NN'), ('students', 'NNS'), ('&&', '&&')], [('##', '##'), ('proficiency', 'NN'), ('masters', 'NNS'), ('professor', 'VBP'), ('krempe', 'NN'), ('asked', 'VBD'), ('&&', '&&')], [('##', '##'), ('sly', 'RB'), ('smile', 'JJ'), ('cornelius', 'NN'), ('agrippa', 'NN'), ('went', 'VBD'), ('whilst', 'JJ'), ('waldman', 'NN'), ('&&', '&&')], [('##', '##'), ('expressed', 'VBN'), ('heartfelt', 'NN'), ('exultation', 'NN'), ('progress', 'NN'), ('two', 'CD'), ('years', 'NNS'), ('&&', '&&')], [('##', '##'), ('passed', 'VBN'), ('manner', 'NN'), ('paid', 'VBN'), ('visit', 'NN'), ('geneva', 'NN'), ('&&', '&&')], [('##', '##'), ('engaged', 'VBN'), ('heart', 'NN'), ('soul', 'NN'), ('pursuit', 'NN'), ('discoveries', 'NNS'), ('&&', '&&')], [('##', '##'), ('hoped', 'VBD'), ('none', 'NN'), ('experienced', 'VBD'), ('conceive', 'JJ'), ('&&', '&&')], [('##', '##'), ('enticements', 'NNS'), ('science', 'NN'), ('studies', 'NNS'), ('far', 'RB'), ('&&', '&&')], [('##', '##'), ('gone', 'VBN'), ('know', 'JJ'), ('&&', '&&')], [('##', '##'), ('scientific', 'JJ'), ('pursuit', 'NN'), ('continual', 'JJ'), ('food', 'NN'), ('discovery', 'NN'), ('wonder', 'NN'), ('&&', '&&')], [('##', '##'), ('mind', 'NN'), ('moderate', 'JJ'), ('capacity', 'NN'), ('closely', 'RB'), ('pursues', 'VBZ'), ('study', 'NN'), ('&&', '&&')], [('##', '##'), ('infallibly', 'RB'), ('arrive', 'JJ'), ('great', 'JJ'), ('proficiency', 'NN'), ('study', 'NN'), ('&&', '&&')], [('##', '##'), ('continually', 'RB'), ('sought', 'VBN'), ('attainment', 'NN'), ('object', 'NN'), ('pursuit', 'NN'), ('&&', '&&')], [('##', '##'), ('solely', 'RB'), ('wrapped', 'VBD'), ('improved', 'VBN'), ('rapidly', 'RB'), ('end', 'VB'), ('&&', '&&')], [('##', '##'), ('years', 'NNS'), ('discoveries', 'VBZ'), ('improvement', 'NN'), ('chemical', 'NN'), ('&&', '&&')], [('##', '##'), ('instruments', 'NNS'), ('procured', 'VBD'), ('great', 'JJ'), ('esteem', 'JJ'), ('admiration', 'NN'), ('&&', '&&')], [('##', '##'), ('university', 'NN'), ('arrived', 'VBD'), ('point', 'NN'), ('&&', '&&')], [('##', '##'), ('acquainted', 'VBN'), ('theory', 'NN'), ('practice', 'NN'), ('natural', 'JJ'), ('philosophy', 'NN'), ('&&', '&&')], [('##', '##'), ('depended', 'JJ'), ('lessons', 'NNS'), ('professors', 'NNS'), ('ingolstadt', 'VBP'), ('&&', '&&')], [('##', '##'), ('residence', 'NN'), ('longer', 'RBR'), ('conducive', 'JJ'), ('improvements', 'NNS'), ('thought', 'VBD'), ('&&', '&&')], [('##', '##'), ('returning', 'VBG'), ('friends', 'NNS'), ('native', 'JJ'), ('town', 'NN'), ('incident', 'NN'), ('&&', '&&')], [('##', '##'), ('happened', 'VBN'), ('protracted', 'VBD'), ('stay', 'NN'), ('&&', '&&')], [('##', '##'), ('dreary', 'JJ'), ('night', 'NN'), ('november', 'NNP'), ('beheld', 'VBD'), ('accomplishment', 'NN'), ('&&', '&&')], [('##', '##'), ('toils', 'NNS'), ('anxiety', 'NN'), ('amounted', 'VBD'), ('agony', 'NN'), ('&&', '&&')], [('##', '##'), ('collected', 'VBN'), ('instruments', 'NNS'), ('life', 'NN'), ('infuse', 'NN'), ('&&', '&&')], [('##', '##'), ('spark', 'NN'), ('lifeless', 'JJ'), ('thing', 'NN'), ('lay', 'VBD'), ('feet', 'NNS'), ('&&', '&&')], [('##', '##'), ('morning', 'NN'), ('rain', 'NN'), ('pattered', 'VBD'), ('dismally', 'RB'), ('&&', '&&')], [('##', '##'), ('panes', 'NNS'), ('candle', 'VBP'), ('nearly', 'RB'), ('burnt', 'JJ'), ('glimmer', 'NN'), ('&&', '&&')], [('##', '##'), ('halfextinguished', 'VBN'), ('light', 'NN'), ('saw', 'VBD'), ('dull', 'JJ'), ('yellow', 'JJ'), ('eye', 'NN'), ('creature', 'NN'), ('&&', '&&')], [('##', '##'), ('open', 'JJ'), ('breathed', 'VBD'), ('hard', 'JJ'), ('convulsive', 'JJ'), ('motion', 'NN'), ('agitated', 'VBD'), ('limbs', 'NNS'), ('&&', '&&')], [('##', '##'), ('emotions', 'NNS'), ('catastrophe', 'VBP'), ('delineate', 'NN'), ('&&', '&&')], [('##', '##'), ('wretch', 'NN'), ('infinite', 'NN'), ('pains', 'NNS'), ('care', 'NN'), ('endeavoured', 'VBD'), ('&&', '&&')], [('##', '##'), ('form', 'NN'), ('limbs', 'VBZ'), ('proportion', 'NN'), ('selected', 'VBD'), ('features', 'NNS'), ('&&', '&&')], [('##', '##'), ('beautiful', 'JJ'), ('beautiful', 'JJ'), ('great', 'JJ'), ('god', 'NN'), ('yellow', 'JJ'), ('skin', 'NN'), ('scarcely', 'RB'), ('covered', 'VBD'), ('&&', '&&')], [('##', '##'), ('work', 'NN'), ('muscles', 'NNS'), ('arteries', 'NNS'), ('beneath', 'VBP'), ('hair', 'NN'), ('lustrous', 'JJ'), ('&&', '&&')], [('##', '##'), ('black', 'JJ'), ('flowing', 'VBG'), ('teeth', 'JJ'), ('pearly', 'RB'), ('whiteness', 'NN'), ('&&', '&&')], [('##', '##'), ('luxuriances', 'NNS'), ('formed', 'VBD'), ('horrid', 'JJ'), ('contrast', 'NN'), ('watery', 'NN'), ('eyes', 'NNS'), ('&&', '&&')], [('##', '##'), ('colour', 'NN'), ('dunwhite', 'NN'), ('sockets', 'NNS'), ('&&', '&&')], [('##', '##'), ('set', 'NN'), ('shrivelled', 'VBD'), ('complexion', 'NN'), ('straight', 'RB'), ('black', 'JJ'), ('lips', 'NNS'), ('&&', '&&')], [('##', '##'), ('chapter', 'NN'), ('6', 'CD'), ('&&', '&&')], [('##', '##'), ('you', 'PRP'), ('ill', 'VBP'), ('ill', 'VB'), ('constant', 'JJ'), ('letters', 'NNS'), ('dear', 'VBP'), ('&&', '&&')], [('##', '##'), ('kind', 'NN'), ('henry', 'NN'), ('sufficient', 'JJ'), ('reassure', 'NN'), ('account', 'NN'), ('&&', '&&')], [('##', '##'), ('forbidden', 'JJ'), ('writeto', 'NN'), ('hold', 'NN'), ('pen', 'JJ'), ('word', 'NN'), ('dear', 'NN'), ('victor', 'NN'), ('&&', '&&')], [('##', '##'), ('necessary', 'JJ'), ('calm', 'NN'), ('apprehensions', 'NNS'), ('long', 'JJ'), ('time', 'NN'), ('thought', 'NN'), ('&&', '&&')], [('##', '##'), ('post', 'NN'), ('bring', 'NN'), ('line', 'NN'), ('persuasions', 'NNS'), ('&&', '&&')], [('##', '##'), ('restrained', 'VBN'), ('uncle', 'JJ'), ('undertaking', 'VBG'), ('journey', 'NN'), ('ingolstadt', 'NN'), ('&&', '&&')], [('##', '##'), ('prevented', 'VBN'), ('encountering', 'NN'), ('inconveniences', 'NNS'), ('dangers', 'NNS'), ('&&', '&&')], [('##', '##'), ('long', 'JJ'), ('journey', 'NN'), ('regretted', 'VBN'), ('able', 'JJ'), ('&&', '&&')], [('##', '##'), ('perform', 'JJ'), ('figure', 'NN'), ('task', 'NN'), ('attending', 'VBG'), ('&&', '&&')], [('##', '##'), ('sickbed', 'VBN'), ('devolved', 'JJ'), ('mercenary', 'JJ'), ('old', 'JJ'), ('nurse', 'NN'), ('&&', '&&')], [('##', '##'), ('guess', 'NN'), ('wishes', 'NNS'), ('minister', 'NN'), ('care', 'NN'), ('affection', 'NN'), ('&&', '&&')], [('##', '##'), ('poor', 'JJ'), ('cousin', 'NN'), ('yet', 'RB'), ('clerval', 'JJ'), ('writes', 'NNS'), ('&&', '&&')], [('##', '##'), ('getting', 'VBG'), ('better', 'JJR'), ('eagerly', 'RB'), ('hope', 'VBP'), ('confirm', 'NN'), ('&&', '&&')], [('##', '##'), ('intelligence', 'NN'), ('soon', 'RB'), ('handwriting', 'VBG'), ('&&', '&&')], [('##', '##'), ('get', 'NN'), ('welland', 'WRB'), ('return', 'NN'), ('happy', 'JJ'), ('cheerful', 'JJ'), ('home', 'NN'), ('&&', '&&')], [('##', '##'), ('friends', 'NNS'), ('love', 'VBP'), ('dearly', 'RB'), ('fathers', 'NNS'), ('health', 'NN'), ('vigorous', 'JJ'), ('&&', '&&')], [('##', '##'), ('asks', 'NNS'), ('assured', 'VBD'), ('&&', '&&')], [('##', '##'), ('care', 'NN'), ('cloud', 'JJ'), ('benevolent', 'NN'), ('countenance', 'NN'), ('pleased', 'VBD'), ('&&', '&&')], [('##', '##'), ('remark', 'NN'), ('improvement', 'NN'), ('ernest', 'JJS'), ('sixteen', 'NN'), ('&&', '&&')], [('##', '##'), ('activity', 'NN'), ('spirit', 'VBP'), ('desirous', 'JJ'), ('true', 'JJ'), ('swiss', 'JJ'), ('enter', 'NN'), ('&&', '&&')], [('##', '##'), ('foreign', 'JJ'), ('service', 'NN'), ('&&', '&&')], [('##', '##'), ('elder', 'NN'), ('brother', 'NN'), ('returns', 'NNS'), ('uncle', 'VBP'), ('pleased', 'JJ'), ('idea', 'NN'), ('&&', '&&')], [('##', '##'), ('military', 'JJ'), ('career', 'NN'), ('distant', 'JJ'), ('country', 'NN'), ('ernest', 'JJS'), ('&&', '&&')], [('##', '##'), ('powers', 'NNS'), ('application', 'VBP'), ('looks', 'VBZ'), ('study', 'VBP'), ('odious', 'JJ'), ('fetter', 'NN'), ('&&', '&&')], [('##', '##'), ('time', 'NN'), ('spent', 'VBN'), ('open', 'JJ'), ('air', 'NN'), ('climbing', 'VBG'), ('hills', 'NNS'), ('rowing', 'VBG'), ('&&', '&&')], [('##', '##'), ('lake', 'NN'), ('fear', 'NN'), ('idler', 'JJ'), ('yield', 'NN'), ('point', 'NN'), ('&&', '&&')], [('##', '##'), ('permit', 'NN'), ('enter', 'NN'), ('profession', 'NN'), ('selected', 'VBD'), ('&&', '&&')], [('##', '##'), ('you', 'PRP'), ('probably', 'RB'), ('waited', 'VBD'), ('impatiently', 'RB'), ('letter', 'NN'), ('fix', 'NN'), ('date', 'NN'), ('&&', '&&')], [('##', '##'), ('return', 'NN'), ('tempted', 'VBD'), ('write', 'JJ'), ('&&', '&&')], [('##', '##'), ('lines', 'NNS'), ('merely', 'RB'), ('mentioning', 'VBG'), ('day', 'NN'), ('expect', 'VB'), ('&&', '&&')], [('##', '##'), ('cruel', 'NN'), ('kindness', 'NN'), ('dare', 'NN'), ('&&', '&&')], [('##', '##'), ('surprise', 'NN'), ('son', 'NN'), ('expected', 'VBD'), ('happy', 'JJ'), ('glad', 'JJ'), ('welcome', 'NN'), ('&&', '&&')], [('##', '##'), ('behold', 'JJ'), ('contrary', 'JJ'), ('tears', 'NNS'), ('wretchedness', 'JJ'), ('victor', 'NN'), ('&&', '&&')], [('##', '##'), ('relate', 'NN'), ('misfortune', 'NN'), ('absence', 'NN'), ('rendered', 'VBD'), ('callous', 'JJ'), ('&&', '&&')], [('##', '##'), ('joys', 'NNS'), ('griefs', 'VBP'), ('shall', 'MD'), ('inflict', 'VB'), ('pain', 'NN'), ('long', 'JJ'), ('absent', 'NN'), ('&&', '&&')], [('##', '##'), ('son', 'NN'), ('wish', 'JJ'), ('prepare', 'NN'), ('woeful', 'JJ'), ('news', 'NN'), ('know', 'NNS'), ('&&', '&&')], [('##', '##'), ('impossible', 'JJ'), ('eye', 'NN'), ('skims', 'NNS'), ('page', 'VBP'), ('seek', 'JJ'), ('words', 'NNS'), ('&&', '&&')], [('##', '##'), ('convey', 'NN'), ('horrible', 'JJ'), ('tidings', 'NNS'), ('&&', '&&')], [('##', '##'), ('last', 'JJ'), ('thursday', 'NN'), ('may', 'MD'), ('7th', 'VB'), ('niece', 'NN'), ('brothers', 'NNS'), ('went', 'VBD'), ('&&', '&&')], [('##', '##'), ('walk', 'NN'), ('plainpalais', 'NN'), ('evening', 'VBG'), ('warm', 'JJ'), ('serene', 'NN'), ('prolonged', 'VBD'), ('&&', '&&')], [('##', '##'), ('walk', 'NN'), ('farther', 'RB'), ('usual', 'JJ'), ('dusk', 'NN'), ('thought', 'VBD'), ('&&', '&&')], [('##', '##'), ('returning', 'VBG'), ('discovered', 'VBN'), ('william', 'JJ'), ('ernest', 'NN'), ('gone', 'VBN'), ('&&', '&&')], [('##', '##'), ('accordingly', 'RB'), ('rested', 'VBN'), ('seat', 'NN'), ('&&', '&&')], [('##', '##'), ('return', 'NN'), ('presently', 'RB'), ('ernest', 'JJS'), ('came', 'VBD'), ('enquired', 'VBN'), ('seen', 'VBN'), ('&&', '&&')], [('##', '##'), ('brother', 'NN'), ('said', 'VBD'), ('playing', 'NN'), ('william', 'NN'), ('&&', '&&')], [('##', '##'), ('run', 'VB'), ('away', 'RP'), ('hide', 'JJ'), ('vainly', 'RB'), ('sought', 'VBD'), ('&&', '&&')], [('##', '##'), ('waited', 'VBN'), ('long', 'JJ'), ('time', 'NN'), ('return', 'NN'), ('&&', '&&')], [('##', '##'), ('passed', 'VBN'), ('sad', 'JJ'), ('hours', 'NNS'), ('oclock', 'VBP'), ('trial', 'NN'), ('&&', '&&')], [('##', '##'), ('commence', 'NN'), ('father', 'NN'), ('rest', 'NN'), ('family', 'NN'), ('obliged', 'VBD'), ('attend', 'NN'), ('&&', '&&')], [('##', '##'), ('witnesses', 'NNS'), ('accompanied', 'VBN'), ('court', 'NN'), ('&&', '&&')], [('##', '##'), ('wretched', 'VBN'), ('mockery', 'NN'), ('justice', 'NN'), ('suffered', 'VBD'), ('living', 'JJ'), ('torture', 'NN'), ('&&', '&&')], [('##', '##'), ('decided', 'VBD'), ('result', 'NN'), ('curiosity', 'NN'), ('lawless', 'NN'), ('devices', 'NNS'), ('&&', '&&')], [('##', '##'), ('cause', 'NN'), ('death', 'NN'), ('fellow', 'JJ'), ('beings', 'NNS'), ('smiling', 'VBG'), ('babe', 'NN'), ('&&', '&&')], [('##', '##'), ('innocence', 'NN'), ('joy', 'NN'), ('far', 'RB'), ('dreadfully', 'RB'), ('murdered', 'VBN'), ('&&', '&&')], [('##', '##'), ('aggravation', 'NN'), ('infamy', 'NN'), ('murder', 'NN'), ('memorable', 'JJ'), ('horror', 'NN'), ('&&', '&&')], [('##', '##'), ('justine', 'NN'), ('girl', 'NN'), ('merit', 'NN'), ('possessed', 'VBD'), ('qualities', 'NNS'), ('promised', 'VBD'), ('&&', '&&')], [('##', '##'), ('render', 'NN'), ('life', 'NN'), ('happy', 'JJ'), ('obliterated', 'VBD'), ('&&', '&&')], [('##', '##'), ('ignominious', 'JJ'), ('grave', 'NN'), ('cause', 'NN'), ('thousand', 'CD'), ('times', 'NNS'), ('&&', '&&')], [('##', '##'), ('confessed', 'VBN'), ('guilty', 'JJ'), ('crime', 'NN'), ('ascribed', 'VBN'), ('justine', 'NN'), ('&&', '&&')], [('##', '##'), ('absent', 'NN'), ('committed', 'VBN'), ('declaration', 'NN'), ('&&', '&&')], [('##', '##'), ('considered', 'VBN'), ('ravings', 'NNS'), ('madman', 'NN'), ('&&', '&&')], [('##', '##'), ('exculpated', 'VBN'), ('suffered', 'VBD'), ('&&', '&&')], [('##', '##'), ('appearance', 'NN'), ('justine', 'NN'), ('calm', 'NN'), ('dressed', 'VBD'), ('mourning', 'VBG'), ('&&', '&&')], [('##', '##'), ('countenance', 'NN'), ('engaging', 'VBG'), ('rendered', 'VBN'), ('solemnity', 'NN'), ('&&', '&&')], [('##', '##'), ('feelings', 'NNS'), ('exquisitely', 'RB'), ('beautiful', 'JJ'), ('yet', 'RB'), ('appeared', 'VBN'), ('confident', 'NN'), ('&&', '&&')], [('##', '##'), ('innocence', 'NN'), ('tremble', 'JJ'), ('gazed', 'VBN'), ('execrated', 'VBD'), ('&&', '&&')], [('##', '##'), ('thousands', 'NNS'), ('kindness', 'JJ'), ('beauty', 'NN'), ('&&', '&&')], [('##', '##'), ('excited', 'VBN'), ('obliterated', 'JJ'), ('minds', 'NNS'), ('spectators', 'NNS'), ('&&', '&&')], [('##', '##'), ('imagination', 'NN'), ('enormity', 'NN'), ('supposed', 'VBN'), ('committed', 'VBD'), ('&&', '&&')], [('##', '##'), ('tranquil', 'JJ'), ('tranquillity', 'NN'), ('evidently', 'RB'), ('constrained', 'VBD'), ('&&', '&&')], [('##', '##'), ('confusion', 'NN'), ('adduced', 'VBD'), ('proof', 'NN'), ('guilt', 'NN'), ('&&', '&&')], [('##', '##'), ('worked', 'VBN'), ('mind', 'NN'), ('appearance', 'NN'), ('courage', 'NN'), ('entered', 'VBD'), ('&&', '&&')], [('##', '##'), ('court', 'NN'), ('threw', 'VBD'), ('eyes', 'NNS'), ('round', 'JJ'), ('quickly', 'RB'), ('discovered', 'VBD'), ('&&', '&&')], [('##', '##'), ('seated', 'VBN'), ('tear', 'JJ'), ('dim', 'NN'), ('eye', 'NN'), ('saw', 'VBD'), ('quickly', 'RB'), ('&&', '&&')], [('##', '##'), ('recovered', 'VBN'), ('look', 'NN'), ('sorrowful', 'JJ'), ('affection', 'NN'), ('attest', 'NN'), ('&&', '&&')], [('##', '##'), ('utter', 'JJ'), ('guiltlessness', 'NN'), ('&&', '&&')]]"
     ]
    },
    {
     "name": "stdout",
     "output_type": "stream",
     "text": [
      "\n"
     ]
    }
   ],
   "source": [
    "#Getting the tagged sentences\n",
    "#sent_tag = brown.tagged_sents()\n",
    "mod_sent_tag=[]\n",
    "for s in tagged_text:\n",
    "  s.insert(0,('##','##'))\n",
    "  s.append(('&&','&&'))\n",
    "  mod_sent_tag.append(s)\n",
    "print(mod_sent_tag)"
   ]
  },
  {
   "cell_type": "code",
   "execution_count": 11,
   "metadata": {},
   "outputs": [
    {
     "name": "stdout",
     "output_type": "stream",
     "text": [
      "[[('##', '##'), ('endeavouring', 'VBG'), ('seek', 'JJ'), ('hope', 'NN'), ('persuading', 'VBG'), ('begin', 'VB'), ('&&', '&&')], [('##', '##'), ('you', 'PRP'), ('ill', 'VBP'), ('ill', 'VB'), ('constant', 'JJ'), ('letters', 'NNS'), ('dear', 'VBP'), ('&&', '&&')], [('##', '##'), ('you', 'PRP'), ('probably', 'RB'), ('waited', 'VBD'), ('impatiently', 'RB'), ('letter', 'NN'), ('fix', 'NN'), ('date', 'NN'), ('&&', '&&')], [('##', '##'), ('curiosity', 'NN'), ('earnest', 'JJS'), ('research', 'NN'), ('learn', 'NN'), ('hidden', 'VBD'), ('laws', 'NNS'), ('nature', 'NN'), ('&&', '&&')], [('##', '##'), ('resolved', 'VBN'), ('arrive', 'JJ'), ('misfortune', 'NN'), ('life', 'NN'), ('&&', '&&')]]\n"
     ]
    }
   ],
   "source": [
    "\n",
    "# split data into training and validation set in the ratio 80:20\n",
    "train_data,test_data =train_test_split(mod_sent_tag,train_size=0.80,test_size=0.20,random_state = 101)\n",
    "print(train_data[:5])\n"
   ]
  },
  {
   "cell_type": "code",
   "execution_count": 12,
   "metadata": {},
   "outputs": [
    {
     "name": "stdout",
     "output_type": "stream",
     "text": [
      "{'##': {'##': 176}, 'VBG': {'endeavouring': 1, 'persuading': 1, 'wandering': 1, 'mourning': 1, 'fluctuating': 1, 'returning': 2, 'evening': 1, 'flowing': 1, 'engaging': 1, 'relating': 1, 'attending': 2, 'mentioning': 1, 'marrying': 1, 'smiling': 1, 'handwriting': 1, 'climbing': 1, 'rowing': 1, 'flourishing': 1}, 'JJ': {'seek': 1, 'constant': 1, 'arrive': 2, 'majestic': 1, 'wondrous': 1, 'swiss': 1, 'birth': 1, 'second': 1, 'junior': 1, 'poor': 1, 'clerval': 2, 'happy': 3, 'glad': 1, 'tremble': 1, 'honourable': 1, 'living': 1, 'cloud': 1, 'black': 2, 'republic': 1, 'native': 3, 'natural': 2, 'write': 1, 'satisfied': 1, 'eastern': 1, 'lake': 1, 'ignominious': 1, 'sorrowful': 1, 'read': 1, 'future': 2, 'obliterated': 1, 'comprehensive': 1, 'sole': 1, 'burnt': 1, 'brought': 1, 'modern': 1, 'proud': 1, 'unbending': 1, 'live': 1, 'enterprise': 1, 'long': 3, 'open': 2, 'hard': 2, 'convulsive': 1, 'behold': 1, 'contrary': 1, 'wretchedness': 1, 'know': 1, 'tranquil': 1, 'devolved': 1, 'mercenary': 1, 'old': 1, 'lifeless': 1, 'uncertain': 1, 'gained': 1, 'valuable': 1, 'william': 1, 'tear': 1, 'memorable': 1, 'little': 1, 'worthy': 1, 'lost': 1, 'able': 1, 'capable': 1, 'warm': 1, 'league': 1, 'medical': 1, 'table': 1, 'chivalrous': 1, 'occurredan': 1, 'ample': 1, 'wish': 1, 'woeful': 1, 'severe': 1, 'ardent': 1, 'eager': 1, 'idler': 1, 'necessary': 2, 'callous': 1, 'scientific': 1, 'continual': 1, 'teeth': 1, 'great': 3, 'considerable': 1, 'usual': 1, 'depended': 1, 'horrible': 1, 'false': 1, 'smitten': 1, 'thirst': 1, 'hide': 1, 'perform': 1, 'good': 1, 'lucerne': 1, 'unknown': 1, 'guilty': 1, 'smile': 1, 'whilst': 1, 'genevese': 1, 'sad': 1, 'forbidden': 1, 'pen': 1, 'sickbed': 1, 'watchful': 1, 'early': 1, 'beautiful': 3, 'facile': 1, 'foreign': 1, 'lustrous': 1, 'dreary': 1, 'unfortunate': 1, 'fellow': 1, 'general': 1, 'united': 1, 'kindness': 1, 'horrid': 1, 'conceive': 1, 'seventeen': 1, 'dull': 1, 'yellow': 2, 'akin': 1, 'fatal': 1, 'prospect': 1, 'numerous': 1, 'waldman': 1, 'true': 1}, 'NN': {'hope': 1, 'letter': 1, 'fix': 1, 'date': 1, 'curiosity': 1, 'research': 1, 'learn': 1, 'nature': 2, 'misfortune': 2, 'life': 6, 'son': 4, 'cousin': 1, 'permit': 1, 'enter': 1, 'profession': 1, 'surprise': 1, 'welcome': 1, 'innocence': 2, 'manner': 2, 'anxiety': 2, 'agony': 1, 'mockery': 1, 'justice': 1, 'torture': 1, 'visit': 1, 'geneva': 3, 'care': 3, 'benevolent': 1, 'countenance': 2, 'set': 1, 'complexion': 1, 'acquaintance': 1, 'science': 2, 'merchant': 2, 'boy': 1, 'singular': 1, 'wretchedness': 1, 'father': 3, 'beaufort': 1, 'truest': 1, 'friendship': 1, 'student': 1, 'university': 3, 'ingolstadt': 1, 'theory': 1, 'practice': 1, 'philosophy': 2, 'heart': 1, 'soul': 2, 'pursuit': 3, 'marriage': 1, 'character': 1, 'return': 2, 'companion': 1, 'spirit': 1, 'joy': 1, 'distance': 1, 'grave': 1, 'cause': 2, 'look': 1, 'affection': 3, 'attest': 1, 'deeply': 1, 'romance': 1, 'happiness': 1, 'encountering': 1, 'appearance': 2, 'justine': 3, 'calm': 2, 'sense': 2, 'term': 1, 'occupation': 1, 'country': 4, 'glimmer': 1, 'year': 1, 'difference': 1, 'wretch': 1, 'infinite': 1, 'disposition': 2, 'poverty': 1, 'talent': 1, 'fancy': 1, 'hardship': 1, 'danger': 1, 'post': 1, 'bring': 1, 'line': 1, 'pain': 1, 'absent': 2, 'delineate': 1, 'brother': 1, 'playing': 1, 'william': 1, 'improvement': 2, 'chemical': 1, 'motion': 1, 'victor': 2, 'ardour': 2, 'discrimination': 1, 'render': 1, 'declaration': 1, 'tranquillity': 1, 'diversity': 1, 'contrast': 2, 'nurse': 1, 'spark': 1, 'thing': 1, 'strength': 1, 'physiognomy': 1, 'ernest': 1, 'stay': 1, 'dim': 1, 'eye': 2, 'aggravation': 1, 'infamy': 1, 'murder': 1, 'horror': 1, 'time': 3, 'journey': 1, 'intense': 1, 'walk': 2, 'plainpalais': 1, 'serene': 1, 'colour': 1, 'dunwhite': 1, 'city': 1, 'event': 1, 'king': 1, 'consolation': 1, 'supply': 1, 'place': 1, 'misery': 1, 'path': 1, 'knowledge': 2, 'abstruse': 1, 'alpine': 1, 'summersshe': 1, 'scope': 1, 'admiration': 1, 'delight': 1, 'world': 3, 'credit': 1, 'assistance': 1, 'prepare': 1, 'news': 1, 'scarlet': 1, 'fever': 1, 'illness': 1, 'lake': 1, 'fear': 1, 'yield': 1, 'point': 2, 'madman': 1, 'guess': 1, 'minister': 1, 'variety': 1, 'oblivion': 1, 'thought': 1, 'quit': 1, 'girl': 1, 'merit': 1, 'reputation': 1, 'relate': 1, 'absence': 1, 'food': 1, 'discovery': 1, 'wonder': 1, 'cruel': 1, 'kindness': 1, 'dare': 1, 'whiteness': 1, 'deal': 1, 'sound': 1, 'train': 1, 'blood': 1, 'redeem': 1, 'holy': 1, 'sepulchre': 1, 'morning': 1, 'rain': 1, 'imagination': 1, 'enormity': 1, 'seclusion': 1, 'dusk': 1, 'disunion': 1, 'dispute': 1, 'harmony': 1, 'companionship': 1, 'death': 2, 'meeting': 1, 'convey': 1, 'pride': 1, 'friend': 2, 'conduct': 1, 'solemnity': 1, 'refrain': 2, 'intimate': 1, 'application': 2, 'town': 2, 'incident': 1, 'figure': 1, 'task': 1, 'idea': 1, 'pedantry': 1, 'daughter': 1, 'crime': 1, 'cornelius': 1, 'agrippa': 1, 'waldman': 1, 'attainment': 1, 'object': 1, 'birth': 1, 'family': 3, 'trial': 1, 'chapter': 1, 'day': 3, 'writeto': 1, 'hold': 1, 'word': 1, 'dear': 1, 'malignity': 1, 'secret': 1, 'divine': 1, 'progress': 2, 'decline': 1, 'confident': 1, 'nearer': 1, 'calmer': 1, 'apprehension': 1, 'service': 1, 'hitherto': 1, 'husband': 1, 'proficiency': 2, 'krempe': 1, 'infuse': 1, 'confusion': 1, 'proof': 1, 'guilt': 1, 'heartfelt': 1, 'exultation': 1, 'alarming': 1, 'work': 1, 'hair': 1, 'night': 1, 'accomplishment': 1, 'retreat': 1, 'control': 1, 'house': 1, 'campagne': 1, 'belrive': 1, 'remark': 1, 'sixteen': 1, 'babe': 1, 'intelligence': 1, 'study': 1, 'form': 1, 'proportion': 1, 'regret': 1, 'indifferent': 1, 'beauty': 1, 'watery': 1, 'business': 1, 'none': 1, 'commence': 1, 'rest': 1, 'attend': 1, 'age': 1, 'air': 1, 'mind': 1, 'courage': 1, 'light': 1, 'creature': 1, 'gladness': 1, 'rapture': 1, 'god': 1, 'skin': 1, 'imprudence': 1, 'mother': 2, 'chemistry': 1, 'completion': 1, 'education': 1, 'persuade': 1, 'union': 1, 'expectation': 1, 'state': 1, 'gentleness': 1}, 'VB': {'begin': 1, 'ill': 1, 'sake': 1, 'inflict': 1, 'read': 1, 'end': 1, 'run': 1, 'expect': 1}, '&&': {'&&': 176}, 'PRP': {'you': 2}, 'VBP': {'ill': 1, 'dear': 1, 'illustrate': 1, 'chivalry': 1, 'candle': 1, 'griefs': 1, 'catastrophe': 1, 'drawn': 1, 'genius': 1, 'account': 1, 'round': 1, 'love': 1, 'honour': 1, 'ingolstadt': 1, 'hope': 1, 'oclock': 1, 'clear': 1, 'professor': 1, 'beneath': 1, 'alas': 1}, 'NNS': {'letters': 1, 'laws': 1, 'scenes': 1, 'years': 4, 'parents': 3, 'writes': 1, 'toils': 1, 'lips': 1, 'lectures': 1, 'men': 1, 'ancestors': 1, 'discoveries': 1, 'circumstances': 3, 'times': 1, 'books': 1, 'children': 2, 'minds': 1, 'spectators': 1, 'inconveniences': 1, 'dangers': 1, 'customs': 1, 'panes': 1, 'inquirers': 1, 'subjects': 1, 'pains': 1, 'persuasions': 1, 'joys': 1, 'emotions': 1, 'masquerades': 1, 'characters': 2, 'heroes': 1, 'limbs': 1, 'tears': 1, 'works': 1, 'feet': 1, 'manners': 1, 'sockets': 1, 'attendants': 1, 'roncesvalles': 1, 'omen': 1, 'hands': 2, 'know': 1, 'stars': 1, 'ravings': 1, 'wishes': 1, 'affairs': 1, 'apprehensions': 1, 'qualities': 1, 'situations': 1, 'lives': 1, 'lessons': 1, 'professors': 1, 'indulge': 1, 'tidings': 1, 'friends': 2, 'ways': 1, 'hours': 1, 'lines': 1, 'entreaties': 1, 'attentions': 1, 'causes': 1, 'feelings': 1, 'inquiries': 1, 'schools': 1, 'masters': 1, 'instruments': 1, 'symptoms': 1, 'muscles': 1, 'arteries': 1, 'infidels': 1, 'beings': 1, 'features': 1, 'enticements': 1, 'studies': 1, 'thousands': 1, 'luxuriances': 1, 'eyes': 1, 'days': 1, 'hills': 1}, 'RB': {'probably': 1, 'impatiently': 1, 'yet': 2, 'straight': 1, 'entirely': 1, 'far': 2, 'dreadfully': 1, 'shore': 1, 'nearly': 2, 'evidently': 1, 'quickly': 1, 'solely': 1, 'rapidly': 1, 'principally': 1, 'arthur': 1, 'elizabeth': 1, 'soon': 2, 'pearly': 1, 'dismally': 1, 'farther': 1, 'bitterly': 1, 'deeply': 2, 'vainly': 1, 'sly': 1, 'continually': 1, 'merely': 1, 'closely': 1, 'easily': 1, 'presently': 1, 'exquisitely': 1, 'father': 1, 'fever': 1, 'favourite': 1, 'infallibly': 1, 'perpetually': 1, 'scarcely': 1, 'preserver': 1, 'particularly': 1}, 'VBD': {'waited': 1, 'hidden': 1, 'surrounded': 1, 'gave': 1, 'selected': 2, 'expected': 1, 'execrated': 1, 'retreated': 1, 'amounted': 1, 'suffered': 2, 'pleased': 1, 'shrivelled': 1, 'cultivated': 1, 'loved': 2, 'tempted': 1, 'contemplated': 1, 'said': 2, 'dressed': 1, 'attended': 2, 'endeavoured': 1, 'breathed': 1, 'agitated': 1, 'obliterated': 1, 'constrained': 1, 'subsisted': 1, 'drew': 1, 'lay': 1, 'proceeded': 1, 'protracted': 1, 'saw': 2, 'united': 1, 'prolonged': 1, 'wrapped': 1, 'resided': 1, 'disappeared': 1, 'prevented': 1, 'arrived': 1, 'possessed': 2, 'promised': 1, 'respected': 1, 'rendered': 1, 'shed': 1, 'pattered': 1, 'committed': 1, 'passed': 2, 'thought': 2, 'led': 1, 'sought': 1, 'banished': 1, 'lived': 1, 'went': 1, 'heard': 1, 'triumphed': 1, 'desired': 1, 'came': 1, 'concentrated': 1, 'asked': 1, 'adduced': 1, 'beheld': 1, 'formed': 1, 'occupied': 1, 'hoped': 1, 'experienced': 1, 'obliged': 1, 'resolved': 1, 'entered': 1, 'unfolded': 1, 'covered': 1, 'fell': 1, 'tinged': 1}, 'JJS': {'earnest': 1, 'firmest': 1, 'ernest': 2}, 'VBN': {'resolved': 1, 'gazed': 1, 'wretched': 1, 'passed': 2, 'paid': 1, 'distinguished': 1, 'fixed': 1, 'acquainted': 2, 'engaged': 1, 'murdered': 1, 'recovered': 1, 'excited': 1, 'prevented': 1, 'written': 1, 'gone': 2, 'committed': 1, 'sickbed': 1, 'discovered': 1, 'happened': 1, 'seated': 1, 'regretted': 1, 'improved': 1, 'prognosticated': 1, 'smoothed': 1, 'joined': 1, 'caught': 1, 'considered': 1, 'beloved': 1, 'supposed': 1, 'deplored': 1, 'rendered': 1, 'confessed': 1, 'ascribed': 1, 'sought': 1, 'yielded': 1, 'attended': 1, 'applied': 1, 'conceived': 1, 'enquired': 1, 'seen': 1, 'appeared': 1, 'collected': 1, 'expressed': 1, 'sickened': 1, 'accompanied': 1, 'grieved': 1, 'menaced': 1, 'taken': 1, 'attained': 1, 'spent': 1, 'worked': 1, 'halfextinguished': 1, 'exculpated': 1, 'placed': 1}, 'CD': {'seven': 1, 'thousand': 2, 'worst': 1, 'one': 1, '6': 1, 'two': 1}, 'PRP$': {'my': 2}, 'VBZ': {'hopes': 1, 'discoveries': 1, 'looks': 1, 'elizabeth': 2, 'krempe': 1, 'limbs': 1, 'schoolfellows': 1}, 'IN': {'bear': 1}, 'MD': {'shall': 1}, 'RBR': {'elizabeth': 1, 'father': 1}, 'RP': {'away': 1}, 'FW': {'geneva': 1}, 'NNP': {'november': 1}, 'JJR': {'longer': 1, 'younger': 2}}"
     ]
    },
    {
     "name": "stdout",
     "output_type": "stream",
     "text": [
      "\n"
     ]
    }
   ],
   "source": [
    "#Creating a dictionary whose keys are tags and values contain words which were assigned the correspoding tag\n",
    "# ex:- 'TAG':{word1: count(word1,'TAG')}\n",
    "train_word_tag = {}\n",
    "for s in train_data:\n",
    "  for (w,t) in s:\n",
    "    w=w.lower()\n",
    "    try:\n",
    "      try:\n",
    "        train_word_tag[t][w]+=1\n",
    "      except:\n",
    "        train_word_tag[t][w]=1\n",
    "    except:\n",
    "      train_word_tag[t]={w:1}\n",
    "print(train_word_tag)"
   ]
  },
  {
   "cell_type": "code",
   "execution_count": 13,
   "metadata": {},
   "outputs": [
    {
     "name": "stdout",
     "output_type": "stream",
     "text": [
      "{'##': {'##': 1.0}, 'VBG': {'endeavouring': 0.05, 'persuading': 0.05, 'wandering': 0.05, 'mourning': 0.05, 'fluctuating': 0.05, 'returning': 0.1, 'evening': 0.05, 'flowing': 0.05, 'engaging': 0.05, 'relating': 0.05, 'attending': 0.1, 'mentioning': 0.05, 'marrying': 0.05, 'smiling': 0.05, 'handwriting': 0.05, 'climbing': 0.05, 'rowing': 0.05, 'flourishing': 0.05}, 'JJ': {'seek': 0.006944444444444444, 'constant': 0.006944444444444444, 'arrive': 0.013888888888888888, 'majestic': 0.006944444444444444, 'wondrous': 0.006944444444444444, 'swiss': 0.006944444444444444, 'birth': 0.006944444444444444, 'second': 0.006944444444444444, 'junior': 0.006944444444444444, 'poor': 0.006944444444444444, 'clerval': 0.013888888888888888, 'happy': 0.020833333333333332, 'glad': 0.006944444444444444, 'tremble': 0.006944444444444444, 'honourable': 0.006944444444444444, 'living': 0.006944444444444444, 'cloud': 0.006944444444444444, 'black': 0.013888888888888888, 'republic': 0.006944444444444444, 'native': 0.020833333333333332, 'natural': 0.013888888888888888, 'write': 0.006944444444444444, 'satisfied': 0.006944444444444444, 'eastern': 0.006944444444444444, 'lake': 0.006944444444444444, 'ignominious': 0.006944444444444444, 'sorrowful': 0.006944444444444444, 'read': 0.006944444444444444, 'future': 0.013888888888888888, 'obliterated': 0.006944444444444444, 'comprehensive': 0.006944444444444444, 'sole': 0.006944444444444444, 'burnt': 0.006944444444444444, 'brought': 0.006944444444444444, 'modern': 0.006944444444444444, 'proud': 0.006944444444444444, 'unbending': 0.006944444444444444, 'live': 0.006944444444444444, 'enterprise': 0.006944444444444444, 'long': 0.020833333333333332, 'open': 0.013888888888888888, 'hard': 0.013888888888888888, 'convulsive': 0.006944444444444444, 'behold': 0.006944444444444444, 'contrary': 0.006944444444444444, 'wretchedness': 0.006944444444444444, 'know': 0.006944444444444444, 'tranquil': 0.006944444444444444, 'devolved': 0.006944444444444444, 'mercenary': 0.006944444444444444, 'old': 0.006944444444444444, 'lifeless': 0.006944444444444444, 'uncertain': 0.006944444444444444, 'gained': 0.006944444444444444, 'valuable': 0.006944444444444444, 'william': 0.006944444444444444, 'tear': 0.006944444444444444, 'memorable': 0.006944444444444444, 'little': 0.006944444444444444, 'worthy': 0.006944444444444444, 'lost': 0.006944444444444444, 'able': 0.006944444444444444, 'capable': 0.006944444444444444, 'warm': 0.006944444444444444, 'league': 0.006944444444444444, 'medical': 0.006944444444444444, 'table': 0.006944444444444444, 'chivalrous': 0.006944444444444444, 'occurredan': 0.006944444444444444, 'ample': 0.006944444444444444, 'wish': 0.006944444444444444, 'woeful': 0.006944444444444444, 'severe': 0.006944444444444444, 'ardent': 0.006944444444444444, 'eager': 0.006944444444444444, 'idler': 0.006944444444444444, 'necessary': 0.013888888888888888, 'callous': 0.006944444444444444, 'scientific': 0.006944444444444444, 'continual': 0.006944444444444444, 'teeth': 0.006944444444444444, 'great': 0.020833333333333332, 'considerable': 0.006944444444444444, 'usual': 0.006944444444444444, 'depended': 0.006944444444444444, 'horrible': 0.006944444444444444, 'false': 0.006944444444444444, 'smitten': 0.006944444444444444, 'thirst': 0.006944444444444444, 'hide': 0.006944444444444444, 'perform': 0.006944444444444444, 'good': 0.006944444444444444, 'lucerne': 0.006944444444444444, 'unknown': 0.006944444444444444, 'guilty': 0.006944444444444444, 'smile': 0.006944444444444444, 'whilst': 0.006944444444444444, 'genevese': 0.006944444444444444, 'sad': 0.006944444444444444, 'forbidden': 0.006944444444444444, 'pen': 0.006944444444444444, 'sickbed': 0.006944444444444444, 'watchful': 0.006944444444444444, 'early': 0.006944444444444444, 'beautiful': 0.020833333333333332, 'facile': 0.006944444444444444, 'foreign': 0.006944444444444444, 'lustrous': 0.006944444444444444, 'dreary': 0.006944444444444444, 'unfortunate': 0.006944444444444444, 'fellow': 0.006944444444444444, 'general': 0.006944444444444444, 'united': 0.006944444444444444, 'kindness': 0.006944444444444444, 'horrid': 0.006944444444444444, 'conceive': 0.006944444444444444, 'seventeen': 0.006944444444444444, 'dull': 0.006944444444444444, 'yellow': 0.013888888888888888, 'akin': 0.006944444444444444, 'fatal': 0.006944444444444444, 'prospect': 0.006944444444444444, 'numerous': 0.006944444444444444, 'waldman': 0.006944444444444444, 'true': 0.006944444444444444}, 'NN': {'hope': 0.002840909090909091, 'letter': 0.002840909090909091, 'fix': 0.002840909090909091, 'date': 0.002840909090909091, 'curiosity': 0.002840909090909091, 'research': 0.002840909090909091, 'learn': 0.002840909090909091, 'nature': 0.005681818181818182, 'misfortune': 0.005681818181818182, 'life': 0.017045454545454544, 'son': 0.011363636363636364, 'cousin': 0.002840909090909091, 'permit': 0.002840909090909091, 'enter': 0.002840909090909091, 'profession': 0.002840909090909091, 'surprise': 0.002840909090909091, 'welcome': 0.002840909090909091, 'innocence': 0.005681818181818182, 'manner': 0.005681818181818182, 'anxiety': 0.005681818181818182, 'agony': 0.002840909090909091, 'mockery': 0.002840909090909091, 'justice': 0.002840909090909091, 'torture': 0.002840909090909091, 'visit': 0.002840909090909091, 'geneva': 0.008522727272727272, 'care': 0.008522727272727272, 'benevolent': 0.002840909090909091, 'countenance': 0.005681818181818182, 'set': 0.002840909090909091, 'complexion': 0.002840909090909091, 'acquaintance': 0.002840909090909091, 'science': 0.005681818181818182, 'merchant': 0.005681818181818182, 'boy': 0.002840909090909091, 'singular': 0.002840909090909091, 'wretchedness': 0.002840909090909091, 'father': 0.008522727272727272, 'beaufort': 0.002840909090909091, 'truest': 0.002840909090909091, 'friendship': 0.002840909090909091, 'student': 0.002840909090909091, 'university': 0.008522727272727272, 'ingolstadt': 0.002840909090909091, 'theory': 0.002840909090909091, 'practice': 0.002840909090909091, 'philosophy': 0.005681818181818182, 'heart': 0.002840909090909091, 'soul': 0.005681818181818182, 'pursuit': 0.008522727272727272, 'marriage': 0.002840909090909091, 'character': 0.002840909090909091, 'return': 0.005681818181818182, 'companion': 0.002840909090909091, 'spirit': 0.002840909090909091, 'joy': 0.002840909090909091, 'distance': 0.002840909090909091, 'grave': 0.002840909090909091, 'cause': 0.005681818181818182, 'look': 0.002840909090909091, 'affection': 0.008522727272727272, 'attest': 0.002840909090909091, 'deeply': 0.002840909090909091, 'romance': 0.002840909090909091, 'happiness': 0.002840909090909091, 'encountering': 0.002840909090909091, 'appearance': 0.005681818181818182, 'justine': 0.008522727272727272, 'calm': 0.005681818181818182, 'sense': 0.005681818181818182, 'term': 0.002840909090909091, 'occupation': 0.002840909090909091, 'country': 0.011363636363636364, 'glimmer': 0.002840909090909091, 'year': 0.002840909090909091, 'difference': 0.002840909090909091, 'wretch': 0.002840909090909091, 'infinite': 0.002840909090909091, 'disposition': 0.005681818181818182, 'poverty': 0.002840909090909091, 'talent': 0.002840909090909091, 'fancy': 0.002840909090909091, 'hardship': 0.002840909090909091, 'danger': 0.002840909090909091, 'post': 0.002840909090909091, 'bring': 0.002840909090909091, 'line': 0.002840909090909091, 'pain': 0.002840909090909091, 'absent': 0.005681818181818182, 'delineate': 0.002840909090909091, 'brother': 0.002840909090909091, 'playing': 0.002840909090909091, 'william': 0.002840909090909091, 'improvement': 0.005681818181818182, 'chemical': 0.002840909090909091, 'motion': 0.002840909090909091, 'victor': 0.005681818181818182, 'ardour': 0.005681818181818182, 'discrimination': 0.002840909090909091, 'render': 0.002840909090909091, 'declaration': 0.002840909090909091, 'tranquillity': 0.002840909090909091, 'diversity': 0.002840909090909091, 'contrast': 0.005681818181818182, 'nurse': 0.002840909090909091, 'spark': 0.002840909090909091, 'thing': 0.002840909090909091, 'strength': 0.002840909090909091, 'physiognomy': 0.002840909090909091, 'ernest': 0.002840909090909091, 'stay': 0.002840909090909091, 'dim': 0.002840909090909091, 'eye': 0.005681818181818182, 'aggravation': 0.002840909090909091, 'infamy': 0.002840909090909091, 'murder': 0.002840909090909091, 'horror': 0.002840909090909091, 'time': 0.008522727272727272, 'journey': 0.002840909090909091, 'intense': 0.002840909090909091, 'walk': 0.005681818181818182, 'plainpalais': 0.002840909090909091, 'serene': 0.002840909090909091, 'colour': 0.002840909090909091, 'dunwhite': 0.002840909090909091, 'city': 0.002840909090909091, 'event': 0.002840909090909091, 'king': 0.002840909090909091, 'consolation': 0.002840909090909091, 'supply': 0.002840909090909091, 'place': 0.002840909090909091, 'misery': 0.002840909090909091, 'path': 0.002840909090909091, 'knowledge': 0.005681818181818182, 'abstruse': 0.002840909090909091, 'alpine': 0.002840909090909091, 'summersshe': 0.002840909090909091, 'scope': 0.002840909090909091, 'admiration': 0.002840909090909091, 'delight': 0.002840909090909091, 'world': 0.008522727272727272, 'credit': 0.002840909090909091, 'assistance': 0.002840909090909091, 'prepare': 0.002840909090909091, 'news': 0.002840909090909091, 'scarlet': 0.002840909090909091, 'fever': 0.002840909090909091, 'illness': 0.002840909090909091, 'lake': 0.002840909090909091, 'fear': 0.002840909090909091, 'yield': 0.002840909090909091, 'point': 0.005681818181818182, 'madman': 0.002840909090909091, 'guess': 0.002840909090909091, 'minister': 0.002840909090909091, 'variety': 0.002840909090909091, 'oblivion': 0.002840909090909091, 'thought': 0.002840909090909091, 'quit': 0.002840909090909091, 'girl': 0.002840909090909091, 'merit': 0.002840909090909091, 'reputation': 0.002840909090909091, 'relate': 0.002840909090909091, 'absence': 0.002840909090909091, 'food': 0.002840909090909091, 'discovery': 0.002840909090909091, 'wonder': 0.002840909090909091, 'cruel': 0.002840909090909091, 'kindness': 0.002840909090909091, 'dare': 0.002840909090909091, 'whiteness': 0.002840909090909091, 'deal': 0.002840909090909091, 'sound': 0.002840909090909091, 'train': 0.002840909090909091, 'blood': 0.002840909090909091, 'redeem': 0.002840909090909091, 'holy': 0.002840909090909091, 'sepulchre': 0.002840909090909091, 'morning': 0.002840909090909091, 'rain': 0.002840909090909091, 'imagination': 0.002840909090909091, 'enormity': 0.002840909090909091, 'seclusion': 0.002840909090909091, 'dusk': 0.002840909090909091, 'disunion': 0.002840909090909091, 'dispute': 0.002840909090909091, 'harmony': 0.002840909090909091, 'companionship': 0.002840909090909091, 'death': 0.005681818181818182, 'meeting': 0.002840909090909091, 'convey': 0.002840909090909091, 'pride': 0.002840909090909091, 'friend': 0.005681818181818182, 'conduct': 0.002840909090909091, 'solemnity': 0.002840909090909091, 'refrain': 0.005681818181818182, 'intimate': 0.002840909090909091, 'application': 0.005681818181818182, 'town': 0.005681818181818182, 'incident': 0.002840909090909091, 'figure': 0.002840909090909091, 'task': 0.002840909090909091, 'idea': 0.002840909090909091, 'pedantry': 0.002840909090909091, 'daughter': 0.002840909090909091, 'crime': 0.002840909090909091, 'cornelius': 0.002840909090909091, 'agrippa': 0.002840909090909091, 'waldman': 0.002840909090909091, 'attainment': 0.002840909090909091, 'object': 0.002840909090909091, 'birth': 0.002840909090909091, 'family': 0.008522727272727272, 'trial': 0.002840909090909091, 'chapter': 0.002840909090909091, 'day': 0.008522727272727272, 'writeto': 0.002840909090909091, 'hold': 0.002840909090909091, 'word': 0.002840909090909091, 'dear': 0.002840909090909091, 'malignity': 0.002840909090909091, 'secret': 0.002840909090909091, 'divine': 0.002840909090909091, 'progress': 0.005681818181818182, 'decline': 0.002840909090909091, 'confident': 0.002840909090909091, 'nearer': 0.002840909090909091, 'calmer': 0.002840909090909091, 'apprehension': 0.002840909090909091, 'service': 0.002840909090909091, 'hitherto': 0.002840909090909091, 'husband': 0.002840909090909091, 'proficiency': 0.005681818181818182, 'krempe': 0.002840909090909091, 'infuse': 0.002840909090909091, 'confusion': 0.002840909090909091, 'proof': 0.002840909090909091, 'guilt': 0.002840909090909091, 'heartfelt': 0.002840909090909091, 'exultation': 0.002840909090909091, 'alarming': 0.002840909090909091, 'work': 0.002840909090909091, 'hair': 0.002840909090909091, 'night': 0.002840909090909091, 'accomplishment': 0.002840909090909091, 'retreat': 0.002840909090909091, 'control': 0.002840909090909091, 'house': 0.002840909090909091, 'campagne': 0.002840909090909091, 'belrive': 0.002840909090909091, 'remark': 0.002840909090909091, 'sixteen': 0.002840909090909091, 'babe': 0.002840909090909091, 'intelligence': 0.002840909090909091, 'study': 0.002840909090909091, 'form': 0.002840909090909091, 'proportion': 0.002840909090909091, 'regret': 0.002840909090909091, 'indifferent': 0.002840909090909091, 'beauty': 0.002840909090909091, 'watery': 0.002840909090909091, 'business': 0.002840909090909091, 'none': 0.002840909090909091, 'commence': 0.002840909090909091, 'rest': 0.002840909090909091, 'attend': 0.002840909090909091, 'age': 0.002840909090909091, 'air': 0.002840909090909091, 'mind': 0.002840909090909091, 'courage': 0.002840909090909091, 'light': 0.002840909090909091, 'creature': 0.002840909090909091, 'gladness': 0.002840909090909091, 'rapture': 0.002840909090909091, 'god': 0.002840909090909091, 'skin': 0.002840909090909091, 'imprudence': 0.002840909090909091, 'mother': 0.005681818181818182, 'chemistry': 0.002840909090909091, 'completion': 0.002840909090909091, 'education': 0.002840909090909091, 'persuade': 0.002840909090909091, 'union': 0.002840909090909091, 'expectation': 0.002840909090909091, 'state': 0.002840909090909091, 'gentleness': 0.002840909090909091}, 'VB': {'begin': 0.125, 'ill': 0.125, 'sake': 0.125, 'inflict': 0.125, 'read': 0.125, 'end': 0.125, 'run': 0.125, 'expect': 0.125}, '&&': {'&&': 1.0}, 'PRP': {'you': 1.0}, 'VBP': {'ill': 0.05, 'dear': 0.05, 'illustrate': 0.05, 'chivalry': 0.05, 'candle': 0.05, 'griefs': 0.05, 'catastrophe': 0.05, 'drawn': 0.05, 'genius': 0.05, 'account': 0.05, 'round': 0.05, 'love': 0.05, 'honour': 0.05, 'ingolstadt': 0.05, 'hope': 0.05, 'oclock': 0.05, 'clear': 0.05, 'professor': 0.05, 'beneath': 0.05, 'alas': 0.05}, 'NNS': {'letters': 0.011111111111111112, 'laws': 0.011111111111111112, 'scenes': 0.011111111111111112, 'years': 0.044444444444444446, 'parents': 0.03333333333333333, 'writes': 0.011111111111111112, 'toils': 0.011111111111111112, 'lips': 0.011111111111111112, 'lectures': 0.011111111111111112, 'men': 0.011111111111111112, 'ancestors': 0.011111111111111112, 'discoveries': 0.011111111111111112, 'circumstances': 0.03333333333333333, 'times': 0.011111111111111112, 'books': 0.011111111111111112, 'children': 0.022222222222222223, 'minds': 0.011111111111111112, 'spectators': 0.011111111111111112, 'inconveniences': 0.011111111111111112, 'dangers': 0.011111111111111112, 'customs': 0.011111111111111112, 'panes': 0.011111111111111112, 'inquirers': 0.011111111111111112, 'subjects': 0.011111111111111112, 'pains': 0.011111111111111112, 'persuasions': 0.011111111111111112, 'joys': 0.011111111111111112, 'emotions': 0.011111111111111112, 'masquerades': 0.011111111111111112, 'characters': 0.022222222222222223, 'heroes': 0.011111111111111112, 'limbs': 0.011111111111111112, 'tears': 0.011111111111111112, 'works': 0.011111111111111112, 'feet': 0.011111111111111112, 'manners': 0.011111111111111112, 'sockets': 0.011111111111111112, 'attendants': 0.011111111111111112, 'roncesvalles': 0.011111111111111112, 'omen': 0.011111111111111112, 'hands': 0.022222222222222223, 'know': 0.011111111111111112, 'stars': 0.011111111111111112, 'ravings': 0.011111111111111112, 'wishes': 0.011111111111111112, 'affairs': 0.011111111111111112, 'apprehensions': 0.011111111111111112, 'qualities': 0.011111111111111112, 'situations': 0.011111111111111112, 'lives': 0.011111111111111112, 'lessons': 0.011111111111111112, 'professors': 0.011111111111111112, 'indulge': 0.011111111111111112, 'tidings': 0.011111111111111112, 'friends': 0.022222222222222223, 'ways': 0.011111111111111112, 'hours': 0.011111111111111112, 'lines': 0.011111111111111112, 'entreaties': 0.011111111111111112, 'attentions': 0.011111111111111112, 'causes': 0.011111111111111112, 'feelings': 0.011111111111111112, 'inquiries': 0.011111111111111112, 'schools': 0.011111111111111112, 'masters': 0.011111111111111112, 'instruments': 0.011111111111111112, 'symptoms': 0.011111111111111112, 'muscles': 0.011111111111111112, 'arteries': 0.011111111111111112, 'infidels': 0.011111111111111112, 'beings': 0.011111111111111112, 'features': 0.011111111111111112, 'enticements': 0.011111111111111112, 'studies': 0.011111111111111112, 'thousands': 0.011111111111111112, 'luxuriances': 0.011111111111111112, 'eyes': 0.011111111111111112, 'days': 0.011111111111111112, 'hills': 0.011111111111111112}, 'RB': {'probably': 0.023255813953488372, 'impatiently': 0.023255813953488372, 'yet': 0.046511627906976744, 'straight': 0.023255813953488372, 'entirely': 0.023255813953488372, 'far': 0.046511627906976744, 'dreadfully': 0.023255813953488372, 'shore': 0.023255813953488372, 'nearly': 0.046511627906976744, 'evidently': 0.023255813953488372, 'quickly': 0.023255813953488372, 'solely': 0.023255813953488372, 'rapidly': 0.023255813953488372, 'principally': 0.023255813953488372, 'arthur': 0.023255813953488372, 'elizabeth': 0.023255813953488372, 'soon': 0.046511627906976744, 'pearly': 0.023255813953488372, 'dismally': 0.023255813953488372, 'farther': 0.023255813953488372, 'bitterly': 0.023255813953488372, 'deeply': 0.046511627906976744, 'vainly': 0.023255813953488372, 'sly': 0.023255813953488372, 'continually': 0.023255813953488372, 'merely': 0.023255813953488372, 'closely': 0.023255813953488372, 'easily': 0.023255813953488372, 'presently': 0.023255813953488372, 'exquisitely': 0.023255813953488372, 'father': 0.023255813953488372, 'fever': 0.023255813953488372, 'favourite': 0.023255813953488372, 'infallibly': 0.023255813953488372, 'perpetually': 0.023255813953488372, 'scarcely': 0.023255813953488372, 'preserver': 0.023255813953488372, 'particularly': 0.023255813953488372}, 'VBD': {'waited': 0.012658227848101266, 'hidden': 0.012658227848101266, 'surrounded': 0.012658227848101266, 'gave': 0.012658227848101266, 'selected': 0.02531645569620253, 'expected': 0.012658227848101266, 'execrated': 0.012658227848101266, 'retreated': 0.012658227848101266, 'amounted': 0.012658227848101266, 'suffered': 0.02531645569620253, 'pleased': 0.012658227848101266, 'shrivelled': 0.012658227848101266, 'cultivated': 0.012658227848101266, 'loved': 0.02531645569620253, 'tempted': 0.012658227848101266, 'contemplated': 0.012658227848101266, 'said': 0.02531645569620253, 'dressed': 0.012658227848101266, 'attended': 0.02531645569620253, 'endeavoured': 0.012658227848101266, 'breathed': 0.012658227848101266, 'agitated': 0.012658227848101266, 'obliterated': 0.012658227848101266, 'constrained': 0.012658227848101266, 'subsisted': 0.012658227848101266, 'drew': 0.012658227848101266, 'lay': 0.012658227848101266, 'proceeded': 0.012658227848101266, 'protracted': 0.012658227848101266, 'saw': 0.02531645569620253, 'united': 0.012658227848101266, 'prolonged': 0.012658227848101266, 'wrapped': 0.012658227848101266, 'resided': 0.012658227848101266, 'disappeared': 0.012658227848101266, 'prevented': 0.012658227848101266, 'arrived': 0.012658227848101266, 'possessed': 0.02531645569620253, 'promised': 0.012658227848101266, 'respected': 0.012658227848101266, 'rendered': 0.012658227848101266, 'shed': 0.012658227848101266, 'pattered': 0.012658227848101266, 'committed': 0.012658227848101266, 'passed': 0.02531645569620253, 'thought': 0.02531645569620253, 'led': 0.012658227848101266, 'sought': 0.012658227848101266, 'banished': 0.012658227848101266, 'lived': 0.012658227848101266, 'went': 0.012658227848101266, 'heard': 0.012658227848101266, 'triumphed': 0.012658227848101266, 'desired': 0.012658227848101266, 'came': 0.012658227848101266, 'concentrated': 0.012658227848101266, 'asked': 0.012658227848101266, 'adduced': 0.012658227848101266, 'beheld': 0.012658227848101266, 'formed': 0.012658227848101266, 'occupied': 0.012658227848101266, 'hoped': 0.012658227848101266, 'experienced': 0.012658227848101266, 'obliged': 0.012658227848101266, 'resolved': 0.012658227848101266, 'entered': 0.012658227848101266, 'unfolded': 0.012658227848101266, 'covered': 0.012658227848101266, 'fell': 0.012658227848101266, 'tinged': 0.012658227848101266}, 'JJS': {'earnest': 0.25, 'firmest': 0.25, 'ernest': 0.5}, 'VBN': {'resolved': 0.017543859649122806, 'gazed': 0.017543859649122806, 'wretched': 0.017543859649122806, 'passed': 0.03508771929824561, 'paid': 0.017543859649122806, 'distinguished': 0.017543859649122806, 'fixed': 0.017543859649122806, 'acquainted': 0.03508771929824561, 'engaged': 0.017543859649122806, 'murdered': 0.017543859649122806, 'recovered': 0.017543859649122806, 'excited': 0.017543859649122806, 'prevented': 0.017543859649122806, 'written': 0.017543859649122806, 'gone': 0.03508771929824561, 'committed': 0.017543859649122806, 'sickbed': 0.017543859649122806, 'discovered': 0.017543859649122806, 'happened': 0.017543859649122806, 'seated': 0.017543859649122806, 'regretted': 0.017543859649122806, 'improved': 0.017543859649122806, 'prognosticated': 0.017543859649122806, 'smoothed': 0.017543859649122806, 'joined': 0.017543859649122806, 'caught': 0.017543859649122806, 'considered': 0.017543859649122806, 'beloved': 0.017543859649122806, 'supposed': 0.017543859649122806, 'deplored': 0.017543859649122806, 'rendered': 0.017543859649122806, 'confessed': 0.017543859649122806, 'ascribed': 0.017543859649122806, 'sought': 0.017543859649122806, 'yielded': 0.017543859649122806, 'attended': 0.017543859649122806, 'applied': 0.017543859649122806, 'conceived': 0.017543859649122806, 'enquired': 0.017543859649122806, 'seen': 0.017543859649122806, 'appeared': 0.017543859649122806, 'collected': 0.017543859649122806, 'expressed': 0.017543859649122806, 'sickened': 0.017543859649122806, 'accompanied': 0.017543859649122806, 'grieved': 0.017543859649122806, 'menaced': 0.017543859649122806, 'taken': 0.017543859649122806, 'attained': 0.017543859649122806, 'spent': 0.017543859649122806, 'worked': 0.017543859649122806, 'halfextinguished': 0.017543859649122806, 'exculpated': 0.017543859649122806, 'placed': 0.017543859649122806}, 'CD': {'seven': 0.14285714285714285, 'thousand': 0.2857142857142857, 'worst': 0.14285714285714285, 'one': 0.14285714285714285, '6': 0.14285714285714285, 'two': 0.14285714285714285}, 'PRP$': {'my': 1.0}, 'VBZ': {'hopes': 0.125, 'discoveries': 0.125, 'looks': 0.125, 'elizabeth': 0.25, 'krempe': 0.125, 'limbs': 0.125, 'schoolfellows': 0.125}, 'IN': {'bear': 1.0}, 'MD': {'shall': 1.0}, 'RBR': {'elizabeth': 0.5, 'father': 0.5}, 'RP': {'away': 1.0}, 'FW': {'geneva': 1.0}, 'NNP': {'november': 1.0}, 'JJR': {'longer': 0.3333333333333333, 'younger': 0.6666666666666666}}"
     ]
    },
    {
     "name": "stdout",
     "output_type": "stream",
     "text": [
      "\n"
     ]
    }
   ],
   "source": [
    "#Calculating the emission probabilities using train_word_tag\n",
    "train_emission_prob={}\n",
    "for k in train_word_tag.keys():\n",
    "  train_emission_prob[k]={}\n",
    "  count = sum(train_word_tag[k].values())\n",
    "  for k2 in train_word_tag[k].keys():\n",
    "    train_emission_prob[k][k2]=train_word_tag[k][k2]/count\n",
    "print(train_emission_prob)"
   ]
  },
  {
   "cell_type": "code",
   "execution_count": 14,
   "metadata": {},
   "outputs": [
    {
     "name": "stdout",
     "output_type": "stream",
     "text": [
      "{'##': {'VBG': 5, 'PRP': 2, 'NN': 71, 'VBN': 31, 'JJ': 30, 'NNS': 21, 'RB': 10, 'VB': 3, 'VBZ': 1, 'JJR': 1, 'VBD': 1}, 'VBG': {'JJ': 5, 'VB': 1, 'NN': 4, '&&': 5, 'VBN': 2, 'CD': 1, 'NNS': 2}, 'JJ': {'NN': 80, 'NNS': 19, 'JJ': 19, '&&': 15, 'CD': 1, 'VBN': 1, 'RB': 5, 'VBD': 3, 'VBG': 1}, 'NN': {'VBG': 8, 'NN': 120, '&&': 90, 'JJS': 2, 'VBD': 48, 'JJ': 29, 'RB': 12, 'VBN': 9, 'NNS': 20, 'VBP': 1, 'CD': 4, 'IN': 1, 'VBZ': 5, 'VB': 1, 'RBR': 1, 'NNP': 1}, 'VB': {'&&': 3, 'JJ': 1, 'NN': 3, 'RP': 1}, 'PRP': {'VBP': 1, 'RB': 1}, 'VBP': {'VB': 1, '&&': 2, 'NN': 11, 'RB': 1, 'MD': 1, 'NNS': 1, 'JJ': 3}, 'NNS': {'VBP': 17, 'NN': 11, 'VBD': 14, 'NNS': 8, '&&': 23, 'JJ': 6, 'VBN': 2, 'VBZ': 1, 'RBR': 1, 'RB': 4, 'FW': 1, 'VBG': 2}, 'RB': {'VBD': 7, 'NN': 4, 'JJ': 12, 'VBG': 3, 'RB': 2, 'VBN': 9, '&&': 4, 'VB': 1, 'JJS': 1}, 'VBD': {'RB': 4, 'NNS': 7, 'JJ': 16, '&&': 29, 'NN': 18, 'PRP$': 1, 'VBG': 1, 'VBN': 2, 'JJR': 1}, 'JJS': {'NN': 2, 'VBZ': 1, 'VBD': 1}, 'VBN': {'JJ': 17, 'VBD': 4, 'NN': 21, '&&': 3, 'NNS': 6, 'RB': 3, 'CD': 1, 'VBN': 1, 'JJR': 1}, 'CD': {'NNS': 4, 'NN': 2, '&&': 1}, 'PRP$': {'JJS': 1, '&&': 1}, 'VBZ': {'JJ': 4, 'NN': 3, 'VBP': 1}, 'IN': {'JJ': 1}, 'MD': {'VB': 1}, 'RBR': {'PRP$': 1, 'NN': 1}, 'RP': {'JJ': 1}, 'FW': {'RB': 1}, 'NNP': {'VBD': 1}, 'JJR': {'NN': 1, 'NNS': 2}}\n"
     ]
    }
   ],
   "source": [
    "#Estimating the bigram of tags to be used for transition probability\n",
    "bigram_tag_data = {}\n",
    "for s in train_data:\n",
    "  bi=list(nltk.bigrams(s))\n",
    "  for b1,b2 in bi:\n",
    "    try:\n",
    "      try:\n",
    "        bigram_tag_data[b1[1]][b2[1]]+=1\n",
    "      except:\n",
    "        bigram_tag_data[b1[1]][b2[1]]=1\n",
    "    except:\n",
    "      bigram_tag_data[b1[1]]={b2[1]:1}\n",
    "print(bigram_tag_data)"
   ]
  },
  {
   "cell_type": "code",
   "execution_count": 15,
   "metadata": {},
   "outputs": [
    {
     "name": "stdout",
     "output_type": "stream",
     "text": [
      "{'##': {'VBG': 0.028409090909090908, 'PRP': 0.011363636363636364, 'NN': 0.4034090909090909, 'VBN': 0.17613636363636365, 'JJ': 0.17045454545454544, 'NNS': 0.11931818181818182, 'RB': 0.056818181818181816, 'VB': 0.017045454545454544, 'VBZ': 0.005681818181818182, 'JJR': 0.005681818181818182, 'VBD': 0.005681818181818182}, 'VBG': {'JJ': 0.25, 'VB': 0.05, 'NN': 0.2, '&&': 0.25, 'VBN': 0.1, 'CD': 0.05, 'NNS': 0.1}, 'JJ': {'NN': 0.5555555555555556, 'NNS': 0.13194444444444445, 'JJ': 0.13194444444444445, '&&': 0.10416666666666667, 'CD': 0.006944444444444444, 'VBN': 0.006944444444444444, 'RB': 0.034722222222222224, 'VBD': 0.020833333333333332, 'VBG': 0.006944444444444444}, 'NN': {'VBG': 0.022727272727272728, 'NN': 0.3409090909090909, '&&': 0.2556818181818182, 'JJS': 0.005681818181818182, 'VBD': 0.13636363636363635, 'JJ': 0.08238636363636363, 'RB': 0.03409090909090909, 'VBN': 0.02556818181818182, 'NNS': 0.056818181818181816, 'VBP': 0.002840909090909091, 'CD': 0.011363636363636364, 'IN': 0.002840909090909091, 'VBZ': 0.014204545454545454, 'VB': 0.002840909090909091, 'RBR': 0.002840909090909091, 'NNP': 0.002840909090909091}, 'VB': {'&&': 0.375, 'JJ': 0.125, 'NN': 0.375, 'RP': 0.125}, 'PRP': {'VBP': 0.5, 'RB': 0.5}, 'VBP': {'VB': 0.05, '&&': 0.1, 'NN': 0.55, 'RB': 0.05, 'MD': 0.05, 'NNS': 0.05, 'JJ': 0.15}, 'NNS': {'VBP': 0.18888888888888888, 'NN': 0.12222222222222222, 'VBD': 0.15555555555555556, 'NNS': 0.08888888888888889, '&&': 0.25555555555555554, 'JJ': 0.06666666666666667, 'VBN': 0.022222222222222223, 'VBZ': 0.011111111111111112, 'RBR': 0.011111111111111112, 'RB': 0.044444444444444446, 'FW': 0.011111111111111112, 'VBG': 0.022222222222222223}, 'RB': {'VBD': 0.16279069767441862, 'NN': 0.09302325581395349, 'JJ': 0.27906976744186046, 'VBG': 0.06976744186046512, 'RB': 0.046511627906976744, 'VBN': 0.20930232558139536, '&&': 0.09302325581395349, 'VB': 0.023255813953488372, 'JJS': 0.023255813953488372}, 'VBD': {'RB': 0.05063291139240506, 'NNS': 0.08860759493670886, 'JJ': 0.20253164556962025, '&&': 0.3670886075949367, 'NN': 0.22784810126582278, 'PRP$': 0.012658227848101266, 'VBG': 0.012658227848101266, 'VBN': 0.02531645569620253, 'JJR': 0.012658227848101266}, 'JJS': {'NN': 0.5, 'VBZ': 0.25, 'VBD': 0.25}, 'VBN': {'JJ': 0.2982456140350877, 'VBD': 0.07017543859649122, 'NN': 0.3684210526315789, '&&': 0.05263157894736842, 'NNS': 0.10526315789473684, 'RB': 0.05263157894736842, 'CD': 0.017543859649122806, 'VBN': 0.017543859649122806, 'JJR': 0.017543859649122806}, 'CD': {'NNS': 0.5714285714285714, 'NN': 0.2857142857142857, '&&': 0.14285714285714285}, 'PRP$': {'JJS': 0.5, '&&': 0.5}, 'VBZ': {'JJ': 0.5, 'NN': 0.375, 'VBP': 0.125}, 'IN': {'JJ': 1.0}, 'MD': {'VB': 1.0}, 'RBR': {'PRP$': 0.5, 'NN': 0.5}, 'RP': {'JJ': 1.0}, 'FW': {'RB': 1.0}, 'NNP': {'VBD': 1.0}, 'JJR': {'NN': 0.3333333333333333, 'NNS': 0.6666666666666666}}\n"
     ]
    }
   ],
   "source": [
    "#Calculating the probabilities of tag bigrams for transition probability  \n",
    "bigram_tag_prob={}\n",
    "for k in bigram_tag_data.keys():\n",
    "  bigram_tag_prob[k]={}\n",
    "  count=sum(bigram_tag_data[k].values())\n",
    "  for k2 in bigram_tag_data[k].keys():\n",
    "    bigram_tag_prob[k][k2]=bigram_tag_data[k][k2]/count\n",
    "print(bigram_tag_prob)"
   ]
  },
  {
   "cell_type": "code",
   "execution_count": 16,
   "metadata": {},
   "outputs": [
    {
     "name": "stdout",
     "output_type": "stream",
     "text": [
      "{'##': ['##'], 'endeavouring': ['VBG'], 'seek': ['JJ'], 'hope': ['NN', 'VBP'], 'persuading': ['VBG'], 'begin': ['VB'], '&&': ['&&'], 'you': ['PRP'], 'ill': ['VBP', 'VB'], 'constant': ['JJ'], 'letters': ['NNS'], 'dear': ['VBP', 'NN'], 'probably': ['RB'], 'waited': ['VBD', 'VBN'], 'impatiently': ['RB'], 'letter': ['NN'], 'fix': ['NN'], 'date': ['NN'], 'curiosity': ['NN'], 'earnest': ['JJS'], 'research': ['NN'], 'learn': ['NN'], 'hidden': ['VBD'], 'laws': ['NNS'], 'nature': ['NN'], 'resolved': ['VBN', 'VBD'], 'arrive': ['JJ'], 'misfortune': ['NN'], 'life': ['NN'], 'majestic': ['JJ'], 'wondrous': ['JJ'], 'scenes': ['NNS'], 'surrounded': ['VBD'], 'swiss': ['JJ'], 'birth': ['JJ', 'NN'], 'second': ['JJ'], 'son': ['NN'], 'junior': ['JJ'], 'seven': ['CD'], 'years': ['NNS'], 'parents': ['NNS'], 'gave': ['VBD'], 'poor': ['JJ'], 'cousin': ['NN'], 'yet': ['RB'], 'clerval': ['JJ'], 'writes': ['NNS'], 'permit': ['NN'], 'enter': ['NN'], 'profession': ['NN'], 'selected': ['VBD'], 'surprise': ['NN'], 'expected': ['VBD'], 'happy': ['JJ'], 'glad': ['JJ'], 'welcome': ['NN'], 'innocence': ['NN'], 'tremble': ['JJ'], 'gazed': ['VBN'], 'execrated': ['VBD'], 'honourable': ['JJ'], 'manner': ['NN'], 'retreated': ['VBD'], 'toils': ['NNS'], 'anxiety': ['NN'], 'amounted': ['VBD'], 'agony': ['NN'], 'wretched': ['VBN'], 'mockery': ['NN'], 'justice': ['NN'], 'suffered': ['VBD'], 'living': ['JJ'], 'torture': ['NN'], 'passed': ['VBN', 'VBD'], 'paid': ['VBN', 'VBD'], 'visit': ['NN'], 'geneva': ['NN', 'FW'], 'care': ['NN'], 'cloud': ['JJ'], 'benevolent': ['NN'], 'countenance': ['NN'], 'pleased': ['VBD', 'JJ'], 'set': ['NN'], 'shrivelled': ['VBD'], 'complexion': ['NN'], 'straight': ['RB'], 'black': ['JJ'], 'lips': ['NNS'], 'lectures': ['NNS'], 'cultivated': ['VBD'], 'acquaintance': ['NN'], 'men': ['NNS'], 'science': ['NN'], 'merchant': ['NN'], 'boy': ['NN'], 'singular': ['NN'], 'wretchedness': ['NN', 'JJ'], 'father': ['NN', 'RB', 'RBR'], 'loved': ['VBD'], 'beaufort': ['NN'], 'truest': ['NN'], 'friendship': ['NN'], 'student': ['NN'], 'university': ['NN'], 'ingolstadt': ['NN', 'VBP'], 'distinguished': ['VBN'], 'republic': ['JJ'], 'ancestors': ['NNS'], 'entirely': ['RB'], 'wandering': ['VBG'], 'fixed': ['VBN', 'VBD'], 'native': ['JJ'], 'acquainted': ['VBN'], 'theory': ['NN'], 'practice': ['NN'], 'natural': ['JJ'], 'philosophy': ['NN'], 'engaged': ['VBN', 'VBD'], 'heart': ['NN'], 'soul': ['NN'], 'pursuit': ['NN'], 'discoveries': ['NNS', 'VBZ'], 'circumstances': ['NNS'], 'marriage': ['NN'], 'illustrate': ['VBP'], 'character': ['NN'], 'return': ['NN'], 'tempted': ['VBD'], 'write': ['JJ'], 'companion': ['NN'], 'contemplated': ['VBD'], 'satisfied': ['JJ'], 'spirit': ['NN', 'VBP'], 'joy': ['NN'], 'far': ['RB'], 'dreadfully': ['RB'], 'murdered': ['VBN'], 'eastern': ['JJ'], 'shore': ['RB'], 'lake': ['JJ', 'NN'], 'distance': ['NN'], 'ignominious': ['JJ'], 'grave': ['NN'], 'cause': ['NN'], 'thousand': ['CD'], 'times': ['NNS'], 'recovered': ['VBN'], 'look': ['NN'], 'sorrowful': ['JJ'], 'affection': ['NN'], 'attest': ['NN'], 'sake': ['VB'], 'deeply': ['NN', 'RB'], 'read': ['JJ', 'VB'], 'books': ['NNS'], 'chivalry': ['VBP'], 'romance': ['NN'], 'children': ['NNS'], 'said': ['VBD'], 'my': ['PRP$'], 'firmest': ['JJS'], 'hopes': ['VBZ'], 'future': ['JJ'], 'happiness': ['NN'], 'excited': ['VBN'], 'obliterated': ['JJ', 'VBD'], 'minds': ['NNS'], 'spectators': ['NNS'], 'prevented': ['VBN', 'VBD'], 'encountering': ['NN'], 'inconveniences': ['NNS'], 'dangers': ['NNS'], 'appearance': ['NN'], 'justine': ['NN'], 'calm': ['NN'], 'dressed': ['VBD'], 'mourning': ['VBG'], 'comprehensive': ['JJ'], 'sense': ['NN'], 'term': ['NN'], 'nearly': ['RB'], 'sole': ['JJ'], 'occupation': ['NN'], 'customs': ['NNS'], 'country': ['NN'], 'panes': ['NNS'], 'candle': ['VBP'], 'burnt': ['JJ'], 'glimmer': ['NN'], 'brought': ['JJ'], 'year': ['NN'], 'difference': ['NN'], 'modern': ['JJ'], 'inquirers': ['NNS'], 'written': ['VBN'], 'subjects': ['NNS'], 'attended': ['VBD', 'VBN'], 'wretch': ['NN'], 'infinite': ['NN'], 'pains': ['NNS'], 'endeavoured': ['VBD'], 'proud': ['JJ'], 'unbending': ['JJ'], 'disposition': ['NN'], 'bear': ['IN'], 'live': ['JJ'], 'poverty': ['NN', 'VBP'], 'talent': ['NN'], 'fancy': ['NN'], 'enterprise': ['JJ'], 'hardship': ['NN'], 'danger': ['NN'], 'post': ['NN'], 'bring': ['NN'], 'line': ['NN'], 'persuasions': ['NNS'], 'joys': ['NNS'], 'griefs': ['VBP'], 'shall': ['MD'], 'inflict': ['VB'], 'pain': ['NN'], 'long': ['JJ'], 'absent': ['NN'], 'emotions': ['NNS'], 'catastrophe': ['VBP'], 'delineate': ['NN'], 'masquerades': ['NNS'], 'characters': ['NNS'], 'drawn': ['VBP'], 'heroes': ['NNS'], 'brother': ['NN'], 'playing': ['NN'], 'william': ['NN', 'JJ'], 'improvement': ['NN'], 'chemical': ['NN'], 'open': ['JJ'], 'breathed': ['VBD'], 'hard': ['JJ'], 'convulsive': ['JJ'], 'motion': ['NN'], 'agitated': ['VBD'], 'limbs': ['NNS', 'VBZ'], 'behold': ['JJ'], 'contrary': ['JJ'], 'tears': ['NNS'], 'victor': ['NN'], 'ardour': ['NN', 'CD'], 'works': ['NNS'], 'genius': ['VBP'], 'discrimination': ['NN'], 'gone': ['VBN'], 'know': ['JJ', 'NNS'], 'render': ['NN'], 'committed': ['VBN', 'VBD'], 'declaration': ['NN'], 'tranquil': ['JJ'], 'tranquillity': ['NN'], 'evidently': ['RB'], 'constrained': ['VBD'], 'diversity': ['NN'], 'contrast': ['NN'], 'subsisted': ['VBD'], 'drew': ['VBD'], 'sickbed': ['VBN', 'JJ'], 'devolved': ['JJ'], 'mercenary': ['JJ'], 'old': ['JJ'], 'nurse': ['NN'], 'spark': ['NN'], 'lifeless': ['JJ'], 'thing': ['NN'], 'lay': ['VBD'], 'feet': ['NNS'], 'fluctuating': ['VBG'], 'uncertain': ['JJ'], 'gained': ['JJ'], 'strength': ['NN'], 'proceeded': ['VBD'], 'physiognomy': ['NN'], 'manners': ['NNS'], 'account': ['VBP', 'NN'], 'valuable': ['JJ'], 'returning': ['VBG'], 'discovered': ['VBN', 'VBD'], 'ernest': ['NN', 'JJS'], 'happened': ['VBN'], 'protracted': ['VBD'], 'stay': ['NN'], 'seated': ['VBN'], 'tear': ['JJ'], 'dim': ['NN'], 'eye': ['NN'], 'saw': ['VBD'], 'quickly': ['RB'], 'aggravation': ['NN'], 'infamy': ['NN'], 'murder': ['NN'], 'memorable': ['JJ'], 'horror': ['NN'], 'little': ['JJ'], 'worthy': ['JJ'], 'united': ['VBD', 'JJ'], 'lost': ['JJ'], 'time': ['NN'], 'journey': ['NN'], 'regretted': ['VBN'], 'able': ['JJ'], 'capable': ['JJ'], 'intense': ['NN'], 'walk': ['NN'], 'plainpalais': ['NN'], 'evening': ['VBG'], 'warm': ['JJ'], 'serene': ['NN'], 'prolonged': ['VBD'], 'solely': ['RB'], 'wrapped': ['VBD'], 'improved': ['VBN'], 'rapidly': ['RB'], 'end': ['VB'], 'colour': ['NN'], 'dunwhite': ['NN'], 'sockets': ['NNS'], 'league': ['JJ'], 'city': ['NN'], 'resided': ['VBD'], 'principally': ['RB'], 'looks': ['VBZ'], 'medical': ['JJ'], 'attendants': ['NNS'], 'prognosticated': ['VBN'], 'worst': ['CD'], 'event': ['NN'], 'roncesvalles': ['NNS'], 'round': ['VBP', 'JJ'], 'table': ['JJ'], 'king': ['NN'], 'arthur': ['RB'], 'chivalrous': ['JJ'], 'consolation': ['NN'], 'elizabeth': ['VBZ', 'RBR', 'RB'], 'love': ['VBP'], 'supply': ['NN'], 'place': ['NN'], 'occurredan': ['JJ'], 'omen': ['NNS'], 'misery': ['NN'], 'smoothed': ['VBN'], 'path': ['NN'], 'knowledge': ['NN'], 'abstruse': ['NN'], 'joined': ['VBN'], 'hands': ['NNS'], 'alpine': ['NN'], 'summersshe': ['NN'], 'ample': ['JJ'], 'scope': ['NN'], 'admiration': ['NN'], 'delight': ['NN'], 'world': ['NN'], 'credit': ['NN'], 'assistance': ['NN'], 'wish': ['JJ'], 'prepare': ['NN'], 'woeful': ['JJ'], 'news': ['NN'], 'caught': ['VBN'], 'scarlet': ['NN'], 'fever': ['NN', 'RB'], 'illness': ['NN'], 'severe': ['JJ'], 'soon': ['RB'], 'ardent': ['JJ'], 'eager': ['JJ'], 'stars': ['NNS'], 'disappeared': ['VBD'], 'fear': ['NN'], 'idler': ['JJ'], 'yield': ['NN'], 'point': ['NN'], 'considered': ['VBN'], 'ravings': ['NNS'], 'madman': ['NN'], 'guess': ['NN'], 'wishes': ['NNS'], 'minister': ['NN'], 'affairs': ['NNS'], 'variety': ['NN'], 'arrived': ['VBD'], 'oblivion': ['NN'], 'necessary': ['JJ'], 'apprehensions': ['NNS'], 'thought': ['NN', 'VBD'], 'beloved': ['VBN'], 'quit': ['NN'], 'girl': ['NN'], 'merit': ['NN'], 'possessed': ['VBD'], 'qualities': ['NNS'], 'promised': ['VBD'], 'situations': ['NNS'], 'honour': ['VBP'], 'reputation': ['NN'], 'respected': ['VBD'], 'relate': ['NN'], 'absence': ['NN'], 'rendered': ['VBD', 'VBN'], 'callous': ['JJ'], 'scientific': ['JJ'], 'continual': ['JJ'], 'food': ['NN'], 'discovery': ['NN'], 'wonder': ['NN'], 'cruel': ['NN'], 'kindness': ['NN', 'JJ'], 'dare': ['NN'], 'flowing': ['VBG'], 'teeth': ['JJ'], 'pearly': ['RB'], 'whiteness': ['NN'], 'krempe': ['VBZ', 'NN'], 'great': ['JJ'], 'deal': ['NN'], 'sound': ['NN'], 'train': ['NN'], 'shed': ['VBD'], 'blood': ['NN'], 'redeem': ['NN'], 'holy': ['NN'], 'sepulchre': ['NN'], 'morning': ['NN'], 'rain': ['NN'], 'pattered': ['VBD'], 'dismally': ['RB'], 'imagination': ['NN'], 'enormity': ['NN'], 'supposed': ['VBN'], 'lives': ['NNS'], 'considerable': ['JJ'], 'seclusion': ['NN'], 'farther': ['RB'], 'usual': ['JJ'], 'dusk': ['NN'], 'disunion': ['NN'], 'dispute': ['NN'], 'harmony': ['NN'], 'companionship': ['NN'], 'depended': ['JJ'], 'lessons': ['NNS'], 'professors': ['NNS'], 'death': ['NN'], 'indulge': ['NNS'], 'meeting': ['NN'], 'convey': ['NN'], 'horrible': ['JJ'], 'tidings': ['NNS'], 'bitterly': ['RB'], 'deplored': ['VBN'], 'false': ['JJ'], 'pride': ['NN'], 'led': ['VBD'], 'friend': ['NN'], 'conduct': ['NN'], 'engaging': ['VBG'], 'solemnity': ['NN'], 'refrain': ['NN'], 'relating': ['VBG'], 'one': ['CD'], 'intimate': ['NN'], 'friends': ['NNS'], 'application': ['NN', 'VBP'], 'smitten': ['JJ'], 'thirst': ['JJ'], 'run': ['VB'], 'away': ['RP'], 'hide': ['JJ'], 'vainly': ['RB'], 'sought': ['VBD', 'VBN'], 'town': ['NN'], 'incident': ['NN'], 'perform': ['JJ'], 'figure': ['NN'], 'task': ['NN'], 'attending': ['VBG'], 'good': ['JJ'], 'banished': ['VBD'], 'idea': ['NN'], 'pedantry': ['NN'], 'ways': ['NNS'], 'daughter': ['NN'], 'lucerne': ['JJ'], 'lived': ['VBD'], 'unknown': ['JJ'], 'confessed': ['VBN'], 'guilty': ['JJ'], 'crime': ['NN'], 'ascribed': ['VBN'], 'sly': ['RB'], 'smile': ['JJ'], 'cornelius': ['NN'], 'agrippa': ['NN'], 'went': ['VBD'], 'whilst': ['JJ', 'NN'], 'waldman': ['NN', 'JJ'], 'continually': ['RB'], 'attainment': ['NN'], 'object': ['NN'], 'genevese': ['JJ'], 'family': ['NN'], 'sad': ['JJ'], 'hours': ['NNS'], 'oclock': ['VBP'], 'trial': ['NN'], 'chapter': ['NN'], '6': ['CD'], 'lines': ['NNS'], 'merely': ['RB'], 'mentioning': ['VBG'], 'day': ['NN'], 'expect': ['VB'], 'yielded': ['VBN'], 'entreaties': ['NNS'], 'heard': ['VBD'], 'forbidden': ['JJ'], 'writeto': ['NN'], 'hold': ['NN'], 'pen': ['JJ'], 'word': ['NN'], 'watchful': ['JJ'], 'attentions': ['NNS'], 'triumphed': ['VBD'], 'malignity': ['NN'], 'causes': ['NNS'], 'secret': ['NN'], 'desired': ['VBD'], 'divine': ['NN'], 'applied': ['VBN'], 'closely': ['RB'], 'easily': ['RB'], 'conceived': ['VBN'], 'progress': ['NN'], 'presently': ['RB'], 'came': ['VBD'], 'enquired': ['VBN'], 'seen': ['VBN'], 'marrying': ['VBG'], 'early': ['JJ'], 'decline': ['NN'], 'feelings': ['NNS'], 'exquisitely': ['RB'], 'beautiful': ['JJ'], 'appeared': ['VBN'], 'confident': ['NN'], 'nearer': ['NN'], 'calmer': ['NN'], 'concentrated': ['VBD'], 'inquiries': ['NNS'], 'clear': ['VBP'], 'facile': ['JJ'], 'apprehension': ['NN'], 'foreign': ['JJ'], 'service': ['NN'], 'hitherto': ['NN'], 'schools': ['NNS'], 'husband': ['NN'], 'proficiency': ['NN'], 'masters': ['NNS'], 'professor': ['VBP'], 'asked': ['VBD'], 'collected': ['VBN'], 'instruments': ['NNS'], 'infuse': ['NN'], 'confusion': ['NN'], 'adduced': ['VBD'], 'proof': ['NN'], 'guilt': ['NN'], 'expressed': ['VBN'], 'heartfelt': ['NN'], 'exultation': ['NN'], 'two': ['CD'], 'sickened': ['VBN'], 'accompanied': ['VBN'], 'alarming': ['NN'], 'symptoms': ['NNS'], 'work': ['NN'], 'muscles': ['NNS'], 'arteries': ['NNS'], 'beneath': ['VBP'], 'hair': ['NN'], 'lustrous': ['JJ'], 'dreary': ['JJ'], 'night': ['NN'], 'november': ['NNP'], 'beheld': ['VBD'], 'accomplishment': ['NN'], 'grieved': ['VBN'], 'retreat': ['NN'], 'unfortunate': ['JJ'], 'favourite': ['RB'], 'menaced': ['VBN'], 'longer': ['JJR', 'RBR'], 'control': ['NN'], 'house': ['NN'], 'campagne': ['NN'], 'belrive': ['NN'], 'remark': ['NN'], 'sixteen': ['NN'], 'infidels': ['NNS'], 'fellow': ['JJ'], 'beings': ['NNS'], 'smiling': ['VBG'], 'babe': ['NN'], 'intelligence': ['NN'], 'handwriting': ['VBG'], 'infallibly': ['RB'], 'study': ['NN', 'VBP'], 'form': ['NN'], 'proportion': ['NN'], 'features': ['NNS'], 'enticements': ['NNS'], 'studies': ['NNS'], 'younger': ['JJR'], 'alas': ['VBP'], 'regret': ['NN'], 'taken': ['VBN'], 'indifferent': ['NN'], 'schoolfellows': ['VBZ'], 'general': ['JJ'], 'thousands': ['NNS'], 'beauty': ['NN'], 'luxuriances': ['NNS'], 'formed': ['VBD'], 'horrid': ['JJ'], 'watery': ['NN'], 'eyes': ['NNS'], 'business': ['NN'], 'days': ['NNS'], 'perpetually': ['RB'], 'occupied': ['VBD'], 'hoped': ['VBD'], 'none': ['NN'], 'experienced': ['VBD'], 'conceive': ['JJ'], 'commence': ['NN'], 'rest': ['NN'], 'obliged': ['VBD'], 'attend': ['NN'], 'attained': ['VBN'], 'age': ['NN'], 'seventeen': ['JJ'], 'spent': ['VBN'], 'air': ['NN'], 'climbing': ['VBG'], 'hills': ['NNS'], 'rowing': ['VBG'], 'worked': ['VBN'], 'mind': ['NN'], 'courage': ['NN'], 'entered': ['VBD'], 'halfextinguished': ['VBN'], 'light': ['NN', 'JJ'], 'dull': ['JJ'], 'yellow': ['JJ'], 'creature': ['NN'], 'gladness': ['NN'], 'akin': ['JJ'], 'rapture': ['NN'], 'unfolded': ['VBD'], 'exculpated': ['VBN'], 'god': ['NN'], 'skin': ['NN'], 'scarcely': ['RB'], 'covered': ['VBD'], 'imprudence': ['NN'], 'fatal': ['JJ'], 'preserver': ['RB'], 'mother': ['NN'], 'particularly': ['RB'], 'chemistry': ['NN'], 'completion': ['NN'], 'education': ['NN'], 'persuade': ['NN'], 'placed': ['VBN'], 'prospect': ['JJ'], 'union': ['NN'], 'expectation': ['NN'], 'flourishing': ['VBG'], 'state': ['NN'], 'fell': ['VBD'], 'numerous': ['JJ'], 'true': ['JJ'], 'gentleness': ['NN'], 'tinged': ['VBD'], 'tempest': ['JJS'], 'silence': ['NN'], 'winter': ['NN'], 'turbulence': ['NN'], 'moderate': ['JJ'], 'capacity': ['NN'], 'pursues': ['VBZ'], 'bonds': ['NNS'], 'closest': ['JJS'], 'henry': ['NN'], 'last': ['JJ'], 'thursday': ['NN'], 'may': ['MD'], '7th': ['VB'], 'niece': ['NN'], 'brothers': ['NNS'], 'thoughts': ['NNS'], 'befitting': ['VBG'], 'endeavour': ['JJ'], 'resign': ['NN'], 'cheerfully': ['RB'], 'greatest': ['JJS'], 'arguments': ['NNS'], 'urged': ['VBD'], 'temper': ['NN'], 'avoid': ['NN'], 'crowd': ['NN'], 'attach': ['VBP'], 'fervently': ['RB'], 'real': ['JJ'], 'information': ['NN'], 'combined': ['VBN'], 'repulsive': ['NN'], 'knew': ['JJ'], 'integrity': ['NN'], 'indefatigable': ['JJ'], 'attention': ['NN'], 'public': ['NN'], 'laboratory': ['NN'], 'asks': ['NNS'], 'assured': ['VBD'], 'getting': ['VBG'], 'better': ['JJR'], 'eagerly': ['RB'], 'confirm': ['NN'], 'residence': ['NN'], 'conducive': ['JJ'], 'improvements': ['NNS'], 'decided': ['VBD'], 'result': ['NN'], 'lawless': ['NN'], 'devices': ['NNS'], 'dogmatism': ['NN'], 'instructions': ['NNS'], 'given': ['VBN'], 'frankness': ['NN'], 'earliest': ['JJS'], 'sensations': ['NNS'], 'remember': ['VB'], 'elder': ['NN'], 'returns': ['NNS'], 'uncle': ['VBP', 'JJ'], 'procured': ['VBD'], 'esteem': ['JJ'], 'dearly': ['RB'], 'fathers': ['NNS'], 'health': ['NN'], 'vigorous': ['JJ'], 'accordingly': ['RB'], 'rested': ['VBN'], 'seat': ['NN'], 'utter': ['JJ'], 'guiltlessness': ['NN'], 'court': ['NN'], 'threw': ['VBD'], 'home': ['NN'], 'the': ['DT'], 'sublime': ['JJ'], 'shapes': ['NNS'], 'mountains': ['NNS'], 'changes': ['NNS'], 'seasons': ['NNS'], 'get': ['NN'], 'welland': ['WRB'], 'cheerful': ['JJ'], 'powers': ['NNS'], 'odious': ['JJ'], 'fetter': ['NN'], 'busied': ['VBN'], 'following': ['VBG'], 'aerial': ['JJ'], 'creations': ['NNS'], 'poets': ['NNS'], 'military': ['JJ'], 'career': ['NN'], 'distant': ['JJ'], 'impossible': ['JJ'], 'skims': ['NNS'], 'page': ['VBP'], 'words': ['NNS'], 'activity': ['NN'], 'desirous': ['JJ'], 'composed': ['VBN'], 'heroic': ['JJ'], 'songs': ['NNS'], 'began': ['VBD'], 'tale': ['NN'], 'enchantment': ['NN'], 'deathbed': ['VBN'], 'fortitude': ['JJ'], 'benignity': ['NN'], 'best': ['JJS'], 'women': ['NNS'], 'desert': ['NN'], 'magnificent': ['JJ'], 'appearances': ['NNS'], 'things': ['NNS'], 'delighted': ['VBD'], 'investigating': ['VBG'], 'rank': ['NN'], 'magnificence': ['NN'], 'debts': ['NNS'], 'rapid': ['JJ'], 'astonishment': ['NN'], 'students': ['NNS'], 'knightly': ['RB'], 'adventure': ['NN'], 'tried': ['VBN'], 'act': ['NN'], 'plays': ['VBZ'], 'distemperelizabeth': ['NNS'], 'saved': ['VBD'], 'consequences': ['NNS'], 'ages': ['NNS'], 'need': ['VBP'], 'strangers': ['NNS'], 'species': ['NNS'], 'departure': ['NN'], 'witnesses': ['NNS'], 'counsellors': ['NNS'], 'syndics': ['VBP'], 'filled': ['VBN'], 'mischances': ['NNS'], 'man': ['NN'], 'restrained': ['VBN'], 'undertaking': ['VBG'], 'kind': ['NN'], 'sufficient': ['JJ'], 'reassure': ['NN']}"
     ]
    },
    {
     "name": "stdout",
     "output_type": "stream",
     "text": [
      "\n"
     ]
    }
   ],
   "source": [
    "#Calculating the possible tags for each word\n",
    "#Note: Here we have used the whole data(Train+Test)\n",
    "#Reason: There may be some words which are not present in train data but are present in test data \n",
    "tags_of_tokens = {}\n",
    "count=0\n",
    "for s in train_data:\n",
    "  for (w,t) in s:\n",
    "    w=w.lower()\n",
    "    try:\n",
    "      if t not in tags_of_tokens[w]:\n",
    "        tags_of_tokens[w].append(t)\n",
    "    except:\n",
    "      l = []\n",
    "      l.append(t)\n",
    "      tags_of_tokens[w] = l\n",
    "        \n",
    "for s in test_data:\n",
    "  for (w,t) in s:\n",
    "    w=w.lower()\n",
    "    try:\n",
    "      if t not in tags_of_tokens[w]:\n",
    "        tags_of_tokens[w].append(t)\n",
    "    except:\n",
    "      l = []\n",
    "      l.append(t)\n",
    "      tags_of_tokens[w] = l\n",
    "\n",
    "print(tags_of_tokens)"
   ]
  },
  {
   "cell_type": "code",
   "execution_count": 17,
   "metadata": {},
   "outputs": [],
   "source": [
    "#Dividing the test data into test words and test tags\n",
    "test_words=[]\n",
    "test_tags=[]\n",
    "for s in test_data:\n",
    "  temp_word=[]\n",
    "  temp_tag=[]\n",
    "  for (w,t) in s:\n",
    "    temp_word.append(w.lower())\n",
    "    temp_tag.append(t)\n",
    "  test_words.append(temp_word)\n",
    "  test_tags.append(temp_tag)"
   ]
  },
  {
   "cell_type": "code",
   "execution_count": 18,
   "metadata": {},
   "outputs": [],
   "source": [
    "#Executing the Viterbi Algorithm\n",
    "predicted_tags = []                #intializing the predicted tags\n",
    "for x in range(len(test_words)):   # for each tokenized sentence in the test data\n",
    "  s = test_words[x]\n",
    "  #storing_values is a dictionary which stores the required values\n",
    "  #ex: storing_values = {step_no.:{state1:[previous_best_state,value_of_the_state]}}                \n",
    "  storing_values = {}              \n",
    "  for q in range(len(s)):\n",
    "    step = s[q]\n",
    "    #for the starting word of the sentence\n",
    "    if q == 1:                \n",
    "      storing_values[q] = {}\n",
    "      tags = tags_of_tokens[step]\n",
    "      for t in tags:\n",
    "        #this is applied since we do not know whether the word in the test data is present in train data or not\n",
    "        try:\n",
    "          storing_values[q][t] = ['##',bigram_tag_prob['##'][t]*train_emission_prob[t][step]]\n",
    "        #if word is not present in the train data but present in test data we assign a very low probability of 0.0001\n",
    "        except:\n",
    "          storing_values[q][t] = ['##',0.0001]#*train_emission_prob[t][step]]\n",
    "    \n",
    "    #if the word is not at the start of the sentence\n",
    "    if q>1:\n",
    "      storing_values[q] = {}\n",
    "      previous_states = list(storing_values[q-1].keys())   # loading the previous states\n",
    "      current_states  = tags_of_tokens[step]               # loading the current states\n",
    "      #calculation of the best previous state for each current state and then storing\n",
    "      #it in storing_values\n",
    "      for t in current_states:                             \n",
    "        temp = []\n",
    "        for pt in previous_states:                         \n",
    "          try:\n",
    "            temp.append(storing_values[q-1][pt][1]*bigram_tag_prob[pt][t]*train_emission_prob[t][step])\n",
    "          except:\n",
    "            temp.append(storing_values[q-1][pt][1]*0.0001)\n",
    "        max_temp_index = temp.index(max(temp))\n",
    "        best_pt = previous_states[max_temp_index]\n",
    "        storing_values[q][t]=[best_pt,max(temp)]\n",
    "\n",
    "  #Backtracing to extract the best possible tags for the sentence\n",
    "  pred_tags = []\n",
    "  total_steps_num = storing_values.keys()\n",
    "  last_step_num = max(total_steps_num)\n",
    "  for bs in range(len(total_steps_num)):\n",
    "    step_num = last_step_num - bs\n",
    "    if step_num == last_step_num:\n",
    "      pred_tags.append('&&')\n",
    "      pred_tags.append(storing_values[step_num]['&&'][0])\n",
    "    if step_num<last_step_num and step_num>0:\n",
    "      pred_tags.append(storing_values[step_num][pred_tags[len(pred_tags)-1]][0])\n",
    "  predicted_tags.append(list(reversed(pred_tags)))"
   ]
  },
  {
   "cell_type": "code",
   "execution_count": 19,
   "metadata": {},
   "outputs": [
    {
     "name": "stdout",
     "output_type": "stream",
     "text": [
      "Accuracy on the test data is:  0.9379084967320261\n",
      "Loss on the test data is:  0.06209150326797386\n",
      "Classification report and F1 score\n",
      "\n",
      "              precision    recall  f1-score   support\n",
      "\n",
      "          ##       1.00      1.00      1.00        44\n",
      "          &&       1.00      1.00      1.00        44\n",
      "          CD       0.00      0.00      0.00         1\n",
      "          DT       1.00      1.00      1.00         1\n",
      "          JJ       0.94      0.89      0.91        36\n",
      "         JJR       0.50      1.00      0.67         1\n",
      "         JJS       1.00      0.83      0.91         6\n",
      "          MD       1.00      1.00      1.00         1\n",
      "          NN       0.89      0.99      0.94        77\n",
      "         NNS       1.00      1.00      1.00        37\n",
      "          RB       1.00      0.89      0.94         9\n",
      "         RBR       0.00      0.00      0.00         1\n",
      "          VB       1.00      1.00      1.00         2\n",
      "         VBD       0.91      0.71      0.80        14\n",
      "         VBG       1.00      1.00      1.00         5\n",
      "         VBN       0.75      1.00      0.86        12\n",
      "         VBP       0.71      0.45      0.56        11\n",
      "         VBZ       1.00      1.00      1.00         3\n",
      "         WRB       1.00      1.00      1.00         1\n",
      "\n",
      "    accuracy                           0.94       306\n",
      "   macro avg       0.83      0.83      0.82       306\n",
      "weighted avg       0.93      0.94      0.93       306\n",
      "\n"
     ]
    }
   ],
   "source": [
    "#Calculating the accuracy based on tagging each word in the test data.\n",
    "right = 0 \n",
    "wrong = 0\n",
    "total_data_points = 0\n",
    "for i in range(len(test_tags)):\n",
    "  gt = test_tags[i]\n",
    "  total_data_points = total_data_points + len(gt)\n",
    "  pred = predicted_tags[i]\n",
    "  for h in range(len(gt)):\n",
    "    if gt[h] == pred[h]:\n",
    "      right = right+1\n",
    "    else:\n",
    "      wrong = wrong +1 \n",
    "print('Accuracy on the test data is: ',right/(right+wrong))\n",
    "print('Loss on the test data is: ',wrong/(right+wrong))\n",
    "\n",
    "#print(test_tags)\n",
    "#print(\"\\n\\n\\n\\n\",predicted_tags)\n",
    "\n",
    "\n",
    "### Flatten test tags and pred tags ###\n",
    "\n",
    "ypred = []\n",
    "ytest = []\n",
    "for tags in test_tags:\n",
    "    for tag in tags:\n",
    "        ytest.append(tag)\n",
    "    \n",
    "for tags in predicted_tags:\n",
    "    for tag in tags:\n",
    "        ypred.append(tag)\n",
    "        \n",
    "## print the classification report which will have the F1 score ##\n",
    "\n",
    "print(\"Classification report and F1 score\\n\")\n",
    "print(classification_report(ytest, ypred))"
   ]
  },
  {
   "cell_type": "markdown",
   "metadata": {},
   "source": [
    "#    Topic Modelling        \n",
    "\n",
    "10) Using the LDA algorithm create the Topics (10) for the Corpus             (3 Marks)\n",
    "\n",
    "11) List down the 10 words in each of the Topics Extracted.           (2 Marks)"
   ]
  },
  {
   "cell_type": "code",
   "execution_count": 20,
   "metadata": {},
   "outputs": [
    {
     "name": "stdout",
     "output_type": "stream",
     "text": [
      "['situations', 'honour', 'reputation', 'respected']\n"
     ]
    }
   ],
   "source": [
    "## Create the word corpus ##\n",
    "tagged_text = []\n",
    "for index , row in sentence_duplicate.iterrows():\n",
    "      \n",
    "    # Word tokenizers is used to find the words \n",
    "    # and punctuation in a string\n",
    "    wordsList = nltk.word_tokenize(row[\"sentences\"])\n",
    "  \n",
    "    #  Using a Tagger. Which is part-of-speech \n",
    "    # tagger or POS-tagger. \n",
    "    tagged_text.extend([wordsList])\n",
    "\n",
    "print(tagged_text[:4][3][:100])"
   ]
  },
  {
   "cell_type": "code",
   "execution_count": 21,
   "metadata": {},
   "outputs": [
    {
     "name": "stdout",
     "output_type": "stream",
     "text": [
      "[(0, 1), (1, 1), (2, 1)]\n"
     ]
    }
   ],
   "source": [
    "## Create the dictionary ##\n",
    "\n",
    "\n",
    "# Create Dictionary\n",
    "id2word = corpora.Dictionary(tagged_text)\n",
    "# Create Corpus\n",
    "texts = tagged_text\n",
    "# Term Document Frequency\n",
    "corpus = [id2word.doc2bow(text) for text in texts]\n",
    "# View\n",
    "print(corpus[:1][0][:30])"
   ]
  },
  {
   "cell_type": "code",
   "execution_count": 22,
   "metadata": {},
   "outputs": [
    {
     "name": "stdout",
     "output_type": "stream",
     "text": [
      "[(0,\n",
      "  '0.013*\"calm\" + 0.013*\"thought\" + 0.013*\"father\" + 0.013*\"prevented\" + '\n",
      "  '0.007*\"apprehensions\" + 0.007*\"dangers\" + 0.007*\"term\" + 0.007*\"given\" + '\n",
      "  '0.007*\"countenance\" + 0.007*\"care\"'),\n",
      " (1,\n",
      "  '0.012*\"ingolstadt\" + 0.012*\"geneva\" + 0.012*\"country\" + 0.012*\"world\" + '\n",
      "  '0.006*\"happy\" + 0.006*\"house\" + 0.006*\"parents\" + 0.006*\"proportion\" + '\n",
      "  '0.006*\"passed\" + 0.006*\"campagne\"'),\n",
      " (2,\n",
      "  '0.010*\"beautiful\" + 0.005*\"date\" + 0.005*\"began\" + 0.005*\"spark\" + '\n",
      "  '0.005*\"letter\" + 0.005*\"sly\" + 0.005*\"impossible\" + 0.005*\"scarcely\" + '\n",
      "  '0.005*\"great\" + 0.005*\"unknown\"'),\n",
      " (3,\n",
      "  '0.016*\"life\" + 0.011*\"day\" + 0.011*\"father\" + 0.011*\"early\" + '\n",
      "  '0.006*\"thursday\" + 0.006*\"persuading\" + 0.006*\"vigorous\" + 0.006*\"account\" '\n",
      "  '+ 0.006*\"home\" + 0.006*\"7th\"'),\n",
      " (4,\n",
      "  '0.011*\"natural\" + 0.011*\"philosophy\" + 0.011*\"soul\" + 0.006*\"hidden\" + '\n",
      "  '0.006*\"holy\" + 0.006*\"away\" + 0.006*\"laws\" + 0.006*\"harmony\" + '\n",
      "  '0.006*\"father\" + 0.006*\"hard\"'),\n",
      " (5,\n",
      "  '0.011*\"care\" + 0.011*\"black\" + 0.006*\"better\" + 0.006*\"joys\" + '\n",
      "  '0.006*\"exquisitely\" + 0.006*\"aerial\" + 0.006*\"clear\" + 0.006*\"set\" + '\n",
      "  '0.006*\"minister\" + 0.006*\"living\"'),\n",
      " (6,\n",
      "  '0.016*\"ernest\" + 0.011*\"friends\" + 0.011*\"life\" + 0.011*\"returning\" + '\n",
      "  '0.011*\"native\" + 0.006*\"younger\" + 0.006*\"air\" + 0.006*\"perpetually\" + '\n",
      "  '0.006*\"longer\" + 0.006*\"refrain\"'),\n",
      " (7,\n",
      "  '0.011*\"study\" + 0.011*\"years\" + 0.011*\"ill\" + 0.011*\"long\" + 0.006*\"looks\" '\n",
      "  '+ 0.006*\"light\" + 0.006*\"letters\" + 0.006*\"desert\" + 0.006*\"tears\" + '\n",
      "  '0.006*\"improvement\"'),\n",
      " (8,\n",
      "  '0.010*\"true\" + 0.010*\"justine\" + 0.010*\"enter\" + 0.010*\"admiration\" + '\n",
      "  '0.010*\"son\" + 0.010*\"great\" + 0.005*\"hopes\" + 0.005*\"morning\" + '\n",
      "  '0.005*\"fever\" + 0.005*\"mountains\"'),\n",
      " (9,\n",
      "  '0.011*\"friendship\" + 0.006*\"writeto\" + 0.006*\"passed\" + 0.006*\"act\" + '\n",
      "  '0.006*\"pedantry\" + 0.006*\"pen\" + 0.006*\"contrast\" + 0.006*\"friend\" + '\n",
      "  '0.006*\"plays\" + 0.006*\"pride\"')]\n"
     ]
    }
   ],
   "source": [
    "## Print number of topics and 10 words in each topic ##\n",
    "num_topics = 10\n",
    "# Build LDA model\n",
    "lda_model = gensim.models.LdaMulticore(corpus=corpus,\n",
    "                                       id2word=id2word,\n",
    "                                       num_topics=num_topics)\n",
    "# Print the top 10 Keyword in the 10 topics\n",
    "pprint(lda_model.print_topics())\n",
    "doc_lda = lda_model[corpus]"
   ]
  },
  {
   "cell_type": "code",
   "execution_count": 23,
   "metadata": {},
   "outputs": [
    {
     "data": {
      "text/html": [
       "\n",
       "<link rel=\"stylesheet\" type=\"text/css\" href=\"https://cdn.jsdelivr.net/gh/bmabey/pyLDAvis@3.3.1/pyLDAvis/js/ldavis.v1.0.0.css\">\n",
       "\n",
       "\n",
       "<div id=\"ldavis_el1632024120131411924227242323\"></div>\n",
       "<script type=\"text/javascript\">\n",
       "\n",
       "var ldavis_el1632024120131411924227242323_data = {\"mdsDat\": {\"x\": [-0.1477179221579316, -0.03241536111805856, 0.11224887206225882, 0.04444566613712876, 0.017561248462805084, -0.0536515034988374, 0.030765382822554716, 0.0049445338382601645, 0.005274009804700911, 0.018545073647119752], \"y\": [0.0023498282413617925, -0.02634853530203573, 0.06648882656455173, 0.0397003987237156, -0.11488349979674266, 0.0943929181090526, -0.10025019366112878, -0.011325804801455673, 0.03298086502932341, 0.016895196893357552], \"topics\": [1, 2, 3, 4, 5, 6, 7, 8, 9, 10], \"cluster\": [1, 1, 1, 1, 1, 1, 1, 1, 1, 1], \"Freq\": [11.652913550679953, 10.909355288969182, 10.739123773901543, 10.260724294358274, 10.211486112670112, 10.07499339324867, 9.93842360688706, 9.692558500104344, 8.715252437180528, 7.805169042000334]}, \"tinfo\": {\"Term\": [\"life\", \"ernest\", \"father\", \"thought\", \"calm\", \"country\", \"long\", \"geneva\", \"ingolstadt\", \"world\", \"prevented\", \"years\", \"care\", \"native\", \"day\", \"justine\", \"friends\", \"son\", \"study\", \"beautiful\", \"natural\", \"philosophy\", \"soul\", \"ill\", \"great\", \"true\", \"enter\", \"friendship\", \"early\", \"returning\", \"admiration\", \"hopes\", \"mountains\", \"unbending\", \"dim\", \"infallibly\", \"tear\", \"qualities\", \"summersshe\", \"seasons\", \"welcome\", \"live\", \"glad\", \"expected\", \"alpine\", \"bear\", \"singular\", \"turbulence\", \"scarlet\", \"diversity\", \"happiness\", \"boy\", \"tempest\", \"sublime\", \"changes\", \"merit\", \"confessed\", \"seated\", \"silence\", \"imprudence\", \"completion\", \"justine\", \"true\", \"enter\", \"son\", \"great\", \"morning\", \"fever\", \"illness\", \"study\", \"spirit\", \"clerval\", \"my\", \"far\", \"began\", \"letter\", \"scarcely\", \"sly\", \"impossible\", \"spark\", \"unknown\", \"enchantment\", \"urged\", \"composed\", \"probably\", \"smile\", \"covered\", \"easily\", \"continually\", \"impatiently\", \"lucerne\", \"fix\", \"scenes\", \"arteries\", \"skin\", \"abstruse\", \"lifeless\", \"eager\", \"object\", \"heroic\", \"returns\", \"little\", \"work\", \"hair\", \"feet\", \"beautiful\", \"date\", \"great\", \"pleased\", \"united\", \"went\", \"elizabeth\", \"danger\", \"waldman\", \"affection\", \"black\", \"joys\", \"better\", \"exquisitely\", \"aerial\", \"set\", \"shall\", \"clear\", \"minister\", \"living\", \"wretched\", \"attentions\", \"pain\", \"endeavoured\", \"yield\", \"griefs\", \"persuade\", \"end\", \"distant\", \"idler\", \"justice\", \"wretch\", \"watchful\", \"murder\", \"fear\", \"lips\", \"secret\", \"whiteness\", \"feelings\", \"mockery\", \"care\", \"infamy\", \"beautiful\", \"suffered\", \"ernest\", \"hope\", \"point\", \"mother\", \"attending\", \"returning\", \"ernest\", \"perpetually\", \"city\", \"climbing\", \"sound\", \"warm\", \"intimate\", \"food\", \"plainpalais\", \"menaced\", \"remark\", \"lectures\", \"enquired\", \"thirst\", \"wonder\", \"recovered\", \"spent\", \"discovery\", \"satisfied\", \"hills\", \"favourite\", \"attest\", \"presently\", \"entirely\", \"continual\", \"incident\", \"render\", \"valuable\", \"companion\", \"native\", \"friends\", \"life\", \"look\", \"younger\", \"air\", \"longer\", \"refrain\", \"university\", \"time\", \"anxiety\", \"great\", \"fixed\", \"friendship\", \"writeto\", \"pen\", \"pride\", \"pedantry\", \"act\", \"plays\", \"roncesvalles\", \"adventure\", \"formed\", \"ways\", \"attention\", \"led\", \"table\", \"two\", \"fluctuating\", \"banished\", \"books\", \"chivalrous\", \"heartfelt\", \"temper\", \"befitting\", \"night\", \"conduct\", \"expressed\", \"good\", \"avoid\", \"king\", \"romance\", \"attach\", \"uncertain\", \"student\", \"masters\", \"passed\", \"contrast\", \"friend\", \"victor\", \"william\", \"idea\", \"nature\", \"beaufort\", \"early\", \"thursday\", \"vigorous\", \"persuading\", \"7th\", \"schools\", \"fathers\", \"niece\", \"may\", \"mentioning\", \"kind\", \"burnt\", \"get\", \"sickened\", \"prognosticated\", \"hitherto\", \"entreaties\", \"students\", \"endeavouring\", \"welland\", \"health\", \"attendants\", \"medical\", \"glimmer\", \"begin\", \"brothers\", \"last\", \"sufficient\", \"combined\", \"merely\", \"life\", \"day\", \"father\", \"account\", \"home\", \"geneva\", \"friends\", \"nearly\", \"fever\", \"looks\", \"passed\", \"attended\", \"ill\", \"letters\", \"desert\", \"tears\", \"junior\", \"creature\", \"best\", \"fetter\", \"powers\", \"fancy\", \"talent\", \"pursues\", \"benignity\", \"gave\", \"nurse\", \"grieved\", \"ignominious\", \"dull\", \"flourishing\", \"rank\", \"moderate\", \"halfextinguished\", \"enterprise\", \"fell\", \"threw\", \"contrary\", \"times\", \"seven\", \"old\", \"unfolded\", \"study\", \"able\", \"long\", \"years\", \"rapture\", \"looks\", \"light\", \"improvement\", \"eye\", \"closely\", \"merchant\", \"birth\", \"round\", \"distinguished\", \"natural\", \"philosophy\", \"soul\", \"hidden\", \"holy\", \"laws\", \"away\", \"train\", \"breathed\", \"harmony\", \"investigating\", \"earnest\", \"appearances\", \"redeem\", \"learn\", \"consolation\", \"man\", \"run\", \"republic\", \"babe\", \"engaging\", \"species\", \"beings\", \"shed\", \"place\", \"practice\", \"need\", \"agitated\", \"magnificent\", \"disunion\", \"tremble\", \"strangers\", \"father\", \"hard\", \"sought\", \"return\", \"cause\", \"curiosity\", \"rendered\", \"elizabeth\", \"death\", \"house\", \"proportion\", \"campagne\", \"belrive\", \"wish\", \"discrimination\", \"meeting\", \"age\", \"genius\", \"cousin\", \"visit\", \"writes\", \"indulge\", \"attained\", \"news\", \"callous\", \"prepare\", \"alas\", \"perform\", \"professors\", \"woeful\", \"regret\", \"respected\", \"marriage\", \"character\", \"illustrate\", \"customs\", \"poor\", \"accordingly\", \"lessons\", \"ingolstadt\", \"world\", \"geneva\", \"country\", \"happy\", \"parents\", \"passed\", \"younger\", \"paid\", \"children\", \"uncle\", \"journey\", \"clerval\", \"native\", \"instruments\", \"prevented\", \"apprehensions\", \"dangers\", \"term\", \"given\", \"mourning\", \"benevolent\", \"commence\", \"result\", \"conducive\", \"devices\", \"affairs\", \"syndics\", \"instructions\", \"obliged\", \"rest\", \"toils\", \"comprehensive\", \"filled\", \"dogmatism\", \"decided\", \"sole\", \"occupation\", \"cloud\", \"improvements\", \"year\", \"variety\", \"adduced\", \"stay\", \"lawless\", \"calm\", \"thought\", \"father\", \"countenance\", \"care\", \"appearance\", \"sense\", \"long\", \"family\", \"nearly\", \"country\", \"time\"], \"Freq\": [4.0, 2.0, 3.0, 2.0, 2.0, 3.0, 2.0, 2.0, 2.0, 2.0, 1.0, 2.0, 2.0, 2.0, 2.0, 2.0, 2.0, 2.0, 2.0, 2.0, 1.0, 1.0, 1.0, 1.0, 2.0, 2.0, 2.0, 1.0, 1.0, 1.0, 1.2397147107232775, 0.6494429873341453, 0.6494287265549223, 0.6494257242856123, 0.6494250891901813, 0.6494259552294054, 0.6494233571117332, 0.6494201816345783, 0.6494217405051816, 0.6494144657756995, 0.6494169484214751, 0.649415216343027, 0.6494161401181994, 0.6494144657756995, 0.6494147544554408, 0.6494155050227683, 0.6494129069050961, 0.6494134265286305, 0.6494110016188032, 0.6494131378488892, 0.6494043042488038, 0.6494083457651827, 0.6494060363272519, 0.649402225754666, 0.6494002627324248, 0.6494020525468212, 0.6494026299063039, 0.6493976646147526, 0.6493977800866492, 0.6494018216030281, 0.6494090963325102, 1.2397468119105162, 1.2398284505413715, 1.239744040584999, 1.239690115209314, 1.2396864201086248, 0.6494404469524214, 0.6494371560033699, 0.6494247427744917, 0.6494227797522505, 0.6494181031404406, 0.6494161978541476, 0.6494158514384579, 0.649413715208372, 0.6352142148236237, 0.6352107555028218, 0.6352081069603328, 0.6352095123094086, 0.6352088636867583, 0.6352110257622594, 0.6352053503140689, 0.6351995667621032, 0.6352023234083672, 0.6351957831299762, 0.6351951885592133, 0.6351960533894138, 0.6351908644082109, 0.6351952966629884, 0.6351968641677267, 0.6351898914742353, 0.6351954047667634, 0.6351876753468466, 0.6351926481204994, 0.6351889185402598, 0.6351830268845191, 0.6351943237290129, 0.6351909184600985, 0.6351878915543968, 0.6351913508751986, 0.6351844862854824, 0.6351833511958442, 0.6351815674835558, 0.6351793513561671, 0.6351780541108664, 0.6351833511958442, 1.2126262059532626, 0.6352162147434623, 0.6352074583376826, 0.6351994046064406, 0.6351957831299762, 0.6351948642478881, 0.6351943777809004, 0.6351943237290129, 0.6351922697572867, 0.6351918373421864, 1.2144263096965475, 0.636185369953285, 0.6361887220857791, 0.6361852103279281, 0.6361822306545999, 0.6361753135558024, 0.6361691945837892, 0.6361754731811593, 0.6361747814712795, 0.6361703651697396, 0.6361652039498675, 0.6361672790795068, 0.6361626499441577, 0.6361684496654572, 0.6361662681189133, 0.6361596170623772, 0.6361644590315355, 0.6361620646511825, 0.6361605216060662, 0.6361591381863066, 0.6361579676003563, 0.6361564245552399, 0.6361541365917915, 0.6361548283016712, 0.6361528595889365, 0.6361484432873966, 0.6361536045072687, 0.6361516890029862, 0.6361505716254882, 0.6361472194929939, 1.214478560396695, 0.6361489221634672, 0.6361691945837892, 0.6361686624992663, 0.6361675451217682, 0.6361652571583198, 0.6361596170623772, 0.6361574887242857, 0.6361564245552399, 1.1816257896084819, 1.7444269616536663, 0.6190022969215582, 0.618999602499244, 0.6189888756481445, 0.6189830800982613, 0.6189825717166926, 0.6189842493758693, 0.6189815549535552, 0.6189806907048884, 0.618983944346928, 0.6189847069192812, 0.6189771320339075, 0.6189777929299468, 0.6189781996352018, 0.6189735225247698, 0.6189776404154762, 0.6189728107905735, 0.6189738783918678, 0.6189809448956728, 0.6189682861946122, 0.6189735733629266, 0.6189733191721423, 0.618968337032769, 0.6189702180445732, 0.6189678794893572, 0.6189678794893572, 0.6189759627562995, 0.6189727599524167, 0.6189739800681816, 1.1815734263069058, 1.1817016401385319, 1.1816339237135811, 0.6189699638537889, 0.6190179042357172, 0.6190121595239909, 0.6190009242913227, 0.6189999583663421, 0.618989485706027, 0.6189847069192812, 0.6189837409943006, 0.6189829784219476, 0.6189810974101434, 1.1882005274241239, 0.6224407057999825, 0.622437063017612, 0.6224349886554289, 0.6224373665828096, 0.6224382266842026, 0.6224352416264268, 0.6224327119164474, 0.6224329648874454, 0.6224308905252622, 0.6224274501196903, 0.622432762510647, 0.6224261346705009, 0.6224266406124969, 0.6224285125978816, 0.6224302833948672, 0.6224240603083178, 0.6224227954533281, 0.6224220871345338, 0.6224222389171327, 0.6224223906997314, 0.6224220365403342, 0.6224214294099392, 0.622415914642184, 0.6224165217725791, 0.62241272720761, 0.6224184443521635, 0.6224143968161964, 0.6224133849322047, 0.6224141438451984, 0.6224167241493774, 0.6224218847577355, 0.6224152063233899, 0.6224385808435997, 0.6224369618292129, 0.6224368100466141, 0.6224315482498569, 0.6224297774528713, 0.6224293726992746, 0.6224246168445133, 0.6224244650619145, 1.1722976754580003, 0.6141268878251178, 0.6141188011208129, 0.6141207978379252, 0.6141121620364143, 0.614109616222096, 0.6141090172069623, 0.6141052234444488, 0.6141067209822831, 0.6141111636778581, 0.6141081186842617, 0.6141072201615612, 0.6141074198332724, 0.6141109640061468, 0.614104424757604, 0.6140988339496893, 0.6141071203257056, 0.6141059222954381, 0.6141027774659862, 0.6140959387098764, 0.6140962382174433, 0.6140939919106919, 0.6140939919106919, 0.6140959387098764, 0.6140975860014941, 0.6140912963425902, 0.6140892497075501, 0.6140940418286197, 0.6140914960143015, 0.6140916956860127, 1.7305872677590672, 1.1723972118060506, 1.1723044642961822, 0.614116405060278, 0.614113010641187, 0.6141117127750639, 0.6141048241010264, 0.6141040254141814, 0.6141037758245425, 0.6141017291895022, 0.6141011301743685, 0.6141002316516679, 1.17481122084107, 0.6154128653892792, 0.6154114373923276, 0.6154095169826342, 0.6154033125820862, 0.615402967893167, 0.6154018353438606, 0.6154012444485703, 0.6154012444485703, 0.6154001611405381, 0.6153963695624255, 0.6153944983940063, 0.6153957786671351, 0.6153879985458132, 0.6153955324607643, 0.615394202946361, 0.6153947938416514, 0.615387161444152, 0.6153914946762806, 0.6153870629616035, 0.6153837145549587, 0.6153822373167329, 0.6153825820056522, 0.615386127377394, 0.6153782487735235, 0.6153795782879267, 0.6153826312469264, 0.6153709610649434, 0.6153786919449912, 0.6153813017325233, 1.1748654847252273, 0.615380464630862, 1.174773403542492, 1.1748249099152948, 0.6153817941452652, 0.6154222704726494, 0.615415179729166, 0.6154074488491182, 0.6154000626579897, 0.6153987331435866, 0.6153939074987159, 0.6153927257081354, 0.6153918393652, 0.6153893773014905, 1.1580388786184, 1.1580362853708914, 1.1580191891465752, 0.6066176917348896, 0.6066083272299972, 0.6066030927118781, 0.6066052537514686, 0.6065953129693522, 0.6065954570386581, 0.6066003073719614, 0.6065955050617602, 0.6065926236756395, 0.6065955050617602, 0.6065893581047027, 0.6065876772961323, 0.6065892140353967, 0.6065938722762918, 0.6065875812499283, 0.6065898863588248, 0.6065831631245432, 0.6065884456657645, 0.6065882055502545, 0.6065789370915662, 0.6065753353589154, 0.606578024652628, 0.6065798975536064, 0.6065832111476452, 0.6065716375800605, 0.6065755274513234, 0.6065761037285475, 0.6065805218539326, 0.6065772562829959, 0.606598818655799, 0.6065980983092688, 0.6065941604149039, 0.6065936801838837, 0.6065934880914757, 0.6065926236756395, 0.6065921914677214, 0.6065899824050289, 0.6065861885799699, 0.574835144554365, 0.5748297469411233, 0.5748211971217485, 0.574814417719517, 0.5748101428098296, 0.5748127336641856, 0.5748137700059279, 0.5748095814580524, 0.5748109200661363, 0.5748081564881566, 0.574810488257077, 0.5748086746590279, 0.574806558794637, 0.5748042270257167, 0.5747958931108715, 0.5748024566085734, 0.5747994339451581, 0.5747958499299656, 0.5748047883774938, 0.5748038815784692, 0.5747957203872478, 0.5747932158947037, 0.5747993044024403, 0.5747996498496878, 0.5747983976034157, 0.5747960658344953, 0.5747958499299656, 0.5747814275073838, 0.5747911432112188, 0.5747856160552594, 1.0973898708680079, 1.0973105907247143, 1.0973598169574783, 1.0973176723932874, 0.5748436080119279, 0.5748347559262116, 0.5748256879359656, 0.5748192108000756, 0.5748182608201451, 0.5748120859505965, 0.5748106609807008, 0.5748092360108049, 0.5748066883373549, 0.5748041838448108, 0.5748039247593751, 1.063220941348871, 0.5569844522702717, 0.5569811651695052, 0.5569746683115196, 0.556974474952651, 0.5569701823857677, 0.5569663152083952, 0.5569660445059792, 0.5569660445059792, 0.5569675527051544, 0.5569578847617235, 0.5569597023350885, 0.5569581167923658, 0.5569570339827016, 0.5569535921948401, 0.5569520066521174, 0.5569568406238329, 0.5569497250174678, 0.5569542496149934, 0.5569510011860006, 0.5569503437658473, 0.5569462445578326, 0.5569466312755699, 0.5569484488489348, 0.5569473273674969, 0.5569547910198256, 0.556946476588475, 0.556946051198964, 0.5569518519650225, 0.5569399023869419, 1.063328062162086, 1.0632678888821716, 1.063265723262843, 0.5569708011341472, 0.5569704530881837, 0.5569692155914245, 0.5569680167664391, 0.5569680167664391, 0.5569665859108113, 0.556963260138271, 0.5569597023350885, 0.5569567246085118], \"Total\": [4.0, 2.0, 3.0, 2.0, 2.0, 3.0, 2.0, 2.0, 2.0, 2.0, 1.0, 2.0, 2.0, 2.0, 2.0, 2.0, 2.0, 2.0, 2.0, 2.0, 1.0, 1.0, 1.0, 1.0, 2.0, 2.0, 2.0, 1.0, 1.0, 1.0, 1.7381096899829018, 1.1477917120805865, 1.147779385505922, 1.1477797688671216, 1.147779135235883, 1.1477818454314401, 1.1477784530094133, 1.1477739506142395, 1.1477768115896922, 1.1477685397009476, 1.1477731071779338, 1.1477703332495197, 1.1477724490557635, 1.1477698661722298, 1.1477709159445226, 1.147773225754328, 1.1477696556573798, 1.1477715730063875, 1.1477675325999157, 1.147773275826062, 1.1477586593215796, 1.1477660971328958, 1.1477646074397356, 1.147757996494911, 1.1477573541323585, 1.1477612853772203, 1.1477631537593371, 1.1477567460634972, 1.1477572272476737, 1.1477649320009198, 1.1477781846239088, 2.2444582264730197, 2.2964654131775903, 2.3039707382271506, 2.8200727069499876, 2.878255158499379, 1.7252336214946122, 1.706076381960038, 1.7251633009382212, 2.266718316403442, 1.71044221633067, 1.6703351276477232, 1.7060250530536198, 1.706052430449003, 1.1348590475350993, 1.1348553052898864, 1.1348517813985954, 1.1348546054079658, 1.134856874873442, 1.1348608092680643, 1.1348552555672342, 1.1348465535517864, 1.1348524039609398, 1.1348425829411044, 1.1348419855296143, 1.134844227398951, 1.1348360993890723, 1.1348462251370803, 1.1348497329660328, 1.1348380234919173, 1.134847898244614, 1.1348347547639994, 1.1348447858052957, 1.1348397283335792, 1.1348292979639893, 1.1348507741654168, 1.1348448822093318, 1.1348400669361962, 1.1348465221383304, 1.1348342889804135, 1.1348341284510033, 1.134833018352771, 1.1348307270539513, 1.1348289644227645, 1.1348391237621507, 2.2906308672566467, 1.6931164801810956, 2.878255158499379, 1.641159417732786, 1.7131674980545217, 1.6931066471880454, 2.834940204149307, 1.6942886561321289, 1.7252181033790595, 2.27585305465354, 1.7140210215560971, 1.1357400667998394, 1.1357482729752308, 1.1357430546984817, 1.1357424143615165, 1.135736064761316, 1.1357266313928638, 1.1357390241322711, 1.1357382794040873, 1.1357324590841185, 1.1357255268893127, 1.1357292354406716, 1.1357219592943806, 1.1357327874698129, 1.1357292443536033, 1.1357199667041753, 1.1357307914364756, 1.135727065408188, 1.1357256869791608, 1.13572452935207, 1.1357226461307388, 1.1357216596912572, 1.1357190073038463, 1.1357215868549693, 1.1357192763691029, 1.1357116041584459, 1.1357212668213554, 1.1357181880113019, 1.135716196753569, 1.13571093002932, 2.220415123753346, 1.135716392845483, 2.2906308672566467, 1.7014889011744136, 2.823934436055841, 2.216529244585694, 1.6871582696396015, 1.7260869814317834, 1.6582798682675084, 1.6827894781568264, 2.823934436055841, 1.1201210806934154, 1.1201277309347188, 1.120108805173673, 1.1201053203913958, 1.120105559801836, 1.1201087878301814, 1.1201043833651625, 1.1201041667703502, 1.1201110906495932, 1.1201137935306917, 1.120103192972998, 1.1201047817036422, 1.1201056765448, 1.1200973087239605, 1.1201059638999098, 1.120097329410886, 1.12009956511312, 1.1201124832862082, 1.120089840451797, 1.1201024211135495, 1.120101973513769, 1.1200936892800806, 1.1200985984350675, 1.1200948830395705, 1.120094958999112, 1.1201103495021763, 1.120104948816152, 1.120107270254641, 2.2053117251774665, 2.2411349882312233, 4.470513091024665, 1.1201019600980007, 1.6427069982767561, 1.6264511719801265, 1.6264513235098899, 1.698426787602146, 2.2373844178303415, 2.763251749150768, 1.6264213566888424, 2.878255158499379, 1.6783694375175604, 1.6890534092091476, 1.1232464991838433, 1.1232416350577565, 1.1232394066840927, 1.1232448427157509, 1.123246459475314, 1.1232446502022213, 1.1232418004884925, 1.1232426053032096, 1.1232400419815218, 1.1232356905364955, 1.1232453409323215, 1.1232334877919583, 1.123235970842397, 1.1232397398234448, 1.1232434867882233, 1.1232328070438444, 1.1232338888299152, 1.1232346275503067, 1.1232351036530879, 1.1232367340632212, 1.123236770774772, 1.1232358408352041, 1.1232266960190096, 1.1232286289891755, 1.123222621600652, 1.1232335175833754, 1.1232264983704445, 1.1232266212340938, 1.1232286832801803, 1.1232341298458284, 1.1232455972615898, 1.1232318556230085, 2.766782964113524, 1.7136135707817381, 1.7136146982025586, 1.6826710603331234, 1.6859422164956546, 1.7006669274407828, 1.6746724055403532, 1.674671712303248, 1.6739156343600687, 1.11568857620576, 1.115682963579962, 1.1156890002221331, 1.1156754378497065, 1.1156769613794606, 1.1156760986618586, 1.1156694572006396, 1.1156725823764846, 1.115681449268522, 1.1156768351776392, 1.1156755549963486, 1.1156759688528743, 1.1156827078022475, 1.1156716914895815, 1.1156668255111881, 1.1156824616895227, 1.1156805934841791, 1.1156755972072723, 1.1156636588064421, 1.115664804917513, 1.1156614812849714, 1.115663298737945, 1.1156683763987543, 1.1156715717098715, 1.1156609380637468, 1.1156585520071607, 1.1156675548189154, 1.115665929072734, 1.1156667182838846, 4.470513091024665, 2.8157420108761233, 3.8038527301886056, 1.6783995551187194, 1.7060137047334372, 2.7511777932994073, 2.2411349882312233, 1.6220128268216085, 1.706076381960038, 1.675149401118917, 2.766782964113524, 2.2454181819067203, 1.676287705228395, 1.1168598314246738, 1.1168580827907393, 1.1168579680617134, 1.1168472878381408, 1.1168502983740523, 1.11684995908853, 1.1168495231170728, 1.1168495411940111, 1.1168488123727172, 1.1168451055030615, 1.1168446801824765, 1.1168472871800337, 1.1168337001945183, 1.1168476049005513, 1.1168462755390374, 1.1168476250904482, 1.1168351387113755, 1.1168439197199764, 1.1168395736750332, 1.116833873569025, 1.1168320555100153, 1.116833854845377, 1.1168410824619193, 1.1168315834608178, 1.1168348342696217, 1.1168404458334746, 1.1168201156924753, 1.1168347889385308, 1.1168403401030385, 2.266718316403442, 1.116838935471807, 2.7609287641038947, 2.793552899418235, 1.1168436063823206, 1.675149401118917, 1.7072178167578902, 1.6795398291750907, 2.28463105224516, 1.6942717808241952, 1.707168370963071, 1.6951200493232044, 1.6826824964558251, 1.6682920444481961, 1.660313325301868, 1.660312525232879, 1.6602991244079783, 1.1088619397570543, 1.1088524461503146, 1.1088486364729886, 1.1088563871957045, 1.108841351056339, 1.1088429051882542, 1.108853134244325, 1.1088455799712091, 1.1088409669678692, 1.1088484865669748, 1.1088378041307199, 1.1088371085115318, 1.1088405142702318, 1.108850787476997, 1.1088411145507686, 1.1088462629854858, 1.1088351416815538, 1.1088461391726447, 1.1088464621729548, 1.1088310074539116, 1.1088276423258996, 1.1088332284089362, 1.1088373587265303, 1.108843608988776, 1.1088228805274782, 1.108830912501521, 1.1088324613279872, 1.1088416543811708, 1.1088386223958946, 3.8038527301886056, 1.6871653358288925, 1.686254134249402, 2.7892373659415166, 1.6682684949689597, 1.6151695707127791, 1.6313900121268492, 2.834940204149307, 1.63137173215477, 1.0799701393463905, 1.0799702891898668, 1.0799603243235953, 1.079954346127013, 1.0799485673792422, 1.0799556057644817, 1.0799578857494967, 1.079952937656025, 1.079956016391889, 1.0799512625053052, 1.0799560787061822, 1.0799543513189185, 1.0799518553297782, 1.0799510931132774, 1.0799362549977862, 1.0799487014233344, 1.0799434676965225, 1.0799378391864065, 1.0799554398162574, 1.0799545293081076, 1.0799394141859142, 1.0799390735269543, 1.0799507517514544, 1.0799529467453668, 1.0799527364115358, 1.0799485391441028, 1.0799500175644219, 1.0799312127781682, 1.0799498527857498, 1.0799396658865907, 2.168384713372083, 2.1807902485355544, 2.7511777932994073, 3.264534813633327, 2.7912243188034624, 2.205238989765729, 2.766782964113524, 1.6427069982767561, 1.6394149223842136, 1.6703169459616198, 1.6573804792873787, 1.6393948649833625, 1.6703351276477232, 2.2053117251774665, 1.6703187359616205, 1.570037096144671, 1.0637441591953456, 1.0637465597926483, 1.063734491440486, 1.0637386119643428, 1.0637351130576769, 1.0637304383587391, 1.0637310644066758, 1.0637326781617988, 1.0637361773877423, 1.063723985377253, 1.063727768754688, 1.063726710742059, 1.0637250553384923, 1.0637196061402876, 1.063718008638355, 1.0637289115088153, 1.0637157428353632, 1.06372469793836, 1.0637196516560365, 1.0637190320237546, 1.0637112279286993, 1.063715324648966, 1.0637195236847798, 1.0637183689055145, 1.0637334296517937, 1.0637181582142632, 1.0637202091713491, 1.0637322463774144, 1.0637112304647494, 2.1604746251248725, 2.705761709381644, 3.8038527301886056, 1.615166886296882, 2.220415123753346, 1.61379194027768, 1.6264224941575, 2.7609287641038947, 2.2003145955668515, 1.6220128268216085, 3.264534813633327, 2.763251749150768], \"Category\": [\"Default\", \"Default\", \"Default\", \"Default\", \"Default\", \"Default\", \"Default\", \"Default\", \"Default\", \"Default\", \"Default\", \"Default\", \"Default\", \"Default\", \"Default\", \"Default\", \"Default\", \"Default\", \"Default\", \"Default\", \"Default\", \"Default\", \"Default\", \"Default\", \"Default\", \"Default\", \"Default\", \"Default\", \"Default\", \"Default\", \"Topic1\", \"Topic1\", \"Topic1\", \"Topic1\", \"Topic1\", \"Topic1\", \"Topic1\", \"Topic1\", \"Topic1\", \"Topic1\", \"Topic1\", \"Topic1\", \"Topic1\", \"Topic1\", \"Topic1\", \"Topic1\", \"Topic1\", \"Topic1\", \"Topic1\", \"Topic1\", \"Topic1\", \"Topic1\", \"Topic1\", \"Topic1\", \"Topic1\", \"Topic1\", \"Topic1\", \"Topic1\", \"Topic1\", \"Topic1\", \"Topic1\", \"Topic1\", \"Topic1\", \"Topic1\", \"Topic1\", \"Topic1\", \"Topic1\", \"Topic1\", \"Topic1\", \"Topic1\", \"Topic1\", \"Topic1\", \"Topic1\", \"Topic1\", \"Topic2\", \"Topic2\", \"Topic2\", \"Topic2\", \"Topic2\", \"Topic2\", \"Topic2\", \"Topic2\", \"Topic2\", \"Topic2\", \"Topic2\", \"Topic2\", \"Topic2\", \"Topic2\", \"Topic2\", \"Topic2\", \"Topic2\", \"Topic2\", \"Topic2\", \"Topic2\", \"Topic2\", \"Topic2\", \"Topic2\", \"Topic2\", \"Topic2\", \"Topic2\", \"Topic2\", \"Topic2\", \"Topic2\", \"Topic2\", \"Topic2\", \"Topic2\", \"Topic2\", \"Topic2\", \"Topic2\", \"Topic2\", \"Topic2\", \"Topic2\", \"Topic2\", \"Topic2\", \"Topic2\", \"Topic3\", \"Topic3\", \"Topic3\", \"Topic3\", \"Topic3\", \"Topic3\", \"Topic3\", \"Topic3\", \"Topic3\", \"Topic3\", \"Topic3\", \"Topic3\", \"Topic3\", \"Topic3\", \"Topic3\", \"Topic3\", \"Topic3\", \"Topic3\", \"Topic3\", \"Topic3\", \"Topic3\", \"Topic3\", \"Topic3\", \"Topic3\", \"Topic3\", \"Topic3\", \"Topic3\", \"Topic3\", \"Topic3\", \"Topic3\", \"Topic3\", \"Topic3\", \"Topic3\", \"Topic3\", \"Topic3\", \"Topic3\", \"Topic3\", \"Topic3\", \"Topic3\", \"Topic4\", \"Topic4\", \"Topic4\", \"Topic4\", \"Topic4\", \"Topic4\", \"Topic4\", \"Topic4\", \"Topic4\", \"Topic4\", \"Topic4\", \"Topic4\", \"Topic4\", \"Topic4\", \"Topic4\", \"Topic4\", \"Topic4\", \"Topic4\", \"Topic4\", \"Topic4\", \"Topic4\", \"Topic4\", \"Topic4\", \"Topic4\", \"Topic4\", \"Topic4\", \"Topic4\", \"Topic4\", \"Topic4\", \"Topic4\", \"Topic4\", \"Topic4\", \"Topic4\", \"Topic4\", \"Topic4\", \"Topic4\", \"Topic4\", \"Topic4\", \"Topic4\", \"Topic4\", \"Topic4\", \"Topic4\", \"Topic4\", \"Topic5\", \"Topic5\", \"Topic5\", \"Topic5\", \"Topic5\", \"Topic5\", \"Topic5\", \"Topic5\", \"Topic5\", \"Topic5\", \"Topic5\", \"Topic5\", \"Topic5\", \"Topic5\", \"Topic5\", \"Topic5\", \"Topic5\", \"Topic5\", \"Topic5\", \"Topic5\", \"Topic5\", \"Topic5\", \"Topic5\", \"Topic5\", \"Topic5\", \"Topic5\", \"Topic5\", \"Topic5\", \"Topic5\", \"Topic5\", \"Topic5\", \"Topic5\", \"Topic5\", \"Topic5\", \"Topic5\", \"Topic5\", \"Topic5\", \"Topic5\", \"Topic5\", \"Topic5\", \"Topic5\", \"Topic6\", \"Topic6\", \"Topic6\", \"Topic6\", \"Topic6\", \"Topic6\", \"Topic6\", \"Topic6\", \"Topic6\", \"Topic6\", \"Topic6\", \"Topic6\", \"Topic6\", \"Topic6\", \"Topic6\", \"Topic6\", \"Topic6\", \"Topic6\", \"Topic6\", \"Topic6\", \"Topic6\", \"Topic6\", \"Topic6\", \"Topic6\", \"Topic6\", \"Topic6\", \"Topic6\", \"Topic6\", \"Topic6\", \"Topic6\", \"Topic6\", \"Topic6\", \"Topic6\", \"Topic6\", \"Topic6\", \"Topic6\", \"Topic6\", \"Topic6\", \"Topic6\", \"Topic6\", \"Topic6\", \"Topic6\", \"Topic7\", \"Topic7\", \"Topic7\", \"Topic7\", \"Topic7\", \"Topic7\", \"Topic7\", \"Topic7\", \"Topic7\", \"Topic7\", \"Topic7\", \"Topic7\", \"Topic7\", \"Topic7\", \"Topic7\", \"Topic7\", \"Topic7\", \"Topic7\", \"Topic7\", \"Topic7\", \"Topic7\", \"Topic7\", \"Topic7\", \"Topic7\", \"Topic7\", \"Topic7\", \"Topic7\", \"Topic7\", \"Topic7\", \"Topic7\", \"Topic7\", \"Topic7\", \"Topic7\", \"Topic7\", \"Topic7\", \"Topic7\", \"Topic7\", \"Topic7\", \"Topic7\", \"Topic7\", \"Topic7\", \"Topic7\", \"Topic7\", \"Topic7\", \"Topic8\", \"Topic8\", \"Topic8\", \"Topic8\", \"Topic8\", \"Topic8\", \"Topic8\", \"Topic8\", \"Topic8\", \"Topic8\", \"Topic8\", \"Topic8\", \"Topic8\", \"Topic8\", \"Topic8\", \"Topic8\", \"Topic8\", \"Topic8\", \"Topic8\", \"Topic8\", \"Topic8\", \"Topic8\", \"Topic8\", \"Topic8\", \"Topic8\", \"Topic8\", \"Topic8\", \"Topic8\", \"Topic8\", \"Topic8\", \"Topic8\", \"Topic8\", \"Topic8\", \"Topic8\", \"Topic8\", \"Topic8\", \"Topic8\", \"Topic8\", \"Topic8\", \"Topic8\", \"Topic8\", \"Topic9\", \"Topic9\", \"Topic9\", \"Topic9\", \"Topic9\", \"Topic9\", \"Topic9\", \"Topic9\", \"Topic9\", \"Topic9\", \"Topic9\", \"Topic9\", \"Topic9\", \"Topic9\", \"Topic9\", \"Topic9\", \"Topic9\", \"Topic9\", \"Topic9\", \"Topic9\", \"Topic9\", \"Topic9\", \"Topic9\", \"Topic9\", \"Topic9\", \"Topic9\", \"Topic9\", \"Topic9\", \"Topic9\", \"Topic9\", \"Topic9\", \"Topic9\", \"Topic9\", \"Topic9\", \"Topic9\", \"Topic9\", \"Topic9\", \"Topic9\", \"Topic9\", \"Topic9\", \"Topic9\", \"Topic9\", \"Topic9\", \"Topic9\", \"Topic9\", \"Topic10\", \"Topic10\", \"Topic10\", \"Topic10\", \"Topic10\", \"Topic10\", \"Topic10\", \"Topic10\", \"Topic10\", \"Topic10\", \"Topic10\", \"Topic10\", \"Topic10\", \"Topic10\", \"Topic10\", \"Topic10\", \"Topic10\", \"Topic10\", \"Topic10\", \"Topic10\", \"Topic10\", \"Topic10\", \"Topic10\", \"Topic10\", \"Topic10\", \"Topic10\", \"Topic10\", \"Topic10\", \"Topic10\", \"Topic10\", \"Topic10\", \"Topic10\", \"Topic10\", \"Topic10\", \"Topic10\", \"Topic10\", \"Topic10\", \"Topic10\", \"Topic10\", \"Topic10\", \"Topic10\", \"Topic10\"], \"logprob\": [30.0, 29.0, 28.0, 27.0, 26.0, 25.0, 24.0, 23.0, 22.0, 21.0, 20.0, 19.0, 18.0, 17.0, 16.0, 15.0, 14.0, 13.0, 12.0, 11.0, 10.0, 9.0, 8.0, 7.0, 6.0, 5.0, 4.0, 3.0, 2.0, 1.0, -4.6053, -5.2518, -5.2518, -5.2518, -5.2518, -5.2518, -5.2518, -5.2519, -5.2518, -5.2519, -5.2519, -5.2519, -5.2519, -5.2519, -5.2519, -5.2519, -5.2519, -5.2519, -5.2519, -5.2519, -5.2519, -5.2519, -5.2519, -5.2519, -5.2519, -5.2519, -5.2519, -5.2519, -5.2519, -5.2519, -5.2519, -4.6053, -4.6052, -4.6053, -4.6053, -4.6053, -5.2518, -5.2518, -5.2518, -5.2518, -5.2519, -5.2519, -5.2519, -5.2519, -5.208, -5.208, -5.208, -5.208, -5.208, -5.208, -5.208, -5.2081, -5.2081, -5.2081, -5.2081, -5.2081, -5.2081, -5.2081, -5.2081, -5.2081, -5.2081, -5.2081, -5.2081, -5.2081, -5.2081, -5.2081, -5.2081, -5.2081, -5.2081, -5.2081, -5.2081, -5.2081, -5.2081, -5.2081, -5.2081, -4.5615, -5.208, -5.208, -5.2081, -5.2081, -5.2081, -5.2081, -5.2081, -5.2081, -5.2081, -4.5442, -5.1908, -5.1908, -5.1908, -5.1908, -5.1908, -5.1908, -5.1908, -5.1908, -5.1908, -5.1908, -5.1908, -5.1908, -5.1908, -5.1908, -5.1908, -5.1908, -5.1908, -5.1908, -5.1908, -5.1908, -5.1908, -5.1908, -5.1908, -5.1908, -5.1908, -5.1908, -5.1908, -5.1908, -5.1908, -4.5442, -5.1908, -5.1908, -5.1908, -5.1908, -5.1908, -5.1908, -5.1908, -5.1908, -4.5261, -4.1365, -5.1726, -5.1726, -5.1726, -5.1726, -5.1726, -5.1726, -5.1726, -5.1726, -5.1726, -5.1726, -5.1726, -5.1726, -5.1726, -5.1726, -5.1726, -5.1726, -5.1726, -5.1726, -5.1726, -5.1726, -5.1726, -5.1726, -5.1726, -5.1726, -5.1726, -5.1726, -5.1726, -5.1726, -4.5261, -4.526, -4.526, -5.1726, -5.1726, -5.1726, -5.1726, -5.1726, -5.1726, -5.1726, -5.1726, -5.1726, -5.1726, -4.5157, -5.1622, -5.1622, -5.1622, -5.1622, -5.1622, -5.1622, -5.1623, -5.1623, -5.1623, -5.1623, -5.1623, -5.1623, -5.1623, -5.1623, -5.1623, -5.1623, -5.1623, -5.1623, -5.1623, -5.1623, -5.1623, -5.1623, -5.1623, -5.1623, -5.1623, -5.1623, -5.1623, -5.1623, -5.1623, -5.1623, -5.1623, -5.1623, -5.1622, -5.1622, -5.1622, -5.1623, -5.1623, -5.1623, -5.1623, -5.1623, -4.5157, -5.1622, -5.1622, -5.1622, -5.1623, -5.1623, -5.1623, -5.1623, -5.1623, -5.1623, -5.1623, -5.1623, -5.1623, -5.1623, -5.1623, -5.1623, -5.1623, -5.1623, -5.1623, -5.1623, -5.1623, -5.1623, -5.1623, -5.1623, -5.1623, -5.1623, -5.1623, -5.1623, -5.1623, -5.1623, -4.1262, -4.5156, -4.5157, -5.1622, -5.1623, -5.1623, -5.1623, -5.1623, -5.1623, -5.1623, -5.1623, -5.1623, -4.4999, -5.1465, -5.1465, -5.1465, -5.1465, -5.1465, -5.1465, -5.1465, -5.1465, -5.1465, -5.1465, -5.1465, -5.1465, -5.1465, -5.1465, -5.1465, -5.1465, -5.1465, -5.1465, -5.1465, -5.1465, -5.1465, -5.1465, -5.1465, -5.1465, -5.1465, -5.1465, -5.1466, -5.1465, -5.1465, -4.4999, -5.1465, -4.5, -4.4999, -5.1465, -5.1465, -5.1465, -5.1465, -5.1465, -5.1465, -5.1465, -5.1465, -5.1465, -5.1465, -4.4893, -4.4893, -4.4893, -5.1358, -5.1359, -5.1359, -5.1359, -5.1359, -5.1359, -5.1359, -5.1359, -5.1359, -5.1359, -5.1359, -5.1359, -5.1359, -5.1359, -5.1359, -5.1359, -5.1359, -5.1359, -5.1359, -5.1359, -5.1359, -5.1359, -5.1359, -5.1359, -5.1359, -5.1359, -5.1359, -5.1359, -5.1359, -5.1359, -5.1359, -5.1359, -5.1359, -5.1359, -5.1359, -5.1359, -5.1359, -5.1359, -5.0834, -5.0834, -5.0834, -5.0834, -5.0834, -5.0834, -5.0834, -5.0834, -5.0834, -5.0834, -5.0834, -5.0834, -5.0834, -5.0834, -5.0834, -5.0834, -5.0834, -5.0834, -5.0834, -5.0834, -5.0834, -5.0834, -5.0834, -5.0834, -5.0834, -5.0834, -5.0834, -5.0835, -5.0834, -5.0835, -4.4368, -4.4368, -4.4368, -4.4368, -5.0834, -5.0834, -5.0834, -5.0834, -5.0834, -5.0834, -5.0834, -5.0834, -5.0834, -5.0834, -5.0834, -4.3581, -5.0046, -5.0046, -5.0046, -5.0046, -5.0047, -5.0047, -5.0047, -5.0047, -5.0047, -5.0047, -5.0047, -5.0047, -5.0047, -5.0047, -5.0047, -5.0047, -5.0047, -5.0047, -5.0047, -5.0047, -5.0047, -5.0047, -5.0047, -5.0047, -5.0047, -5.0047, -5.0047, -5.0047, -5.0047, -4.358, -4.3581, -4.3581, -5.0046, -5.0046, -5.0047, -5.0047, -5.0047, -5.0047, -5.0047, -5.0047, -5.0047], \"loglift\": [30.0, 29.0, 28.0, 27.0, 26.0, 25.0, 24.0, 23.0, 22.0, 21.0, 20.0, 19.0, 18.0, 17.0, 16.0, 15.0, 14.0, 13.0, 12.0, 11.0, 10.0, 9.0, 8.0, 7.0, 6.0, 5.0, 4.0, 3.0, 2.0, 1.0, 1.8117, 1.5801, 1.5801, 1.5801, 1.5801, 1.5801, 1.5801, 1.5801, 1.5801, 1.5801, 1.5801, 1.5801, 1.5801, 1.5801, 1.5801, 1.5801, 1.5801, 1.5801, 1.5801, 1.5801, 1.5801, 1.5801, 1.5801, 1.5801, 1.5801, 1.5801, 1.5801, 1.5801, 1.5801, 1.5801, 1.5801, 1.5561, 1.5332, 1.5299, 1.3277, 1.3073, 1.1726, 1.1838, 1.1726, 0.8996, 1.1812, 1.2049, 1.1838, 1.1837, 1.6352, 1.6352, 1.6352, 1.6352, 1.6352, 1.6352, 1.6352, 1.6352, 1.6352, 1.6352, 1.6352, 1.6352, 1.6352, 1.6352, 1.6352, 1.6352, 1.6352, 1.6352, 1.6352, 1.6352, 1.6352, 1.6352, 1.6352, 1.6352, 1.6352, 1.6352, 1.6352, 1.6352, 1.6352, 1.6352, 1.6352, 1.5795, 1.2352, 0.7046, 1.2663, 1.2234, 1.2352, 0.7197, 1.2345, 1.2164, 0.9394, 1.8867, 1.6517, 1.6517, 1.6517, 1.6517, 1.6517, 1.6517, 1.6517, 1.6517, 1.6517, 1.6517, 1.6517, 1.6517, 1.6517, 1.6517, 1.6517, 1.6517, 1.6517, 1.6517, 1.6517, 1.6517, 1.6517, 1.6517, 1.6517, 1.6517, 1.6517, 1.6517, 1.6517, 1.6517, 1.6517, 1.6279, 1.6517, 0.9502, 1.2475, 0.7409, 0.983, 1.2559, 1.2331, 1.2732, 1.9233, 1.7951, 1.6838, 1.6838, 1.6838, 1.6837, 1.6837, 1.6837, 1.6837, 1.6837, 1.6837, 1.6837, 1.6837, 1.6837, 1.6837, 1.6837, 1.6837, 1.6837, 1.6837, 1.6837, 1.6837, 1.6837, 1.6837, 1.6837, 1.6837, 1.6837, 1.6837, 1.6837, 1.6837, 1.6837, 1.6528, 1.6368, 0.9462, 1.6837, 1.3009, 1.3108, 1.3108, 1.2675, 0.9919, 0.7808, 1.3108, 0.74, 1.2793, 1.9299, 1.6913, 1.6913, 1.6913, 1.6913, 1.6913, 1.6913, 1.6913, 1.6913, 1.6913, 1.6913, 1.6913, 1.6913, 1.6913, 1.6913, 1.6913, 1.6913, 1.6913, 1.6913, 1.6913, 1.6913, 1.6913, 1.6913, 1.6913, 1.6913, 1.6913, 1.6913, 1.6913, 1.6913, 1.6913, 1.6913, 1.6913, 1.6913, 0.7899, 1.2689, 1.2689, 1.2872, 1.2852, 1.2765, 1.2919, 1.2919, 1.9389, 1.6981, 1.6981, 1.6981, 1.6981, 1.6981, 1.6981, 1.6981, 1.6981, 1.6981, 1.6981, 1.6981, 1.6981, 1.6981, 1.6981, 1.6981, 1.6981, 1.6981, 1.6981, 1.6981, 1.6981, 1.6981, 1.6981, 1.6981, 1.6981, 1.6981, 1.6981, 1.6981, 1.6981, 1.6981, 1.3461, 1.4189, 1.1181, 1.2897, 1.2734, 0.7955, 1.0005, 1.3239, 1.2733, 1.2916, 0.7898, 0.9986, 1.9533, 1.7128, 1.7128, 1.7128, 1.7128, 1.7128, 1.7128, 1.7128, 1.7128, 1.7128, 1.7128, 1.7128, 1.7128, 1.7128, 1.7128, 1.7128, 1.7128, 1.7128, 1.7128, 1.7128, 1.7128, 1.7128, 1.7128, 1.7128, 1.7127, 1.7127, 1.7127, 1.7127, 1.7127, 1.7127, 1.6516, 1.7127, 1.4543, 1.4426, 1.7127, 1.3074, 1.2884, 1.3048, 0.9971, 1.296, 1.2884, 1.2955, 1.3029, 1.3115, 1.9735, 1.9735, 1.9735, 1.7306, 1.7306, 1.7306, 1.7306, 1.7306, 1.7306, 1.7306, 1.7306, 1.7306, 1.7306, 1.7306, 1.7306, 1.7306, 1.7306, 1.7306, 1.7306, 1.7306, 1.7306, 1.7306, 1.7306, 1.7306, 1.7306, 1.7306, 1.7306, 1.7306, 1.7306, 1.7306, 1.7306, 1.7306, 0.4979, 1.3109, 1.3114, 0.8081, 1.3221, 1.3545, 1.3445, 0.7919, 1.3445, 1.8095, 1.8095, 1.8095, 1.8095, 1.8095, 1.8095, 1.8095, 1.8095, 1.8095, 1.8095, 1.8095, 1.8095, 1.8095, 1.8095, 1.8095, 1.8095, 1.8095, 1.8095, 1.8095, 1.8095, 1.8095, 1.8094, 1.8094, 1.8094, 1.8094, 1.8094, 1.8094, 1.8094, 1.8094, 1.8094, 1.759, 1.7533, 1.521, 1.3498, 0.86, 1.0956, 0.8687, 1.3901, 1.3921, 1.3734, 1.3811, 1.3921, 1.3733, 1.0955, 1.3734, 2.1606, 1.9034, 1.9034, 1.9034, 1.9034, 1.9034, 1.9034, 1.9034, 1.9033, 1.9033, 1.9033, 1.9033, 1.9033, 1.9033, 1.9033, 1.9033, 1.9033, 1.9033, 1.9033, 1.9033, 1.9033, 1.9033, 1.9033, 1.9033, 1.9033, 1.9033, 1.9033, 1.9033, 1.9033, 1.9033, 1.8415, 1.6163, 1.2757, 1.4857, 1.1674, 1.4866, 1.4788, 0.9496, 1.1765, 1.4815, 0.782, 0.9487]}, \"token.table\": {\"Topic\": [6, 7, 2, 9, 4, 6, 5, 10, 1, 5, 3, 10, 2, 3, 4, 9, 8, 4, 10, 9, 1, 4, 10, 10, 8, 10, 2, 5, 9, 6, 3, 6, 8, 3, 9, 5, 3, 4, 5, 8, 8, 5, 1, 5, 8, 2, 3, 5, 2, 6, 8, 9, 10, 7, 7, 3, 3, 7, 3, 5, 1, 8, 6, 6, 9, 1, 10, 9, 3, 10, 7, 8, 1, 9, 1, 9, 5, 4, 3, 1, 9, 4, 2, 7, 10, 6, 10, 4, 1, 2, 10, 10, 5, 1, 8, 4, 2, 7, 1, 5, 8, 10, 2, 3, 9, 10, 9, 2, 7, 8, 10, 9, 2, 7, 10, 2, 6, 1, 6, 8, 8, 9, 10, 7, 10, 1, 4, 9, 3, 7, 8, 8, 1, 10, 7, 2, 6, 8, 2, 1, 2, 6, 8, 2, 3, 3, 6, 8, 4, 1, 5, 7, 4, 6, 3, 4, 1, 5, 3, 1, 2, 7, 3, 6, 10, 7, 1, 6, 5, 6, 8, 10, 6, 4, 3, 3, 2, 7, 7, 1, 6, 10, 2, 4, 6, 7, 5, 4, 5, 1, 5, 4, 6, 5, 7, 1, 6, 9, 9, 6, 10, 1, 6, 5, 1, 2, 4, 3, 7, 2, 7, 1, 1, 4, 6, 9, 3, 8, 8, 6, 5, 2, 8, 4, 6, 8, 1, 6, 3, 6, 9, 1, 9, 2, 5, 3, 7, 7, 1, 2, 9, 2, 2, 4, 7, 10, 1, 4, 9, 1, 3, 5, 9, 10, 1, 9, 4, 8, 7, 9, 3, 7, 3, 1, 10, 6, 5, 6, 10, 8, 8, 4, 5, 9, 2, 7, 1, 4, 6, 9, 2, 1, 7, 3, 2, 1, 3, 3, 7, 10, 4, 10, 4, 6, 7, 2, 8, 8, 9, 5, 6, 6, 9, 4, 6, 1, 7, 6, 1, 3, 3, 7, 1, 2, 1, 3, 1, 10, 3, 1, 6, 4, 9, 8, 5, 8, 6, 10, 8, 9, 6, 5, 7, 2, 10, 10, 7, 7, 9, 3, 5, 7, 9, 4, 5, 6, 9, 5, 5, 9, 4, 3, 6, 8, 8, 4, 5, 2, 10, 3, 8, 9, 7, 8, 9, 4, 10, 5, 2, 9, 6, 9, 7, 1, 7, 7, 4, 8, 3, 4, 9, 4, 4, 8, 9, 8, 9, 10, 10, 4, 6, 7, 8, 4, 2, 5, 5, 5, 7, 8, 4, 2, 1, 2, 6, 1, 1, 3, 4, 10, 3, 7, 3, 8, 6, 1, 1, 2, 2, 2, 10, 1, 7, 9, 2, 8, 8, 4, 2, 8, 4, 1, 4, 10, 8, 5, 6, 1, 7, 1, 3, 5, 6, 1, 10, 5, 7, 1, 7, 5, 1, 10, 4, 2, 6, 10, 7, 6, 2, 4, 7, 10, 7, 10, 8, 8, 1, 6, 1, 5, 1, 5, 2, 9, 7, 2, 3, 4, 5, 8, 2, 2, 4, 10, 5, 7, 6, 9, 1, 2, 4, 3, 5, 1, 6, 2, 6, 3, 4, 5, 9, 9, 4, 2, 3, 9, 3, 3, 9, 5, 10, 5, 7, 8, 3, 4, 9], \"Freq\": [0.8963180205233763, 0.8953842566184814, 0.8811731222859783, 0.9259689210758094, 0.5958056870011899, 0.5958056870011899, 0.8902765653649295, 0.9400968331503375, 0.5753376819444791, 0.8902796201627864, 0.8804813374537683, 0.940090152173714, 0.4393956797673095, 0.4393956797673095, 0.4393956797673095, 0.9259662760586973, 0.9018572916932323, 0.6148355494635279, 0.6148355494635279, 0.9259792218720391, 0.8712539986057068, 0.6148468205286327, 0.6148468205286327, 0.6196585662882498, 0.9018364655896562, 0.9400756670254585, 0.8811816990831115, 0.8902906548644094, 0.9259678575973336, 0.8963292331722724, 0.44535134170457263, 0.44535134170457263, 0.44535134170457263, 0.6030345173548735, 0.6030345173548735, 0.8902774519144456, 0.8804915544962549, 0.8927758575971364, 0.8902868231278293, 0.9018300399829035, 0.901847319235838, 0.890287386309369, 0.8712522452706544, 0.5971319588510019, 0.5971319588510019, 0.43656095545313284, 0.43656095545313284, 0.8902842446212234, 0.8811666983419557, 0.8963211265367335, 0.9018506817339024, 0.9259650684181704, 0.9400877928650131, 0.8953775609957693, 0.8953754189292427, 0.8804767956022317, 0.5899287194433581, 0.5899287194433581, 0.5834234162963395, 0.8902865288739736, 0.8712576565016047, 0.9018410049981107, 0.8963296695997274, 0.8963179264094145, 0.9259699082762313, 0.46286125667511663, 0.46286125667511663, 0.9259599426731937, 0.4503662352603777, 0.4503662352603777, 0.5994238955034671, 0.5994238955034671, 0.8712642932755984, 0.9259664486084803, 0.5986887712644794, 0.5986887712644794, 0.8902859433571128, 0.8927553281495181, 0.8804839657279729, 0.5986822545055772, 0.5986822545055772, 0.8927704124644837, 0.5902240781662197, 0.5902240781662197, 0.9400974389714574, 0.896325659806724, 0.9400872395860476, 0.8927716358565048, 0.871248481105841, 0.8811794825396481, 0.9401007804345105, 0.9400827209390756, 0.8902922300050781, 0.8712598907924866, 0.901842949577051, 0.89278150908638, 0.8811739307427154, 0.8953875446175277, 0.5835621385420093, 0.5835621385420093, 0.6191310684264432, 0.6191310684264432, 0.30632235742250535, 0.30632235742250535, 0.30632235742250535, 0.30632235742250535, 0.9259677123578414, 0.8811845168992598, 0.8953751469250921, 0.6191300394290471, 0.6191300394290471, 0.9259687797915586, 0.5902181994671958, 0.5902181994671958, 0.9400735455209611, 0.5906268184768009, 0.5906268184768009, 0.3551461732422169, 0.3551461732422169, 0.3551461732422169, 0.6129810761641473, 0.6129810761641473, 0.9400978734934098, 0.8953689062277803, 0.9400934958191686, 0.8712477595216849, 0.892777777213947, 0.9259639883920205, 0.880494305504203, 0.5994154340829214, 0.5994154340829214, 0.9018494992492874, 0.8712522072621806, 0.9400973258726248, 0.8953873005408999, 0.8811814361646281, 0.5974016727445741, 0.9018425813888394, 0.8811766544662983, 0.3527411260866698, 0.3527411260866698, 0.3527411260866698, 0.3527411260866698, 0.8811763994614511, 0.880493236850522, 0.8804888007396541, 0.8963178924977582, 0.9018383747506581, 0.8927736193385704, 0.4340332901838309, 0.4340332901838309, 0.8953883298411004, 0.8927785477074413, 0.8963123777043693, 0.3541158701250477, 0.7082317402500954, 0.8712547954712936, 0.8902906978964092, 0.8804808410344901, 0.4377074359631402, 0.4377074359631402, 0.4377074359631402, 0.4544804647548034, 0.4544804647548034, 0.4544804647548034, 0.895376338248975, 0.5861484571941423, 0.5861484571941423, 0.26289135540492314, 0.26289135540492314, 0.26289135540492314, 0.26289135540492314, 0.8963174896364631, 0.8927755008384415, 0.880499275487339, 0.880501663054985, 0.881182168521702, 0.8953825353519773, 0.8953757684464498, 0.5861402282886906, 0.5861402282886906, 0.9400928660753416, 0.8811855609832466, 0.5958163784721189, 0.5958163784721189, 0.8953802606999263, 0.8902789215002502, 0.8927739368322715, 0.8902816518505585, 0.5835617546049985, 0.5835617546049985, 0.4462024845675327, 0.4462024845675327, 0.5920475898202783, 0.8953884538278443, 0.36348068904726405, 0.36348068904726405, 0.36348068904726405, 0.9259636363163932, 0.8963175939230715, 0.9400805693734849, 0.8712528348477686, 0.8963236936300748, 0.8902954594833096, 0.34743271354766364, 0.34743271354766364, 0.34743271354766364, 0.8804987402853975, 0.8953783720300788, 0.8811900571366313, 0.8953897724070407, 0.8712633025056703, 0.3582657234903565, 0.3582657234903565, 0.3582657234903565, 0.3582657234903565, 0.5927101385761384, 0.5927101385761384, 0.9018326856076322, 0.8963265629535883, 0.8902855659938944, 0.8811859226587568, 0.9018255241216906, 0.8927855283435499, 0.8963249396089279, 0.901833245236347, 0.5861617624907937, 0.5861617624907937, 0.4511557889176042, 0.4511557889176042, 0.4511557889176042, 0.8712382128873483, 0.9259515273313118, 0.5880046138751175, 0.5880046138751175, 0.8804952029789295, 0.8953772900927418, 0.5965563052696551, 0.5796552705799822, 0.5796552705799822, 0.9259700474177549, 0.8811830228625771, 0.8811683853186499, 0.5954011822935762, 0.5954011822935762, 0.9400984595470736, 0.8712585409424224, 0.8927814485421612, 0.9259672040608108, 0.871245702291196, 0.8805015110282488, 0.46117277705988213, 0.46117277705988213, 0.9400925502142901, 0.5986881296786084, 0.5986881296786084, 0.8927704262879232, 0.9018388295563795, 0.6099811713208877, 0.6099811713208877, 0.8804831573985828, 0.8953775604681641, 0.8804966629897463, 0.44554181860244163, 0.44554181860244163, 0.8963168979310923, 0.8902923866653616, 0.8963315865780964, 0.9401047684370945, 0.901836343669761, 0.9018457195596282, 0.8927748856297624, 0.8902868467408237, 0.9259776555934139, 0.8811696040356095, 0.8953675043755431, 0.22368797040493507, 0.22368797040493507, 0.44737594080987014, 0.22368797040493507, 0.8811776972137251, 0.5857483387205157, 0.5857483387205157, 0.8805052236311285, 0.8811869092877792, 0.8712544409201112, 0.8804890553241946, 0.36219695814012304, 0.36219695814012304, 0.36219695814012304, 0.614835492181835, 0.614835492181835, 0.8927758682901575, 0.5969616795564918, 0.5969616795564918, 0.8811753553465649, 0.9018507589619786, 0.9018345942426855, 0.9259662682653726, 0.8902881404172275, 0.8963203145764401, 0.8963277730218562, 0.9259620335157741, 0.892768590854737, 0.8963131910597181, 0.5857653041192805, 0.5857653041192805, 0.8963250257551799, 0.8712613090720711, 0.8804845430803758, 0.8805057462766371, 0.8953883148299726, 0.579631643819737, 0.579631643819737, 0.5793450798003837, 0.5793450798003837, 0.8712475695485825, 0.9400836615475895, 0.8804974842198708, 0.5861578633971973, 0.5861578633971973, 0.4534506340229646, 0.4534506340229646, 0.6022959550831685, 0.597131711665923, 0.597131711665923, 0.616517935902847, 0.616517935902847, 0.9018404325854055, 0.9259805802167924, 0.8963228253188276, 0.8902849816975483, 0.8953773062789924, 0.881176423853116, 0.9400973660986709, 0.9401011500233933, 0.8953875809603195, 0.609973708514067, 0.609973708514067, 0.8804971954766957, 0.4534655901881337, 0.4534655901881337, 0.4534655901881337, 0.36143059031751684, 0.36143059031751684, 0.36143059031751684, 0.36143059031751684, 0.8902778467980562, 0.8902803891778642, 0.9259641306775945, 0.8927606285036132, 0.8804903481882331, 0.8963071248357746, 0.6022962453166688, 0.9018488753578382, 0.8927741094681826, 0.8902779993832749, 0.6093253276890498, 0.6093253276890498, 0.5927126209763431, 0.5927126209763431, 0.925984903637944, 0.8953757539542089, 0.9018455160533849, 0.9259743958014406, 0.892782460583928, 0.6369276257583757, 0.8902821553884875, 0.8811799464163413, 0.925964911356655, 0.8963210303067355, 0.9259513988575964, 0.8953796510331358, 0.8712516950439961, 0.8953837449629718, 0.8953805119046163, 0.8927726770762536, 0.9018451537950188, 0.5887801625007393, 0.5887801625007393, 0.9259781635033515, 0.8927664365670536, 0.8927691815761203, 0.6129742076183833, 0.6129742076183833, 0.9018382740521437, 0.9259681502866766, 0.9400987779459339, 0.9400858134094995, 0.3585209391680606, 0.3585209391680606, 0.3585209391680606, 0.3585209391680606, 0.5942513980389921, 0.8811860473080364, 0.890292289281121, 0.8902802580576192, 0.5942891793943686, 0.5942891793943686, 0.9018424613567255, 0.8927674808749387, 0.8811723402042833, 0.8712565668544452, 0.8811777720689719, 0.8963167965425819, 0.8712558023768024, 0.8712647548618087, 0.8804977323342631, 0.614846390524135, 0.614846390524135, 0.880486259992244, 0.8953993449338599, 0.8804935733289906, 0.9018534187174297, 0.8963121799833864, 0.8712643895939596, 0.8712549552699707, 0.8811897981433082, 0.8811701474661705, 0.8811782056573418, 0.9401047706784478, 0.35460078654551314, 0.35460078654551314, 0.35460078654551314, 0.5930304215059063, 0.5930304215059063, 0.6023011066494269, 0.8927731899805389, 0.8811653304381498, 0.9018381120505597, 0.8927795591887974, 0.5846441291336063, 0.5846441291336063, 0.9400861950039991, 0.9018444882802473, 0.890277248749467, 0.8963138785779915, 0.4411664178841068, 0.4411664178841068, 0.8712638056575143, 0.587720554221525, 0.587720554221525, 0.8963243536846516, 0.871249523341547, 0.9400910872139302, 0.8902848786529038, 0.8953793100517454, 0.8712482773814527, 0.8953689982043838, 0.890284273719021, 0.8712587873141103, 0.940084210906635, 0.8927729061107064, 0.36958169543634095, 0.36958169543634095, 0.36958169543634095, 0.895390150859826, 0.8963074654764376, 0.36189246973509764, 0.36189246973509764, 0.36189246973509764, 0.36189246973509764, 0.8953830457435851, 0.940089142243562, 0.9018422690020973, 0.901842022302171, 0.43545180095541375, 0.43545180095541375, 0.8712534998411525, 0.8902818913415438, 0.8712472785498016, 0.8902863378423668, 0.6033617582065214, 0.6033617582065214, 0.8953831305088256, 0.5837140858296711, 0.5837140858296711, 0.44695046234823155, 0.44695046234823155, 0.44695046234823155, 0.8811696426432554, 0.8811718568068687, 0.8927734861424441, 0.940098645752902, 0.5942932184273895, 0.5942932184273895, 0.896311974497878, 0.9259635828875821, 0.579636857532026, 0.579636857532026, 0.8927729991599324, 0.8804994840880245, 0.8902851008254252, 0.8712523352796894, 0.896327483741667, 0.5906302486383982, 0.5906302486383982, 0.880500119269067, 0.5931401386214575, 0.5931401386214575, 0.9259700232083674, 0.9259778714103378, 0.8927795756774222, 0.8811886884628378, 0.4585493724907843, 0.4585493724907843, 0.8804974277516617, 0.8804944296171126, 0.9259650639665719, 0.8902765338922535, 0.9400851492721664, 0.35796708922471193, 0.35796708922471193, 0.35796708922471193, 0.8804915475863676, 0.6087512873866289, 0.6087512873866289], \"Term\": [\"7th\", \"able\", \"abstruse\", \"accordingly\", \"account\", \"account\", \"act\", \"adduced\", \"admiration\", \"adventure\", \"aerial\", \"affairs\", \"affection\", \"affection\", \"affection\", \"age\", \"agitated\", \"air\", \"air\", \"alas\", \"alpine\", \"anxiety\", \"anxiety\", \"appearance\", \"appearances\", \"apprehensions\", \"arteries\", \"attach\", \"attained\", \"attendants\", \"attended\", \"attended\", \"attended\", \"attending\", \"attending\", \"attention\", \"attentions\", \"attest\", \"avoid\", \"away\", \"babe\", \"banished\", \"bear\", \"beaufort\", \"beaufort\", \"beautiful\", \"beautiful\", \"befitting\", \"began\", \"begin\", \"beings\", \"belrive\", \"benevolent\", \"benignity\", \"best\", \"better\", \"birth\", \"birth\", \"black\", \"books\", \"boy\", \"breathed\", \"brothers\", \"burnt\", \"callous\", \"calm\", \"calm\", \"campagne\", \"care\", \"care\", \"cause\", \"cause\", \"changes\", \"character\", \"children\", \"children\", \"chivalrous\", \"city\", \"clear\", \"clerval\", \"clerval\", \"climbing\", \"closely\", \"closely\", \"cloud\", \"combined\", \"commence\", \"companion\", \"completion\", \"composed\", \"comprehensive\", \"conducive\", \"conduct\", \"confessed\", \"consolation\", \"continual\", \"continually\", \"contrary\", \"contrast\", \"contrast\", \"countenance\", \"countenance\", \"country\", \"country\", \"country\", \"country\", \"cousin\", \"covered\", \"creature\", \"curiosity\", \"curiosity\", \"customs\", \"danger\", \"danger\", \"dangers\", \"date\", \"date\", \"day\", \"day\", \"day\", \"death\", \"death\", \"decided\", \"desert\", \"devices\", \"dim\", \"discovery\", \"discrimination\", \"distant\", \"distinguished\", \"distinguished\", \"disunion\", \"diversity\", \"dogmatism\", \"dull\", \"eager\", \"early\", \"earnest\", \"easily\", \"elizabeth\", \"elizabeth\", \"elizabeth\", \"elizabeth\", \"enchantment\", \"end\", \"endeavoured\", \"endeavouring\", \"engaging\", \"enquired\", \"enter\", \"enter\", \"enterprise\", \"entirely\", \"entreaties\", \"ernest\", \"ernest\", \"expected\", \"expressed\", \"exquisitely\", \"eye\", \"eye\", \"eye\", \"family\", \"family\", \"family\", \"fancy\", \"far\", \"far\", \"father\", \"father\", \"father\", \"father\", \"fathers\", \"favourite\", \"fear\", \"feelings\", \"feet\", \"fell\", \"fetter\", \"fever\", \"fever\", \"filled\", \"fix\", \"fixed\", \"fixed\", \"flourishing\", \"fluctuating\", \"food\", \"formed\", \"friend\", \"friend\", \"friends\", \"friends\", \"friendship\", \"gave\", \"geneva\", \"geneva\", \"geneva\", \"genius\", \"get\", \"given\", \"glad\", \"glimmer\", \"good\", \"great\", \"great\", \"great\", \"griefs\", \"grieved\", \"hair\", \"halfextinguished\", \"happiness\", \"happy\", \"happy\", \"happy\", \"happy\", \"hard\", \"hard\", \"harmony\", \"health\", \"heartfelt\", \"heroic\", \"hidden\", \"hills\", \"hitherto\", \"holy\", \"home\", \"home\", \"hope\", \"hope\", \"hope\", \"hopes\", \"house\", \"idea\", \"idea\", \"idler\", \"ignominious\", \"ill\", \"illness\", \"illness\", \"illustrate\", \"impatiently\", \"impossible\", \"improvement\", \"improvement\", \"improvements\", \"imprudence\", \"incident\", \"indulge\", \"infallibly\", \"infamy\", \"ingolstadt\", \"ingolstadt\", \"instructions\", \"instruments\", \"instruments\", \"intimate\", \"investigating\", \"journey\", \"journey\", \"joys\", \"junior\", \"justice\", \"justine\", \"justine\", \"kind\", \"king\", \"last\", \"lawless\", \"laws\", \"learn\", \"lectures\", \"led\", \"lessons\", \"letter\", \"letters\", \"life\", \"life\", \"life\", \"life\", \"lifeless\", \"light\", \"light\", \"lips\", \"little\", \"live\", \"living\", \"long\", \"long\", \"long\", \"longer\", \"longer\", \"look\", \"looks\", \"looks\", \"lucerne\", \"magnificent\", \"man\", \"marriage\", \"masters\", \"may\", \"medical\", \"meeting\", \"menaced\", \"mentioning\", \"merchant\", \"merchant\", \"merely\", \"merit\", \"minister\", \"mockery\", \"moderate\", \"morning\", \"morning\", \"mother\", \"mother\", \"mountains\", \"mourning\", \"murder\", \"my\", \"my\", \"native\", \"native\", \"natural\", \"nature\", \"nature\", \"nearly\", \"nearly\", \"need\", \"news\", \"niece\", \"night\", \"nurse\", \"object\", \"obliged\", \"occupation\", \"old\", \"paid\", \"paid\", \"pain\", \"parents\", \"parents\", \"parents\", \"passed\", \"passed\", \"passed\", \"passed\", \"pedantry\", \"pen\", \"perform\", \"perpetually\", \"persuade\", \"persuading\", \"philosophy\", \"place\", \"plainpalais\", \"plays\", \"pleased\", \"pleased\", \"point\", \"point\", \"poor\", \"powers\", \"practice\", \"prepare\", \"presently\", \"prevented\", \"pride\", \"probably\", \"professors\", \"prognosticated\", \"proportion\", \"pursues\", \"qualities\", \"rank\", \"rapture\", \"recovered\", \"redeem\", \"refrain\", \"refrain\", \"regret\", \"remark\", \"render\", \"rendered\", \"rendered\", \"republic\", \"respected\", \"rest\", \"result\", \"return\", \"return\", \"return\", \"return\", \"returning\", \"returns\", \"romance\", \"roncesvalles\", \"round\", \"round\", \"run\", \"satisfied\", \"scarcely\", \"scarlet\", \"scenes\", \"schools\", \"seasons\", \"seated\", \"secret\", \"sense\", \"sense\", \"set\", \"seven\", \"shall\", \"shed\", \"sickened\", \"silence\", \"singular\", \"skin\", \"sly\", \"smile\", \"sole\", \"son\", \"son\", \"son\", \"sought\", \"sought\", \"soul\", \"sound\", \"spark\", \"species\", \"spent\", \"spirit\", \"spirit\", \"stay\", \"strangers\", \"student\", \"students\", \"study\", \"study\", \"sublime\", \"suffered\", \"suffered\", \"sufficient\", \"summersshe\", \"syndics\", \"table\", \"talent\", \"tear\", \"tears\", \"temper\", \"tempest\", \"term\", \"thirst\", \"thought\", \"thought\", \"thought\", \"threw\", \"thursday\", \"time\", \"time\", \"time\", \"time\", \"times\", \"toils\", \"train\", \"tremble\", \"true\", \"true\", \"turbulence\", \"two\", \"unbending\", \"uncertain\", \"uncle\", \"uncle\", \"unfolded\", \"united\", \"united\", \"university\", \"university\", \"university\", \"unknown\", \"urged\", \"valuable\", \"variety\", \"victor\", \"victor\", \"vigorous\", \"visit\", \"waldman\", \"waldman\", \"warm\", \"watchful\", \"ways\", \"welcome\", \"welland\", \"went\", \"went\", \"whiteness\", \"william\", \"william\", \"wish\", \"woeful\", \"wonder\", \"work\", \"world\", \"world\", \"wretch\", \"wretched\", \"writes\", \"writeto\", \"year\", \"years\", \"years\", \"years\", \"yield\", \"younger\", \"younger\"]}, \"R\": 30, \"lambda.step\": 0.01, \"plot.opts\": {\"xlab\": \"PC1\", \"ylab\": \"PC2\"}, \"topic.order\": [9, 3, 6, 7, 10, 4, 8, 5, 2, 1]};\n",
       "\n",
       "function LDAvis_load_lib(url, callback){\n",
       "  var s = document.createElement('script');\n",
       "  s.src = url;\n",
       "  s.async = true;\n",
       "  s.onreadystatechange = s.onload = callback;\n",
       "  s.onerror = function(){console.warn(\"failed to load library \" + url);};\n",
       "  document.getElementsByTagName(\"head\")[0].appendChild(s);\n",
       "}\n",
       "\n",
       "if(typeof(LDAvis) !== \"undefined\"){\n",
       "   // already loaded: just create the visualization\n",
       "   !function(LDAvis){\n",
       "       new LDAvis(\"#\" + \"ldavis_el1632024120131411924227242323\", ldavis_el1632024120131411924227242323_data);\n",
       "   }(LDAvis);\n",
       "}else if(typeof define === \"function\" && define.amd){\n",
       "   // require.js is available: use it to load d3/LDAvis\n",
       "   require.config({paths: {d3: \"https://d3js.org/d3.v5\"}});\n",
       "   require([\"d3\"], function(d3){\n",
       "      window.d3 = d3;\n",
       "      LDAvis_load_lib(\"https://cdn.jsdelivr.net/gh/bmabey/pyLDAvis@3.3.1/pyLDAvis/js/ldavis.v3.0.0.js\", function(){\n",
       "        new LDAvis(\"#\" + \"ldavis_el1632024120131411924227242323\", ldavis_el1632024120131411924227242323_data);\n",
       "      });\n",
       "    });\n",
       "}else{\n",
       "    // require.js not available: dynamically load d3 & LDAvis\n",
       "    LDAvis_load_lib(\"https://d3js.org/d3.v5.js\", function(){\n",
       "         LDAvis_load_lib(\"https://cdn.jsdelivr.net/gh/bmabey/pyLDAvis@3.3.1/pyLDAvis/js/ldavis.v3.0.0.js\", function(){\n",
       "                 new LDAvis(\"#\" + \"ldavis_el1632024120131411924227242323\", ldavis_el1632024120131411924227242323_data);\n",
       "            })\n",
       "         });\n",
       "}\n",
       "</script>"
      ],
      "text/plain": [
       "PreparedData(topic_coordinates=              x         y  topics  cluster       Freq\n",
       "topic                                                \n",
       "8     -0.147718  0.002350       1        1  11.652914\n",
       "2     -0.032415 -0.026349       2        1  10.909355\n",
       "5      0.112249  0.066489       3        1  10.739124\n",
       "6      0.044446  0.039700       4        1  10.260724\n",
       "9      0.017561 -0.114883       5        1  10.211486\n",
       "3     -0.053652  0.094393       6        1  10.074993\n",
       "7      0.030765 -0.100250       7        1   9.938424\n",
       "4      0.004945 -0.011326       8        1   9.692559\n",
       "1      0.005274  0.032981       9        1   8.715252\n",
       "0      0.018545  0.016895      10        1   7.805169, topic_info=        Term      Freq     Total Category  logprob  loglift\n",
       "33      life  4.000000  4.000000  Default  30.0000  30.0000\n",
       "649   ernest  2.000000  2.000000  Default  29.0000  29.0000\n",
       "8     father  3.000000  3.000000  Default  28.0000  28.0000\n",
       "273  thought  2.000000  2.000000  Default  27.0000  27.0000\n",
       "145     calm  2.000000  2.000000  Default  26.0000  26.0000\n",
       "..       ...       ...       ...      ...      ...      ...\n",
       "601     long  0.556968  2.760929  Topic10  -5.0047   0.9496\n",
       "1     family  0.556967  2.200315  Topic10  -5.0047   1.1765\n",
       "369   nearly  0.556963  1.622013  Topic10  -5.0047   1.4815\n",
       "28   country  0.556960  3.264535  Topic10  -5.0047   0.7820\n",
       "89      time  0.556957  2.763252  Topic10  -5.0047   0.9487\n",
       "\n",
       "[452 rows x 6 columns], token_table=      Topic      Freq         Term\n",
       "term                              \n",
       "715       6  0.896318          7th\n",
       "613       7  0.895384         able\n",
       "413       2  0.881173     abstruse\n",
       "732       9  0.925969  accordingly\n",
       "395       4  0.595806      account\n",
       "...     ...       ...          ...\n",
       "6         7  0.357967        years\n",
       "6         8  0.357967        years\n",
       "671       3  0.880492        yield\n",
       "25        4  0.608751      younger\n",
       "25        9  0.608751      younger\n",
       "\n",
       "[517 rows x 3 columns], R=30, lambda_step=0.01, plot_opts={'xlab': 'PC1', 'ylab': 'PC2'}, topic_order=[9, 3, 6, 7, 10, 4, 8, 5, 2, 1])"
      ]
     },
     "execution_count": 23,
     "metadata": {},
     "output_type": "execute_result"
    }
   ],
   "source": [
    "# Visualize the topics\n",
    "pyLDAvis.enable_notebook()\n",
    "#LDAvis_data_filepath = os.path.join('results')\n",
    "# # this is a bit time consuming - make the if statement True\n",
    "# # if you want to execute visualization prep yourself\n",
    "if 1 == 1:\n",
    "    LDAvis_prepared = pyLDAvis.gensim_models.prepare(lda_model, corpus, id2word)\n",
    "    with open('ldavisfile', 'wb') as f:\n",
    "        pickle.dump(LDAvis_prepared,f)\n",
    "# load the pre-prepared pyLDAvis data from disk\n",
    "with open('ldavisfile', 'rb') as f:\n",
    "    LDAvis_prepared = pickle.load(f)\n",
    "pyLDAvis.save_html(LDAvis_prepared, './/results//ldavis_prepared_'+ str(num_topics) +'.html')\n",
    "LDAvis_prepared"
   ]
  },
  {
   "cell_type": "code",
   "execution_count": 24,
   "metadata": {},
   "outputs": [
    {
     "name": "stdout",
     "output_type": "stream",
     "text": [
      "Run started at :  Sun, 04 Jul 2021 12:38:03 +0000\n",
      "Run ended at :  Sun, 04 Jul 2021 12:38:19 +0000\n"
     ]
    }
   ],
   "source": [
    "endTime = strftime(\"%a, %d %b %Y %H:%M:%S +0000\", gmtime())\n",
    "print (\"Run started at : \",startTime)\n",
    "print (\"Run ended at : \",endTime)"
   ]
  },
  {
   "cell_type": "code",
   "execution_count": null,
   "metadata": {},
   "outputs": [],
   "source": []
  }
 ],
 "metadata": {
  "kernelspec": {
   "display_name": "Python 3",
   "language": "python",
   "name": "python3"
  },
  "language_info": {
   "codemirror_mode": {
    "name": "ipython",
    "version": 3
   },
   "file_extension": ".py",
   "mimetype": "text/x-python",
   "name": "python",
   "nbconvert_exporter": "python",
   "pygments_lexer": "ipython3",
   "version": "3.7.4"
  }
 },
 "nbformat": 4,
 "nbformat_minor": 2
}
