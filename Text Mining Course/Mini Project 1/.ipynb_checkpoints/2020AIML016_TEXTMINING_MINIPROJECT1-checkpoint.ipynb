{
 "cells": [
  {
   "cell_type": "markdown",
   "metadata": {},
   "source": [
    "# Group 6 Mini Project 2\n"
   ]
  },
  {
   "cell_type": "markdown",
   "metadata": {},
   "source": [
    "# 1. Term - Frequency Inverse Document Frequency \n",
    "\n",
    "1) Remove Stopwords (1 Mark)\n",
    "\n",
    "2) Remove the punctuations. the special characters and convert the text to lower case.        (2 Mark)\n",
    "\n",
    "3) create bigrams and trigrams for the entire dataset and list down 20 most frequent bigram and 20 most frequent trigrams ( 3 Marks )\n",
    "\n",
    "4) You have to implement TF-IDF the Algorithm from scratch.   ( 3 Mark )\n",
    "\n",
    "5) Use the above-implemented algorithm and the values to calculate TF-IDF (using TF IDF formula) on the dataset and list down the top 10 words which have the highest TF-IDF Value. (2 Marks)"
   ]
  },
  {
   "cell_type": "code",
   "execution_count": 1,
   "metadata": {},
   "outputs": [
    {
     "name": "stderr",
     "output_type": "stream",
     "text": [
      "C:\\Users\\jaghos\\AppData\\Local\\Continuum\\anaconda3\\lib\\site-packages\\numpy\\_distributor_init.py:32: UserWarning: loaded more than 1 DLL from .libs:\n",
      "C:\\Users\\jaghos\\AppData\\Local\\Continuum\\anaconda3\\lib\\site-packages\\numpy\\.libs\\libopenblas.GK7GX5KEQ4F6UYO3P26ULGBQYHGQO7J4.gfortran-win_amd64.dll\n",
      "C:\\Users\\jaghos\\AppData\\Local\\Continuum\\anaconda3\\lib\\site-packages\\numpy\\.libs\\libopenblas.IPBC74C7KURV7CB2PKT5Z5FNR3SIBV4J.gfortran-win_amd64.dll\n",
      "  stacklevel=1)\n",
      "C:\\Users\\jaghos\\AppData\\Local\\Continuum\\anaconda3\\lib\\site-packages\\statsmodels\\tools\\_testing.py:19: FutureWarning: pandas.util.testing is deprecated. Use the functions in the public API at pandas.testing instead.\n",
      "  import pandas.util.testing as tm\n"
     ]
    }
   ],
   "source": [
    "#Imports\n",
    "import numpy as np\n",
    "import math\n",
    "import matplotlib.pyplot as plt\n",
    "from sklearn.model_selection import train_test_split\n",
    "# for integer encoding using sklearn\n",
    "from sklearn.preprocessing import LabelEncoder\n",
    "import pandas as pd\n",
    "import seaborn as sns\n",
    "from matplotlib import style\n",
    "import plotly.express as px\n",
    "import warnings\n",
    "warnings.filterwarnings('ignore')\n",
    "import datetime as dt\n",
    "from tkinter import *\n",
    "from tkinter.font import Font\n",
    "from sklearn.preprocessing import StandardScaler\n",
    "from sklearn.metrics import confusion_matrix\n",
    "from sklearn.metrics import classification_report\n",
    "from sklearn.preprocessing import scale\n",
    "from pyclustertend import hopkins\n",
    "from sklearn.decomposition import PCA\n",
    "from tqdm import tqdm \n",
    "from math import sqrt \n",
    "from time import gmtime, strftime\n",
    "from sklearn.cluster import KMeans\n",
    "import os\n",
    "##print(os.listdir(\"../input\"))\n",
    "sns.set()\n",
    "from sklearn import preprocessing as pp\n",
    "from sklearn.cluster import KMeans\n",
    "import random\n",
    "import pylab as pl\n",
    "%matplotlib inline\n",
    "import matplotlib.pyplot as plt\n",
    "from scipy.spatial import distance_matrix\n",
    "from scipy.cluster.hierarchy import dendrogram, linkage\n",
    "from sklearn.cluster import DBSCAN,AgglomerativeClustering, KMeans\n",
    "from apyori import apriori\n",
    "######## Capture the start time to check the runt ime of the whole notebook #########\n",
    "startTime = strftime(\"%a, %d %b %Y %H:%M:%S +0000\", gmtime())\n",
    "from sklearn.feature_extraction.text import TfidfVectorizer,CountVectorizer\n",
    "from nltk.corpus import stopwords\n",
    "from nltk.stem.snowball import SnowballStemmer\n",
    "import unicodedata\n",
    "import nltk\n",
    "from nltk import word_tokenize\n",
    "import re  #regular expression\n",
    "from bs4 import BeautifulSoup\n",
    "from gensim.parsing.preprocessing import remove_stopwords\n",
    "import gensim.corpora as corpora\n",
    "from pprint import pprint\n",
    "import gensim\n",
    "import pyLDAvis.gensim_models\n",
    "import pickle \n",
    "import pyLDAvis\n",
    "sw = stopwords.words('english')\n",
    "stemmer = SnowballStemmer(\"english\")\n",
    "url_re = r'(?i)\\b((?:https?://|www\\d{0,3}[.]|[a-z0-9.\\-]+[.][a-z]{2,4}/)(?:[^\\s()<>]+|\\(([^\\s()<>]+|(\\([^\\s()<>]+\\)))*\\))+(?:\\(([^\\s()<>]+|(\\([^\\s()<>]+\\)))*\\)|[^\\s`!()\\[\\]{};:\\'\".,<>?«»“”‘’]))'\n"
   ]
  },
  {
   "cell_type": "code",
   "execution_count": 2,
   "metadata": {},
   "outputs": [
    {
     "name": "stdout",
     "output_type": "stream",
     "text": [
      "                                             sentences    chapter\n",
      "0    I am by birth a Genevese, and my family is one...  Chapter 1\n",
      "1    distinguished of that republic.  My ancestors ...  Chapter 1\n",
      "2    counsellors and syndics, and my father had fil...  Chapter 1\n",
      "3    situations with honour and reputation.  He was...  Chapter 1\n",
      "4    knew him for his integrity and indefatigable a...  Chapter 1\n",
      "..                                                 ...        ...\n",
      "215  worked up her mind to an appearance of courage...  Chapter 8\n",
      "216  court she threw her eyes round it and quickly ...  Chapter 8\n",
      "217  seated.  A tear seemed to dim her eye when she...  Chapter 8\n",
      "218  recovered herself, and a look of sorrowful aff...  Chapter 8\n",
      "219                           her utter guiltlessness.  Chapter 8\n",
      "\n",
      "[220 rows x 2 columns]\n"
     ]
    }
   ],
   "source": [
    "#Extract and read text files\n",
    "\n",
    "sentence = pd.DataFrame()\n",
    "file1 = open('TF-IDF_dataset-Copy.txt', 'r',encoding=\"mbcs\")\n",
    "\n",
    "# Using readlines()\n",
    "try:\n",
    "    \n",
    "    \n",
    "    Lines = file1.readlines()\n",
    " \n",
    "    count = 0\n",
    "    # Strips the newline character\n",
    "    chapter = 'Chapter 1'\n",
    "    for line in Lines:\n",
    "        count += 1\n",
    "        \n",
    "        if len(line.strip()) > 0 and line.strip().find('Chapter') == -1 :\n",
    "            current_df = pd.DataFrame({'sentences': [ line.strip()] , 'chapter':[chapter]})\n",
    "            sentence = sentence.append(current_df, ignore_index=True)\n",
    "        else:\n",
    "            if line.strip().find('Chapter') != -1:\n",
    "                \n",
    "                chapter = line.strip()\n",
    "                #print(chapter)\n",
    "            \n",
    "    file1.close() \n",
    "\n",
    "except Exception as e:\n",
    "    print('Exception occured ',str(e))\n",
    "    file1.close\n",
    "    \n",
    "print(sentence)"
   ]
  },
  {
   "cell_type": "code",
   "execution_count": 3,
   "metadata": {},
   "outputs": [
    {
     "name": "stderr",
     "output_type": "stream",
     "text": [
      "<>:58: DeprecationWarning: invalid escape sequence \\d\n",
      "<>:58: DeprecationWarning: invalid escape sequence \\d\n",
      "<>:58: DeprecationWarning: invalid escape sequence \\d\n",
      "<ipython-input-3-dc4875ae85da>:58: DeprecationWarning: invalid escape sequence \\d\n",
      "  text = re.sub('[^a-zA-Z0-9.\\d\\s]', '', text)\n"
     ]
    }
   ],
   "source": [
    "#Sentence curation functions\n",
    "def stopwords(text):\n",
    "    '''a function for removing the stopword'''\n",
    "    \n",
    "    # removing the stop words and lowercasing the selected words\n",
    "    #text = [word.lower() for word in text.split() if word.lower() not in sw]\n",
    "    # joining the list of words with space separator\n",
    "    text = remove_stopwords(text)\n",
    "    text = [word.lower() for word in text.split() if word.lower() not in sw]\n",
    "    #return(text)\n",
    "    return \" \".join(text)\n",
    "\n",
    "def remove_punctuation(text):\n",
    "    '''a function for removing punctuation'''\n",
    "    import string\n",
    "    # replacing the punctuations with no space, \n",
    "    # which in effect deletes the punctuation marks \n",
    "    translator = str.maketrans('', '', string.punctuation)\n",
    "    # return the text stripped of punctuation marks\n",
    "    return text.translate(translator)\n",
    "\n",
    "def stemming(text):    \n",
    "    \n",
    "    '''a function which stems each word in the given text'''\n",
    "    text = [stemmer.stem(word) for word in text.split()]\n",
    "    return \" \".join(text)     \n",
    "\n",
    "def remove_html(text):\n",
    "    '''\n",
    "    remove the HTML tags and URLS from the tweets\n",
    "    '''\n",
    "    if text:\n",
    "        # BeautifulSoup on content\n",
    "        soup = BeautifulSoup(text, \"html.parser\")\n",
    "        # Stripping all <code> tags with their content if any\n",
    "        if soup.code:\n",
    "            soup.code.decompose()\n",
    "        # Get all the text out of the html\n",
    "        text =  soup.get_text()\n",
    "        # Returning text stripping out all uris\n",
    "        return re.sub(url_re, \"\", text)\n",
    "    else:\n",
    "        return \"\"\n",
    "    \n",
    "def remove_emojis(text):\n",
    "    \n",
    "    emoji_pattern = re.compile(\"[\"\n",
    "        r\"\\U0001F600-\\U0001F64F\"  # emoticons\n",
    "        r\"\\U0001F300-\\U0001F5FF\"  # symbols & pictographs\n",
    "        r\"\\U0001F680-\\U0001F6FF\"  # transport & map symbols\n",
    "        r\"\\U0001F1E0-\\U0001F1FF\"  # flags (iOS)\n",
    "                           \"]+\", flags=re.UNICODE)\n",
    "    text = emoji_pattern.sub(r'', text)# no emoji \n",
    "  \n",
    "    return text\n",
    "\n",
    "def remove_specialChars(text):\n",
    "    text = re.sub('[^a-zA-Z0-9.\\d\\s]', '', text)\n",
    "    return text"
   ]
  },
  {
   "cell_type": "code",
   "execution_count": 4,
   "metadata": {},
   "outputs": [
    {
     "name": "stdout",
     "output_type": "stream",
     "text": [
      "                                         sentences    chapter\n",
      "0                            birth genevese family  Chapter 1\n",
      "1           distinguished republic ancestors years  Chapter 1\n",
      "2         counsellors syndics father filled public  Chapter 1\n",
      "3           situations honour reputation respected  Chapter 1\n",
      "4    knew integrity indefatigable attention public  Chapter 1\n",
      "..                                             ...        ...\n",
      "215         worked mind appearance courage entered  Chapter 8\n",
      "216      court threw eyes round quickly discovered  Chapter 8\n",
      "217                seated tear dim eye saw quickly  Chapter 8\n",
      "218      recovered look sorrowful affection attest  Chapter 8\n",
      "219                            utter guiltlessness  Chapter 8\n",
      "\n",
      "[220 rows x 2 columns]\n"
     ]
    }
   ],
   "source": [
    "## Remove unwanted words ##\n",
    "\n",
    "sentence_duplicate = sentence.copy()\n",
    "sentence['sentences'] = sentence['sentences'].apply(remove_html)\n",
    "sentence['sentences'] = sentence['sentences'].apply(remove_emojis)\n",
    "sentence['sentences'] = sentence['sentences'].apply(remove_punctuation)\n",
    "sentence['sentences'] = sentence['sentences'].apply(stopwords)\n",
    "sentence['sentences'] = sentence['sentences'].apply(remove_specialChars)\n",
    "sentence_duplicate = sentence.copy()\n",
    "#sentence['sentences'] = sentence['sentences'].apply(stemming)\n",
    "\n",
    "print(sentence)"
   ]
  },
  {
   "cell_type": "code",
   "execution_count": 5,
   "metadata": {},
   "outputs": [
    {
     "name": "stdout",
     "output_type": "stream",
     "text": [
      "20 most frequent bigrams \n",
      " (thought, returning)      2\n",
      "(natural, philosophy)     2\n",
      "(native, country)         2\n",
      "(long, time)              2\n",
      "(pen, word)               1\n",
      "(writeto, hold)           1\n",
      "(forbidden, writeto)      1\n",
      "(account, forbidden)      1\n",
      "(reassure, account)       1\n",
      "(sufficient, reassure)    1\n",
      "(henry, sufficient)       1\n",
      "(kind, henry)             1\n",
      "(dear, kind)              1\n",
      "(letters, dear)           1\n",
      "(constant, letters)       1\n",
      "(ill, constant)           1\n",
      "(ill, ill)                1\n",
      "(hold, pen)               1\n",
      "(word, dear)              1\n",
      "(6, you)                  1\n",
      "dtype: int64\n",
      "\n",
      "20 most frequent trigrams \n",
      " (birth, genevese, family)          1\n",
      "(hold, pen, word)                  1\n",
      "(6, you, ill)                      1\n",
      "(you, ill, ill)                    1\n",
      "(ill, ill, constant)               1\n",
      "(ill, constant, letters)           1\n",
      "(constant, letters, dear)          1\n",
      "(letters, dear, kind)              1\n",
      "(dear, kind, henry)                1\n",
      "(kind, henry, sufficient)          1\n",
      "(henry, sufficient, reassure)      1\n",
      "(sufficient, reassure, account)    1\n",
      "(reassure, account, forbidden)     1\n",
      "(account, forbidden, writeto)      1\n",
      "(forbidden, writeto, hold)         1\n",
      "(writeto, hold, pen)               1\n",
      "(pen, word, dear)                  1\n",
      "(beautiful, beautiful, great)      1\n",
      "(word, dear, victor)               1\n",
      "(dear, victor, necessary)          1\n",
      "dtype: int64\n"
     ]
    }
   ],
   "source": [
    "## Extract the BIGrams and the TRIGrams ##\n",
    "tokenized_text = []\n",
    "\n",
    "for index , row in sentence.iterrows():\n",
    "    #print(sentence)\n",
    "    sequence = word_tokenize(row[\"sentences\"]) \n",
    "    tokenized_text.extend(sequence) \n",
    "#Words = sentence['sentences'].tolist()\n",
    "#hf = [\"\".join(review) for review in sentence['sentences'].values]\n",
    "#print(hf)\n",
    "#print(tokenized_text)\n",
    "print('20 most frequent bigrams \\n',(pd.Series(nltk.ngrams(tokenized_text, 2)).value_counts())[:20])\n",
    "print('\\n20 most frequent trigrams \\n',(pd.Series(nltk.ngrams(tokenized_text, 3)).value_counts())[:20])"
   ]
  },
  {
   "cell_type": "code",
   "execution_count": 6,
   "metadata": {},
   "outputs": [
    {
     "name": "stdout",
     "output_type": "stream",
     "text": [
      "length of word dictionary 840\n"
     ]
    },
    {
     "name": "stderr",
     "output_type": "stream",
     "text": [
      "220it [00:00, 5236.51it/s]\n",
      "220it [00:00, 343.23it/s]\n",
      "220it [00:02, 102.78it/s]\n"
     ]
    },
    {
     "name": "stdout",
     "output_type": "stream",
     "text": [
      "Final TD IDF Vector: \n",
      "      delineate  line  consolation  poor  prepare  redeem  pearly  learn  \\\n",
      "0          0.0   0.0          0.0   0.0      0.0     0.0     0.0    0.0   \n",
      "1          0.0   0.0          0.0   0.0      0.0     0.0     0.0    0.0   \n",
      "2          0.0   0.0          0.0   0.0      0.0     0.0     0.0    0.0   \n",
      "3          0.0   0.0          0.0   0.0      0.0     0.0     0.0    0.0   \n",
      "4          0.0   0.0          0.0   0.0      0.0     0.0     0.0    0.0   \n",
      "..         ...   ...          ...   ...      ...     ...     ...    ...   \n",
      "215        0.0   0.0          0.0   0.0      0.0     0.0     0.0    0.0   \n",
      "216        0.0   0.0          0.0   0.0      0.0     0.0     0.0    0.0   \n",
      "217        0.0   0.0          0.0   0.0      0.0     0.0     0.0    0.0   \n",
      "218        0.0   0.0          0.0   0.0      0.0     0.0     0.0    0.0   \n",
      "219        0.0   0.0          0.0   0.0      0.0     0.0     0.0    0.0   \n",
      "\n",
      "     republic  halfextinguished  ...  hoped  recovered  joined  conduct  \\\n",
      "0    0.000000               0.0  ...    0.0   0.000000     0.0      0.0   \n",
      "1    0.510348               0.0  ...    0.0   0.000000     0.0      0.0   \n",
      "2    0.000000               0.0  ...    0.0   0.000000     0.0      0.0   \n",
      "3    0.000000               0.0  ...    0.0   0.000000     0.0      0.0   \n",
      "4    0.000000               0.0  ...    0.0   0.000000     0.0      0.0   \n",
      "..        ...               ...  ...    ...        ...     ...      ...   \n",
      "215  0.000000               0.0  ...    0.0   0.000000     0.0      0.0   \n",
      "216  0.000000               0.0  ...    0.0   0.000000     0.0      0.0   \n",
      "217  0.000000               0.0  ...    0.0   0.000000     0.0      0.0   \n",
      "218  0.000000               0.0  ...    0.0   0.408279     0.0      0.0   \n",
      "219  0.000000               0.0  ...    0.0   0.000000     0.0      0.0   \n",
      "\n",
      "     particularly  light  disposition  house  lucerne  spirit  \n",
      "0             0.0    0.0          0.0    0.0      0.0     0.0  \n",
      "1             0.0    0.0          0.0    0.0      0.0     0.0  \n",
      "2             0.0    0.0          0.0    0.0      0.0     0.0  \n",
      "3             0.0    0.0          0.0    0.0      0.0     0.0  \n",
      "4             0.0    0.0          0.0    0.0      0.0     0.0  \n",
      "..            ...    ...          ...    ...      ...     ...  \n",
      "215           0.0    0.0          0.0    0.0      0.0     0.0  \n",
      "216           0.0    0.0          0.0    0.0      0.0     0.0  \n",
      "217           0.0    0.0          0.0    0.0      0.0     0.0  \n",
      "218           0.0    0.0          0.0    0.0      0.0     0.0  \n",
      "219           0.0    0.0          0.0    0.0      0.0     0.0  \n",
      "\n",
      "[220 rows x 840 columns]\n"
     ]
    }
   ],
   "source": [
    "## Implement TF- IDF ##\n",
    "\n",
    "# Create the dictionary of words\n",
    "final_dictionary=set()\n",
    "for index , row in sentence.iterrows():\n",
    "    split_sentence = row['sentences'].split(\" \")\n",
    "    set_sentence =  set(split_sentence)\n",
    "    final_dictionary = final_dictionary.union(set_sentence)\n",
    "print('length of word dictionary', len(final_dictionary))\n",
    "\n",
    "\n",
    "wordDict = []#pd.DataFrame()\n",
    "for index , row in tqdm(sentence.iterrows()):\n",
    "    split_sentence = row['sentences'].split(\" \")\n",
    "    wordDictA = dict.fromkeys(final_dictionary, 0)\n",
    "    for word in split_sentence:\n",
    "        wordDictA[word]+=1\n",
    "    #print([wordDictA])\n",
    "    wordDict.append(wordDictA.copy())\n",
    "    #print(wordDict)\n",
    "#print(len(wordDict))\n",
    "\n",
    "\n",
    "#Create the Term Frequency for each sentence\n",
    "def computeTF(wordDict, doc):\n",
    "    tfDict = {}\n",
    "    corpusCount = len(doc)\n",
    "    for word, count in wordDict.items():\n",
    "        tfDict[word] = count/float(corpusCount)\n",
    "    return(tfDict)\n",
    "\n",
    "wordDictTF = pd.DataFrame()\n",
    "for index , row in tqdm(sentence.iterrows()):\n",
    "    split_sentence = row['sentences'].split(\" \")\n",
    "    wordDictA = dict.fromkeys(final_dictionary, 0)\n",
    "    for word in split_sentence:\n",
    "        wordDictA[word]+=1\n",
    "    #print([wordDictA])\n",
    "    tfSentence = computeTF(wordDictA, split_sentence)\n",
    "    wordDictTF = wordDictTF.append(tfSentence,ignore_index = True)\n",
    "    #print(wordDict)\n",
    "#print(\"TF word dictionary \\n\",wordDictTF)\n",
    "\n",
    "#Create the IDF for the corpus\n",
    "\n",
    "def computeIDF(docList):\n",
    "    idfDict = {}\n",
    "    N = len(docList)\n",
    "    \n",
    "    idfDict = dict.fromkeys(docList[0].keys(), 0)\n",
    "    for word , val in idfDict.items():\n",
    "        wordcount = 0\n",
    "        for itemlist in docList:\n",
    "            if itemlist[word] > 0:\n",
    "                wordcount = wordcount+1\n",
    "        #print(\"word is \",word)\n",
    "        #print(\"val is \",wordcount )\n",
    "        \n",
    "        idfDict[word] = math.log10(N / (float(wordcount) + 1))\n",
    "        \n",
    "    return(idfDict)\n",
    "idfs = computeIDF(wordDict)\n",
    "#print(idfs)\n",
    "\n",
    "# Calculate TF- IDF\n",
    "FinalTFIDF = pd.DataFrame()\n",
    "def computeTFIDF(tfBow, idfs):\n",
    "    tfidf = {}\n",
    "    for word, val in tfBow.items():\n",
    "        tfidf[word] = val*idfs[word]\n",
    "    return(tfidf)\n",
    "\n",
    "for index , row in tqdm(wordDictTF.iterrows()):\n",
    "    tfIDF = computeTFIDF(row.to_dict(), idfs)\n",
    "    FinalTFIDF = FinalTFIDF.append(tfIDF,ignore_index = True)\n",
    "\n",
    "# Print the TF IDF Vector final\n",
    "print(\"Final TD IDF Vector: \\n\",FinalTFIDF)"
   ]
  },
  {
   "cell_type": "code",
   "execution_count": 7,
   "metadata": {},
   "outputs": [
    {
     "name": "stdout",
     "output_type": "stream",
     "text": [
      "Top 10 words with the highest TFIDF value:\n",
      " life          0.010577\n",
      "country       0.009362\n",
      "infidels      0.009279\n",
      "father        0.008167\n",
      "return        0.006848\n",
      "university    0.006592\n",
      "family        0.006592\n",
      "elizabeth     0.006225\n",
      "ingolstadt    0.006197\n",
      "ernest        0.006101\n",
      "dtype: float64\n"
     ]
    }
   ],
   "source": [
    "# Top 10 words with highest TF-IDF value\n",
    "\n",
    "print(\"Top 10 words with the highest TFIDF value:\\n\",FinalTFIDF.mean().sort_values(ascending=False)[:10])"
   ]
  },
  {
   "cell_type": "code",
   "execution_count": 8,
   "metadata": {},
   "outputs": [
    {
     "name": "stdout",
     "output_type": "stream",
     "text": [
      "\n",
      "TD-IDF Vectorizer\n",
      "\n",
      "     7th  able  absence  absent  abstruse  accompanied  accomplishment  \\\n",
      "0    0.0   0.0      0.0     0.0       0.0          0.0             0.0   \n",
      "1    0.0   0.0      0.0     0.0       0.0          0.0             0.0   \n",
      "2    0.0   0.0      0.0     0.0       0.0          0.0             0.0   \n",
      "3    0.0   0.0      0.0     0.0       0.0          0.0             0.0   \n",
      "4    0.0   0.0      0.0     0.0       0.0          0.0             0.0   \n",
      "..   ...   ...      ...     ...       ...          ...             ...   \n",
      "215  0.0   0.0      0.0     0.0       0.0          0.0             0.0   \n",
      "216  0.0   0.0      0.0     0.0       0.0          0.0             0.0   \n",
      "217  0.0   0.0      0.0     0.0       0.0          0.0             0.0   \n",
      "218  0.0   0.0      0.0     0.0       0.0          0.0             0.0   \n",
      "219  0.0   0.0      0.0     0.0       0.0          0.0             0.0   \n",
      "\n",
      "     accordingly  account  acquaintance  ...  write  writes  writeto  written  \\\n",
      "0            0.0      0.0           0.0  ...    0.0     0.0      0.0      0.0   \n",
      "1            0.0      0.0           0.0  ...    0.0     0.0      0.0      0.0   \n",
      "2            0.0      0.0           0.0  ...    0.0     0.0      0.0      0.0   \n",
      "3            0.0      0.0           0.0  ...    0.0     0.0      0.0      0.0   \n",
      "4            0.0      0.0           0.0  ...    0.0     0.0      0.0      0.0   \n",
      "..           ...      ...           ...  ...    ...     ...      ...      ...   \n",
      "215          0.0      0.0           0.0  ...    0.0     0.0      0.0      0.0   \n",
      "216          0.0      0.0           0.0  ...    0.0     0.0      0.0      0.0   \n",
      "217          0.0      0.0           0.0  ...    0.0     0.0      0.0      0.0   \n",
      "218          0.0      0.0           0.0  ...    0.0     0.0      0.0      0.0   \n",
      "219          0.0      0.0           0.0  ...    0.0     0.0      0.0      0.0   \n",
      "\n",
      "     year     years  yellow  yield  yielded  younger  \n",
      "0     0.0  0.000000     0.0    0.0      0.0      0.0  \n",
      "1     0.0  0.444408     0.0    0.0      0.0      0.0  \n",
      "2     0.0  0.000000     0.0    0.0      0.0      0.0  \n",
      "3     0.0  0.000000     0.0    0.0      0.0      0.0  \n",
      "4     0.0  0.000000     0.0    0.0      0.0      0.0  \n",
      "..    ...       ...     ...    ...      ...      ...  \n",
      "215   0.0  0.000000     0.0    0.0      0.0      0.0  \n",
      "216   0.0  0.000000     0.0    0.0      0.0      0.0  \n",
      "217   0.0  0.000000     0.0    0.0      0.0      0.0  \n",
      "218   0.0  0.000000     0.0    0.0      0.0      0.0  \n",
      "219   0.0  0.000000     0.0    0.0      0.0      0.0  \n",
      "\n",
      "[220 rows x 829 columns]\n",
      "Top 10 words with the highest TFIDF value:\n",
      " life         0.012576\n",
      "father       0.010263\n",
      "country      0.010017\n",
      "return       0.008079\n",
      "elizabeth    0.007678\n",
      "long         0.007471\n",
      "ernest       0.007360\n",
      "years        0.007303\n",
      "happy        0.007277\n",
      "day          0.007198\n",
      "dtype: float64\n"
     ]
    }
   ],
   "source": [
    "## Extract TF-IDF Vector using library - Extra done to check the accuracy of the self implemented TF-IDF algorithm ##\n",
    "\n",
    "# instantiate the vectorizer object\n",
    "tfidfvectorizer = TfidfVectorizer(analyzer='word',stop_words= 'english')\n",
    "# convert th sentences into a matrix\n",
    "#hf = sentence['sentences'].values #[\" \".join(review) for review in sentence['sentences'].values]\n",
    "hf = [\" \".join(review) for review in sentence['sentences'].values]\n",
    "'''\n",
    "for review in tqdm(sentence['sentences'].values):\n",
    "    hf = hf + \" \" + review\n",
    "'''\n",
    "#print(hf)\n",
    "tfidf_wm = tfidfvectorizer.fit_transform(sentence['sentences'])# becauase TFIDF vectorizer takes texts and not lists\n",
    "#retrieve the terms found in the corpora\n",
    "\n",
    "\n",
    "tfidf_tokens = tfidfvectorizer.get_feature_names()\n",
    "df_tfidfvect = pd.DataFrame(data = tfidf_wm.toarray(),columns = tfidf_tokens)#index = ['Doc1','Doc2'])\n",
    "\n",
    "print(\"\\nTD-IDF Vectorizer\\n\")\n",
    "print(df_tfidfvect)\n",
    "\n",
    "\n",
    "print(\"Top 10 words with the highest TFIDF value:\\n\",df_tfidfvect.mean().sort_values(ascending=False)[:10])"
   ]
  },
  {
   "cell_type": "markdown",
   "metadata": {},
   "source": [
    "# Perform Part of Speech Tagging using the Viterbi Algorithm, \n",
    "\n",
    "\n",
    "6) Label the cleaned Tf-IDF dataset ( obtained after performing step 1 and step 2 )   ( 2 Mark )\n",
    "\n",
    "7) Split the Train and the Test Dataset                      (1 Mark)\n",
    "\n",
    "8) Implement the Viterbi Algorithm ( you can use Library) to get the Part of Speech Tagging.        ( 3 Marks)\n",
    "\n",
    "9) Calculate the Accuracy and F1 score. ( Number of Predicted Correct Tag in the test set / Total number of Data points in the test set)   (2 Marks)"
   ]
  },
  {
   "cell_type": "code",
   "execution_count": 9,
   "metadata": {},
   "outputs": [
    {
     "name": "stdout",
     "output_type": "stream",
     "text": [
      "[[('birth', 'NN'), ('genevese', 'JJ'), ('family', 'NN')], [('distinguished', 'VBN'), ('republic', 'JJ'), ('ancestors', 'NNS'), ('years', 'NNS')], [('counsellors', 'NNS'), ('syndics', 'VBP'), ('father', 'RB'), ('filled', 'VBN'), ('public', 'NN')], [('situations', 'NNS'), ('honour', 'VBP'), ('reputation', 'NN'), ('respected', 'VBD')], [('knew', 'JJ'), ('integrity', 'NN'), ('indefatigable', 'JJ'), ('attention', 'NN'), ('public', 'NN')], [('business', 'NN'), ('passed', 'VBD'), ('younger', 'JJR'), ('days', 'NNS'), ('perpetually', 'RB'), ('occupied', 'VBD')], [('affairs', 'NNS'), ('country', 'NN'), ('variety', 'NN'), ('circumstances', 'NNS'), ('prevented', 'VBD')], [('marrying', 'VBG'), ('early', 'JJ'), ('decline', 'NN'), ('life', 'NN')], [('husband', 'NN'), ('father', 'RBR'), ('family', 'NN')], [('circumstances', 'NNS'), ('marriage', 'NN'), ('illustrate', 'VBP'), ('character', 'NN')], [('refrain', 'NN'), ('relating', 'VBG'), ('one', 'CD'), ('intimate', 'NN'), ('friends', 'NNS')], [('merchant', 'NN'), ('flourishing', 'VBG'), ('state', 'NN'), ('fell', 'VBD'), ('numerous', 'JJ')], [('mischances', 'NNS'), ('poverty', 'VBP'), ('man', 'NN'), ('beaufort', 'NN')], [('proud', 'JJ'), ('unbending', 'JJ'), ('disposition', 'NN'), ('bear', 'IN'), ('live', 'JJ'), ('poverty', 'NN')], [('oblivion', 'NN'), ('country', 'NN')], [('distinguished', 'VBN'), ('rank', 'NN'), ('magnificence', 'NN'), ('paid', 'VBD'), ('debts', 'NNS')], [('honourable', 'JJ'), ('manner', 'NN'), ('retreated', 'VBD')], [('daughter', 'NN'), ('town', 'NN'), ('lucerne', 'JJ'), ('lived', 'VBD'), ('unknown', 'JJ')], [('wretchedness', 'NN'), ('father', 'NN'), ('loved', 'VBD'), ('beaufort', 'NN'), ('truest', 'NN'), ('friendship', 'NN')], [('deeply', 'RB'), ('grieved', 'VBN'), ('retreat', 'NN'), ('unfortunate', 'JJ'), ('circumstances', 'NNS')], [('bitterly', 'RB'), ('deplored', 'VBN'), ('false', 'JJ'), ('pride', 'NN'), ('led', 'VBD'), ('friend', 'NN'), ('conduct', 'NN')], [('little', 'JJ'), ('worthy', 'JJ'), ('affection', 'NN'), ('united', 'VBD'), ('lost', 'JJ'), ('time', 'NN')], [('endeavouring', 'VBG'), ('seek', 'JJ'), ('hope', 'NN'), ('persuading', 'VBG'), ('begin', 'VB')], [('world', 'NN'), ('credit', 'NN'), ('assistance', 'NN')], [('brought', 'JJ'), ('year', 'NN'), ('difference', 'NN')], [('ages', 'NNS'), ('need', 'VBP'), ('strangers', 'NNS'), ('species', 'NNS')], [('disunion', 'NN'), ('dispute', 'NN'), ('harmony', 'NN'), ('soul', 'NN'), ('companionship', 'NN')], [('diversity', 'NN'), ('contrast', 'NN'), ('subsisted', 'VBD'), ('characters', 'NNS'), ('drew', 'VBD')], [('nearer', 'NN'), ('elizabeth', 'VBZ'), ('calmer', 'NN'), ('concentrated', 'VBD')], [('disposition', 'NN'), ('ardour', 'NN'), ('capable', 'JJ'), ('intense', 'NN')], [('application', 'NN'), ('deeply', 'RB'), ('smitten', 'JJ'), ('thirst', 'JJ'), ('knowledge', 'NN')], [('busied', 'VBN'), ('following', 'VBG'), ('aerial', 'JJ'), ('creations', 'NNS'), ('poets', 'NNS')], [('majestic', 'JJ'), ('wondrous', 'JJ'), ('scenes', 'NNS'), ('surrounded', 'VBD'), ('swiss', 'JJ')], [('home', 'NN'), ('the', 'DT'), ('sublime', 'JJ'), ('shapes', 'NNS'), ('mountains', 'NNS'), ('changes', 'NNS'), ('seasons', 'NNS')], [('tempest', 'JJS'), ('calm', 'NN'), ('silence', 'NN'), ('winter', 'NN'), ('life', 'NN'), ('turbulence', 'NN')], [('alpine', 'NN'), ('summersshe', 'NN'), ('ample', 'JJ'), ('scope', 'NN'), ('admiration', 'NN'), ('delight', 'NN')], [('companion', 'NN'), ('contemplated', 'VBD'), ('satisfied', 'JJ'), ('spirit', 'NN')], [('magnificent', 'JJ'), ('appearances', 'NNS'), ('things', 'NNS'), ('delighted', 'VBD'), ('investigating', 'VBG')], [('causes', 'NNS'), ('world', 'NN'), ('secret', 'NN'), ('desired', 'VBD'), ('divine', 'NN')], [('curiosity', 'NN'), ('earnest', 'JJS'), ('research', 'NN'), ('learn', 'NN'), ('hidden', 'VBD'), ('laws', 'NNS'), ('nature', 'NN')], [('gladness', 'NN'), ('akin', 'JJ'), ('rapture', 'NN'), ('unfolded', 'VBD')], [('earliest', 'JJS'), ('sensations', 'NNS'), ('remember', 'VB')], [('birth', 'JJ'), ('second', 'JJ'), ('son', 'NN'), ('junior', 'JJ'), ('seven', 'CD'), ('years', 'NNS'), ('parents', 'NNS'), ('gave', 'VBD')], [('entirely', 'RB'), ('wandering', 'VBG'), ('life', 'NN'), ('fixed', 'VBN'), ('native', 'JJ')], [('country', 'NN'), ('possessed', 'VBD'), ('house', 'NN'), ('geneva', 'NN'), ('campagne', 'NN'), ('belrive', 'NN')], [('eastern', 'JJ'), ('shore', 'RB'), ('lake', 'JJ'), ('distance', 'NN')], [('league', 'JJ'), ('city', 'NN'), ('resided', 'VBD'), ('principally', 'RB')], [('lives', 'NNS'), ('parents', 'NNS'), ('passed', 'VBD'), ('considerable', 'JJ'), ('seclusion', 'NN')], [('temper', 'NN'), ('avoid', 'NN'), ('crowd', 'NN'), ('attach', 'VBP'), ('fervently', 'RB')], [('indifferent', 'NN'), ('schoolfellows', 'VBZ'), ('general', 'JJ'), ('united', 'JJ')], [('bonds', 'NNS'), ('closest', 'JJS'), ('friendship', 'NN'), ('henry', 'NN')], [('clerval', 'JJ'), ('son', 'NN'), ('merchant', 'NN'), ('geneva', 'NN'), ('boy', 'NN'), ('singular', 'NN')], [('talent', 'NN'), ('fancy', 'NN'), ('loved', 'VBD'), ('enterprise', 'JJ'), ('hardship', 'NN'), ('danger', 'NN')], [('sake', 'VB'), ('deeply', 'NN'), ('read', 'JJ'), ('books', 'NNS'), ('chivalry', 'VBP'), ('romance', 'NN')], [('composed', 'VBN'), ('heroic', 'JJ'), ('songs', 'NNS'), ('began', 'VBD'), ('write', 'JJ'), ('tale', 'NN'), ('enchantment', 'NN')], [('knightly', 'RB'), ('adventure', 'NN'), ('tried', 'VBN'), ('act', 'NN'), ('plays', 'VBZ'), ('enter', 'NN')], [('masquerades', 'NNS'), ('characters', 'NNS'), ('drawn', 'VBP'), ('heroes', 'NNS')], [('roncesvalles', 'NNS'), ('round', 'VBP'), ('table', 'JJ'), ('king', 'NN'), ('arthur', 'RB'), ('chivalrous', 'JJ')], [('train', 'NN'), ('shed', 'VBD'), ('blood', 'NN'), ('redeem', 'NN'), ('holy', 'NN'), ('sepulchre', 'NN'), ('hands', 'NNS')], [('infidels', 'NNS')], [('attained', 'VBN'), ('age', 'NN'), ('seventeen', 'JJ'), ('parents', 'NNS'), ('resolved', 'VBD')], [('student', 'NN'), ('university', 'NN'), ('ingolstadt', 'NN')], [('hitherto', 'NN'), ('attended', 'VBD'), ('schools', 'NNS'), ('geneva', 'FW'), ('father', 'RB'), ('thought', 'VBD')], [('necessary', 'JJ'), ('completion', 'NN'), ('education', 'NN')], [('acquainted', 'VBN'), ('customs', 'NNS'), ('native', 'JJ'), ('country', 'NN')], [('departure', 'NN'), ('fixed', 'VBD'), ('early', 'JJ'), ('date', 'NN'), ('day', 'NN')], [('resolved', 'VBN'), ('arrive', 'JJ'), ('misfortune', 'NN'), ('life', 'NN')], [('occurredan', 'JJ'), ('omen', 'NNS'), ('future', 'JJ'), ('misery', 'NN')], [('elizabeth', 'RB'), ('caught', 'VBN'), ('scarlet', 'NN'), ('fever', 'NN'), ('illness', 'NN'), ('severe', 'JJ')], [('greatest', 'JJS'), ('danger', 'NN'), ('illness', 'NN'), ('arguments', 'NNS'), ('urged', 'VBD')], [('persuade', 'NN'), ('mother', 'NN'), ('refrain', 'NN'), ('attending', 'VBG')], [('yielded', 'VBN'), ('entreaties', 'NNS'), ('heard', 'VBD'), ('life', 'NN')], [('favourite', 'RB'), ('menaced', 'VBN'), ('longer', 'JJR'), ('control', 'NN'), ('anxiety', 'NN')], [('attended', 'VBN'), ('sickbed', 'JJ'), ('watchful', 'JJ'), ('attentions', 'NNS'), ('triumphed', 'VBD'), ('malignity', 'NN')], [('distemperelizabeth', 'NNS'), ('saved', 'VBD'), ('consequences', 'NNS')], [('imprudence', 'NN'), ('fatal', 'JJ'), ('preserver', 'RB'), ('day', 'NN'), ('mother', 'NN')], [('sickened', 'VBN'), ('fever', 'RB'), ('accompanied', 'VBN'), ('alarming', 'NN'), ('symptoms', 'NNS')], [('looks', 'VBZ'), ('medical', 'JJ'), ('attendants', 'NNS'), ('prognosticated', 'VBN'), ('worst', 'CD'), ('event', 'NN')], [('deathbed', 'VBN'), ('fortitude', 'JJ'), ('benignity', 'NN'), ('best', 'JJS'), ('women', 'NNS'), ('desert', 'NN')], [('joined', 'VBN'), ('hands', 'NNS'), ('elizabeth', 'RBR'), ('my', 'PRP$')], [('children', 'NNS'), ('said', 'VBD'), ('my', 'PRP$'), ('firmest', 'JJS'), ('hopes', 'VBZ'), ('future', 'JJ'), ('happiness', 'NN')], [('placed', 'VBN'), ('prospect', 'JJ'), ('union', 'NN'), ('expectation', 'NN')], [('consolation', 'NN'), ('father', 'NN'), ('elizabeth', 'VBZ'), ('love', 'VBP'), ('supply', 'NN'), ('place', 'NN')], [('younger', 'JJR'), ('children', 'NNS'), ('alas', 'VBP'), ('regret', 'NN'), ('taken', 'VBN'), ('happy', 'JJ')], [('beloved', 'VBN'), ('hard', 'JJ'), ('quit', 'NN')], [('thoughts', 'NNS'), ('befitting', 'VBG'), ('endeavour', 'JJ'), ('resign', 'NN'), ('cheerfully', 'RB')], [('death', 'NN'), ('indulge', 'NNS'), ('hope', 'VBP'), ('meeting', 'NN'), ('world', 'NN')], [('day', 'NN'), ('natural', 'JJ'), ('philosophy', 'NN'), ('particularly', 'RB'), ('chemistry', 'NN')], [('comprehensive', 'JJ'), ('sense', 'NN'), ('term', 'NN'), ('nearly', 'RB'), ('sole', 'JJ'), ('occupation', 'NN')], [('read', 'VB'), ('ardour', 'NN'), ('works', 'NNS'), ('genius', 'VBP'), ('discrimination', 'NN')], [('modern', 'JJ'), ('inquirers', 'NNS'), ('written', 'VBN'), ('subjects', 'NNS'), ('attended', 'VBD')], [('lectures', 'NNS'), ('cultivated', 'VBD'), ('acquaintance', 'NN'), ('men', 'NNS'), ('science', 'NN')], [('university', 'NN'), ('krempe', 'VBZ'), ('great', 'JJ'), ('deal', 'NN'), ('sound', 'NN'), ('sense', 'NN')], [('real', 'JJ'), ('information', 'NN'), ('combined', 'VBN'), ('true', 'JJ'), ('repulsive', 'NN')], [('physiognomy', 'NN'), ('manners', 'NNS'), ('account', 'VBP'), ('valuable', 'JJ')], [('waldman', 'JJ'), ('true', 'JJ'), ('friend', 'NN'), ('gentleness', 'NN'), ('tinged', 'VBD')], [('dogmatism', 'NN'), ('instructions', 'NNS'), ('given', 'VBN'), ('air', 'NN'), ('frankness', 'NN')], [('good', 'JJ'), ('nature', 'NN'), ('banished', 'VBD'), ('idea', 'NN'), ('pedantry', 'NN'), ('thousand', 'CD'), ('ways', 'NNS')], [('smoothed', 'VBN'), ('path', 'NN'), ('knowledge', 'NN'), ('abstruse', 'NN')], [('inquiries', 'NNS'), ('clear', 'VBP'), ('facile', 'JJ'), ('apprehension', 'NN'), ('application', 'NN')], [('fluctuating', 'VBG'), ('uncertain', 'JJ'), ('gained', 'JJ'), ('strength', 'NN'), ('proceeded', 'VBD')], [('soon', 'RB'), ('ardent', 'JJ'), ('eager', 'JJ'), ('stars', 'NNS'), ('disappeared', 'VBD')], [('light', 'JJ'), ('morning', 'NN'), ('whilst', 'NN'), ('engaged', 'VBD'), ('laboratory', 'NN')], [('applied', 'VBN'), ('closely', 'RB'), ('easily', 'RB'), ('conceived', 'VBN'), ('progress', 'NN')], [('rapid', 'JJ'), ('ardour', 'CD'), ('astonishment', 'NN'), ('students', 'NNS')], [('proficiency', 'NN'), ('masters', 'NNS'), ('professor', 'VBP'), ('krempe', 'NN'), ('asked', 'VBD')], [('sly', 'RB'), ('smile', 'JJ'), ('cornelius', 'NN'), ('agrippa', 'NN'), ('went', 'VBD'), ('whilst', 'JJ'), ('waldman', 'NN')], [('expressed', 'VBN'), ('heartfelt', 'NN'), ('exultation', 'NN'), ('progress', 'NN'), ('two', 'CD'), ('years', 'NNS')], [('passed', 'VBN'), ('manner', 'NN'), ('paid', 'VBN'), ('visit', 'NN'), ('geneva', 'NN')], [('engaged', 'VBN'), ('heart', 'NN'), ('soul', 'NN'), ('pursuit', 'NN'), ('discoveries', 'NNS')], [('hoped', 'VBD'), ('none', 'NN'), ('experienced', 'VBD'), ('conceive', 'JJ')], [('enticements', 'NNS'), ('science', 'NN'), ('studies', 'NNS'), ('far', 'RB')], [('gone', 'VBN'), ('know', 'JJ')], [('scientific', 'JJ'), ('pursuit', 'NN'), ('continual', 'JJ'), ('food', 'NN'), ('discovery', 'NN'), ('wonder', 'NN')], [('mind', 'NN'), ('moderate', 'JJ'), ('capacity', 'NN'), ('closely', 'RB'), ('pursues', 'VBZ'), ('study', 'NN')], [('infallibly', 'RB'), ('arrive', 'JJ'), ('great', 'JJ'), ('proficiency', 'NN'), ('study', 'NN')], [('continually', 'RB'), ('sought', 'VBN'), ('attainment', 'NN'), ('object', 'NN'), ('pursuit', 'NN')], [('solely', 'RB'), ('wrapped', 'VBD'), ('improved', 'VBN'), ('rapidly', 'RB'), ('end', 'VB')], [('years', 'NNS'), ('discoveries', 'VBZ'), ('improvement', 'NN'), ('chemical', 'NN')], [('instruments', 'NNS'), ('procured', 'VBD'), ('great', 'JJ'), ('esteem', 'JJ'), ('admiration', 'NN')], [('university', 'NN'), ('arrived', 'VBD'), ('point', 'NN')], [('acquainted', 'VBN'), ('theory', 'NN'), ('practice', 'NN'), ('natural', 'JJ'), ('philosophy', 'NN')], [('depended', 'JJ'), ('lessons', 'NNS'), ('professors', 'NNS'), ('ingolstadt', 'VBP')], [('residence', 'NN'), ('longer', 'RBR'), ('conducive', 'JJ'), ('improvements', 'NNS'), ('thought', 'VBD')], [('returning', 'VBG'), ('friends', 'NNS'), ('native', 'JJ'), ('town', 'NN'), ('incident', 'NN')], [('happened', 'VBN'), ('protracted', 'VBD'), ('stay', 'NN')], [('dreary', 'JJ'), ('night', 'NN'), ('november', 'NNP'), ('beheld', 'VBD'), ('accomplishment', 'NN')], [('toils', 'NNS'), ('anxiety', 'NN'), ('amounted', 'VBD'), ('agony', 'NN')], [('collected', 'VBN'), ('instruments', 'NNS'), ('life', 'NN'), ('infuse', 'NN')], [('spark', 'NN'), ('lifeless', 'JJ'), ('thing', 'NN'), ('lay', 'VBD'), ('feet', 'NNS')], [('morning', 'NN'), ('rain', 'NN'), ('pattered', 'VBD'), ('dismally', 'RB')], [('panes', 'NNS'), ('candle', 'VBP'), ('nearly', 'RB'), ('burnt', 'JJ'), ('glimmer', 'NN')], [('halfextinguished', 'VBN'), ('light', 'NN'), ('saw', 'VBD'), ('dull', 'JJ'), ('yellow', 'JJ'), ('eye', 'NN'), ('creature', 'NN')], [('open', 'JJ'), ('breathed', 'VBD'), ('hard', 'JJ'), ('convulsive', 'JJ'), ('motion', 'NN'), ('agitated', 'VBD'), ('limbs', 'NNS')], [('emotions', 'NNS'), ('catastrophe', 'VBP'), ('delineate', 'NN')], [('wretch', 'NN'), ('infinite', 'NN'), ('pains', 'NNS'), ('care', 'NN'), ('endeavoured', 'VBD')], [('form', 'NN'), ('limbs', 'VBZ'), ('proportion', 'NN'), ('selected', 'VBD'), ('features', 'NNS')], [('beautiful', 'JJ'), ('beautiful', 'JJ'), ('great', 'JJ'), ('god', 'NN'), ('yellow', 'JJ'), ('skin', 'NN'), ('scarcely', 'RB'), ('covered', 'VBD')], [('work', 'NN'), ('muscles', 'NNS'), ('arteries', 'NNS'), ('beneath', 'VBP'), ('hair', 'NN'), ('lustrous', 'JJ')], [('black', 'JJ'), ('flowing', 'VBG'), ('teeth', 'JJ'), ('pearly', 'RB'), ('whiteness', 'NN')], [('luxuriances', 'NNS'), ('formed', 'VBD'), ('horrid', 'JJ'), ('contrast', 'NN'), ('watery', 'NN'), ('eyes', 'NNS')], [('colour', 'NN'), ('dunwhite', 'NN'), ('sockets', 'NNS')], [('set', 'NN'), ('shrivelled', 'VBD'), ('complexion', 'NN'), ('straight', 'RB'), ('black', 'JJ'), ('lips', 'NNS')], [('chapter', 'NN'), ('6', 'CD')], [('you', 'PRP'), ('ill', 'VBP'), ('ill', 'VB'), ('constant', 'JJ'), ('letters', 'NNS'), ('dear', 'VBP')], [('kind', 'NN'), ('henry', 'NN'), ('sufficient', 'JJ'), ('reassure', 'NN'), ('account', 'NN')], [('forbidden', 'JJ'), ('writeto', 'NN'), ('hold', 'NN'), ('pen', 'JJ'), ('word', 'NN'), ('dear', 'NN'), ('victor', 'NN')], [('necessary', 'JJ'), ('calm', 'NN'), ('apprehensions', 'NNS'), ('long', 'JJ'), ('time', 'NN'), ('thought', 'NN')], [('post', 'NN'), ('bring', 'NN'), ('line', 'NN'), ('persuasions', 'NNS')], [('restrained', 'VBN'), ('uncle', 'JJ'), ('undertaking', 'VBG'), ('journey', 'NN'), ('ingolstadt', 'NN')], [('prevented', 'VBN'), ('encountering', 'NN'), ('inconveniences', 'NNS'), ('dangers', 'NNS')], [('long', 'JJ'), ('journey', 'NN'), ('regretted', 'VBN'), ('able', 'JJ')], [('perform', 'JJ'), ('figure', 'NN'), ('task', 'NN'), ('attending', 'VBG')], [('sickbed', 'VBN'), ('devolved', 'JJ'), ('mercenary', 'JJ'), ('old', 'JJ'), ('nurse', 'NN')], [('guess', 'NN'), ('wishes', 'NNS'), ('minister', 'NN'), ('care', 'NN'), ('affection', 'NN')], [('poor', 'JJ'), ('cousin', 'NN'), ('yet', 'RB'), ('clerval', 'JJ'), ('writes', 'NNS')], [('getting', 'VBG'), ('better', 'JJR'), ('eagerly', 'RB'), ('hope', 'VBP'), ('confirm', 'NN')], [('intelligence', 'NN'), ('soon', 'RB'), ('handwriting', 'VBG')], [('get', 'NN'), ('welland', 'WRB'), ('return', 'NN'), ('happy', 'JJ'), ('cheerful', 'JJ'), ('home', 'NN')], [('friends', 'NNS'), ('love', 'VBP'), ('dearly', 'RB'), ('fathers', 'NNS'), ('health', 'NN'), ('vigorous', 'JJ')], [('asks', 'NNS'), ('assured', 'VBD')], [('care', 'NN'), ('cloud', 'JJ'), ('benevolent', 'NN'), ('countenance', 'NN'), ('pleased', 'VBD')], [('remark', 'NN'), ('improvement', 'NN'), ('ernest', 'JJS'), ('sixteen', 'NN')], [('activity', 'NN'), ('spirit', 'VBP'), ('desirous', 'JJ'), ('true', 'JJ'), ('swiss', 'JJ'), ('enter', 'NN')], [('foreign', 'JJ'), ('service', 'NN')], [('elder', 'NN'), ('brother', 'NN'), ('returns', 'NNS'), ('uncle', 'VBP'), ('pleased', 'JJ'), ('idea', 'NN')], [('military', 'JJ'), ('career', 'NN'), ('distant', 'JJ'), ('country', 'NN'), ('ernest', 'JJS')], [('powers', 'NNS'), ('application', 'VBP'), ('looks', 'VBZ'), ('study', 'VBP'), ('odious', 'JJ'), ('fetter', 'NN')], [('time', 'NN'), ('spent', 'VBN'), ('open', 'JJ'), ('air', 'NN'), ('climbing', 'VBG'), ('hills', 'NNS'), ('rowing', 'VBG')], [('lake', 'NN'), ('fear', 'NN'), ('idler', 'JJ'), ('yield', 'NN'), ('point', 'NN')], [('permit', 'NN'), ('enter', 'NN'), ('profession', 'NN'), ('selected', 'VBD')], [('you', 'PRP'), ('probably', 'RB'), ('waited', 'VBD'), ('impatiently', 'RB'), ('letter', 'NN'), ('fix', 'NN'), ('date', 'NN')], [('return', 'NN'), ('tempted', 'VBD'), ('write', 'JJ')], [('lines', 'NNS'), ('merely', 'RB'), ('mentioning', 'VBG'), ('day', 'NN'), ('expect', 'VB')], [('cruel', 'NN'), ('kindness', 'NN'), ('dare', 'NN')], [('surprise', 'NN'), ('son', 'NN'), ('expected', 'VBD'), ('happy', 'JJ'), ('glad', 'JJ'), ('welcome', 'NN')], [('behold', 'JJ'), ('contrary', 'JJ'), ('tears', 'NNS'), ('wretchedness', 'JJ'), ('victor', 'NN')], [('relate', 'NN'), ('misfortune', 'NN'), ('absence', 'NN'), ('rendered', 'VBD'), ('callous', 'JJ')], [('joys', 'NNS'), ('griefs', 'VBP'), ('shall', 'MD'), ('inflict', 'VB'), ('pain', 'NN'), ('long', 'JJ'), ('absent', 'NN')], [('son', 'NN'), ('wish', 'JJ'), ('prepare', 'NN'), ('woeful', 'JJ'), ('news', 'NN'), ('know', 'NNS')], [('impossible', 'JJ'), ('eye', 'NN'), ('skims', 'NNS'), ('page', 'VBP'), ('seek', 'JJ'), ('words', 'NNS')], [('convey', 'NN'), ('horrible', 'JJ'), ('tidings', 'NNS')], [('last', 'JJ'), ('thursday', 'NN'), ('may', 'MD'), ('7th', 'VB'), ('niece', 'NN'), ('brothers', 'NNS'), ('went', 'VBD')], [('walk', 'NN'), ('plainpalais', 'NN'), ('evening', 'VBG'), ('warm', 'JJ'), ('serene', 'NN'), ('prolonged', 'VBD')], [('walk', 'NN'), ('farther', 'RB'), ('usual', 'JJ'), ('dusk', 'NN'), ('thought', 'VBD')], [('returning', 'VBG'), ('discovered', 'VBN'), ('william', 'JJ'), ('ernest', 'NN'), ('gone', 'VBN')], [('accordingly', 'RB'), ('rested', 'VBN'), ('seat', 'NN')], [('return', 'NN'), ('presently', 'RB'), ('ernest', 'JJS'), ('came', 'VBD'), ('enquired', 'VBN'), ('seen', 'VBN')], [('brother', 'NN'), ('said', 'VBD'), ('playing', 'NN'), ('william', 'NN')], [('run', 'VB'), ('away', 'RP'), ('hide', 'JJ'), ('vainly', 'RB'), ('sought', 'VBD')], [('waited', 'VBN'), ('long', 'JJ'), ('time', 'NN'), ('return', 'NN')], [('passed', 'VBN'), ('sad', 'JJ'), ('hours', 'NNS'), ('oclock', 'VBP'), ('trial', 'NN')], [('commence', 'NN'), ('father', 'NN'), ('rest', 'NN'), ('family', 'NN'), ('obliged', 'VBD'), ('attend', 'NN')], [('witnesses', 'NNS'), ('accompanied', 'VBN'), ('court', 'NN')], [('wretched', 'VBN'), ('mockery', 'NN'), ('justice', 'NN'), ('suffered', 'VBD'), ('living', 'JJ'), ('torture', 'NN')], [('decided', 'VBD'), ('result', 'NN'), ('curiosity', 'NN'), ('lawless', 'NN'), ('devices', 'NNS')], [('cause', 'NN'), ('death', 'NN'), ('fellow', 'JJ'), ('beings', 'NNS'), ('smiling', 'VBG'), ('babe', 'NN')], [('innocence', 'NN'), ('joy', 'NN'), ('far', 'RB'), ('dreadfully', 'RB'), ('murdered', 'VBN')], [('aggravation', 'NN'), ('infamy', 'NN'), ('murder', 'NN'), ('memorable', 'JJ'), ('horror', 'NN')], [('justine', 'NN'), ('girl', 'NN'), ('merit', 'NN'), ('possessed', 'VBD'), ('qualities', 'NNS'), ('promised', 'VBD')], [('render', 'NN'), ('life', 'NN'), ('happy', 'JJ'), ('obliterated', 'VBD')], [('ignominious', 'JJ'), ('grave', 'NN'), ('cause', 'NN'), ('thousand', 'CD'), ('times', 'NNS')], [('confessed', 'VBN'), ('guilty', 'JJ'), ('crime', 'NN'), ('ascribed', 'VBN'), ('justine', 'NN')], [('absent', 'NN'), ('committed', 'VBN'), ('declaration', 'NN')], [('considered', 'VBN'), ('ravings', 'NNS'), ('madman', 'NN')], [('exculpated', 'VBN'), ('suffered', 'VBD')], [('appearance', 'NN'), ('justine', 'NN'), ('calm', 'NN'), ('dressed', 'VBD'), ('mourning', 'VBG')], [('countenance', 'NN'), ('engaging', 'VBG'), ('rendered', 'VBN'), ('solemnity', 'NN')], [('feelings', 'NNS'), ('exquisitely', 'RB'), ('beautiful', 'JJ'), ('yet', 'RB'), ('appeared', 'VBN'), ('confident', 'NN')], [('innocence', 'NN'), ('tremble', 'JJ'), ('gazed', 'VBN'), ('execrated', 'VBD')], [('thousands', 'NNS'), ('kindness', 'JJ'), ('beauty', 'NN')], [('excited', 'VBN'), ('obliterated', 'JJ'), ('minds', 'NNS'), ('spectators', 'NNS')], [('imagination', 'NN'), ('enormity', 'NN'), ('supposed', 'VBN'), ('committed', 'VBD')], [('tranquil', 'JJ'), ('tranquillity', 'NN'), ('evidently', 'RB'), ('constrained', 'VBD')], [('confusion', 'NN'), ('adduced', 'VBD'), ('proof', 'NN'), ('guilt', 'NN')], [('worked', 'VBN'), ('mind', 'NN'), ('appearance', 'NN'), ('courage', 'NN'), ('entered', 'VBD')], [('court', 'NN'), ('threw', 'VBD'), ('eyes', 'NNS'), ('round', 'JJ'), ('quickly', 'RB'), ('discovered', 'VBD')], [('seated', 'VBN'), ('tear', 'JJ'), ('dim', 'NN'), ('eye', 'NN'), ('saw', 'VBD'), ('quickly', 'RB')], [('recovered', 'VBN'), ('look', 'NN'), ('sorrowful', 'JJ'), ('affection', 'NN'), ('attest', 'NN')], [('utter', 'JJ'), ('guiltlessness', 'NN')]]"
     ]
    },
    {
     "name": "stdout",
     "output_type": "stream",
     "text": [
      "\n"
     ]
    }
   ],
   "source": [
    "## Create the POS tagging label for cleaned corpus ##\n",
    "tagged_text = []\n",
    "for index , row in sentence_duplicate.iterrows():\n",
    "      \n",
    "    # Word tokenizers is used to find the words \n",
    "    # and punctuation in a string\n",
    "    wordsList = nltk.word_tokenize(row[\"sentences\"])\n",
    "  \n",
    "    #  Using a Tagger. Which is part-of-speech \n",
    "    # tagger or POS-tagger. \n",
    "    tagged = nltk.pos_tag(wordsList)\n",
    "    tagged_text.extend([tagged])\n",
    "\n",
    "print(tagged_text)"
   ]
  },
  {
   "cell_type": "code",
   "execution_count": 10,
   "metadata": {},
   "outputs": [
    {
     "name": "stdout",
     "output_type": "stream",
     "text": [
      "[[('##', '##'), ('birth', 'NN'), ('genevese', 'JJ'), ('family', 'NN'), ('&&', '&&')], [('##', '##'), ('distinguished', 'VBN'), ('republic', 'JJ'), ('ancestors', 'NNS'), ('years', 'NNS'), ('&&', '&&')], [('##', '##'), ('counsellors', 'NNS'), ('syndics', 'VBP'), ('father', 'RB'), ('filled', 'VBN'), ('public', 'NN'), ('&&', '&&')], [('##', '##'), ('situations', 'NNS'), ('honour', 'VBP'), ('reputation', 'NN'), ('respected', 'VBD'), ('&&', '&&')], [('##', '##'), ('knew', 'JJ'), ('integrity', 'NN'), ('indefatigable', 'JJ'), ('attention', 'NN'), ('public', 'NN'), ('&&', '&&')], [('##', '##'), ('business', 'NN'), ('passed', 'VBD'), ('younger', 'JJR'), ('days', 'NNS'), ('perpetually', 'RB'), ('occupied', 'VBD'), ('&&', '&&')], [('##', '##'), ('affairs', 'NNS'), ('country', 'NN'), ('variety', 'NN'), ('circumstances', 'NNS'), ('prevented', 'VBD'), ('&&', '&&')], [('##', '##'), ('marrying', 'VBG'), ('early', 'JJ'), ('decline', 'NN'), ('life', 'NN'), ('&&', '&&')], [('##', '##'), ('husband', 'NN'), ('father', 'RBR'), ('family', 'NN'), ('&&', '&&')], [('##', '##'), ('circumstances', 'NNS'), ('marriage', 'NN'), ('illustrate', 'VBP'), ('character', 'NN'), ('&&', '&&')], [('##', '##'), ('refrain', 'NN'), ('relating', 'VBG'), ('one', 'CD'), ('intimate', 'NN'), ('friends', 'NNS'), ('&&', '&&')], [('##', '##'), ('merchant', 'NN'), ('flourishing', 'VBG'), ('state', 'NN'), ('fell', 'VBD'), ('numerous', 'JJ'), ('&&', '&&')], [('##', '##'), ('mischances', 'NNS'), ('poverty', 'VBP'), ('man', 'NN'), ('beaufort', 'NN'), ('&&', '&&')], [('##', '##'), ('proud', 'JJ'), ('unbending', 'JJ'), ('disposition', 'NN'), ('bear', 'IN'), ('live', 'JJ'), ('poverty', 'NN'), ('&&', '&&')], [('##', '##'), ('oblivion', 'NN'), ('country', 'NN'), ('&&', '&&')], [('##', '##'), ('distinguished', 'VBN'), ('rank', 'NN'), ('magnificence', 'NN'), ('paid', 'VBD'), ('debts', 'NNS'), ('&&', '&&')], [('##', '##'), ('honourable', 'JJ'), ('manner', 'NN'), ('retreated', 'VBD'), ('&&', '&&')], [('##', '##'), ('daughter', 'NN'), ('town', 'NN'), ('lucerne', 'JJ'), ('lived', 'VBD'), ('unknown', 'JJ'), ('&&', '&&')], [('##', '##'), ('wretchedness', 'NN'), ('father', 'NN'), ('loved', 'VBD'), ('beaufort', 'NN'), ('truest', 'NN'), ('friendship', 'NN'), ('&&', '&&')], [('##', '##'), ('deeply', 'RB'), ('grieved', 'VBN'), ('retreat', 'NN'), ('unfortunate', 'JJ'), ('circumstances', 'NNS'), ('&&', '&&')], [('##', '##'), ('bitterly', 'RB'), ('deplored', 'VBN'), ('false', 'JJ'), ('pride', 'NN'), ('led', 'VBD'), ('friend', 'NN'), ('conduct', 'NN'), ('&&', '&&')], [('##', '##'), ('little', 'JJ'), ('worthy', 'JJ'), ('affection', 'NN'), ('united', 'VBD'), ('lost', 'JJ'), ('time', 'NN'), ('&&', '&&')], [('##', '##'), ('endeavouring', 'VBG'), ('seek', 'JJ'), ('hope', 'NN'), ('persuading', 'VBG'), ('begin', 'VB'), ('&&', '&&')], [('##', '##'), ('world', 'NN'), ('credit', 'NN'), ('assistance', 'NN'), ('&&', '&&')], [('##', '##'), ('brought', 'JJ'), ('year', 'NN'), ('difference', 'NN'), ('&&', '&&')], [('##', '##'), ('ages', 'NNS'), ('need', 'VBP'), ('strangers', 'NNS'), ('species', 'NNS'), ('&&', '&&')], [('##', '##'), ('disunion', 'NN'), ('dispute', 'NN'), ('harmony', 'NN'), ('soul', 'NN'), ('companionship', 'NN'), ('&&', '&&')], [('##', '##'), ('diversity', 'NN'), ('contrast', 'NN'), ('subsisted', 'VBD'), ('characters', 'NNS'), ('drew', 'VBD'), ('&&', '&&')], [('##', '##'), ('nearer', 'NN'), ('elizabeth', 'VBZ'), ('calmer', 'NN'), ('concentrated', 'VBD'), ('&&', '&&')], [('##', '##'), ('disposition', 'NN'), ('ardour', 'NN'), ('capable', 'JJ'), ('intense', 'NN'), ('&&', '&&')], [('##', '##'), ('application', 'NN'), ('deeply', 'RB'), ('smitten', 'JJ'), ('thirst', 'JJ'), ('knowledge', 'NN'), ('&&', '&&')], [('##', '##'), ('busied', 'VBN'), ('following', 'VBG'), ('aerial', 'JJ'), ('creations', 'NNS'), ('poets', 'NNS'), ('&&', '&&')], [('##', '##'), ('majestic', 'JJ'), ('wondrous', 'JJ'), ('scenes', 'NNS'), ('surrounded', 'VBD'), ('swiss', 'JJ'), ('&&', '&&')], [('##', '##'), ('home', 'NN'), ('the', 'DT'), ('sublime', 'JJ'), ('shapes', 'NNS'), ('mountains', 'NNS'), ('changes', 'NNS'), ('seasons', 'NNS'), ('&&', '&&')], [('##', '##'), ('tempest', 'JJS'), ('calm', 'NN'), ('silence', 'NN'), ('winter', 'NN'), ('life', 'NN'), ('turbulence', 'NN'), ('&&', '&&')], [('##', '##'), ('alpine', 'NN'), ('summersshe', 'NN'), ('ample', 'JJ'), ('scope', 'NN'), ('admiration', 'NN'), ('delight', 'NN'), ('&&', '&&')], [('##', '##'), ('companion', 'NN'), ('contemplated', 'VBD'), ('satisfied', 'JJ'), ('spirit', 'NN'), ('&&', '&&')], [('##', '##'), ('magnificent', 'JJ'), ('appearances', 'NNS'), ('things', 'NNS'), ('delighted', 'VBD'), ('investigating', 'VBG'), ('&&', '&&')], [('##', '##'), ('causes', 'NNS'), ('world', 'NN'), ('secret', 'NN'), ('desired', 'VBD'), ('divine', 'NN'), ('&&', '&&')], [('##', '##'), ('curiosity', 'NN'), ('earnest', 'JJS'), ('research', 'NN'), ('learn', 'NN'), ('hidden', 'VBD'), ('laws', 'NNS'), ('nature', 'NN'), ('&&', '&&')], [('##', '##'), ('gladness', 'NN'), ('akin', 'JJ'), ('rapture', 'NN'), ('unfolded', 'VBD'), ('&&', '&&')], [('##', '##'), ('earliest', 'JJS'), ('sensations', 'NNS'), ('remember', 'VB'), ('&&', '&&')], [('##', '##'), ('birth', 'JJ'), ('second', 'JJ'), ('son', 'NN'), ('junior', 'JJ'), ('seven', 'CD'), ('years', 'NNS'), ('parents', 'NNS'), ('gave', 'VBD'), ('&&', '&&')], [('##', '##'), ('entirely', 'RB'), ('wandering', 'VBG'), ('life', 'NN'), ('fixed', 'VBN'), ('native', 'JJ'), ('&&', '&&')], [('##', '##'), ('country', 'NN'), ('possessed', 'VBD'), ('house', 'NN'), ('geneva', 'NN'), ('campagne', 'NN'), ('belrive', 'NN'), ('&&', '&&')], [('##', '##'), ('eastern', 'JJ'), ('shore', 'RB'), ('lake', 'JJ'), ('distance', 'NN'), ('&&', '&&')], [('##', '##'), ('league', 'JJ'), ('city', 'NN'), ('resided', 'VBD'), ('principally', 'RB'), ('&&', '&&')], [('##', '##'), ('lives', 'NNS'), ('parents', 'NNS'), ('passed', 'VBD'), ('considerable', 'JJ'), ('seclusion', 'NN'), ('&&', '&&')], [('##', '##'), ('temper', 'NN'), ('avoid', 'NN'), ('crowd', 'NN'), ('attach', 'VBP'), ('fervently', 'RB'), ('&&', '&&')], [('##', '##'), ('indifferent', 'NN'), ('schoolfellows', 'VBZ'), ('general', 'JJ'), ('united', 'JJ'), ('&&', '&&')], [('##', '##'), ('bonds', 'NNS'), ('closest', 'JJS'), ('friendship', 'NN'), ('henry', 'NN'), ('&&', '&&')], [('##', '##'), ('clerval', 'JJ'), ('son', 'NN'), ('merchant', 'NN'), ('geneva', 'NN'), ('boy', 'NN'), ('singular', 'NN'), ('&&', '&&')], [('##', '##'), ('talent', 'NN'), ('fancy', 'NN'), ('loved', 'VBD'), ('enterprise', 'JJ'), ('hardship', 'NN'), ('danger', 'NN'), ('&&', '&&')], [('##', '##'), ('sake', 'VB'), ('deeply', 'NN'), ('read', 'JJ'), ('books', 'NNS'), ('chivalry', 'VBP'), ('romance', 'NN'), ('&&', '&&')], [('##', '##'), ('composed', 'VBN'), ('heroic', 'JJ'), ('songs', 'NNS'), ('began', 'VBD'), ('write', 'JJ'), ('tale', 'NN'), ('enchantment', 'NN'), ('&&', '&&')], [('##', '##'), ('knightly', 'RB'), ('adventure', 'NN'), ('tried', 'VBN'), ('act', 'NN'), ('plays', 'VBZ'), ('enter', 'NN'), ('&&', '&&')], [('##', '##'), ('masquerades', 'NNS'), ('characters', 'NNS'), ('drawn', 'VBP'), ('heroes', 'NNS'), ('&&', '&&')], [('##', '##'), ('roncesvalles', 'NNS'), ('round', 'VBP'), ('table', 'JJ'), ('king', 'NN'), ('arthur', 'RB'), ('chivalrous', 'JJ'), ('&&', '&&')], [('##', '##'), ('train', 'NN'), ('shed', 'VBD'), ('blood', 'NN'), ('redeem', 'NN'), ('holy', 'NN'), ('sepulchre', 'NN'), ('hands', 'NNS'), ('&&', '&&')], [('##', '##'), ('infidels', 'NNS'), ('&&', '&&')], [('##', '##'), ('attained', 'VBN'), ('age', 'NN'), ('seventeen', 'JJ'), ('parents', 'NNS'), ('resolved', 'VBD'), ('&&', '&&')], [('##', '##'), ('student', 'NN'), ('university', 'NN'), ('ingolstadt', 'NN'), ('&&', '&&')], [('##', '##'), ('hitherto', 'NN'), ('attended', 'VBD'), ('schools', 'NNS'), ('geneva', 'FW'), ('father', 'RB'), ('thought', 'VBD'), ('&&', '&&')], [('##', '##'), ('necessary', 'JJ'), ('completion', 'NN'), ('education', 'NN'), ('&&', '&&')], [('##', '##'), ('acquainted', 'VBN'), ('customs', 'NNS'), ('native', 'JJ'), ('country', 'NN'), ('&&', '&&')], [('##', '##'), ('departure', 'NN'), ('fixed', 'VBD'), ('early', 'JJ'), ('date', 'NN'), ('day', 'NN'), ('&&', '&&')], [('##', '##'), ('resolved', 'VBN'), ('arrive', 'JJ'), ('misfortune', 'NN'), ('life', 'NN'), ('&&', '&&')], [('##', '##'), ('occurredan', 'JJ'), ('omen', 'NNS'), ('future', 'JJ'), ('misery', 'NN'), ('&&', '&&')], [('##', '##'), ('elizabeth', 'RB'), ('caught', 'VBN'), ('scarlet', 'NN'), ('fever', 'NN'), ('illness', 'NN'), ('severe', 'JJ'), ('&&', '&&')], [('##', '##'), ('greatest', 'JJS'), ('danger', 'NN'), ('illness', 'NN'), ('arguments', 'NNS'), ('urged', 'VBD'), ('&&', '&&')], [('##', '##'), ('persuade', 'NN'), ('mother', 'NN'), ('refrain', 'NN'), ('attending', 'VBG'), ('&&', '&&')], [('##', '##'), ('yielded', 'VBN'), ('entreaties', 'NNS'), ('heard', 'VBD'), ('life', 'NN'), ('&&', '&&')], [('##', '##'), ('favourite', 'RB'), ('menaced', 'VBN'), ('longer', 'JJR'), ('control', 'NN'), ('anxiety', 'NN'), ('&&', '&&')], [('##', '##'), ('attended', 'VBN'), ('sickbed', 'JJ'), ('watchful', 'JJ'), ('attentions', 'NNS'), ('triumphed', 'VBD'), ('malignity', 'NN'), ('&&', '&&')], [('##', '##'), ('distemperelizabeth', 'NNS'), ('saved', 'VBD'), ('consequences', 'NNS'), ('&&', '&&')], [('##', '##'), ('imprudence', 'NN'), ('fatal', 'JJ'), ('preserver', 'RB'), ('day', 'NN'), ('mother', 'NN'), ('&&', '&&')], [('##', '##'), ('sickened', 'VBN'), ('fever', 'RB'), ('accompanied', 'VBN'), ('alarming', 'NN'), ('symptoms', 'NNS'), ('&&', '&&')], [('##', '##'), ('looks', 'VBZ'), ('medical', 'JJ'), ('attendants', 'NNS'), ('prognosticated', 'VBN'), ('worst', 'CD'), ('event', 'NN'), ('&&', '&&')], [('##', '##'), ('deathbed', 'VBN'), ('fortitude', 'JJ'), ('benignity', 'NN'), ('best', 'JJS'), ('women', 'NNS'), ('desert', 'NN'), ('&&', '&&')], [('##', '##'), ('joined', 'VBN'), ('hands', 'NNS'), ('elizabeth', 'RBR'), ('my', 'PRP$'), ('&&', '&&')], [('##', '##'), ('children', 'NNS'), ('said', 'VBD'), ('my', 'PRP$'), ('firmest', 'JJS'), ('hopes', 'VBZ'), ('future', 'JJ'), ('happiness', 'NN'), ('&&', '&&')], [('##', '##'), ('placed', 'VBN'), ('prospect', 'JJ'), ('union', 'NN'), ('expectation', 'NN'), ('&&', '&&')], [('##', '##'), ('consolation', 'NN'), ('father', 'NN'), ('elizabeth', 'VBZ'), ('love', 'VBP'), ('supply', 'NN'), ('place', 'NN'), ('&&', '&&')], [('##', '##'), ('younger', 'JJR'), ('children', 'NNS'), ('alas', 'VBP'), ('regret', 'NN'), ('taken', 'VBN'), ('happy', 'JJ'), ('&&', '&&')], [('##', '##'), ('beloved', 'VBN'), ('hard', 'JJ'), ('quit', 'NN'), ('&&', '&&')], [('##', '##'), ('thoughts', 'NNS'), ('befitting', 'VBG'), ('endeavour', 'JJ'), ('resign', 'NN'), ('cheerfully', 'RB'), ('&&', '&&')], [('##', '##'), ('death', 'NN'), ('indulge', 'NNS'), ('hope', 'VBP'), ('meeting', 'NN'), ('world', 'NN'), ('&&', '&&')], [('##', '##'), ('day', 'NN'), ('natural', 'JJ'), ('philosophy', 'NN'), ('particularly', 'RB'), ('chemistry', 'NN'), ('&&', '&&')], [('##', '##'), ('comprehensive', 'JJ'), ('sense', 'NN'), ('term', 'NN'), ('nearly', 'RB'), ('sole', 'JJ'), ('occupation', 'NN'), ('&&', '&&')], [('##', '##'), ('read', 'VB'), ('ardour', 'NN'), ('works', 'NNS'), ('genius', 'VBP'), ('discrimination', 'NN'), ('&&', '&&')], [('##', '##'), ('modern', 'JJ'), ('inquirers', 'NNS'), ('written', 'VBN'), ('subjects', 'NNS'), ('attended', 'VBD'), ('&&', '&&')], [('##', '##'), ('lectures', 'NNS'), ('cultivated', 'VBD'), ('acquaintance', 'NN'), ('men', 'NNS'), ('science', 'NN'), ('&&', '&&')], [('##', '##'), ('university', 'NN'), ('krempe', 'VBZ'), ('great', 'JJ'), ('deal', 'NN'), ('sound', 'NN'), ('sense', 'NN'), ('&&', '&&')], [('##', '##'), ('real', 'JJ'), ('information', 'NN'), ('combined', 'VBN'), ('true', 'JJ'), ('repulsive', 'NN'), ('&&', '&&')], [('##', '##'), ('physiognomy', 'NN'), ('manners', 'NNS'), ('account', 'VBP'), ('valuable', 'JJ'), ('&&', '&&')], [('##', '##'), ('waldman', 'JJ'), ('true', 'JJ'), ('friend', 'NN'), ('gentleness', 'NN'), ('tinged', 'VBD'), ('&&', '&&')], [('##', '##'), ('dogmatism', 'NN'), ('instructions', 'NNS'), ('given', 'VBN'), ('air', 'NN'), ('frankness', 'NN'), ('&&', '&&')], [('##', '##'), ('good', 'JJ'), ('nature', 'NN'), ('banished', 'VBD'), ('idea', 'NN'), ('pedantry', 'NN'), ('thousand', 'CD'), ('ways', 'NNS'), ('&&', '&&')], [('##', '##'), ('smoothed', 'VBN'), ('path', 'NN'), ('knowledge', 'NN'), ('abstruse', 'NN'), ('&&', '&&')], [('##', '##'), ('inquiries', 'NNS'), ('clear', 'VBP'), ('facile', 'JJ'), ('apprehension', 'NN'), ('application', 'NN'), ('&&', '&&')], [('##', '##'), ('fluctuating', 'VBG'), ('uncertain', 'JJ'), ('gained', 'JJ'), ('strength', 'NN'), ('proceeded', 'VBD'), ('&&', '&&')], [('##', '##'), ('soon', 'RB'), ('ardent', 'JJ'), ('eager', 'JJ'), ('stars', 'NNS'), ('disappeared', 'VBD'), ('&&', '&&')], [('##', '##'), ('light', 'JJ'), ('morning', 'NN'), ('whilst', 'NN'), ('engaged', 'VBD'), ('laboratory', 'NN'), ('&&', '&&')], [('##', '##'), ('applied', 'VBN'), ('closely', 'RB'), ('easily', 'RB'), ('conceived', 'VBN'), ('progress', 'NN'), ('&&', '&&')], [('##', '##'), ('rapid', 'JJ'), ('ardour', 'CD'), ('astonishment', 'NN'), ('students', 'NNS'), ('&&', '&&')], [('##', '##'), ('proficiency', 'NN'), ('masters', 'NNS'), ('professor', 'VBP'), ('krempe', 'NN'), ('asked', 'VBD'), ('&&', '&&')], [('##', '##'), ('sly', 'RB'), ('smile', 'JJ'), ('cornelius', 'NN'), ('agrippa', 'NN'), ('went', 'VBD'), ('whilst', 'JJ'), ('waldman', 'NN'), ('&&', '&&')], [('##', '##'), ('expressed', 'VBN'), ('heartfelt', 'NN'), ('exultation', 'NN'), ('progress', 'NN'), ('two', 'CD'), ('years', 'NNS'), ('&&', '&&')], [('##', '##'), ('passed', 'VBN'), ('manner', 'NN'), ('paid', 'VBN'), ('visit', 'NN'), ('geneva', 'NN'), ('&&', '&&')], [('##', '##'), ('engaged', 'VBN'), ('heart', 'NN'), ('soul', 'NN'), ('pursuit', 'NN'), ('discoveries', 'NNS'), ('&&', '&&')], [('##', '##'), ('hoped', 'VBD'), ('none', 'NN'), ('experienced', 'VBD'), ('conceive', 'JJ'), ('&&', '&&')], [('##', '##'), ('enticements', 'NNS'), ('science', 'NN'), ('studies', 'NNS'), ('far', 'RB'), ('&&', '&&')], [('##', '##'), ('gone', 'VBN'), ('know', 'JJ'), ('&&', '&&')], [('##', '##'), ('scientific', 'JJ'), ('pursuit', 'NN'), ('continual', 'JJ'), ('food', 'NN'), ('discovery', 'NN'), ('wonder', 'NN'), ('&&', '&&')], [('##', '##'), ('mind', 'NN'), ('moderate', 'JJ'), ('capacity', 'NN'), ('closely', 'RB'), ('pursues', 'VBZ'), ('study', 'NN'), ('&&', '&&')], [('##', '##'), ('infallibly', 'RB'), ('arrive', 'JJ'), ('great', 'JJ'), ('proficiency', 'NN'), ('study', 'NN'), ('&&', '&&')], [('##', '##'), ('continually', 'RB'), ('sought', 'VBN'), ('attainment', 'NN'), ('object', 'NN'), ('pursuit', 'NN'), ('&&', '&&')], [('##', '##'), ('solely', 'RB'), ('wrapped', 'VBD'), ('improved', 'VBN'), ('rapidly', 'RB'), ('end', 'VB'), ('&&', '&&')], [('##', '##'), ('years', 'NNS'), ('discoveries', 'VBZ'), ('improvement', 'NN'), ('chemical', 'NN'), ('&&', '&&')], [('##', '##'), ('instruments', 'NNS'), ('procured', 'VBD'), ('great', 'JJ'), ('esteem', 'JJ'), ('admiration', 'NN'), ('&&', '&&')], [('##', '##'), ('university', 'NN'), ('arrived', 'VBD'), ('point', 'NN'), ('&&', '&&')], [('##', '##'), ('acquainted', 'VBN'), ('theory', 'NN'), ('practice', 'NN'), ('natural', 'JJ'), ('philosophy', 'NN'), ('&&', '&&')], [('##', '##'), ('depended', 'JJ'), ('lessons', 'NNS'), ('professors', 'NNS'), ('ingolstadt', 'VBP'), ('&&', '&&')], [('##', '##'), ('residence', 'NN'), ('longer', 'RBR'), ('conducive', 'JJ'), ('improvements', 'NNS'), ('thought', 'VBD'), ('&&', '&&')], [('##', '##'), ('returning', 'VBG'), ('friends', 'NNS'), ('native', 'JJ'), ('town', 'NN'), ('incident', 'NN'), ('&&', '&&')], [('##', '##'), ('happened', 'VBN'), ('protracted', 'VBD'), ('stay', 'NN'), ('&&', '&&')], [('##', '##'), ('dreary', 'JJ'), ('night', 'NN'), ('november', 'NNP'), ('beheld', 'VBD'), ('accomplishment', 'NN'), ('&&', '&&')], [('##', '##'), ('toils', 'NNS'), ('anxiety', 'NN'), ('amounted', 'VBD'), ('agony', 'NN'), ('&&', '&&')], [('##', '##'), ('collected', 'VBN'), ('instruments', 'NNS'), ('life', 'NN'), ('infuse', 'NN'), ('&&', '&&')], [('##', '##'), ('spark', 'NN'), ('lifeless', 'JJ'), ('thing', 'NN'), ('lay', 'VBD'), ('feet', 'NNS'), ('&&', '&&')], [('##', '##'), ('morning', 'NN'), ('rain', 'NN'), ('pattered', 'VBD'), ('dismally', 'RB'), ('&&', '&&')], [('##', '##'), ('panes', 'NNS'), ('candle', 'VBP'), ('nearly', 'RB'), ('burnt', 'JJ'), ('glimmer', 'NN'), ('&&', '&&')], [('##', '##'), ('halfextinguished', 'VBN'), ('light', 'NN'), ('saw', 'VBD'), ('dull', 'JJ'), ('yellow', 'JJ'), ('eye', 'NN'), ('creature', 'NN'), ('&&', '&&')], [('##', '##'), ('open', 'JJ'), ('breathed', 'VBD'), ('hard', 'JJ'), ('convulsive', 'JJ'), ('motion', 'NN'), ('agitated', 'VBD'), ('limbs', 'NNS'), ('&&', '&&')], [('##', '##'), ('emotions', 'NNS'), ('catastrophe', 'VBP'), ('delineate', 'NN'), ('&&', '&&')], [('##', '##'), ('wretch', 'NN'), ('infinite', 'NN'), ('pains', 'NNS'), ('care', 'NN'), ('endeavoured', 'VBD'), ('&&', '&&')], [('##', '##'), ('form', 'NN'), ('limbs', 'VBZ'), ('proportion', 'NN'), ('selected', 'VBD'), ('features', 'NNS'), ('&&', '&&')], [('##', '##'), ('beautiful', 'JJ'), ('beautiful', 'JJ'), ('great', 'JJ'), ('god', 'NN'), ('yellow', 'JJ'), ('skin', 'NN'), ('scarcely', 'RB'), ('covered', 'VBD'), ('&&', '&&')], [('##', '##'), ('work', 'NN'), ('muscles', 'NNS'), ('arteries', 'NNS'), ('beneath', 'VBP'), ('hair', 'NN'), ('lustrous', 'JJ'), ('&&', '&&')], [('##', '##'), ('black', 'JJ'), ('flowing', 'VBG'), ('teeth', 'JJ'), ('pearly', 'RB'), ('whiteness', 'NN'), ('&&', '&&')], [('##', '##'), ('luxuriances', 'NNS'), ('formed', 'VBD'), ('horrid', 'JJ'), ('contrast', 'NN'), ('watery', 'NN'), ('eyes', 'NNS'), ('&&', '&&')], [('##', '##'), ('colour', 'NN'), ('dunwhite', 'NN'), ('sockets', 'NNS'), ('&&', '&&')], [('##', '##'), ('set', 'NN'), ('shrivelled', 'VBD'), ('complexion', 'NN'), ('straight', 'RB'), ('black', 'JJ'), ('lips', 'NNS'), ('&&', '&&')], [('##', '##'), ('chapter', 'NN'), ('6', 'CD'), ('&&', '&&')], [('##', '##'), ('you', 'PRP'), ('ill', 'VBP'), ('ill', 'VB'), ('constant', 'JJ'), ('letters', 'NNS'), ('dear', 'VBP'), ('&&', '&&')], [('##', '##'), ('kind', 'NN'), ('henry', 'NN'), ('sufficient', 'JJ'), ('reassure', 'NN'), ('account', 'NN'), ('&&', '&&')], [('##', '##'), ('forbidden', 'JJ'), ('writeto', 'NN'), ('hold', 'NN'), ('pen', 'JJ'), ('word', 'NN'), ('dear', 'NN'), ('victor', 'NN'), ('&&', '&&')], [('##', '##'), ('necessary', 'JJ'), ('calm', 'NN'), ('apprehensions', 'NNS'), ('long', 'JJ'), ('time', 'NN'), ('thought', 'NN'), ('&&', '&&')], [('##', '##'), ('post', 'NN'), ('bring', 'NN'), ('line', 'NN'), ('persuasions', 'NNS'), ('&&', '&&')], [('##', '##'), ('restrained', 'VBN'), ('uncle', 'JJ'), ('undertaking', 'VBG'), ('journey', 'NN'), ('ingolstadt', 'NN'), ('&&', '&&')], [('##', '##'), ('prevented', 'VBN'), ('encountering', 'NN'), ('inconveniences', 'NNS'), ('dangers', 'NNS'), ('&&', '&&')], [('##', '##'), ('long', 'JJ'), ('journey', 'NN'), ('regretted', 'VBN'), ('able', 'JJ'), ('&&', '&&')], [('##', '##'), ('perform', 'JJ'), ('figure', 'NN'), ('task', 'NN'), ('attending', 'VBG'), ('&&', '&&')], [('##', '##'), ('sickbed', 'VBN'), ('devolved', 'JJ'), ('mercenary', 'JJ'), ('old', 'JJ'), ('nurse', 'NN'), ('&&', '&&')], [('##', '##'), ('guess', 'NN'), ('wishes', 'NNS'), ('minister', 'NN'), ('care', 'NN'), ('affection', 'NN'), ('&&', '&&')], [('##', '##'), ('poor', 'JJ'), ('cousin', 'NN'), ('yet', 'RB'), ('clerval', 'JJ'), ('writes', 'NNS'), ('&&', '&&')], [('##', '##'), ('getting', 'VBG'), ('better', 'JJR'), ('eagerly', 'RB'), ('hope', 'VBP'), ('confirm', 'NN'), ('&&', '&&')], [('##', '##'), ('intelligence', 'NN'), ('soon', 'RB'), ('handwriting', 'VBG'), ('&&', '&&')], [('##', '##'), ('get', 'NN'), ('welland', 'WRB'), ('return', 'NN'), ('happy', 'JJ'), ('cheerful', 'JJ'), ('home', 'NN'), ('&&', '&&')], [('##', '##'), ('friends', 'NNS'), ('love', 'VBP'), ('dearly', 'RB'), ('fathers', 'NNS'), ('health', 'NN'), ('vigorous', 'JJ'), ('&&', '&&')], [('##', '##'), ('asks', 'NNS'), ('assured', 'VBD'), ('&&', '&&')], [('##', '##'), ('care', 'NN'), ('cloud', 'JJ'), ('benevolent', 'NN'), ('countenance', 'NN'), ('pleased', 'VBD'), ('&&', '&&')], [('##', '##'), ('remark', 'NN'), ('improvement', 'NN'), ('ernest', 'JJS'), ('sixteen', 'NN'), ('&&', '&&')], [('##', '##'), ('activity', 'NN'), ('spirit', 'VBP'), ('desirous', 'JJ'), ('true', 'JJ'), ('swiss', 'JJ'), ('enter', 'NN'), ('&&', '&&')], [('##', '##'), ('foreign', 'JJ'), ('service', 'NN'), ('&&', '&&')], [('##', '##'), ('elder', 'NN'), ('brother', 'NN'), ('returns', 'NNS'), ('uncle', 'VBP'), ('pleased', 'JJ'), ('idea', 'NN'), ('&&', '&&')], [('##', '##'), ('military', 'JJ'), ('career', 'NN'), ('distant', 'JJ'), ('country', 'NN'), ('ernest', 'JJS'), ('&&', '&&')], [('##', '##'), ('powers', 'NNS'), ('application', 'VBP'), ('looks', 'VBZ'), ('study', 'VBP'), ('odious', 'JJ'), ('fetter', 'NN'), ('&&', '&&')], [('##', '##'), ('time', 'NN'), ('spent', 'VBN'), ('open', 'JJ'), ('air', 'NN'), ('climbing', 'VBG'), ('hills', 'NNS'), ('rowing', 'VBG'), ('&&', '&&')], [('##', '##'), ('lake', 'NN'), ('fear', 'NN'), ('idler', 'JJ'), ('yield', 'NN'), ('point', 'NN'), ('&&', '&&')], [('##', '##'), ('permit', 'NN'), ('enter', 'NN'), ('profession', 'NN'), ('selected', 'VBD'), ('&&', '&&')], [('##', '##'), ('you', 'PRP'), ('probably', 'RB'), ('waited', 'VBD'), ('impatiently', 'RB'), ('letter', 'NN'), ('fix', 'NN'), ('date', 'NN'), ('&&', '&&')], [('##', '##'), ('return', 'NN'), ('tempted', 'VBD'), ('write', 'JJ'), ('&&', '&&')], [('##', '##'), ('lines', 'NNS'), ('merely', 'RB'), ('mentioning', 'VBG'), ('day', 'NN'), ('expect', 'VB'), ('&&', '&&')], [('##', '##'), ('cruel', 'NN'), ('kindness', 'NN'), ('dare', 'NN'), ('&&', '&&')], [('##', '##'), ('surprise', 'NN'), ('son', 'NN'), ('expected', 'VBD'), ('happy', 'JJ'), ('glad', 'JJ'), ('welcome', 'NN'), ('&&', '&&')], [('##', '##'), ('behold', 'JJ'), ('contrary', 'JJ'), ('tears', 'NNS'), ('wretchedness', 'JJ'), ('victor', 'NN'), ('&&', '&&')], [('##', '##'), ('relate', 'NN'), ('misfortune', 'NN'), ('absence', 'NN'), ('rendered', 'VBD'), ('callous', 'JJ'), ('&&', '&&')], [('##', '##'), ('joys', 'NNS'), ('griefs', 'VBP'), ('shall', 'MD'), ('inflict', 'VB'), ('pain', 'NN'), ('long', 'JJ'), ('absent', 'NN'), ('&&', '&&')], [('##', '##'), ('son', 'NN'), ('wish', 'JJ'), ('prepare', 'NN'), ('woeful', 'JJ'), ('news', 'NN'), ('know', 'NNS'), ('&&', '&&')], [('##', '##'), ('impossible', 'JJ'), ('eye', 'NN'), ('skims', 'NNS'), ('page', 'VBP'), ('seek', 'JJ'), ('words', 'NNS'), ('&&', '&&')], [('##', '##'), ('convey', 'NN'), ('horrible', 'JJ'), ('tidings', 'NNS'), ('&&', '&&')], [('##', '##'), ('last', 'JJ'), ('thursday', 'NN'), ('may', 'MD'), ('7th', 'VB'), ('niece', 'NN'), ('brothers', 'NNS'), ('went', 'VBD'), ('&&', '&&')], [('##', '##'), ('walk', 'NN'), ('plainpalais', 'NN'), ('evening', 'VBG'), ('warm', 'JJ'), ('serene', 'NN'), ('prolonged', 'VBD'), ('&&', '&&')], [('##', '##'), ('walk', 'NN'), ('farther', 'RB'), ('usual', 'JJ'), ('dusk', 'NN'), ('thought', 'VBD'), ('&&', '&&')], [('##', '##'), ('returning', 'VBG'), ('discovered', 'VBN'), ('william', 'JJ'), ('ernest', 'NN'), ('gone', 'VBN'), ('&&', '&&')], [('##', '##'), ('accordingly', 'RB'), ('rested', 'VBN'), ('seat', 'NN'), ('&&', '&&')], [('##', '##'), ('return', 'NN'), ('presently', 'RB'), ('ernest', 'JJS'), ('came', 'VBD'), ('enquired', 'VBN'), ('seen', 'VBN'), ('&&', '&&')], [('##', '##'), ('brother', 'NN'), ('said', 'VBD'), ('playing', 'NN'), ('william', 'NN'), ('&&', '&&')], [('##', '##'), ('run', 'VB'), ('away', 'RP'), ('hide', 'JJ'), ('vainly', 'RB'), ('sought', 'VBD'), ('&&', '&&')], [('##', '##'), ('waited', 'VBN'), ('long', 'JJ'), ('time', 'NN'), ('return', 'NN'), ('&&', '&&')], [('##', '##'), ('passed', 'VBN'), ('sad', 'JJ'), ('hours', 'NNS'), ('oclock', 'VBP'), ('trial', 'NN'), ('&&', '&&')], [('##', '##'), ('commence', 'NN'), ('father', 'NN'), ('rest', 'NN'), ('family', 'NN'), ('obliged', 'VBD'), ('attend', 'NN'), ('&&', '&&')], [('##', '##'), ('witnesses', 'NNS'), ('accompanied', 'VBN'), ('court', 'NN'), ('&&', '&&')], [('##', '##'), ('wretched', 'VBN'), ('mockery', 'NN'), ('justice', 'NN'), ('suffered', 'VBD'), ('living', 'JJ'), ('torture', 'NN'), ('&&', '&&')], [('##', '##'), ('decided', 'VBD'), ('result', 'NN'), ('curiosity', 'NN'), ('lawless', 'NN'), ('devices', 'NNS'), ('&&', '&&')], [('##', '##'), ('cause', 'NN'), ('death', 'NN'), ('fellow', 'JJ'), ('beings', 'NNS'), ('smiling', 'VBG'), ('babe', 'NN'), ('&&', '&&')], [('##', '##'), ('innocence', 'NN'), ('joy', 'NN'), ('far', 'RB'), ('dreadfully', 'RB'), ('murdered', 'VBN'), ('&&', '&&')], [('##', '##'), ('aggravation', 'NN'), ('infamy', 'NN'), ('murder', 'NN'), ('memorable', 'JJ'), ('horror', 'NN'), ('&&', '&&')], [('##', '##'), ('justine', 'NN'), ('girl', 'NN'), ('merit', 'NN'), ('possessed', 'VBD'), ('qualities', 'NNS'), ('promised', 'VBD'), ('&&', '&&')], [('##', '##'), ('render', 'NN'), ('life', 'NN'), ('happy', 'JJ'), ('obliterated', 'VBD'), ('&&', '&&')], [('##', '##'), ('ignominious', 'JJ'), ('grave', 'NN'), ('cause', 'NN'), ('thousand', 'CD'), ('times', 'NNS'), ('&&', '&&')], [('##', '##'), ('confessed', 'VBN'), ('guilty', 'JJ'), ('crime', 'NN'), ('ascribed', 'VBN'), ('justine', 'NN'), ('&&', '&&')], [('##', '##'), ('absent', 'NN'), ('committed', 'VBN'), ('declaration', 'NN'), ('&&', '&&')], [('##', '##'), ('considered', 'VBN'), ('ravings', 'NNS'), ('madman', 'NN'), ('&&', '&&')], [('##', '##'), ('exculpated', 'VBN'), ('suffered', 'VBD'), ('&&', '&&')], [('##', '##'), ('appearance', 'NN'), ('justine', 'NN'), ('calm', 'NN'), ('dressed', 'VBD'), ('mourning', 'VBG'), ('&&', '&&')], [('##', '##'), ('countenance', 'NN'), ('engaging', 'VBG'), ('rendered', 'VBN'), ('solemnity', 'NN'), ('&&', '&&')], [('##', '##'), ('feelings', 'NNS'), ('exquisitely', 'RB'), ('beautiful', 'JJ'), ('yet', 'RB'), ('appeared', 'VBN'), ('confident', 'NN'), ('&&', '&&')], [('##', '##'), ('innocence', 'NN'), ('tremble', 'JJ'), ('gazed', 'VBN'), ('execrated', 'VBD'), ('&&', '&&')], [('##', '##'), ('thousands', 'NNS'), ('kindness', 'JJ'), ('beauty', 'NN'), ('&&', '&&')], [('##', '##'), ('excited', 'VBN'), ('obliterated', 'JJ'), ('minds', 'NNS'), ('spectators', 'NNS'), ('&&', '&&')], [('##', '##'), ('imagination', 'NN'), ('enormity', 'NN'), ('supposed', 'VBN'), ('committed', 'VBD'), ('&&', '&&')], [('##', '##'), ('tranquil', 'JJ'), ('tranquillity', 'NN'), ('evidently', 'RB'), ('constrained', 'VBD'), ('&&', '&&')], [('##', '##'), ('confusion', 'NN'), ('adduced', 'VBD'), ('proof', 'NN'), ('guilt', 'NN'), ('&&', '&&')], [('##', '##'), ('worked', 'VBN'), ('mind', 'NN'), ('appearance', 'NN'), ('courage', 'NN'), ('entered', 'VBD'), ('&&', '&&')], [('##', '##'), ('court', 'NN'), ('threw', 'VBD'), ('eyes', 'NNS'), ('round', 'JJ'), ('quickly', 'RB'), ('discovered', 'VBD'), ('&&', '&&')], [('##', '##'), ('seated', 'VBN'), ('tear', 'JJ'), ('dim', 'NN'), ('eye', 'NN'), ('saw', 'VBD'), ('quickly', 'RB'), ('&&', '&&')], [('##', '##'), ('recovered', 'VBN'), ('look', 'NN'), ('sorrowful', 'JJ'), ('affection', 'NN'), ('attest', 'NN'), ('&&', '&&')], [('##', '##'), ('utter', 'JJ'), ('guiltlessness', 'NN'), ('&&', '&&')]]"
     ]
    },
    {
     "name": "stdout",
     "output_type": "stream",
     "text": [
      "\n"
     ]
    }
   ],
   "source": [
    "#Getting the tagged sentences\n",
    "#sent_tag = brown.tagged_sents()\n",
    "mod_sent_tag=[]\n",
    "for s in tagged_text:\n",
    "  s.insert(0,('##','##'))\n",
    "  s.append(('&&','&&'))\n",
    "  mod_sent_tag.append(s)\n",
    "print(mod_sent_tag)"
   ]
  },
  {
   "cell_type": "code",
   "execution_count": 11,
   "metadata": {},
   "outputs": [
    {
     "name": "stdout",
     "output_type": "stream",
     "text": [
      "[[('##', '##'), ('endeavouring', 'VBG'), ('seek', 'JJ'), ('hope', 'NN'), ('persuading', 'VBG'), ('begin', 'VB'), ('&&', '&&')], [('##', '##'), ('you', 'PRP'), ('ill', 'VBP'), ('ill', 'VB'), ('constant', 'JJ'), ('letters', 'NNS'), ('dear', 'VBP'), ('&&', '&&')], [('##', '##'), ('you', 'PRP'), ('probably', 'RB'), ('waited', 'VBD'), ('impatiently', 'RB'), ('letter', 'NN'), ('fix', 'NN'), ('date', 'NN'), ('&&', '&&')], [('##', '##'), ('curiosity', 'NN'), ('earnest', 'JJS'), ('research', 'NN'), ('learn', 'NN'), ('hidden', 'VBD'), ('laws', 'NNS'), ('nature', 'NN'), ('&&', '&&')], [('##', '##'), ('resolved', 'VBN'), ('arrive', 'JJ'), ('misfortune', 'NN'), ('life', 'NN'), ('&&', '&&')]]\n"
     ]
    }
   ],
   "source": [
    "\n",
    "# split data into training and validation set in the ratio 80:20\n",
    "train_data,test_data =train_test_split(mod_sent_tag,train_size=0.80,test_size=0.20,random_state = 101)\n",
    "print(train_data[:5])\n"
   ]
  },
  {
   "cell_type": "code",
   "execution_count": 12,
   "metadata": {},
   "outputs": [
    {
     "name": "stdout",
     "output_type": "stream",
     "text": [
      "{'##': {'##': 176}, 'VBG': {'endeavouring': 1, 'persuading': 1, 'wandering': 1, 'mourning': 1, 'fluctuating': 1, 'returning': 2, 'evening': 1, 'flowing': 1, 'engaging': 1, 'relating': 1, 'attending': 2, 'mentioning': 1, 'marrying': 1, 'smiling': 1, 'handwriting': 1, 'climbing': 1, 'rowing': 1, 'flourishing': 1}, 'JJ': {'seek': 1, 'constant': 1, 'arrive': 2, 'majestic': 1, 'wondrous': 1, 'swiss': 1, 'birth': 1, 'second': 1, 'junior': 1, 'poor': 1, 'clerval': 2, 'happy': 3, 'glad': 1, 'tremble': 1, 'honourable': 1, 'living': 1, 'cloud': 1, 'black': 2, 'republic': 1, 'native': 3, 'natural': 2, 'write': 1, 'satisfied': 1, 'eastern': 1, 'lake': 1, 'ignominious': 1, 'sorrowful': 1, 'read': 1, 'future': 2, 'obliterated': 1, 'comprehensive': 1, 'sole': 1, 'burnt': 1, 'brought': 1, 'modern': 1, 'proud': 1, 'unbending': 1, 'live': 1, 'enterprise': 1, 'long': 3, 'open': 2, 'hard': 2, 'convulsive': 1, 'behold': 1, 'contrary': 1, 'wretchedness': 1, 'know': 1, 'tranquil': 1, 'devolved': 1, 'mercenary': 1, 'old': 1, 'lifeless': 1, 'uncertain': 1, 'gained': 1, 'valuable': 1, 'william': 1, 'tear': 1, 'memorable': 1, 'little': 1, 'worthy': 1, 'lost': 1, 'able': 1, 'capable': 1, 'warm': 1, 'league': 1, 'medical': 1, 'table': 1, 'chivalrous': 1, 'occurredan': 1, 'ample': 1, 'wish': 1, 'woeful': 1, 'severe': 1, 'ardent': 1, 'eager': 1, 'idler': 1, 'necessary': 2, 'callous': 1, 'scientific': 1, 'continual': 1, 'teeth': 1, 'great': 3, 'considerable': 1, 'usual': 1, 'depended': 1, 'horrible': 1, 'false': 1, 'smitten': 1, 'thirst': 1, 'hide': 1, 'perform': 1, 'good': 1, 'lucerne': 1, 'unknown': 1, 'guilty': 1, 'smile': 1, 'whilst': 1, 'genevese': 1, 'sad': 1, 'forbidden': 1, 'pen': 1, 'sickbed': 1, 'watchful': 1, 'early': 1, 'beautiful': 3, 'facile': 1, 'foreign': 1, 'lustrous': 1, 'dreary': 1, 'unfortunate': 1, 'fellow': 1, 'general': 1, 'united': 1, 'kindness': 1, 'horrid': 1, 'conceive': 1, 'seventeen': 1, 'dull': 1, 'yellow': 2, 'akin': 1, 'fatal': 1, 'prospect': 1, 'numerous': 1, 'waldman': 1, 'true': 1}, 'NN': {'hope': 1, 'letter': 1, 'fix': 1, 'date': 1, 'curiosity': 1, 'research': 1, 'learn': 1, 'nature': 2, 'misfortune': 2, 'life': 6, 'son': 4, 'cousin': 1, 'permit': 1, 'enter': 1, 'profession': 1, 'surprise': 1, 'welcome': 1, 'innocence': 2, 'manner': 2, 'anxiety': 2, 'agony': 1, 'mockery': 1, 'justice': 1, 'torture': 1, 'visit': 1, 'geneva': 3, 'care': 3, 'benevolent': 1, 'countenance': 2, 'set': 1, 'complexion': 1, 'acquaintance': 1, 'science': 2, 'merchant': 2, 'boy': 1, 'singular': 1, 'wretchedness': 1, 'father': 3, 'beaufort': 1, 'truest': 1, 'friendship': 1, 'student': 1, 'university': 3, 'ingolstadt': 1, 'theory': 1, 'practice': 1, 'philosophy': 2, 'heart': 1, 'soul': 2, 'pursuit': 3, 'marriage': 1, 'character': 1, 'return': 2, 'companion': 1, 'spirit': 1, 'joy': 1, 'distance': 1, 'grave': 1, 'cause': 2, 'look': 1, 'affection': 3, 'attest': 1, 'deeply': 1, 'romance': 1, 'happiness': 1, 'encountering': 1, 'appearance': 2, 'justine': 3, 'calm': 2, 'sense': 2, 'term': 1, 'occupation': 1, 'country': 4, 'glimmer': 1, 'year': 1, 'difference': 1, 'wretch': 1, 'infinite': 1, 'disposition': 2, 'poverty': 1, 'talent': 1, 'fancy': 1, 'hardship': 1, 'danger': 1, 'post': 1, 'bring': 1, 'line': 1, 'pain': 1, 'absent': 2, 'delineate': 1, 'brother': 1, 'playing': 1, 'william': 1, 'improvement': 2, 'chemical': 1, 'motion': 1, 'victor': 2, 'ardour': 2, 'discrimination': 1, 'render': 1, 'declaration': 1, 'tranquillity': 1, 'diversity': 1, 'contrast': 2, 'nurse': 1, 'spark': 1, 'thing': 1, 'strength': 1, 'physiognomy': 1, 'ernest': 1, 'stay': 1, 'dim': 1, 'eye': 2, 'aggravation': 1, 'infamy': 1, 'murder': 1, 'horror': 1, 'time': 3, 'journey': 1, 'intense': 1, 'walk': 2, 'plainpalais': 1, 'serene': 1, 'colour': 1, 'dunwhite': 1, 'city': 1, 'event': 1, 'king': 1, 'consolation': 1, 'supply': 1, 'place': 1, 'misery': 1, 'path': 1, 'knowledge': 2, 'abstruse': 1, 'alpine': 1, 'summersshe': 1, 'scope': 1, 'admiration': 1, 'delight': 1, 'world': 3, 'credit': 1, 'assistance': 1, 'prepare': 1, 'news': 1, 'scarlet': 1, 'fever': 1, 'illness': 1, 'lake': 1, 'fear': 1, 'yield': 1, 'point': 2, 'madman': 1, 'guess': 1, 'minister': 1, 'variety': 1, 'oblivion': 1, 'thought': 1, 'quit': 1, 'girl': 1, 'merit': 1, 'reputation': 1, 'relate': 1, 'absence': 1, 'food': 1, 'discovery': 1, 'wonder': 1, 'cruel': 1, 'kindness': 1, 'dare': 1, 'whiteness': 1, 'deal': 1, 'sound': 1, 'train': 1, 'blood': 1, 'redeem': 1, 'holy': 1, 'sepulchre': 1, 'morning': 1, 'rain': 1, 'imagination': 1, 'enormity': 1, 'seclusion': 1, 'dusk': 1, 'disunion': 1, 'dispute': 1, 'harmony': 1, 'companionship': 1, 'death': 2, 'meeting': 1, 'convey': 1, 'pride': 1, 'friend': 2, 'conduct': 1, 'solemnity': 1, 'refrain': 2, 'intimate': 1, 'application': 2, 'town': 2, 'incident': 1, 'figure': 1, 'task': 1, 'idea': 1, 'pedantry': 1, 'daughter': 1, 'crime': 1, 'cornelius': 1, 'agrippa': 1, 'waldman': 1, 'attainment': 1, 'object': 1, 'birth': 1, 'family': 3, 'trial': 1, 'chapter': 1, 'day': 3, 'writeto': 1, 'hold': 1, 'word': 1, 'dear': 1, 'malignity': 1, 'secret': 1, 'divine': 1, 'progress': 2, 'decline': 1, 'confident': 1, 'nearer': 1, 'calmer': 1, 'apprehension': 1, 'service': 1, 'hitherto': 1, 'husband': 1, 'proficiency': 2, 'krempe': 1, 'infuse': 1, 'confusion': 1, 'proof': 1, 'guilt': 1, 'heartfelt': 1, 'exultation': 1, 'alarming': 1, 'work': 1, 'hair': 1, 'night': 1, 'accomplishment': 1, 'retreat': 1, 'control': 1, 'house': 1, 'campagne': 1, 'belrive': 1, 'remark': 1, 'sixteen': 1, 'babe': 1, 'intelligence': 1, 'study': 1, 'form': 1, 'proportion': 1, 'regret': 1, 'indifferent': 1, 'beauty': 1, 'watery': 1, 'business': 1, 'none': 1, 'commence': 1, 'rest': 1, 'attend': 1, 'age': 1, 'air': 1, 'mind': 1, 'courage': 1, 'light': 1, 'creature': 1, 'gladness': 1, 'rapture': 1, 'god': 1, 'skin': 1, 'imprudence': 1, 'mother': 2, 'chemistry': 1, 'completion': 1, 'education': 1, 'persuade': 1, 'union': 1, 'expectation': 1, 'state': 1, 'gentleness': 1}, 'VB': {'begin': 1, 'ill': 1, 'sake': 1, 'inflict': 1, 'read': 1, 'end': 1, 'run': 1, 'expect': 1}, '&&': {'&&': 176}, 'PRP': {'you': 2}, 'VBP': {'ill': 1, 'dear': 1, 'illustrate': 1, 'chivalry': 1, 'candle': 1, 'griefs': 1, 'catastrophe': 1, 'drawn': 1, 'genius': 1, 'account': 1, 'round': 1, 'love': 1, 'honour': 1, 'ingolstadt': 1, 'hope': 1, 'oclock': 1, 'clear': 1, 'professor': 1, 'beneath': 1, 'alas': 1}, 'NNS': {'letters': 1, 'laws': 1, 'scenes': 1, 'years': 4, 'parents': 3, 'writes': 1, 'toils': 1, 'lips': 1, 'lectures': 1, 'men': 1, 'ancestors': 1, 'discoveries': 1, 'circumstances': 3, 'times': 1, 'books': 1, 'children': 2, 'minds': 1, 'spectators': 1, 'inconveniences': 1, 'dangers': 1, 'customs': 1, 'panes': 1, 'inquirers': 1, 'subjects': 1, 'pains': 1, 'persuasions': 1, 'joys': 1, 'emotions': 1, 'masquerades': 1, 'characters': 2, 'heroes': 1, 'limbs': 1, 'tears': 1, 'works': 1, 'feet': 1, 'manners': 1, 'sockets': 1, 'attendants': 1, 'roncesvalles': 1, 'omen': 1, 'hands': 2, 'know': 1, 'stars': 1, 'ravings': 1, 'wishes': 1, 'affairs': 1, 'apprehensions': 1, 'qualities': 1, 'situations': 1, 'lives': 1, 'lessons': 1, 'professors': 1, 'indulge': 1, 'tidings': 1, 'friends': 2, 'ways': 1, 'hours': 1, 'lines': 1, 'entreaties': 1, 'attentions': 1, 'causes': 1, 'feelings': 1, 'inquiries': 1, 'schools': 1, 'masters': 1, 'instruments': 1, 'symptoms': 1, 'muscles': 1, 'arteries': 1, 'infidels': 1, 'beings': 1, 'features': 1, 'enticements': 1, 'studies': 1, 'thousands': 1, 'luxuriances': 1, 'eyes': 1, 'days': 1, 'hills': 1}, 'RB': {'probably': 1, 'impatiently': 1, 'yet': 2, 'straight': 1, 'entirely': 1, 'far': 2, 'dreadfully': 1, 'shore': 1, 'nearly': 2, 'evidently': 1, 'quickly': 1, 'solely': 1, 'rapidly': 1, 'principally': 1, 'arthur': 1, 'elizabeth': 1, 'soon': 2, 'pearly': 1, 'dismally': 1, 'farther': 1, 'bitterly': 1, 'deeply': 2, 'vainly': 1, 'sly': 1, 'continually': 1, 'merely': 1, 'closely': 1, 'easily': 1, 'presently': 1, 'exquisitely': 1, 'father': 1, 'fever': 1, 'favourite': 1, 'infallibly': 1, 'perpetually': 1, 'scarcely': 1, 'preserver': 1, 'particularly': 1}, 'VBD': {'waited': 1, 'hidden': 1, 'surrounded': 1, 'gave': 1, 'selected': 2, 'expected': 1, 'execrated': 1, 'retreated': 1, 'amounted': 1, 'suffered': 2, 'pleased': 1, 'shrivelled': 1, 'cultivated': 1, 'loved': 2, 'tempted': 1, 'contemplated': 1, 'said': 2, 'dressed': 1, 'attended': 2, 'endeavoured': 1, 'breathed': 1, 'agitated': 1, 'obliterated': 1, 'constrained': 1, 'subsisted': 1, 'drew': 1, 'lay': 1, 'proceeded': 1, 'protracted': 1, 'saw': 2, 'united': 1, 'prolonged': 1, 'wrapped': 1, 'resided': 1, 'disappeared': 1, 'prevented': 1, 'arrived': 1, 'possessed': 2, 'promised': 1, 'respected': 1, 'rendered': 1, 'shed': 1, 'pattered': 1, 'committed': 1, 'passed': 2, 'thought': 2, 'led': 1, 'sought': 1, 'banished': 1, 'lived': 1, 'went': 1, 'heard': 1, 'triumphed': 1, 'desired': 1, 'came': 1, 'concentrated': 1, 'asked': 1, 'adduced': 1, 'beheld': 1, 'formed': 1, 'occupied': 1, 'hoped': 1, 'experienced': 1, 'obliged': 1, 'resolved': 1, 'entered': 1, 'unfolded': 1, 'covered': 1, 'fell': 1, 'tinged': 1}, 'JJS': {'earnest': 1, 'firmest': 1, 'ernest': 2}, 'VBN': {'resolved': 1, 'gazed': 1, 'wretched': 1, 'passed': 2, 'paid': 1, 'distinguished': 1, 'fixed': 1, 'acquainted': 2, 'engaged': 1, 'murdered': 1, 'recovered': 1, 'excited': 1, 'prevented': 1, 'written': 1, 'gone': 2, 'committed': 1, 'sickbed': 1, 'discovered': 1, 'happened': 1, 'seated': 1, 'regretted': 1, 'improved': 1, 'prognosticated': 1, 'smoothed': 1, 'joined': 1, 'caught': 1, 'considered': 1, 'beloved': 1, 'supposed': 1, 'deplored': 1, 'rendered': 1, 'confessed': 1, 'ascribed': 1, 'sought': 1, 'yielded': 1, 'attended': 1, 'applied': 1, 'conceived': 1, 'enquired': 1, 'seen': 1, 'appeared': 1, 'collected': 1, 'expressed': 1, 'sickened': 1, 'accompanied': 1, 'grieved': 1, 'menaced': 1, 'taken': 1, 'attained': 1, 'spent': 1, 'worked': 1, 'halfextinguished': 1, 'exculpated': 1, 'placed': 1}, 'CD': {'seven': 1, 'thousand': 2, 'worst': 1, 'one': 1, '6': 1, 'two': 1}, 'PRP$': {'my': 2}, 'VBZ': {'hopes': 1, 'discoveries': 1, 'looks': 1, 'elizabeth': 2, 'krempe': 1, 'limbs': 1, 'schoolfellows': 1}, 'IN': {'bear': 1}, 'MD': {'shall': 1}, 'RBR': {'elizabeth': 1, 'father': 1}, 'RP': {'away': 1}, 'FW': {'geneva': 1}, 'NNP': {'november': 1}, 'JJR': {'longer': 1, 'younger': 2}}"
     ]
    },
    {
     "name": "stdout",
     "output_type": "stream",
     "text": [
      "\n"
     ]
    }
   ],
   "source": [
    "#Creating a dictionary whose keys are tags and values contain words which were assigned the correspoding tag\n",
    "# ex:- 'TAG':{word1: count(word1,'TAG')}\n",
    "train_word_tag = {}\n",
    "for s in train_data:\n",
    "  for (w,t) in s:\n",
    "    w=w.lower()\n",
    "    try:\n",
    "      try:\n",
    "        train_word_tag[t][w]+=1\n",
    "      except:\n",
    "        train_word_tag[t][w]=1\n",
    "    except:\n",
    "      train_word_tag[t]={w:1}\n",
    "print(train_word_tag)"
   ]
  },
  {
   "cell_type": "code",
   "execution_count": 13,
   "metadata": {},
   "outputs": [
    {
     "name": "stdout",
     "output_type": "stream",
     "text": [
      "{'##': {'##': 1.0}, 'VBG': {'endeavouring': 0.05, 'persuading': 0.05, 'wandering': 0.05, 'mourning': 0.05, 'fluctuating': 0.05, 'returning': 0.1, 'evening': 0.05, 'flowing': 0.05, 'engaging': 0.05, 'relating': 0.05, 'attending': 0.1, 'mentioning': 0.05, 'marrying': 0.05, 'smiling': 0.05, 'handwriting': 0.05, 'climbing': 0.05, 'rowing': 0.05, 'flourishing': 0.05}, 'JJ': {'seek': 0.006944444444444444, 'constant': 0.006944444444444444, 'arrive': 0.013888888888888888, 'majestic': 0.006944444444444444, 'wondrous': 0.006944444444444444, 'swiss': 0.006944444444444444, 'birth': 0.006944444444444444, 'second': 0.006944444444444444, 'junior': 0.006944444444444444, 'poor': 0.006944444444444444, 'clerval': 0.013888888888888888, 'happy': 0.020833333333333332, 'glad': 0.006944444444444444, 'tremble': 0.006944444444444444, 'honourable': 0.006944444444444444, 'living': 0.006944444444444444, 'cloud': 0.006944444444444444, 'black': 0.013888888888888888, 'republic': 0.006944444444444444, 'native': 0.020833333333333332, 'natural': 0.013888888888888888, 'write': 0.006944444444444444, 'satisfied': 0.006944444444444444, 'eastern': 0.006944444444444444, 'lake': 0.006944444444444444, 'ignominious': 0.006944444444444444, 'sorrowful': 0.006944444444444444, 'read': 0.006944444444444444, 'future': 0.013888888888888888, 'obliterated': 0.006944444444444444, 'comprehensive': 0.006944444444444444, 'sole': 0.006944444444444444, 'burnt': 0.006944444444444444, 'brought': 0.006944444444444444, 'modern': 0.006944444444444444, 'proud': 0.006944444444444444, 'unbending': 0.006944444444444444, 'live': 0.006944444444444444, 'enterprise': 0.006944444444444444, 'long': 0.020833333333333332, 'open': 0.013888888888888888, 'hard': 0.013888888888888888, 'convulsive': 0.006944444444444444, 'behold': 0.006944444444444444, 'contrary': 0.006944444444444444, 'wretchedness': 0.006944444444444444, 'know': 0.006944444444444444, 'tranquil': 0.006944444444444444, 'devolved': 0.006944444444444444, 'mercenary': 0.006944444444444444, 'old': 0.006944444444444444, 'lifeless': 0.006944444444444444, 'uncertain': 0.006944444444444444, 'gained': 0.006944444444444444, 'valuable': 0.006944444444444444, 'william': 0.006944444444444444, 'tear': 0.006944444444444444, 'memorable': 0.006944444444444444, 'little': 0.006944444444444444, 'worthy': 0.006944444444444444, 'lost': 0.006944444444444444, 'able': 0.006944444444444444, 'capable': 0.006944444444444444, 'warm': 0.006944444444444444, 'league': 0.006944444444444444, 'medical': 0.006944444444444444, 'table': 0.006944444444444444, 'chivalrous': 0.006944444444444444, 'occurredan': 0.006944444444444444, 'ample': 0.006944444444444444, 'wish': 0.006944444444444444, 'woeful': 0.006944444444444444, 'severe': 0.006944444444444444, 'ardent': 0.006944444444444444, 'eager': 0.006944444444444444, 'idler': 0.006944444444444444, 'necessary': 0.013888888888888888, 'callous': 0.006944444444444444, 'scientific': 0.006944444444444444, 'continual': 0.006944444444444444, 'teeth': 0.006944444444444444, 'great': 0.020833333333333332, 'considerable': 0.006944444444444444, 'usual': 0.006944444444444444, 'depended': 0.006944444444444444, 'horrible': 0.006944444444444444, 'false': 0.006944444444444444, 'smitten': 0.006944444444444444, 'thirst': 0.006944444444444444, 'hide': 0.006944444444444444, 'perform': 0.006944444444444444, 'good': 0.006944444444444444, 'lucerne': 0.006944444444444444, 'unknown': 0.006944444444444444, 'guilty': 0.006944444444444444, 'smile': 0.006944444444444444, 'whilst': 0.006944444444444444, 'genevese': 0.006944444444444444, 'sad': 0.006944444444444444, 'forbidden': 0.006944444444444444, 'pen': 0.006944444444444444, 'sickbed': 0.006944444444444444, 'watchful': 0.006944444444444444, 'early': 0.006944444444444444, 'beautiful': 0.020833333333333332, 'facile': 0.006944444444444444, 'foreign': 0.006944444444444444, 'lustrous': 0.006944444444444444, 'dreary': 0.006944444444444444, 'unfortunate': 0.006944444444444444, 'fellow': 0.006944444444444444, 'general': 0.006944444444444444, 'united': 0.006944444444444444, 'kindness': 0.006944444444444444, 'horrid': 0.006944444444444444, 'conceive': 0.006944444444444444, 'seventeen': 0.006944444444444444, 'dull': 0.006944444444444444, 'yellow': 0.013888888888888888, 'akin': 0.006944444444444444, 'fatal': 0.006944444444444444, 'prospect': 0.006944444444444444, 'numerous': 0.006944444444444444, 'waldman': 0.006944444444444444, 'true': 0.006944444444444444}, 'NN': {'hope': 0.002840909090909091, 'letter': 0.002840909090909091, 'fix': 0.002840909090909091, 'date': 0.002840909090909091, 'curiosity': 0.002840909090909091, 'research': 0.002840909090909091, 'learn': 0.002840909090909091, 'nature': 0.005681818181818182, 'misfortune': 0.005681818181818182, 'life': 0.017045454545454544, 'son': 0.011363636363636364, 'cousin': 0.002840909090909091, 'permit': 0.002840909090909091, 'enter': 0.002840909090909091, 'profession': 0.002840909090909091, 'surprise': 0.002840909090909091, 'welcome': 0.002840909090909091, 'innocence': 0.005681818181818182, 'manner': 0.005681818181818182, 'anxiety': 0.005681818181818182, 'agony': 0.002840909090909091, 'mockery': 0.002840909090909091, 'justice': 0.002840909090909091, 'torture': 0.002840909090909091, 'visit': 0.002840909090909091, 'geneva': 0.008522727272727272, 'care': 0.008522727272727272, 'benevolent': 0.002840909090909091, 'countenance': 0.005681818181818182, 'set': 0.002840909090909091, 'complexion': 0.002840909090909091, 'acquaintance': 0.002840909090909091, 'science': 0.005681818181818182, 'merchant': 0.005681818181818182, 'boy': 0.002840909090909091, 'singular': 0.002840909090909091, 'wretchedness': 0.002840909090909091, 'father': 0.008522727272727272, 'beaufort': 0.002840909090909091, 'truest': 0.002840909090909091, 'friendship': 0.002840909090909091, 'student': 0.002840909090909091, 'university': 0.008522727272727272, 'ingolstadt': 0.002840909090909091, 'theory': 0.002840909090909091, 'practice': 0.002840909090909091, 'philosophy': 0.005681818181818182, 'heart': 0.002840909090909091, 'soul': 0.005681818181818182, 'pursuit': 0.008522727272727272, 'marriage': 0.002840909090909091, 'character': 0.002840909090909091, 'return': 0.005681818181818182, 'companion': 0.002840909090909091, 'spirit': 0.002840909090909091, 'joy': 0.002840909090909091, 'distance': 0.002840909090909091, 'grave': 0.002840909090909091, 'cause': 0.005681818181818182, 'look': 0.002840909090909091, 'affection': 0.008522727272727272, 'attest': 0.002840909090909091, 'deeply': 0.002840909090909091, 'romance': 0.002840909090909091, 'happiness': 0.002840909090909091, 'encountering': 0.002840909090909091, 'appearance': 0.005681818181818182, 'justine': 0.008522727272727272, 'calm': 0.005681818181818182, 'sense': 0.005681818181818182, 'term': 0.002840909090909091, 'occupation': 0.002840909090909091, 'country': 0.011363636363636364, 'glimmer': 0.002840909090909091, 'year': 0.002840909090909091, 'difference': 0.002840909090909091, 'wretch': 0.002840909090909091, 'infinite': 0.002840909090909091, 'disposition': 0.005681818181818182, 'poverty': 0.002840909090909091, 'talent': 0.002840909090909091, 'fancy': 0.002840909090909091, 'hardship': 0.002840909090909091, 'danger': 0.002840909090909091, 'post': 0.002840909090909091, 'bring': 0.002840909090909091, 'line': 0.002840909090909091, 'pain': 0.002840909090909091, 'absent': 0.005681818181818182, 'delineate': 0.002840909090909091, 'brother': 0.002840909090909091, 'playing': 0.002840909090909091, 'william': 0.002840909090909091, 'improvement': 0.005681818181818182, 'chemical': 0.002840909090909091, 'motion': 0.002840909090909091, 'victor': 0.005681818181818182, 'ardour': 0.005681818181818182, 'discrimination': 0.002840909090909091, 'render': 0.002840909090909091, 'declaration': 0.002840909090909091, 'tranquillity': 0.002840909090909091, 'diversity': 0.002840909090909091, 'contrast': 0.005681818181818182, 'nurse': 0.002840909090909091, 'spark': 0.002840909090909091, 'thing': 0.002840909090909091, 'strength': 0.002840909090909091, 'physiognomy': 0.002840909090909091, 'ernest': 0.002840909090909091, 'stay': 0.002840909090909091, 'dim': 0.002840909090909091, 'eye': 0.005681818181818182, 'aggravation': 0.002840909090909091, 'infamy': 0.002840909090909091, 'murder': 0.002840909090909091, 'horror': 0.002840909090909091, 'time': 0.008522727272727272, 'journey': 0.002840909090909091, 'intense': 0.002840909090909091, 'walk': 0.005681818181818182, 'plainpalais': 0.002840909090909091, 'serene': 0.002840909090909091, 'colour': 0.002840909090909091, 'dunwhite': 0.002840909090909091, 'city': 0.002840909090909091, 'event': 0.002840909090909091, 'king': 0.002840909090909091, 'consolation': 0.002840909090909091, 'supply': 0.002840909090909091, 'place': 0.002840909090909091, 'misery': 0.002840909090909091, 'path': 0.002840909090909091, 'knowledge': 0.005681818181818182, 'abstruse': 0.002840909090909091, 'alpine': 0.002840909090909091, 'summersshe': 0.002840909090909091, 'scope': 0.002840909090909091, 'admiration': 0.002840909090909091, 'delight': 0.002840909090909091, 'world': 0.008522727272727272, 'credit': 0.002840909090909091, 'assistance': 0.002840909090909091, 'prepare': 0.002840909090909091, 'news': 0.002840909090909091, 'scarlet': 0.002840909090909091, 'fever': 0.002840909090909091, 'illness': 0.002840909090909091, 'lake': 0.002840909090909091, 'fear': 0.002840909090909091, 'yield': 0.002840909090909091, 'point': 0.005681818181818182, 'madman': 0.002840909090909091, 'guess': 0.002840909090909091, 'minister': 0.002840909090909091, 'variety': 0.002840909090909091, 'oblivion': 0.002840909090909091, 'thought': 0.002840909090909091, 'quit': 0.002840909090909091, 'girl': 0.002840909090909091, 'merit': 0.002840909090909091, 'reputation': 0.002840909090909091, 'relate': 0.002840909090909091, 'absence': 0.002840909090909091, 'food': 0.002840909090909091, 'discovery': 0.002840909090909091, 'wonder': 0.002840909090909091, 'cruel': 0.002840909090909091, 'kindness': 0.002840909090909091, 'dare': 0.002840909090909091, 'whiteness': 0.002840909090909091, 'deal': 0.002840909090909091, 'sound': 0.002840909090909091, 'train': 0.002840909090909091, 'blood': 0.002840909090909091, 'redeem': 0.002840909090909091, 'holy': 0.002840909090909091, 'sepulchre': 0.002840909090909091, 'morning': 0.002840909090909091, 'rain': 0.002840909090909091, 'imagination': 0.002840909090909091, 'enormity': 0.002840909090909091, 'seclusion': 0.002840909090909091, 'dusk': 0.002840909090909091, 'disunion': 0.002840909090909091, 'dispute': 0.002840909090909091, 'harmony': 0.002840909090909091, 'companionship': 0.002840909090909091, 'death': 0.005681818181818182, 'meeting': 0.002840909090909091, 'convey': 0.002840909090909091, 'pride': 0.002840909090909091, 'friend': 0.005681818181818182, 'conduct': 0.002840909090909091, 'solemnity': 0.002840909090909091, 'refrain': 0.005681818181818182, 'intimate': 0.002840909090909091, 'application': 0.005681818181818182, 'town': 0.005681818181818182, 'incident': 0.002840909090909091, 'figure': 0.002840909090909091, 'task': 0.002840909090909091, 'idea': 0.002840909090909091, 'pedantry': 0.002840909090909091, 'daughter': 0.002840909090909091, 'crime': 0.002840909090909091, 'cornelius': 0.002840909090909091, 'agrippa': 0.002840909090909091, 'waldman': 0.002840909090909091, 'attainment': 0.002840909090909091, 'object': 0.002840909090909091, 'birth': 0.002840909090909091, 'family': 0.008522727272727272, 'trial': 0.002840909090909091, 'chapter': 0.002840909090909091, 'day': 0.008522727272727272, 'writeto': 0.002840909090909091, 'hold': 0.002840909090909091, 'word': 0.002840909090909091, 'dear': 0.002840909090909091, 'malignity': 0.002840909090909091, 'secret': 0.002840909090909091, 'divine': 0.002840909090909091, 'progress': 0.005681818181818182, 'decline': 0.002840909090909091, 'confident': 0.002840909090909091, 'nearer': 0.002840909090909091, 'calmer': 0.002840909090909091, 'apprehension': 0.002840909090909091, 'service': 0.002840909090909091, 'hitherto': 0.002840909090909091, 'husband': 0.002840909090909091, 'proficiency': 0.005681818181818182, 'krempe': 0.002840909090909091, 'infuse': 0.002840909090909091, 'confusion': 0.002840909090909091, 'proof': 0.002840909090909091, 'guilt': 0.002840909090909091, 'heartfelt': 0.002840909090909091, 'exultation': 0.002840909090909091, 'alarming': 0.002840909090909091, 'work': 0.002840909090909091, 'hair': 0.002840909090909091, 'night': 0.002840909090909091, 'accomplishment': 0.002840909090909091, 'retreat': 0.002840909090909091, 'control': 0.002840909090909091, 'house': 0.002840909090909091, 'campagne': 0.002840909090909091, 'belrive': 0.002840909090909091, 'remark': 0.002840909090909091, 'sixteen': 0.002840909090909091, 'babe': 0.002840909090909091, 'intelligence': 0.002840909090909091, 'study': 0.002840909090909091, 'form': 0.002840909090909091, 'proportion': 0.002840909090909091, 'regret': 0.002840909090909091, 'indifferent': 0.002840909090909091, 'beauty': 0.002840909090909091, 'watery': 0.002840909090909091, 'business': 0.002840909090909091, 'none': 0.002840909090909091, 'commence': 0.002840909090909091, 'rest': 0.002840909090909091, 'attend': 0.002840909090909091, 'age': 0.002840909090909091, 'air': 0.002840909090909091, 'mind': 0.002840909090909091, 'courage': 0.002840909090909091, 'light': 0.002840909090909091, 'creature': 0.002840909090909091, 'gladness': 0.002840909090909091, 'rapture': 0.002840909090909091, 'god': 0.002840909090909091, 'skin': 0.002840909090909091, 'imprudence': 0.002840909090909091, 'mother': 0.005681818181818182, 'chemistry': 0.002840909090909091, 'completion': 0.002840909090909091, 'education': 0.002840909090909091, 'persuade': 0.002840909090909091, 'union': 0.002840909090909091, 'expectation': 0.002840909090909091, 'state': 0.002840909090909091, 'gentleness': 0.002840909090909091}, 'VB': {'begin': 0.125, 'ill': 0.125, 'sake': 0.125, 'inflict': 0.125, 'read': 0.125, 'end': 0.125, 'run': 0.125, 'expect': 0.125}, '&&': {'&&': 1.0}, 'PRP': {'you': 1.0}, 'VBP': {'ill': 0.05, 'dear': 0.05, 'illustrate': 0.05, 'chivalry': 0.05, 'candle': 0.05, 'griefs': 0.05, 'catastrophe': 0.05, 'drawn': 0.05, 'genius': 0.05, 'account': 0.05, 'round': 0.05, 'love': 0.05, 'honour': 0.05, 'ingolstadt': 0.05, 'hope': 0.05, 'oclock': 0.05, 'clear': 0.05, 'professor': 0.05, 'beneath': 0.05, 'alas': 0.05}, 'NNS': {'letters': 0.011111111111111112, 'laws': 0.011111111111111112, 'scenes': 0.011111111111111112, 'years': 0.044444444444444446, 'parents': 0.03333333333333333, 'writes': 0.011111111111111112, 'toils': 0.011111111111111112, 'lips': 0.011111111111111112, 'lectures': 0.011111111111111112, 'men': 0.011111111111111112, 'ancestors': 0.011111111111111112, 'discoveries': 0.011111111111111112, 'circumstances': 0.03333333333333333, 'times': 0.011111111111111112, 'books': 0.011111111111111112, 'children': 0.022222222222222223, 'minds': 0.011111111111111112, 'spectators': 0.011111111111111112, 'inconveniences': 0.011111111111111112, 'dangers': 0.011111111111111112, 'customs': 0.011111111111111112, 'panes': 0.011111111111111112, 'inquirers': 0.011111111111111112, 'subjects': 0.011111111111111112, 'pains': 0.011111111111111112, 'persuasions': 0.011111111111111112, 'joys': 0.011111111111111112, 'emotions': 0.011111111111111112, 'masquerades': 0.011111111111111112, 'characters': 0.022222222222222223, 'heroes': 0.011111111111111112, 'limbs': 0.011111111111111112, 'tears': 0.011111111111111112, 'works': 0.011111111111111112, 'feet': 0.011111111111111112, 'manners': 0.011111111111111112, 'sockets': 0.011111111111111112, 'attendants': 0.011111111111111112, 'roncesvalles': 0.011111111111111112, 'omen': 0.011111111111111112, 'hands': 0.022222222222222223, 'know': 0.011111111111111112, 'stars': 0.011111111111111112, 'ravings': 0.011111111111111112, 'wishes': 0.011111111111111112, 'affairs': 0.011111111111111112, 'apprehensions': 0.011111111111111112, 'qualities': 0.011111111111111112, 'situations': 0.011111111111111112, 'lives': 0.011111111111111112, 'lessons': 0.011111111111111112, 'professors': 0.011111111111111112, 'indulge': 0.011111111111111112, 'tidings': 0.011111111111111112, 'friends': 0.022222222222222223, 'ways': 0.011111111111111112, 'hours': 0.011111111111111112, 'lines': 0.011111111111111112, 'entreaties': 0.011111111111111112, 'attentions': 0.011111111111111112, 'causes': 0.011111111111111112, 'feelings': 0.011111111111111112, 'inquiries': 0.011111111111111112, 'schools': 0.011111111111111112, 'masters': 0.011111111111111112, 'instruments': 0.011111111111111112, 'symptoms': 0.011111111111111112, 'muscles': 0.011111111111111112, 'arteries': 0.011111111111111112, 'infidels': 0.011111111111111112, 'beings': 0.011111111111111112, 'features': 0.011111111111111112, 'enticements': 0.011111111111111112, 'studies': 0.011111111111111112, 'thousands': 0.011111111111111112, 'luxuriances': 0.011111111111111112, 'eyes': 0.011111111111111112, 'days': 0.011111111111111112, 'hills': 0.011111111111111112}, 'RB': {'probably': 0.023255813953488372, 'impatiently': 0.023255813953488372, 'yet': 0.046511627906976744, 'straight': 0.023255813953488372, 'entirely': 0.023255813953488372, 'far': 0.046511627906976744, 'dreadfully': 0.023255813953488372, 'shore': 0.023255813953488372, 'nearly': 0.046511627906976744, 'evidently': 0.023255813953488372, 'quickly': 0.023255813953488372, 'solely': 0.023255813953488372, 'rapidly': 0.023255813953488372, 'principally': 0.023255813953488372, 'arthur': 0.023255813953488372, 'elizabeth': 0.023255813953488372, 'soon': 0.046511627906976744, 'pearly': 0.023255813953488372, 'dismally': 0.023255813953488372, 'farther': 0.023255813953488372, 'bitterly': 0.023255813953488372, 'deeply': 0.046511627906976744, 'vainly': 0.023255813953488372, 'sly': 0.023255813953488372, 'continually': 0.023255813953488372, 'merely': 0.023255813953488372, 'closely': 0.023255813953488372, 'easily': 0.023255813953488372, 'presently': 0.023255813953488372, 'exquisitely': 0.023255813953488372, 'father': 0.023255813953488372, 'fever': 0.023255813953488372, 'favourite': 0.023255813953488372, 'infallibly': 0.023255813953488372, 'perpetually': 0.023255813953488372, 'scarcely': 0.023255813953488372, 'preserver': 0.023255813953488372, 'particularly': 0.023255813953488372}, 'VBD': {'waited': 0.012658227848101266, 'hidden': 0.012658227848101266, 'surrounded': 0.012658227848101266, 'gave': 0.012658227848101266, 'selected': 0.02531645569620253, 'expected': 0.012658227848101266, 'execrated': 0.012658227848101266, 'retreated': 0.012658227848101266, 'amounted': 0.012658227848101266, 'suffered': 0.02531645569620253, 'pleased': 0.012658227848101266, 'shrivelled': 0.012658227848101266, 'cultivated': 0.012658227848101266, 'loved': 0.02531645569620253, 'tempted': 0.012658227848101266, 'contemplated': 0.012658227848101266, 'said': 0.02531645569620253, 'dressed': 0.012658227848101266, 'attended': 0.02531645569620253, 'endeavoured': 0.012658227848101266, 'breathed': 0.012658227848101266, 'agitated': 0.012658227848101266, 'obliterated': 0.012658227848101266, 'constrained': 0.012658227848101266, 'subsisted': 0.012658227848101266, 'drew': 0.012658227848101266, 'lay': 0.012658227848101266, 'proceeded': 0.012658227848101266, 'protracted': 0.012658227848101266, 'saw': 0.02531645569620253, 'united': 0.012658227848101266, 'prolonged': 0.012658227848101266, 'wrapped': 0.012658227848101266, 'resided': 0.012658227848101266, 'disappeared': 0.012658227848101266, 'prevented': 0.012658227848101266, 'arrived': 0.012658227848101266, 'possessed': 0.02531645569620253, 'promised': 0.012658227848101266, 'respected': 0.012658227848101266, 'rendered': 0.012658227848101266, 'shed': 0.012658227848101266, 'pattered': 0.012658227848101266, 'committed': 0.012658227848101266, 'passed': 0.02531645569620253, 'thought': 0.02531645569620253, 'led': 0.012658227848101266, 'sought': 0.012658227848101266, 'banished': 0.012658227848101266, 'lived': 0.012658227848101266, 'went': 0.012658227848101266, 'heard': 0.012658227848101266, 'triumphed': 0.012658227848101266, 'desired': 0.012658227848101266, 'came': 0.012658227848101266, 'concentrated': 0.012658227848101266, 'asked': 0.012658227848101266, 'adduced': 0.012658227848101266, 'beheld': 0.012658227848101266, 'formed': 0.012658227848101266, 'occupied': 0.012658227848101266, 'hoped': 0.012658227848101266, 'experienced': 0.012658227848101266, 'obliged': 0.012658227848101266, 'resolved': 0.012658227848101266, 'entered': 0.012658227848101266, 'unfolded': 0.012658227848101266, 'covered': 0.012658227848101266, 'fell': 0.012658227848101266, 'tinged': 0.012658227848101266}, 'JJS': {'earnest': 0.25, 'firmest': 0.25, 'ernest': 0.5}, 'VBN': {'resolved': 0.017543859649122806, 'gazed': 0.017543859649122806, 'wretched': 0.017543859649122806, 'passed': 0.03508771929824561, 'paid': 0.017543859649122806, 'distinguished': 0.017543859649122806, 'fixed': 0.017543859649122806, 'acquainted': 0.03508771929824561, 'engaged': 0.017543859649122806, 'murdered': 0.017543859649122806, 'recovered': 0.017543859649122806, 'excited': 0.017543859649122806, 'prevented': 0.017543859649122806, 'written': 0.017543859649122806, 'gone': 0.03508771929824561, 'committed': 0.017543859649122806, 'sickbed': 0.017543859649122806, 'discovered': 0.017543859649122806, 'happened': 0.017543859649122806, 'seated': 0.017543859649122806, 'regretted': 0.017543859649122806, 'improved': 0.017543859649122806, 'prognosticated': 0.017543859649122806, 'smoothed': 0.017543859649122806, 'joined': 0.017543859649122806, 'caught': 0.017543859649122806, 'considered': 0.017543859649122806, 'beloved': 0.017543859649122806, 'supposed': 0.017543859649122806, 'deplored': 0.017543859649122806, 'rendered': 0.017543859649122806, 'confessed': 0.017543859649122806, 'ascribed': 0.017543859649122806, 'sought': 0.017543859649122806, 'yielded': 0.017543859649122806, 'attended': 0.017543859649122806, 'applied': 0.017543859649122806, 'conceived': 0.017543859649122806, 'enquired': 0.017543859649122806, 'seen': 0.017543859649122806, 'appeared': 0.017543859649122806, 'collected': 0.017543859649122806, 'expressed': 0.017543859649122806, 'sickened': 0.017543859649122806, 'accompanied': 0.017543859649122806, 'grieved': 0.017543859649122806, 'menaced': 0.017543859649122806, 'taken': 0.017543859649122806, 'attained': 0.017543859649122806, 'spent': 0.017543859649122806, 'worked': 0.017543859649122806, 'halfextinguished': 0.017543859649122806, 'exculpated': 0.017543859649122806, 'placed': 0.017543859649122806}, 'CD': {'seven': 0.14285714285714285, 'thousand': 0.2857142857142857, 'worst': 0.14285714285714285, 'one': 0.14285714285714285, '6': 0.14285714285714285, 'two': 0.14285714285714285}, 'PRP$': {'my': 1.0}, 'VBZ': {'hopes': 0.125, 'discoveries': 0.125, 'looks': 0.125, 'elizabeth': 0.25, 'krempe': 0.125, 'limbs': 0.125, 'schoolfellows': 0.125}, 'IN': {'bear': 1.0}, 'MD': {'shall': 1.0}, 'RBR': {'elizabeth': 0.5, 'father': 0.5}, 'RP': {'away': 1.0}, 'FW': {'geneva': 1.0}, 'NNP': {'november': 1.0}, 'JJR': {'longer': 0.3333333333333333, 'younger': 0.6666666666666666}}"
     ]
    },
    {
     "name": "stdout",
     "output_type": "stream",
     "text": [
      "\n"
     ]
    }
   ],
   "source": [
    "#Calculating the emission probabilities using train_word_tag\n",
    "train_emission_prob={}\n",
    "for k in train_word_tag.keys():\n",
    "  train_emission_prob[k]={}\n",
    "  count = sum(train_word_tag[k].values())\n",
    "  for k2 in train_word_tag[k].keys():\n",
    "    train_emission_prob[k][k2]=train_word_tag[k][k2]/count\n",
    "print(train_emission_prob)"
   ]
  },
  {
   "cell_type": "code",
   "execution_count": 14,
   "metadata": {},
   "outputs": [
    {
     "name": "stdout",
     "output_type": "stream",
     "text": [
      "{'##': {'VBG': 5, 'PRP': 2, 'NN': 71, 'VBN': 31, 'JJ': 30, 'NNS': 21, 'RB': 10, 'VB': 3, 'VBZ': 1, 'JJR': 1, 'VBD': 1}, 'VBG': {'JJ': 5, 'VB': 1, 'NN': 4, '&&': 5, 'VBN': 2, 'CD': 1, 'NNS': 2}, 'JJ': {'NN': 80, 'NNS': 19, 'JJ': 19, '&&': 15, 'CD': 1, 'VBN': 1, 'RB': 5, 'VBD': 3, 'VBG': 1}, 'NN': {'VBG': 8, 'NN': 120, '&&': 90, 'JJS': 2, 'VBD': 48, 'JJ': 29, 'RB': 12, 'VBN': 9, 'NNS': 20, 'VBP': 1, 'CD': 4, 'IN': 1, 'VBZ': 5, 'VB': 1, 'RBR': 1, 'NNP': 1}, 'VB': {'&&': 3, 'JJ': 1, 'NN': 3, 'RP': 1}, 'PRP': {'VBP': 1, 'RB': 1}, 'VBP': {'VB': 1, '&&': 2, 'NN': 11, 'RB': 1, 'MD': 1, 'NNS': 1, 'JJ': 3}, 'NNS': {'VBP': 17, 'NN': 11, 'VBD': 14, 'NNS': 8, '&&': 23, 'JJ': 6, 'VBN': 2, 'VBZ': 1, 'RBR': 1, 'RB': 4, 'FW': 1, 'VBG': 2}, 'RB': {'VBD': 7, 'NN': 4, 'JJ': 12, 'VBG': 3, 'RB': 2, 'VBN': 9, '&&': 4, 'VB': 1, 'JJS': 1}, 'VBD': {'RB': 4, 'NNS': 7, 'JJ': 16, '&&': 29, 'NN': 18, 'PRP$': 1, 'VBG': 1, 'VBN': 2, 'JJR': 1}, 'JJS': {'NN': 2, 'VBZ': 1, 'VBD': 1}, 'VBN': {'JJ': 17, 'VBD': 4, 'NN': 21, '&&': 3, 'NNS': 6, 'RB': 3, 'CD': 1, 'VBN': 1, 'JJR': 1}, 'CD': {'NNS': 4, 'NN': 2, '&&': 1}, 'PRP$': {'JJS': 1, '&&': 1}, 'VBZ': {'JJ': 4, 'NN': 3, 'VBP': 1}, 'IN': {'JJ': 1}, 'MD': {'VB': 1}, 'RBR': {'PRP$': 1, 'NN': 1}, 'RP': {'JJ': 1}, 'FW': {'RB': 1}, 'NNP': {'VBD': 1}, 'JJR': {'NN': 1, 'NNS': 2}}\n"
     ]
    }
   ],
   "source": [
    "#Estimating the bigram of tags to be used for transition probability\n",
    "bigram_tag_data = {}\n",
    "for s in train_data:\n",
    "  bi=list(nltk.bigrams(s))\n",
    "  for b1,b2 in bi:\n",
    "    try:\n",
    "      try:\n",
    "        bigram_tag_data[b1[1]][b2[1]]+=1\n",
    "      except:\n",
    "        bigram_tag_data[b1[1]][b2[1]]=1\n",
    "    except:\n",
    "      bigram_tag_data[b1[1]]={b2[1]:1}\n",
    "print(bigram_tag_data)"
   ]
  },
  {
   "cell_type": "code",
   "execution_count": 15,
   "metadata": {},
   "outputs": [
    {
     "name": "stdout",
     "output_type": "stream",
     "text": [
      "{'##': {'VBG': 0.028409090909090908, 'PRP': 0.011363636363636364, 'NN': 0.4034090909090909, 'VBN': 0.17613636363636365, 'JJ': 0.17045454545454544, 'NNS': 0.11931818181818182, 'RB': 0.056818181818181816, 'VB': 0.017045454545454544, 'VBZ': 0.005681818181818182, 'JJR': 0.005681818181818182, 'VBD': 0.005681818181818182}, 'VBG': {'JJ': 0.25, 'VB': 0.05, 'NN': 0.2, '&&': 0.25, 'VBN': 0.1, 'CD': 0.05, 'NNS': 0.1}, 'JJ': {'NN': 0.5555555555555556, 'NNS': 0.13194444444444445, 'JJ': 0.13194444444444445, '&&': 0.10416666666666667, 'CD': 0.006944444444444444, 'VBN': 0.006944444444444444, 'RB': 0.034722222222222224, 'VBD': 0.020833333333333332, 'VBG': 0.006944444444444444}, 'NN': {'VBG': 0.022727272727272728, 'NN': 0.3409090909090909, '&&': 0.2556818181818182, 'JJS': 0.005681818181818182, 'VBD': 0.13636363636363635, 'JJ': 0.08238636363636363, 'RB': 0.03409090909090909, 'VBN': 0.02556818181818182, 'NNS': 0.056818181818181816, 'VBP': 0.002840909090909091, 'CD': 0.011363636363636364, 'IN': 0.002840909090909091, 'VBZ': 0.014204545454545454, 'VB': 0.002840909090909091, 'RBR': 0.002840909090909091, 'NNP': 0.002840909090909091}, 'VB': {'&&': 0.375, 'JJ': 0.125, 'NN': 0.375, 'RP': 0.125}, 'PRP': {'VBP': 0.5, 'RB': 0.5}, 'VBP': {'VB': 0.05, '&&': 0.1, 'NN': 0.55, 'RB': 0.05, 'MD': 0.05, 'NNS': 0.05, 'JJ': 0.15}, 'NNS': {'VBP': 0.18888888888888888, 'NN': 0.12222222222222222, 'VBD': 0.15555555555555556, 'NNS': 0.08888888888888889, '&&': 0.25555555555555554, 'JJ': 0.06666666666666667, 'VBN': 0.022222222222222223, 'VBZ': 0.011111111111111112, 'RBR': 0.011111111111111112, 'RB': 0.044444444444444446, 'FW': 0.011111111111111112, 'VBG': 0.022222222222222223}, 'RB': {'VBD': 0.16279069767441862, 'NN': 0.09302325581395349, 'JJ': 0.27906976744186046, 'VBG': 0.06976744186046512, 'RB': 0.046511627906976744, 'VBN': 0.20930232558139536, '&&': 0.09302325581395349, 'VB': 0.023255813953488372, 'JJS': 0.023255813953488372}, 'VBD': {'RB': 0.05063291139240506, 'NNS': 0.08860759493670886, 'JJ': 0.20253164556962025, '&&': 0.3670886075949367, 'NN': 0.22784810126582278, 'PRP$': 0.012658227848101266, 'VBG': 0.012658227848101266, 'VBN': 0.02531645569620253, 'JJR': 0.012658227848101266}, 'JJS': {'NN': 0.5, 'VBZ': 0.25, 'VBD': 0.25}, 'VBN': {'JJ': 0.2982456140350877, 'VBD': 0.07017543859649122, 'NN': 0.3684210526315789, '&&': 0.05263157894736842, 'NNS': 0.10526315789473684, 'RB': 0.05263157894736842, 'CD': 0.017543859649122806, 'VBN': 0.017543859649122806, 'JJR': 0.017543859649122806}, 'CD': {'NNS': 0.5714285714285714, 'NN': 0.2857142857142857, '&&': 0.14285714285714285}, 'PRP$': {'JJS': 0.5, '&&': 0.5}, 'VBZ': {'JJ': 0.5, 'NN': 0.375, 'VBP': 0.125}, 'IN': {'JJ': 1.0}, 'MD': {'VB': 1.0}, 'RBR': {'PRP$': 0.5, 'NN': 0.5}, 'RP': {'JJ': 1.0}, 'FW': {'RB': 1.0}, 'NNP': {'VBD': 1.0}, 'JJR': {'NN': 0.3333333333333333, 'NNS': 0.6666666666666666}}\n"
     ]
    }
   ],
   "source": [
    "#Calculating the probabilities of tag bigrams for transition probability  \n",
    "bigram_tag_prob={}\n",
    "for k in bigram_tag_data.keys():\n",
    "  bigram_tag_prob[k]={}\n",
    "  count=sum(bigram_tag_data[k].values())\n",
    "  for k2 in bigram_tag_data[k].keys():\n",
    "    bigram_tag_prob[k][k2]=bigram_tag_data[k][k2]/count\n",
    "print(bigram_tag_prob)"
   ]
  },
  {
   "cell_type": "code",
   "execution_count": 16,
   "metadata": {},
   "outputs": [
    {
     "name": "stdout",
     "output_type": "stream",
     "text": [
      "{'##': ['##'], 'endeavouring': ['VBG'], 'seek': ['JJ'], 'hope': ['NN', 'VBP'], 'persuading': ['VBG'], 'begin': ['VB'], '&&': ['&&'], 'you': ['PRP'], 'ill': ['VBP', 'VB'], 'constant': ['JJ'], 'letters': ['NNS'], 'dear': ['VBP', 'NN'], 'probably': ['RB'], 'waited': ['VBD', 'VBN'], 'impatiently': ['RB'], 'letter': ['NN'], 'fix': ['NN'], 'date': ['NN'], 'curiosity': ['NN'], 'earnest': ['JJS'], 'research': ['NN'], 'learn': ['NN'], 'hidden': ['VBD'], 'laws': ['NNS'], 'nature': ['NN'], 'resolved': ['VBN', 'VBD'], 'arrive': ['JJ'], 'misfortune': ['NN'], 'life': ['NN'], 'majestic': ['JJ'], 'wondrous': ['JJ'], 'scenes': ['NNS'], 'surrounded': ['VBD'], 'swiss': ['JJ'], 'birth': ['JJ', 'NN'], 'second': ['JJ'], 'son': ['NN'], 'junior': ['JJ'], 'seven': ['CD'], 'years': ['NNS'], 'parents': ['NNS'], 'gave': ['VBD'], 'poor': ['JJ'], 'cousin': ['NN'], 'yet': ['RB'], 'clerval': ['JJ'], 'writes': ['NNS'], 'permit': ['NN'], 'enter': ['NN'], 'profession': ['NN'], 'selected': ['VBD'], 'surprise': ['NN'], 'expected': ['VBD'], 'happy': ['JJ'], 'glad': ['JJ'], 'welcome': ['NN'], 'innocence': ['NN'], 'tremble': ['JJ'], 'gazed': ['VBN'], 'execrated': ['VBD'], 'honourable': ['JJ'], 'manner': ['NN'], 'retreated': ['VBD'], 'toils': ['NNS'], 'anxiety': ['NN'], 'amounted': ['VBD'], 'agony': ['NN'], 'wretched': ['VBN'], 'mockery': ['NN'], 'justice': ['NN'], 'suffered': ['VBD'], 'living': ['JJ'], 'torture': ['NN'], 'passed': ['VBN', 'VBD'], 'paid': ['VBN', 'VBD'], 'visit': ['NN'], 'geneva': ['NN', 'FW'], 'care': ['NN'], 'cloud': ['JJ'], 'benevolent': ['NN'], 'countenance': ['NN'], 'pleased': ['VBD', 'JJ'], 'set': ['NN'], 'shrivelled': ['VBD'], 'complexion': ['NN'], 'straight': ['RB'], 'black': ['JJ'], 'lips': ['NNS'], 'lectures': ['NNS'], 'cultivated': ['VBD'], 'acquaintance': ['NN'], 'men': ['NNS'], 'science': ['NN'], 'merchant': ['NN'], 'boy': ['NN'], 'singular': ['NN'], 'wretchedness': ['NN', 'JJ'], 'father': ['NN', 'RB', 'RBR'], 'loved': ['VBD'], 'beaufort': ['NN'], 'truest': ['NN'], 'friendship': ['NN'], 'student': ['NN'], 'university': ['NN'], 'ingolstadt': ['NN', 'VBP'], 'distinguished': ['VBN'], 'republic': ['JJ'], 'ancestors': ['NNS'], 'entirely': ['RB'], 'wandering': ['VBG'], 'fixed': ['VBN', 'VBD'], 'native': ['JJ'], 'acquainted': ['VBN'], 'theory': ['NN'], 'practice': ['NN'], 'natural': ['JJ'], 'philosophy': ['NN'], 'engaged': ['VBN', 'VBD'], 'heart': ['NN'], 'soul': ['NN'], 'pursuit': ['NN'], 'discoveries': ['NNS', 'VBZ'], 'circumstances': ['NNS'], 'marriage': ['NN'], 'illustrate': ['VBP'], 'character': ['NN'], 'return': ['NN'], 'tempted': ['VBD'], 'write': ['JJ'], 'companion': ['NN'], 'contemplated': ['VBD'], 'satisfied': ['JJ'], 'spirit': ['NN', 'VBP'], 'joy': ['NN'], 'far': ['RB'], 'dreadfully': ['RB'], 'murdered': ['VBN'], 'eastern': ['JJ'], 'shore': ['RB'], 'lake': ['JJ', 'NN'], 'distance': ['NN'], 'ignominious': ['JJ'], 'grave': ['NN'], 'cause': ['NN'], 'thousand': ['CD'], 'times': ['NNS'], 'recovered': ['VBN'], 'look': ['NN'], 'sorrowful': ['JJ'], 'affection': ['NN'], 'attest': ['NN'], 'sake': ['VB'], 'deeply': ['NN', 'RB'], 'read': ['JJ', 'VB'], 'books': ['NNS'], 'chivalry': ['VBP'], 'romance': ['NN'], 'children': ['NNS'], 'said': ['VBD'], 'my': ['PRP$'], 'firmest': ['JJS'], 'hopes': ['VBZ'], 'future': ['JJ'], 'happiness': ['NN'], 'excited': ['VBN'], 'obliterated': ['JJ', 'VBD'], 'minds': ['NNS'], 'spectators': ['NNS'], 'prevented': ['VBN', 'VBD'], 'encountering': ['NN'], 'inconveniences': ['NNS'], 'dangers': ['NNS'], 'appearance': ['NN'], 'justine': ['NN'], 'calm': ['NN'], 'dressed': ['VBD'], 'mourning': ['VBG'], 'comprehensive': ['JJ'], 'sense': ['NN'], 'term': ['NN'], 'nearly': ['RB'], 'sole': ['JJ'], 'occupation': ['NN'], 'customs': ['NNS'], 'country': ['NN'], 'panes': ['NNS'], 'candle': ['VBP'], 'burnt': ['JJ'], 'glimmer': ['NN'], 'brought': ['JJ'], 'year': ['NN'], 'difference': ['NN'], 'modern': ['JJ'], 'inquirers': ['NNS'], 'written': ['VBN'], 'subjects': ['NNS'], 'attended': ['VBD', 'VBN'], 'wretch': ['NN'], 'infinite': ['NN'], 'pains': ['NNS'], 'endeavoured': ['VBD'], 'proud': ['JJ'], 'unbending': ['JJ'], 'disposition': ['NN'], 'bear': ['IN'], 'live': ['JJ'], 'poverty': ['NN', 'VBP'], 'talent': ['NN'], 'fancy': ['NN'], 'enterprise': ['JJ'], 'hardship': ['NN'], 'danger': ['NN'], 'post': ['NN'], 'bring': ['NN'], 'line': ['NN'], 'persuasions': ['NNS'], 'joys': ['NNS'], 'griefs': ['VBP'], 'shall': ['MD'], 'inflict': ['VB'], 'pain': ['NN'], 'long': ['JJ'], 'absent': ['NN'], 'emotions': ['NNS'], 'catastrophe': ['VBP'], 'delineate': ['NN'], 'masquerades': ['NNS'], 'characters': ['NNS'], 'drawn': ['VBP'], 'heroes': ['NNS'], 'brother': ['NN'], 'playing': ['NN'], 'william': ['NN', 'JJ'], 'improvement': ['NN'], 'chemical': ['NN'], 'open': ['JJ'], 'breathed': ['VBD'], 'hard': ['JJ'], 'convulsive': ['JJ'], 'motion': ['NN'], 'agitated': ['VBD'], 'limbs': ['NNS', 'VBZ'], 'behold': ['JJ'], 'contrary': ['JJ'], 'tears': ['NNS'], 'victor': ['NN'], 'ardour': ['NN', 'CD'], 'works': ['NNS'], 'genius': ['VBP'], 'discrimination': ['NN'], 'gone': ['VBN'], 'know': ['JJ', 'NNS'], 'render': ['NN'], 'committed': ['VBN', 'VBD'], 'declaration': ['NN'], 'tranquil': ['JJ'], 'tranquillity': ['NN'], 'evidently': ['RB'], 'constrained': ['VBD'], 'diversity': ['NN'], 'contrast': ['NN'], 'subsisted': ['VBD'], 'drew': ['VBD'], 'sickbed': ['VBN', 'JJ'], 'devolved': ['JJ'], 'mercenary': ['JJ'], 'old': ['JJ'], 'nurse': ['NN'], 'spark': ['NN'], 'lifeless': ['JJ'], 'thing': ['NN'], 'lay': ['VBD'], 'feet': ['NNS'], 'fluctuating': ['VBG'], 'uncertain': ['JJ'], 'gained': ['JJ'], 'strength': ['NN'], 'proceeded': ['VBD'], 'physiognomy': ['NN'], 'manners': ['NNS'], 'account': ['VBP', 'NN'], 'valuable': ['JJ'], 'returning': ['VBG'], 'discovered': ['VBN', 'VBD'], 'ernest': ['NN', 'JJS'], 'happened': ['VBN'], 'protracted': ['VBD'], 'stay': ['NN'], 'seated': ['VBN'], 'tear': ['JJ'], 'dim': ['NN'], 'eye': ['NN'], 'saw': ['VBD'], 'quickly': ['RB'], 'aggravation': ['NN'], 'infamy': ['NN'], 'murder': ['NN'], 'memorable': ['JJ'], 'horror': ['NN'], 'little': ['JJ'], 'worthy': ['JJ'], 'united': ['VBD', 'JJ'], 'lost': ['JJ'], 'time': ['NN'], 'journey': ['NN'], 'regretted': ['VBN'], 'able': ['JJ'], 'capable': ['JJ'], 'intense': ['NN'], 'walk': ['NN'], 'plainpalais': ['NN'], 'evening': ['VBG'], 'warm': ['JJ'], 'serene': ['NN'], 'prolonged': ['VBD'], 'solely': ['RB'], 'wrapped': ['VBD'], 'improved': ['VBN'], 'rapidly': ['RB'], 'end': ['VB'], 'colour': ['NN'], 'dunwhite': ['NN'], 'sockets': ['NNS'], 'league': ['JJ'], 'city': ['NN'], 'resided': ['VBD'], 'principally': ['RB'], 'looks': ['VBZ'], 'medical': ['JJ'], 'attendants': ['NNS'], 'prognosticated': ['VBN'], 'worst': ['CD'], 'event': ['NN'], 'roncesvalles': ['NNS'], 'round': ['VBP', 'JJ'], 'table': ['JJ'], 'king': ['NN'], 'arthur': ['RB'], 'chivalrous': ['JJ'], 'consolation': ['NN'], 'elizabeth': ['VBZ', 'RBR', 'RB'], 'love': ['VBP'], 'supply': ['NN'], 'place': ['NN'], 'occurredan': ['JJ'], 'omen': ['NNS'], 'misery': ['NN'], 'smoothed': ['VBN'], 'path': ['NN'], 'knowledge': ['NN'], 'abstruse': ['NN'], 'joined': ['VBN'], 'hands': ['NNS'], 'alpine': ['NN'], 'summersshe': ['NN'], 'ample': ['JJ'], 'scope': ['NN'], 'admiration': ['NN'], 'delight': ['NN'], 'world': ['NN'], 'credit': ['NN'], 'assistance': ['NN'], 'wish': ['JJ'], 'prepare': ['NN'], 'woeful': ['JJ'], 'news': ['NN'], 'caught': ['VBN'], 'scarlet': ['NN'], 'fever': ['NN', 'RB'], 'illness': ['NN'], 'severe': ['JJ'], 'soon': ['RB'], 'ardent': ['JJ'], 'eager': ['JJ'], 'stars': ['NNS'], 'disappeared': ['VBD'], 'fear': ['NN'], 'idler': ['JJ'], 'yield': ['NN'], 'point': ['NN'], 'considered': ['VBN'], 'ravings': ['NNS'], 'madman': ['NN'], 'guess': ['NN'], 'wishes': ['NNS'], 'minister': ['NN'], 'affairs': ['NNS'], 'variety': ['NN'], 'arrived': ['VBD'], 'oblivion': ['NN'], 'necessary': ['JJ'], 'apprehensions': ['NNS'], 'thought': ['NN', 'VBD'], 'beloved': ['VBN'], 'quit': ['NN'], 'girl': ['NN'], 'merit': ['NN'], 'possessed': ['VBD'], 'qualities': ['NNS'], 'promised': ['VBD'], 'situations': ['NNS'], 'honour': ['VBP'], 'reputation': ['NN'], 'respected': ['VBD'], 'relate': ['NN'], 'absence': ['NN'], 'rendered': ['VBD', 'VBN'], 'callous': ['JJ'], 'scientific': ['JJ'], 'continual': ['JJ'], 'food': ['NN'], 'discovery': ['NN'], 'wonder': ['NN'], 'cruel': ['NN'], 'kindness': ['NN', 'JJ'], 'dare': ['NN'], 'flowing': ['VBG'], 'teeth': ['JJ'], 'pearly': ['RB'], 'whiteness': ['NN'], 'krempe': ['VBZ', 'NN'], 'great': ['JJ'], 'deal': ['NN'], 'sound': ['NN'], 'train': ['NN'], 'shed': ['VBD'], 'blood': ['NN'], 'redeem': ['NN'], 'holy': ['NN'], 'sepulchre': ['NN'], 'morning': ['NN'], 'rain': ['NN'], 'pattered': ['VBD'], 'dismally': ['RB'], 'imagination': ['NN'], 'enormity': ['NN'], 'supposed': ['VBN'], 'lives': ['NNS'], 'considerable': ['JJ'], 'seclusion': ['NN'], 'farther': ['RB'], 'usual': ['JJ'], 'dusk': ['NN'], 'disunion': ['NN'], 'dispute': ['NN'], 'harmony': ['NN'], 'companionship': ['NN'], 'depended': ['JJ'], 'lessons': ['NNS'], 'professors': ['NNS'], 'death': ['NN'], 'indulge': ['NNS'], 'meeting': ['NN'], 'convey': ['NN'], 'horrible': ['JJ'], 'tidings': ['NNS'], 'bitterly': ['RB'], 'deplored': ['VBN'], 'false': ['JJ'], 'pride': ['NN'], 'led': ['VBD'], 'friend': ['NN'], 'conduct': ['NN'], 'engaging': ['VBG'], 'solemnity': ['NN'], 'refrain': ['NN'], 'relating': ['VBG'], 'one': ['CD'], 'intimate': ['NN'], 'friends': ['NNS'], 'application': ['NN', 'VBP'], 'smitten': ['JJ'], 'thirst': ['JJ'], 'run': ['VB'], 'away': ['RP'], 'hide': ['JJ'], 'vainly': ['RB'], 'sought': ['VBD', 'VBN'], 'town': ['NN'], 'incident': ['NN'], 'perform': ['JJ'], 'figure': ['NN'], 'task': ['NN'], 'attending': ['VBG'], 'good': ['JJ'], 'banished': ['VBD'], 'idea': ['NN'], 'pedantry': ['NN'], 'ways': ['NNS'], 'daughter': ['NN'], 'lucerne': ['JJ'], 'lived': ['VBD'], 'unknown': ['JJ'], 'confessed': ['VBN'], 'guilty': ['JJ'], 'crime': ['NN'], 'ascribed': ['VBN'], 'sly': ['RB'], 'smile': ['JJ'], 'cornelius': ['NN'], 'agrippa': ['NN'], 'went': ['VBD'], 'whilst': ['JJ', 'NN'], 'waldman': ['NN', 'JJ'], 'continually': ['RB'], 'attainment': ['NN'], 'object': ['NN'], 'genevese': ['JJ'], 'family': ['NN'], 'sad': ['JJ'], 'hours': ['NNS'], 'oclock': ['VBP'], 'trial': ['NN'], 'chapter': ['NN'], '6': ['CD'], 'lines': ['NNS'], 'merely': ['RB'], 'mentioning': ['VBG'], 'day': ['NN'], 'expect': ['VB'], 'yielded': ['VBN'], 'entreaties': ['NNS'], 'heard': ['VBD'], 'forbidden': ['JJ'], 'writeto': ['NN'], 'hold': ['NN'], 'pen': ['JJ'], 'word': ['NN'], 'watchful': ['JJ'], 'attentions': ['NNS'], 'triumphed': ['VBD'], 'malignity': ['NN'], 'causes': ['NNS'], 'secret': ['NN'], 'desired': ['VBD'], 'divine': ['NN'], 'applied': ['VBN'], 'closely': ['RB'], 'easily': ['RB'], 'conceived': ['VBN'], 'progress': ['NN'], 'presently': ['RB'], 'came': ['VBD'], 'enquired': ['VBN'], 'seen': ['VBN'], 'marrying': ['VBG'], 'early': ['JJ'], 'decline': ['NN'], 'feelings': ['NNS'], 'exquisitely': ['RB'], 'beautiful': ['JJ'], 'appeared': ['VBN'], 'confident': ['NN'], 'nearer': ['NN'], 'calmer': ['NN'], 'concentrated': ['VBD'], 'inquiries': ['NNS'], 'clear': ['VBP'], 'facile': ['JJ'], 'apprehension': ['NN'], 'foreign': ['JJ'], 'service': ['NN'], 'hitherto': ['NN'], 'schools': ['NNS'], 'husband': ['NN'], 'proficiency': ['NN'], 'masters': ['NNS'], 'professor': ['VBP'], 'asked': ['VBD'], 'collected': ['VBN'], 'instruments': ['NNS'], 'infuse': ['NN'], 'confusion': ['NN'], 'adduced': ['VBD'], 'proof': ['NN'], 'guilt': ['NN'], 'expressed': ['VBN'], 'heartfelt': ['NN'], 'exultation': ['NN'], 'two': ['CD'], 'sickened': ['VBN'], 'accompanied': ['VBN'], 'alarming': ['NN'], 'symptoms': ['NNS'], 'work': ['NN'], 'muscles': ['NNS'], 'arteries': ['NNS'], 'beneath': ['VBP'], 'hair': ['NN'], 'lustrous': ['JJ'], 'dreary': ['JJ'], 'night': ['NN'], 'november': ['NNP'], 'beheld': ['VBD'], 'accomplishment': ['NN'], 'grieved': ['VBN'], 'retreat': ['NN'], 'unfortunate': ['JJ'], 'favourite': ['RB'], 'menaced': ['VBN'], 'longer': ['JJR', 'RBR'], 'control': ['NN'], 'house': ['NN'], 'campagne': ['NN'], 'belrive': ['NN'], 'remark': ['NN'], 'sixteen': ['NN'], 'infidels': ['NNS'], 'fellow': ['JJ'], 'beings': ['NNS'], 'smiling': ['VBG'], 'babe': ['NN'], 'intelligence': ['NN'], 'handwriting': ['VBG'], 'infallibly': ['RB'], 'study': ['NN', 'VBP'], 'form': ['NN'], 'proportion': ['NN'], 'features': ['NNS'], 'enticements': ['NNS'], 'studies': ['NNS'], 'younger': ['JJR'], 'alas': ['VBP'], 'regret': ['NN'], 'taken': ['VBN'], 'indifferent': ['NN'], 'schoolfellows': ['VBZ'], 'general': ['JJ'], 'thousands': ['NNS'], 'beauty': ['NN'], 'luxuriances': ['NNS'], 'formed': ['VBD'], 'horrid': ['JJ'], 'watery': ['NN'], 'eyes': ['NNS'], 'business': ['NN'], 'days': ['NNS'], 'perpetually': ['RB'], 'occupied': ['VBD'], 'hoped': ['VBD'], 'none': ['NN'], 'experienced': ['VBD'], 'conceive': ['JJ'], 'commence': ['NN'], 'rest': ['NN'], 'obliged': ['VBD'], 'attend': ['NN'], 'attained': ['VBN'], 'age': ['NN'], 'seventeen': ['JJ'], 'spent': ['VBN'], 'air': ['NN'], 'climbing': ['VBG'], 'hills': ['NNS'], 'rowing': ['VBG'], 'worked': ['VBN'], 'mind': ['NN'], 'courage': ['NN'], 'entered': ['VBD'], 'halfextinguished': ['VBN'], 'light': ['NN', 'JJ'], 'dull': ['JJ'], 'yellow': ['JJ'], 'creature': ['NN'], 'gladness': ['NN'], 'akin': ['JJ'], 'rapture': ['NN'], 'unfolded': ['VBD'], 'exculpated': ['VBN'], 'god': ['NN'], 'skin': ['NN'], 'scarcely': ['RB'], 'covered': ['VBD'], 'imprudence': ['NN'], 'fatal': ['JJ'], 'preserver': ['RB'], 'mother': ['NN'], 'particularly': ['RB'], 'chemistry': ['NN'], 'completion': ['NN'], 'education': ['NN'], 'persuade': ['NN'], 'placed': ['VBN'], 'prospect': ['JJ'], 'union': ['NN'], 'expectation': ['NN'], 'flourishing': ['VBG'], 'state': ['NN'], 'fell': ['VBD'], 'numerous': ['JJ'], 'true': ['JJ'], 'gentleness': ['NN'], 'tinged': ['VBD'], 'tempest': ['JJS'], 'silence': ['NN'], 'winter': ['NN'], 'turbulence': ['NN'], 'moderate': ['JJ'], 'capacity': ['NN'], 'pursues': ['VBZ'], 'bonds': ['NNS'], 'closest': ['JJS'], 'henry': ['NN'], 'last': ['JJ'], 'thursday': ['NN'], 'may': ['MD'], '7th': ['VB'], 'niece': ['NN'], 'brothers': ['NNS'], 'thoughts': ['NNS'], 'befitting': ['VBG'], 'endeavour': ['JJ'], 'resign': ['NN'], 'cheerfully': ['RB'], 'greatest': ['JJS'], 'arguments': ['NNS'], 'urged': ['VBD'], 'temper': ['NN'], 'avoid': ['NN'], 'crowd': ['NN'], 'attach': ['VBP'], 'fervently': ['RB'], 'real': ['JJ'], 'information': ['NN'], 'combined': ['VBN'], 'repulsive': ['NN'], 'knew': ['JJ'], 'integrity': ['NN'], 'indefatigable': ['JJ'], 'attention': ['NN'], 'public': ['NN'], 'laboratory': ['NN'], 'asks': ['NNS'], 'assured': ['VBD'], 'getting': ['VBG'], 'better': ['JJR'], 'eagerly': ['RB'], 'confirm': ['NN'], 'residence': ['NN'], 'conducive': ['JJ'], 'improvements': ['NNS'], 'decided': ['VBD'], 'result': ['NN'], 'lawless': ['NN'], 'devices': ['NNS'], 'dogmatism': ['NN'], 'instructions': ['NNS'], 'given': ['VBN'], 'frankness': ['NN'], 'earliest': ['JJS'], 'sensations': ['NNS'], 'remember': ['VB'], 'elder': ['NN'], 'returns': ['NNS'], 'uncle': ['VBP', 'JJ'], 'procured': ['VBD'], 'esteem': ['JJ'], 'dearly': ['RB'], 'fathers': ['NNS'], 'health': ['NN'], 'vigorous': ['JJ'], 'accordingly': ['RB'], 'rested': ['VBN'], 'seat': ['NN'], 'utter': ['JJ'], 'guiltlessness': ['NN'], 'court': ['NN'], 'threw': ['VBD'], 'home': ['NN'], 'the': ['DT'], 'sublime': ['JJ'], 'shapes': ['NNS'], 'mountains': ['NNS'], 'changes': ['NNS'], 'seasons': ['NNS'], 'get': ['NN'], 'welland': ['WRB'], 'cheerful': ['JJ'], 'powers': ['NNS'], 'odious': ['JJ'], 'fetter': ['NN'], 'busied': ['VBN'], 'following': ['VBG'], 'aerial': ['JJ'], 'creations': ['NNS'], 'poets': ['NNS'], 'military': ['JJ'], 'career': ['NN'], 'distant': ['JJ'], 'impossible': ['JJ'], 'skims': ['NNS'], 'page': ['VBP'], 'words': ['NNS'], 'activity': ['NN'], 'desirous': ['JJ'], 'composed': ['VBN'], 'heroic': ['JJ'], 'songs': ['NNS'], 'began': ['VBD'], 'tale': ['NN'], 'enchantment': ['NN'], 'deathbed': ['VBN'], 'fortitude': ['JJ'], 'benignity': ['NN'], 'best': ['JJS'], 'women': ['NNS'], 'desert': ['NN'], 'magnificent': ['JJ'], 'appearances': ['NNS'], 'things': ['NNS'], 'delighted': ['VBD'], 'investigating': ['VBG'], 'rank': ['NN'], 'magnificence': ['NN'], 'debts': ['NNS'], 'rapid': ['JJ'], 'astonishment': ['NN'], 'students': ['NNS'], 'knightly': ['RB'], 'adventure': ['NN'], 'tried': ['VBN'], 'act': ['NN'], 'plays': ['VBZ'], 'distemperelizabeth': ['NNS'], 'saved': ['VBD'], 'consequences': ['NNS'], 'ages': ['NNS'], 'need': ['VBP'], 'strangers': ['NNS'], 'species': ['NNS'], 'departure': ['NN'], 'witnesses': ['NNS'], 'counsellors': ['NNS'], 'syndics': ['VBP'], 'filled': ['VBN'], 'mischances': ['NNS'], 'man': ['NN'], 'restrained': ['VBN'], 'undertaking': ['VBG'], 'kind': ['NN'], 'sufficient': ['JJ'], 'reassure': ['NN']}"
     ]
    },
    {
     "name": "stdout",
     "output_type": "stream",
     "text": [
      "\n"
     ]
    }
   ],
   "source": [
    "#Calculating the possible tags for each word\n",
    "#Note: Here we have used the whole data(Train+Test)\n",
    "#Reason: There may be some words which are not present in train data but are present in test data \n",
    "tags_of_tokens = {}\n",
    "count=0\n",
    "for s in train_data:\n",
    "  for (w,t) in s:\n",
    "    w=w.lower()\n",
    "    try:\n",
    "      if t not in tags_of_tokens[w]:\n",
    "        tags_of_tokens[w].append(t)\n",
    "    except:\n",
    "      l = []\n",
    "      l.append(t)\n",
    "      tags_of_tokens[w] = l\n",
    "        \n",
    "for s in test_data:\n",
    "  for (w,t) in s:\n",
    "    w=w.lower()\n",
    "    try:\n",
    "      if t not in tags_of_tokens[w]:\n",
    "        tags_of_tokens[w].append(t)\n",
    "    except:\n",
    "      l = []\n",
    "      l.append(t)\n",
    "      tags_of_tokens[w] = l\n",
    "\n",
    "print(tags_of_tokens)"
   ]
  },
  {
   "cell_type": "code",
   "execution_count": 17,
   "metadata": {},
   "outputs": [],
   "source": [
    "#Dividing the test data into test words and test tags\n",
    "test_words=[]\n",
    "test_tags=[]\n",
    "for s in test_data:\n",
    "  temp_word=[]\n",
    "  temp_tag=[]\n",
    "  for (w,t) in s:\n",
    "    temp_word.append(w.lower())\n",
    "    temp_tag.append(t)\n",
    "  test_words.append(temp_word)\n",
    "  test_tags.append(temp_tag)"
   ]
  },
  {
   "cell_type": "code",
   "execution_count": 18,
   "metadata": {},
   "outputs": [],
   "source": [
    "#Executing the Viterbi Algorithm\n",
    "predicted_tags = []                #intializing the predicted tags\n",
    "for x in range(len(test_words)):   # for each tokenized sentence in the test data\n",
    "  s = test_words[x]\n",
    "  #storing_values is a dictionary which stores the required values\n",
    "  #ex: storing_values = {step_no.:{state1:[previous_best_state,value_of_the_state]}}                \n",
    "  storing_values = {}              \n",
    "  for q in range(len(s)):\n",
    "    step = s[q]\n",
    "    #for the starting word of the sentence\n",
    "    if q == 1:                \n",
    "      storing_values[q] = {}\n",
    "      tags = tags_of_tokens[step]\n",
    "      for t in tags:\n",
    "        #this is applied since we do not know whether the word in the test data is present in train data or not\n",
    "        try:\n",
    "          storing_values[q][t] = ['##',bigram_tag_prob['##'][t]*train_emission_prob[t][step]]\n",
    "        #if word is not present in the train data but present in test data we assign a very low probability of 0.0001\n",
    "        except:\n",
    "          storing_values[q][t] = ['##',0.0001]#*train_emission_prob[t][step]]\n",
    "    \n",
    "    #if the word is not at the start of the sentence\n",
    "    if q>1:\n",
    "      storing_values[q] = {}\n",
    "      previous_states = list(storing_values[q-1].keys())   # loading the previous states\n",
    "      current_states  = tags_of_tokens[step]               # loading the current states\n",
    "      #calculation of the best previous state for each current state and then storing\n",
    "      #it in storing_values\n",
    "      for t in current_states:                             \n",
    "        temp = []\n",
    "        for pt in previous_states:                         \n",
    "          try:\n",
    "            temp.append(storing_values[q-1][pt][1]*bigram_tag_prob[pt][t]*train_emission_prob[t][step])\n",
    "          except:\n",
    "            temp.append(storing_values[q-1][pt][1]*0.0001)\n",
    "        max_temp_index = temp.index(max(temp))\n",
    "        best_pt = previous_states[max_temp_index]\n",
    "        storing_values[q][t]=[best_pt,max(temp)]\n",
    "\n",
    "  #Backtracing to extract the best possible tags for the sentence\n",
    "  pred_tags = []\n",
    "  total_steps_num = storing_values.keys()\n",
    "  last_step_num = max(total_steps_num)\n",
    "  for bs in range(len(total_steps_num)):\n",
    "    step_num = last_step_num - bs\n",
    "    if step_num == last_step_num:\n",
    "      pred_tags.append('&&')\n",
    "      pred_tags.append(storing_values[step_num]['&&'][0])\n",
    "    if step_num<last_step_num and step_num>0:\n",
    "      pred_tags.append(storing_values[step_num][pred_tags[len(pred_tags)-1]][0])\n",
    "  predicted_tags.append(list(reversed(pred_tags)))"
   ]
  },
  {
   "cell_type": "code",
   "execution_count": 19,
   "metadata": {},
   "outputs": [
    {
     "name": "stdout",
     "output_type": "stream",
     "text": [
      "Accuracy on the test data is:  0.9379084967320261\n",
      "Loss on the test data is:  0.06209150326797386\n",
      "Classification report and F1 score\n",
      "\n",
      "              precision    recall  f1-score   support\n",
      "\n",
      "          ##       1.00      1.00      1.00        44\n",
      "          &&       1.00      1.00      1.00        44\n",
      "          CD       0.00      0.00      0.00         1\n",
      "          DT       1.00      1.00      1.00         1\n",
      "          JJ       0.94      0.89      0.91        36\n",
      "         JJR       0.50      1.00      0.67         1\n",
      "         JJS       1.00      0.83      0.91         6\n",
      "          MD       1.00      1.00      1.00         1\n",
      "          NN       0.89      0.99      0.94        77\n",
      "         NNS       1.00      1.00      1.00        37\n",
      "          RB       1.00      0.89      0.94         9\n",
      "         RBR       0.00      0.00      0.00         1\n",
      "          VB       1.00      1.00      1.00         2\n",
      "         VBD       0.91      0.71      0.80        14\n",
      "         VBG       1.00      1.00      1.00         5\n",
      "         VBN       0.75      1.00      0.86        12\n",
      "         VBP       0.71      0.45      0.56        11\n",
      "         VBZ       1.00      1.00      1.00         3\n",
      "         WRB       1.00      1.00      1.00         1\n",
      "\n",
      "    accuracy                           0.94       306\n",
      "   macro avg       0.83      0.83      0.82       306\n",
      "weighted avg       0.93      0.94      0.93       306\n",
      "\n"
     ]
    }
   ],
   "source": [
    "#Calculating the accuracy based on tagging each word in the test data.\n",
    "right = 0 \n",
    "wrong = 0\n",
    "total_data_points = 0\n",
    "for i in range(len(test_tags)):\n",
    "  gt = test_tags[i]\n",
    "  total_data_points = total_data_points + len(gt)\n",
    "  pred = predicted_tags[i]\n",
    "  for h in range(len(gt)):\n",
    "    if gt[h] == pred[h]:\n",
    "      right = right+1\n",
    "    else:\n",
    "      wrong = wrong +1 \n",
    "print('Accuracy on the test data is: ',right/(right+wrong))\n",
    "print('Loss on the test data is: ',wrong/(right+wrong))\n",
    "\n",
    "#print(test_tags)\n",
    "#print(\"\\n\\n\\n\\n\",predicted_tags)\n",
    "\n",
    "\n",
    "### Flatten test tags and pred tags ###\n",
    "\n",
    "ypred = []\n",
    "ytest = []\n",
    "for tags in test_tags:\n",
    "    for tag in tags:\n",
    "        ytest.append(tag)\n",
    "    \n",
    "for tags in predicted_tags:\n",
    "    for tag in tags:\n",
    "        ypred.append(tag)\n",
    "        \n",
    "## print the classification report which will have the F1 score ##\n",
    "\n",
    "print(\"Classification report and F1 score\\n\")\n",
    "print(classification_report(ytest, ypred))"
   ]
  },
  {
   "cell_type": "markdown",
   "metadata": {},
   "source": [
    "#    Topic Modelling        \n",
    "\n",
    "10) Using the LDA algorithm create the Topics (10) for the Corpus             (3 Marks)\n",
    "\n",
    "11) List down the 10 words in each of the Topics Extracted.           (2 Marks)"
   ]
  },
  {
   "cell_type": "code",
   "execution_count": 20,
   "metadata": {},
   "outputs": [
    {
     "name": "stdout",
     "output_type": "stream",
     "text": [
      "['situations', 'honour', 'reputation', 'respected']\n"
     ]
    }
   ],
   "source": [
    "## Create the word corpus ##\n",
    "tagged_text = []\n",
    "for index , row in sentence_duplicate.iterrows():\n",
    "      \n",
    "    # Word tokenizers is used to find the words \n",
    "    # and punctuation in a string\n",
    "    wordsList = nltk.word_tokenize(row[\"sentences\"])\n",
    "  \n",
    "    #  Using a Tagger. Which is part-of-speech \n",
    "    # tagger or POS-tagger. \n",
    "    tagged_text.extend([wordsList])\n",
    "\n",
    "print(tagged_text[:4][3][:100])"
   ]
  },
  {
   "cell_type": "code",
   "execution_count": 21,
   "metadata": {},
   "outputs": [
    {
     "name": "stdout",
     "output_type": "stream",
     "text": [
      "[(0, 1), (1, 1), (2, 1)]\n"
     ]
    }
   ],
   "source": [
    "## Create the dictionary ##\n",
    "\n",
    "\n",
    "# Create Dictionary\n",
    "id2word = corpora.Dictionary(tagged_text)\n",
    "# Create Corpus\n",
    "texts = tagged_text\n",
    "# Term Document Frequency\n",
    "corpus = [id2word.doc2bow(text) for text in texts]\n",
    "# View\n",
    "print(corpus[:1][0][:30])"
   ]
  },
  {
   "cell_type": "code",
   "execution_count": 22,
   "metadata": {},
   "outputs": [
    {
     "name": "stdout",
     "output_type": "stream",
     "text": [
      "[(0,\n",
      "  '0.011*\"geneva\" + 0.011*\"country\" + 0.011*\"thought\" + 0.011*\"hope\" + '\n",
      "  '0.006*\"father\" + 0.006*\"cultivated\" + 0.006*\"saw\" + 0.006*\"7th\" + '\n",
      "  '0.006*\"house\" + 0.006*\"fell\"'),\n",
      " (1,\n",
      "  '0.014*\"great\" + 0.014*\"university\" + 0.010*\"beautiful\" + 0.010*\"point\" + '\n",
      "  '0.010*\"illness\" + 0.010*\"discoveries\" + 0.010*\"friends\" + '\n",
      "  '0.010*\"ingolstadt\" + 0.010*\"soul\" + 0.005*\"elizabeth\"'),\n",
      " (2,\n",
      "  '0.012*\"life\" + 0.012*\"misfortune\" + 0.006*\"november\" + 0.006*\"dreary\" + '\n",
      "  '0.006*\"little\" + 0.006*\"eye\" + 0.006*\"deathbed\" + 0.006*\"benignity\" + '\n",
      "  '0.006*\"scenes\" + 0.006*\"country\"'),\n",
      " (3,\n",
      "  '0.011*\"parents\" + 0.011*\"seek\" + 0.011*\"round\" + 0.006*\"native\" + '\n",
      "  '0.006*\"waited\" + 0.006*\"affection\" + 0.006*\"junior\" + 0.006*\"walk\" + '\n",
      "  '0.006*\"chivalrous\" + 0.006*\"hair\"'),\n",
      " (4,\n",
      "  '0.012*\"long\" + 0.012*\"life\" + 0.012*\"ardour\" + 0.006*\"ernest\" + '\n",
      "  '0.006*\"account\" + 0.006*\"absent\" + 0.006*\"turbulence\" + 0.006*\"henry\" + '\n",
      "  '0.006*\"closely\" + 0.006*\"return\"'),\n",
      " (5,\n",
      "  '0.011*\"friendship\" + 0.011*\"happy\" + 0.011*\"ill\" + 0.011*\"life\" + '\n",
      "  '0.011*\"friend\" + 0.006*\"return\" + 0.006*\"bitterly\" + 0.006*\"welland\" + '\n",
      "  '0.006*\"dear\" + 0.006*\"contrast\"'),\n",
      " (6,\n",
      "  '0.013*\"air\" + 0.013*\"deeply\" + 0.013*\"country\" + 0.007*\"accompanied\" + '\n",
      "  '0.007*\"read\" + 0.007*\"books\" + 0.007*\"nature\" + 0.007*\"worked\" + '\n",
      "  '0.007*\"hills\" + 0.007*\"comprehensive\"'),\n",
      " (7,\n",
      "  '0.012*\"selected\" + 0.007*\"holy\" + 0.007*\"attentions\" + 0.007*\"triumphed\" + '\n",
      "  '0.007*\"blood\" + 0.007*\"parents\" + 0.007*\"guilty\" + 0.007*\"poverty\" + '\n",
      "  '0.007*\"return\" + 0.007*\"shed\"'),\n",
      " (8,\n",
      "  '0.014*\"son\" + 0.009*\"yet\" + 0.009*\"philosophy\" + 0.009*\"proficiency\" + '\n",
      "  '0.009*\"natural\" + 0.009*\"clerval\" + 0.005*\"time\" + 0.005*\"hidden\" + '\n",
      "  '0.005*\"laws\" + 0.005*\"happy\"'),\n",
      " (9,\n",
      "  '0.011*\"day\" + 0.006*\"warm\" + 0.006*\"life\" + 0.006*\"secret\" + 0.006*\"heroic\" '\n",
      "  '+ 0.006*\"closely\" + 0.006*\"dear\" + 0.006*\"composed\" + 0.006*\"medical\" + '\n",
      "  '0.006*\"forbidden\"')]\n"
     ]
    }
   ],
   "source": [
    "## Print number of topics and 10 words in each topic ##\n",
    "num_topics = 10\n",
    "# Build LDA model\n",
    "lda_model = gensim.models.LdaMulticore(corpus=corpus,\n",
    "                                       id2word=id2word,\n",
    "                                       num_topics=num_topics)\n",
    "# Print the top 10 Keyword in the 10 topics\n",
    "pprint(lda_model.print_topics())\n",
    "doc_lda = lda_model[corpus]"
   ]
  },
  {
   "cell_type": "code",
   "execution_count": 23,
   "metadata": {},
   "outputs": [],
   "source": [
    "# Visualize the topics\n",
    "pyLDAvis.enable_notebook()\n",
    "#LDAvis_data_filepath = os.path.join('results')\n",
    "# # this is a bit time consuming - make the if statement True\n",
    "# # if you want to execute visualization prep yourself\n",
    "if 1 == 1:\n",
    "    LDAvis_prepared = pyLDAvis.gensim_models.prepare(lda_model, corpus, id2word)\n",
    "    with open('ldavisfile', 'wb') as f:\n",
    "        pickle.dump(LDAvis_prepared,f)\n",
    "# load the pre-prepared pyLDAvis data from disk\n",
    "with open('ldavisfile', 'rb') as f:\n",
    "    LDAvis_prepared = pickle.load(f)\n",
    "pyLDAvis.save_html(LDAvis_prepared, './/results//ldavis_prepared_'+ str(num_topics) +'.html')\n",
    "LDAvis_prepared"
   ]
  },
  {
   "cell_type": "code",
   "execution_count": 24,
   "metadata": {},
   "outputs": [
    {
     "name": "stdout",
     "output_type": "stream",
     "text": [
      "Run started at :  Sun, 04 Jul 2021 08:57:48 +0000\n",
      "Run ended at :  Sun, 04 Jul 2021 08:58:14 +0000\n"
     ]
    }
   ],
   "source": [
    "endTime = strftime(\"%a, %d %b %Y %H:%M:%S +0000\", gmtime())\n",
    "print (\"Run started at : \",startTime)\n",
    "print (\"Run ended at : \",endTime)"
   ]
  },
  {
   "cell_type": "code",
   "execution_count": null,
   "metadata": {},
   "outputs": [],
   "source": []
  }
 ],
 "metadata": {
  "kernelspec": {
   "display_name": "Python 3",
   "language": "python",
   "name": "python3"
  },
  "language_info": {
   "codemirror_mode": {
    "name": "ipython",
    "version": 3
   },
   "file_extension": ".py",
   "mimetype": "text/x-python",
   "name": "python",
   "nbconvert_exporter": "python",
   "pygments_lexer": "ipython3",
   "version": "3.7.4"
  }
 },
 "nbformat": 4,
 "nbformat_minor": 2
}
