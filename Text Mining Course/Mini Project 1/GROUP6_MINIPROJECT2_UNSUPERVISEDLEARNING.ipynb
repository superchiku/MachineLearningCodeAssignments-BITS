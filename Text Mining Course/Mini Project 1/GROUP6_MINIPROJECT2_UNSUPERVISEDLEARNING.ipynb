{
 "cells": [
  {
   "cell_type": "markdown",
   "metadata": {},
   "source": [
    "# Group 6 Mini Project 2\n"
   ]
  },
  {
   "cell_type": "markdown",
   "metadata": {},
   "source": [
    "# 1. Term - Frequency Inverse Document Frequency \n",
    "\n",
    "1) Remove Stopwords (1 Mark)\n",
    "\n",
    "2) Remove the punctuations. the special characters and convert the text to lower case.        (2 Mark)\n",
    "\n",
    "3) create bigrams and trigrams for the entire dataset and list down 20 most frequent bigram and 20 most frequent trigrams ( 3 Marks )\n",
    "\n",
    "4) You have to implement TF-IDF the Algorithm from scratch.   ( 3 Mark )\n",
    "\n",
    "5) Use the above-implemented algorithm and the values to calculate TF-IDF (using TF IDF formula) on the dataset and list down the top 10 words which have the highest TF-IDF Value. (2 Marks)"
   ]
  },
  {
   "cell_type": "code",
   "execution_count": 1,
   "metadata": {},
   "outputs": [
    {
     "name": "stderr",
     "output_type": "stream",
     "text": [
      "C:\\Users\\jaghos\\AppData\\Local\\Continuum\\anaconda3\\lib\\site-packages\\numpy\\_distributor_init.py:32: UserWarning: loaded more than 1 DLL from .libs:\n",
      "C:\\Users\\jaghos\\AppData\\Local\\Continuum\\anaconda3\\lib\\site-packages\\numpy\\.libs\\libopenblas.GK7GX5KEQ4F6UYO3P26ULGBQYHGQO7J4.gfortran-win_amd64.dll\n",
      "C:\\Users\\jaghos\\AppData\\Local\\Continuum\\anaconda3\\lib\\site-packages\\numpy\\.libs\\libopenblas.IPBC74C7KURV7CB2PKT5Z5FNR3SIBV4J.gfortran-win_amd64.dll\n",
      "  stacklevel=1)\n",
      "C:\\Users\\jaghos\\AppData\\Local\\Continuum\\anaconda3\\lib\\site-packages\\statsmodels\\tools\\_testing.py:19: FutureWarning: pandas.util.testing is deprecated. Use the functions in the public API at pandas.testing instead.\n",
      "  import pandas.util.testing as tm\n"
     ]
    }
   ],
   "source": [
    "#Imports\n",
    "import numpy as np\n",
    "import math\n",
    "import matplotlib.pyplot as plt\n",
    "from sklearn.model_selection import train_test_split\n",
    "# for integer encoding using sklearn\n",
    "from sklearn.preprocessing import LabelEncoder\n",
    "import pandas as pd\n",
    "import seaborn as sns\n",
    "from matplotlib import style\n",
    "import plotly.express as px\n",
    "import warnings\n",
    "warnings.filterwarnings('ignore')\n",
    "import datetime as dt\n",
    "from tkinter import *\n",
    "from tkinter.font import Font\n",
    "from sklearn.preprocessing import StandardScaler\n",
    "from sklearn.metrics import confusion_matrix\n",
    "from sklearn.preprocessing import scale\n",
    "from pyclustertend import hopkins\n",
    "from sklearn.decomposition import PCA\n",
    "from tqdm import tqdm \n",
    "from math import sqrt \n",
    "from time import gmtime, strftime\n",
    "from sklearn.cluster import KMeans\n",
    "import os\n",
    "##print(os.listdir(\"../input\"))\n",
    "sns.set()\n",
    "from sklearn import preprocessing as pp\n",
    "from sklearn.cluster import KMeans\n",
    "import random\n",
    "import pylab as pl\n",
    "%matplotlib inline\n",
    "import matplotlib.pyplot as plt\n",
    "from scipy.spatial import distance_matrix\n",
    "from scipy.cluster.hierarchy import dendrogram, linkage\n",
    "from sklearn.cluster import DBSCAN,AgglomerativeClustering, KMeans\n",
    "from apyori import apriori\n",
    "######## Capture the start time to check the runt ime of the whole notebook #########\n",
    "startTime = strftime(\"%a, %d %b %Y %H:%M:%S +0000\", gmtime())\n",
    "from sklearn.feature_extraction.text import TfidfVectorizer,CountVectorizer\n",
    "from nltk.corpus import stopwords\n",
    "from nltk.stem.snowball import SnowballStemmer\n",
    "import unicodedata\n",
    "import nltk\n",
    "from nltk import word_tokenize\n",
    "import re  #regular expression\n",
    "from bs4 import BeautifulSoup\n",
    "from gensim.parsing.preprocessing import remove_stopwords\n",
    "import gensim.corpora as corpora\n",
    "from pprint import pprint\n",
    "import gensim\n",
    "import pyLDAvis.gensim_models\n",
    "import pickle \n",
    "import pyLDAvis\n",
    "sw = stopwords.words('english')\n",
    "stemmer = SnowballStemmer(\"english\")\n",
    "url_re = r'(?i)\\b((?:https?://|www\\d{0,3}[.]|[a-z0-9.\\-]+[.][a-z]{2,4}/)(?:[^\\s()<>]+|\\(([^\\s()<>]+|(\\([^\\s()<>]+\\)))*\\))+(?:\\(([^\\s()<>]+|(\\([^\\s()<>]+\\)))*\\)|[^\\s`!()\\[\\]{};:\\'\".,<>?«»“”‘’]))'\n"
   ]
  },
  {
   "cell_type": "code",
   "execution_count": 2,
   "metadata": {},
   "outputs": [
    {
     "name": "stdout",
     "output_type": "stream",
     "text": [
      "                                             sentences    chapter\n",
      "0    I am by birth a Genevese, and my family is one...  Chapter 1\n",
      "1    distinguished of that republic.  My ancestors ...  Chapter 1\n",
      "2    counsellors and syndics, and my father had fil...  Chapter 1\n",
      "3    situations with honour and reputation.  He was...  Chapter 1\n",
      "4    knew him for his integrity and indefatigable a...  Chapter 1\n",
      "..                                                 ...        ...\n",
      "215  worked up her mind to an appearance of courage...  Chapter 8\n",
      "216  court she threw her eyes round it and quickly ...  Chapter 8\n",
      "217  seated.  A tear seemed to dim her eye when she...  Chapter 8\n",
      "218  recovered herself, and a look of sorrowful aff...  Chapter 8\n",
      "219                           her utter guiltlessness.  Chapter 8\n",
      "\n",
      "[220 rows x 2 columns]\n"
     ]
    }
   ],
   "source": [
    "#Extract and read text files\n",
    "\n",
    "sentence = pd.DataFrame()\n",
    "file1 = open('TF-IDF_dataset-Copy.txt', 'r',encoding=\"mbcs\")\n",
    "\n",
    "# Using readlines()\n",
    "try:\n",
    "    \n",
    "    \n",
    "    Lines = file1.readlines()\n",
    " \n",
    "    count = 0\n",
    "    # Strips the newline character\n",
    "    chapter = 'Chapter 1'\n",
    "    for line in Lines:\n",
    "        count += 1\n",
    "        \n",
    "        if len(line.strip()) > 0 and line.strip().find('Chapter') == -1 :\n",
    "            current_df = pd.DataFrame({'sentences': [ line.strip()] , 'chapter':[chapter]})\n",
    "            sentence = sentence.append(current_df, ignore_index=True)\n",
    "        else:\n",
    "            if line.strip().find('Chapter') != -1:\n",
    "                \n",
    "                chapter = line.strip()\n",
    "                #print(chapter)\n",
    "            \n",
    "    file1.close() \n",
    "\n",
    "except Exception as e:\n",
    "    print('Exception occured ',str(e))\n",
    "    file1.close\n",
    "    \n",
    "print(sentence)"
   ]
  },
  {
   "cell_type": "code",
   "execution_count": 3,
   "metadata": {},
   "outputs": [
    {
     "name": "stderr",
     "output_type": "stream",
     "text": [
      "<>:58: DeprecationWarning: invalid escape sequence \\d\n",
      "<>:58: DeprecationWarning: invalid escape sequence \\d\n",
      "<>:58: DeprecationWarning: invalid escape sequence \\d\n",
      "<ipython-input-3-dc4875ae85da>:58: DeprecationWarning: invalid escape sequence \\d\n",
      "  text = re.sub('[^a-zA-Z0-9.\\d\\s]', '', text)\n"
     ]
    }
   ],
   "source": [
    "#Sentence curation functions\n",
    "def stopwords(text):\n",
    "    '''a function for removing the stopword'''\n",
    "    \n",
    "    # removing the stop words and lowercasing the selected words\n",
    "    #text = [word.lower() for word in text.split() if word.lower() not in sw]\n",
    "    # joining the list of words with space separator\n",
    "    text = remove_stopwords(text)\n",
    "    text = [word.lower() for word in text.split() if word.lower() not in sw]\n",
    "    #return(text)\n",
    "    return \" \".join(text)\n",
    "\n",
    "def remove_punctuation(text):\n",
    "    '''a function for removing punctuation'''\n",
    "    import string\n",
    "    # replacing the punctuations with no space, \n",
    "    # which in effect deletes the punctuation marks \n",
    "    translator = str.maketrans('', '', string.punctuation)\n",
    "    # return the text stripped of punctuation marks\n",
    "    return text.translate(translator)\n",
    "\n",
    "def stemming(text):    \n",
    "    \n",
    "    '''a function which stems each word in the given text'''\n",
    "    text = [stemmer.stem(word) for word in text.split()]\n",
    "    return \" \".join(text)     \n",
    "\n",
    "def remove_html(text):\n",
    "    '''\n",
    "    remove the HTML tags and URLS from the tweets\n",
    "    '''\n",
    "    if text:\n",
    "        # BeautifulSoup on content\n",
    "        soup = BeautifulSoup(text, \"html.parser\")\n",
    "        # Stripping all <code> tags with their content if any\n",
    "        if soup.code:\n",
    "            soup.code.decompose()\n",
    "        # Get all the text out of the html\n",
    "        text =  soup.get_text()\n",
    "        # Returning text stripping out all uris\n",
    "        return re.sub(url_re, \"\", text)\n",
    "    else:\n",
    "        return \"\"\n",
    "    \n",
    "def remove_emojis(text):\n",
    "    \n",
    "    emoji_pattern = re.compile(\"[\"\n",
    "        r\"\\U0001F600-\\U0001F64F\"  # emoticons\n",
    "        r\"\\U0001F300-\\U0001F5FF\"  # symbols & pictographs\n",
    "        r\"\\U0001F680-\\U0001F6FF\"  # transport & map symbols\n",
    "        r\"\\U0001F1E0-\\U0001F1FF\"  # flags (iOS)\n",
    "                           \"]+\", flags=re.UNICODE)\n",
    "    text = emoji_pattern.sub(r'', text)# no emoji \n",
    "  \n",
    "    return text\n",
    "\n",
    "def remove_specialChars(text):\n",
    "    text = re.sub('[^a-zA-Z0-9.\\d\\s]', '', text)\n",
    "    return text"
   ]
  },
  {
   "cell_type": "code",
   "execution_count": 4,
   "metadata": {},
   "outputs": [
    {
     "name": "stdout",
     "output_type": "stream",
     "text": [
      "                                         sentences    chapter\n",
      "0                            birth genevese family  Chapter 1\n",
      "1           distinguished republic ancestors years  Chapter 1\n",
      "2         counsellors syndics father filled public  Chapter 1\n",
      "3           situations honour reputation respected  Chapter 1\n",
      "4    knew integrity indefatigable attention public  Chapter 1\n",
      "..                                             ...        ...\n",
      "215         worked mind appearance courage entered  Chapter 8\n",
      "216      court threw eyes round quickly discovered  Chapter 8\n",
      "217                seated tear dim eye saw quickly  Chapter 8\n",
      "218      recovered look sorrowful affection attest  Chapter 8\n",
      "219                            utter guiltlessness  Chapter 8\n",
      "\n",
      "[220 rows x 2 columns]\n"
     ]
    }
   ],
   "source": [
    "## Remove unwanted words ##\n",
    "\n",
    "sentence_duplicate = sentence.copy()\n",
    "sentence['sentences'] = sentence['sentences'].apply(remove_html)\n",
    "sentence['sentences'] = sentence['sentences'].apply(remove_emojis)\n",
    "sentence['sentences'] = sentence['sentences'].apply(remove_punctuation)\n",
    "sentence['sentences'] = sentence['sentences'].apply(stopwords)\n",
    "sentence['sentences'] = sentence['sentences'].apply(remove_specialChars)\n",
    "sentence_duplicate = sentence.copy()\n",
    "#sentence['sentences'] = sentence['sentences'].apply(stemming)\n",
    "\n",
    "print(sentence)"
   ]
  },
  {
   "cell_type": "code",
   "execution_count": 5,
   "metadata": {},
   "outputs": [
    {
     "name": "stdout",
     "output_type": "stream",
     "text": [
      "20 most frequent bigrams \n",
      " (thought, returning)      2\n",
      "(natural, philosophy)     2\n",
      "(native, country)         2\n",
      "(long, time)              2\n",
      "(pen, word)               1\n",
      "(writeto, hold)           1\n",
      "(forbidden, writeto)      1\n",
      "(account, forbidden)      1\n",
      "(reassure, account)       1\n",
      "(sufficient, reassure)    1\n",
      "(henry, sufficient)       1\n",
      "(kind, henry)             1\n",
      "(dear, kind)              1\n",
      "(letters, dear)           1\n",
      "(constant, letters)       1\n",
      "(ill, constant)           1\n",
      "(ill, ill)                1\n",
      "(hold, pen)               1\n",
      "(word, dear)              1\n",
      "(6, you)                  1\n",
      "dtype: int64\n",
      "\n",
      "20 most frequent trigrams \n",
      " (birth, genevese, family)          1\n",
      "(hold, pen, word)                  1\n",
      "(6, you, ill)                      1\n",
      "(you, ill, ill)                    1\n",
      "(ill, ill, constant)               1\n",
      "(ill, constant, letters)           1\n",
      "(constant, letters, dear)          1\n",
      "(letters, dear, kind)              1\n",
      "(dear, kind, henry)                1\n",
      "(kind, henry, sufficient)          1\n",
      "(henry, sufficient, reassure)      1\n",
      "(sufficient, reassure, account)    1\n",
      "(reassure, account, forbidden)     1\n",
      "(account, forbidden, writeto)      1\n",
      "(forbidden, writeto, hold)         1\n",
      "(writeto, hold, pen)               1\n",
      "(pen, word, dear)                  1\n",
      "(beautiful, beautiful, great)      1\n",
      "(word, dear, victor)               1\n",
      "(dear, victor, necessary)          1\n",
      "dtype: int64\n"
     ]
    }
   ],
   "source": [
    "## Extract the BIGrams and the TRIGrams ##\n",
    "tokenized_text = []\n",
    "\n",
    "for index , row in sentence.iterrows():\n",
    "    #print(sentence)\n",
    "    sequence = word_tokenize(row[\"sentences\"]) \n",
    "    tokenized_text.extend(sequence) \n",
    "#Words = sentence['sentences'].tolist()\n",
    "#hf = [\"\".join(review) for review in sentence['sentences'].values]\n",
    "#print(hf)\n",
    "#print(tokenized_text)\n",
    "print('20 most frequent bigrams \\n',(pd.Series(nltk.ngrams(tokenized_text, 2)).value_counts())[:20])\n",
    "print('\\n20 most frequent trigrams \\n',(pd.Series(nltk.ngrams(tokenized_text, 3)).value_counts())[:20])"
   ]
  },
  {
   "cell_type": "code",
   "execution_count": 6,
   "metadata": {},
   "outputs": [
    {
     "name": "stdout",
     "output_type": "stream",
     "text": [
      "length of word dictionary 840\n"
     ]
    },
    {
     "name": "stderr",
     "output_type": "stream",
     "text": [
      "220it [00:00, 7586.20it/s]\n",
      "220it [00:00, 577.44it/s]\n",
      "220it [00:01, 169.62it/s]\n"
     ]
    },
    {
     "name": "stdout",
     "output_type": "stream",
     "text": [
      "Final TD IDF Vector: \n",
      "      nearer  desert      eye   entered  information  happened  friends  \\\n",
      "0       0.0     0.0  0.00000  0.000000          0.0       0.0      0.0   \n",
      "1       0.0     0.0  0.00000  0.000000          0.0       0.0      0.0   \n",
      "2       0.0     0.0  0.00000  0.000000          0.0       0.0      0.0   \n",
      "3       0.0     0.0  0.00000  0.000000          0.0       0.0      0.0   \n",
      "4       0.0     0.0  0.00000  0.000000          0.0       0.0      0.0   \n",
      "..      ...     ...      ...       ...          ...       ...      ...   \n",
      "215     0.0     0.0  0.00000  0.408279          0.0       0.0      0.0   \n",
      "216     0.0     0.0  0.00000  0.000000          0.0       0.0      0.0   \n",
      "217     0.0     0.0  0.29006  0.000000          0.0       0.0      0.0   \n",
      "218     0.0     0.0  0.00000  0.000000          0.0       0.0      0.0   \n",
      "219     0.0     0.0  0.00000  0.000000          0.0       0.0      0.0   \n",
      "\n",
      "     promised  sickened  inflict  ...  consequences  attainment  wretched  \\\n",
      "0         0.0       0.0      0.0  ...           0.0         0.0       0.0   \n",
      "1         0.0       0.0      0.0  ...           0.0         0.0       0.0   \n",
      "2         0.0       0.0      0.0  ...           0.0         0.0       0.0   \n",
      "3         0.0       0.0      0.0  ...           0.0         0.0       0.0   \n",
      "4         0.0       0.0      0.0  ...           0.0         0.0       0.0   \n",
      "..        ...       ...      ...  ...           ...         ...       ...   \n",
      "215       0.0       0.0      0.0  ...           0.0         0.0       0.0   \n",
      "216       0.0       0.0      0.0  ...           0.0         0.0       0.0   \n",
      "217       0.0       0.0      0.0  ...           0.0         0.0       0.0   \n",
      "218       0.0       0.0      0.0  ...           0.0         0.0       0.0   \n",
      "219       0.0       0.0      0.0  ...           0.0         0.0       0.0   \n",
      "\n",
      "     contrast  proceeded  shed  returns  light  malignity  professor  \n",
      "0         0.0        0.0   0.0      0.0    0.0        0.0        0.0  \n",
      "1         0.0        0.0   0.0      0.0    0.0        0.0        0.0  \n",
      "2         0.0        0.0   0.0      0.0    0.0        0.0        0.0  \n",
      "3         0.0        0.0   0.0      0.0    0.0        0.0        0.0  \n",
      "4         0.0        0.0   0.0      0.0    0.0        0.0        0.0  \n",
      "..        ...        ...   ...      ...    ...        ...        ...  \n",
      "215       0.0        0.0   0.0      0.0    0.0        0.0        0.0  \n",
      "216       0.0        0.0   0.0      0.0    0.0        0.0        0.0  \n",
      "217       0.0        0.0   0.0      0.0    0.0        0.0        0.0  \n",
      "218       0.0        0.0   0.0      0.0    0.0        0.0        0.0  \n",
      "219       0.0        0.0   0.0      0.0    0.0        0.0        0.0  \n",
      "\n",
      "[220 rows x 840 columns]\n"
     ]
    }
   ],
   "source": [
    "## Implement TF- IDF ##\n",
    "\n",
    "# Create the dictionary of words\n",
    "final_dictionary=set()\n",
    "for index , row in sentence.iterrows():\n",
    "    split_sentence = row['sentences'].split(\" \")\n",
    "    set_sentence =  set(split_sentence)\n",
    "    final_dictionary = final_dictionary.union(set_sentence)\n",
    "print('length of word dictionary', len(final_dictionary))\n",
    "\n",
    "\n",
    "wordDict = []#pd.DataFrame()\n",
    "for index , row in tqdm(sentence.iterrows()):\n",
    "    split_sentence = row['sentences'].split(\" \")\n",
    "    wordDictA = dict.fromkeys(final_dictionary, 0)\n",
    "    for word in split_sentence:\n",
    "        wordDictA[word]+=1\n",
    "    #print([wordDictA])\n",
    "    wordDict.append(wordDictA.copy())\n",
    "    #print(wordDict)\n",
    "#print(len(wordDict))\n",
    "\n",
    "\n",
    "#Create the Term Frequency for each sentence\n",
    "def computeTF(wordDict, doc):\n",
    "    tfDict = {}\n",
    "    corpusCount = len(doc)\n",
    "    for word, count in wordDict.items():\n",
    "        tfDict[word] = count/float(corpusCount)\n",
    "    return(tfDict)\n",
    "\n",
    "wordDictTF = pd.DataFrame()\n",
    "for index , row in tqdm(sentence.iterrows()):\n",
    "    split_sentence = row['sentences'].split(\" \")\n",
    "    wordDictA = dict.fromkeys(final_dictionary, 0)\n",
    "    for word in split_sentence:\n",
    "        wordDictA[word]+=1\n",
    "    #print([wordDictA])\n",
    "    tfSentence = computeTF(wordDictA, split_sentence)\n",
    "    wordDictTF = wordDictTF.append(tfSentence,ignore_index = True)\n",
    "    #print(wordDict)\n",
    "#print(\"TF word dictionary \\n\",wordDictTF)\n",
    "\n",
    "#Create the IDF for the corpus\n",
    "\n",
    "def computeIDF(docList):\n",
    "    idfDict = {}\n",
    "    N = len(docList)\n",
    "    \n",
    "    idfDict = dict.fromkeys(docList[0].keys(), 0)\n",
    "    for word , val in idfDict.items():\n",
    "        wordcount = 0\n",
    "        for itemlist in docList:\n",
    "            if itemlist[word] > 0:\n",
    "                wordcount = wordcount+1\n",
    "        #print(\"word is \",word)\n",
    "        #print(\"val is \",wordcount )\n",
    "        \n",
    "        idfDict[word] = math.log10(N / (float(wordcount) + 1))\n",
    "        \n",
    "    return(idfDict)\n",
    "idfs = computeIDF(wordDict)\n",
    "#print(idfs)\n",
    "\n",
    "# Calculate TF- IDF\n",
    "FinalTFIDF = pd.DataFrame()\n",
    "def computeTFIDF(tfBow, idfs):\n",
    "    tfidf = {}\n",
    "    for word, val in tfBow.items():\n",
    "        tfidf[word] = val*idfs[word]\n",
    "    return(tfidf)\n",
    "\n",
    "for index , row in tqdm(wordDictTF.iterrows()):\n",
    "    tfIDF = computeTFIDF(row.to_dict(), idfs)\n",
    "    FinalTFIDF = FinalTFIDF.append(tfIDF,ignore_index = True)\n",
    "\n",
    "# Print the TF IDF Vector final\n",
    "print(\"Final TD IDF Vector: \\n\",FinalTFIDF)"
   ]
  },
  {
   "cell_type": "code",
   "execution_count": 7,
   "metadata": {},
   "outputs": [
    {
     "name": "stdout",
     "output_type": "stream",
     "text": [
      "Top 10 words with the highest TFIDF value:\n",
      " life          0.010577\n",
      "country       0.009362\n",
      "infidels      0.009279\n",
      "father        0.008167\n",
      "return        0.006848\n",
      "university    0.006592\n",
      "family        0.006592\n",
      "elizabeth     0.006225\n",
      "ingolstadt    0.006197\n",
      "ernest        0.006101\n",
      "dtype: float64\n"
     ]
    }
   ],
   "source": [
    "# Top 10 words with highest TF-IDF value\n",
    "\n",
    "print(\"Top 10 words with the highest TFIDF value:\\n\",FinalTFIDF.mean().sort_values(ascending=False)[:10])"
   ]
  },
  {
   "cell_type": "code",
   "execution_count": 8,
   "metadata": {},
   "outputs": [
    {
     "name": "stdout",
     "output_type": "stream",
     "text": [
      "\n",
      "TD-IDF Vectorizer\n",
      "\n",
      "     7th  able  absence  absent  abstruse  accompanied  accomplishment  \\\n",
      "0    0.0   0.0      0.0     0.0       0.0          0.0             0.0   \n",
      "1    0.0   0.0      0.0     0.0       0.0          0.0             0.0   \n",
      "2    0.0   0.0      0.0     0.0       0.0          0.0             0.0   \n",
      "3    0.0   0.0      0.0     0.0       0.0          0.0             0.0   \n",
      "4    0.0   0.0      0.0     0.0       0.0          0.0             0.0   \n",
      "..   ...   ...      ...     ...       ...          ...             ...   \n",
      "215  0.0   0.0      0.0     0.0       0.0          0.0             0.0   \n",
      "216  0.0   0.0      0.0     0.0       0.0          0.0             0.0   \n",
      "217  0.0   0.0      0.0     0.0       0.0          0.0             0.0   \n",
      "218  0.0   0.0      0.0     0.0       0.0          0.0             0.0   \n",
      "219  0.0   0.0      0.0     0.0       0.0          0.0             0.0   \n",
      "\n",
      "     accordingly  account  acquaintance  ...  write  writes  writeto  written  \\\n",
      "0            0.0      0.0           0.0  ...    0.0     0.0      0.0      0.0   \n",
      "1            0.0      0.0           0.0  ...    0.0     0.0      0.0      0.0   \n",
      "2            0.0      0.0           0.0  ...    0.0     0.0      0.0      0.0   \n",
      "3            0.0      0.0           0.0  ...    0.0     0.0      0.0      0.0   \n",
      "4            0.0      0.0           0.0  ...    0.0     0.0      0.0      0.0   \n",
      "..           ...      ...           ...  ...    ...     ...      ...      ...   \n",
      "215          0.0      0.0           0.0  ...    0.0     0.0      0.0      0.0   \n",
      "216          0.0      0.0           0.0  ...    0.0     0.0      0.0      0.0   \n",
      "217          0.0      0.0           0.0  ...    0.0     0.0      0.0      0.0   \n",
      "218          0.0      0.0           0.0  ...    0.0     0.0      0.0      0.0   \n",
      "219          0.0      0.0           0.0  ...    0.0     0.0      0.0      0.0   \n",
      "\n",
      "     year     years  yellow  yield  yielded  younger  \n",
      "0     0.0  0.000000     0.0    0.0      0.0      0.0  \n",
      "1     0.0  0.444408     0.0    0.0      0.0      0.0  \n",
      "2     0.0  0.000000     0.0    0.0      0.0      0.0  \n",
      "3     0.0  0.000000     0.0    0.0      0.0      0.0  \n",
      "4     0.0  0.000000     0.0    0.0      0.0      0.0  \n",
      "..    ...       ...     ...    ...      ...      ...  \n",
      "215   0.0  0.000000     0.0    0.0      0.0      0.0  \n",
      "216   0.0  0.000000     0.0    0.0      0.0      0.0  \n",
      "217   0.0  0.000000     0.0    0.0      0.0      0.0  \n",
      "218   0.0  0.000000     0.0    0.0      0.0      0.0  \n",
      "219   0.0  0.000000     0.0    0.0      0.0      0.0  \n",
      "\n",
      "[220 rows x 829 columns]\n",
      "Top 10 words with the highest TFIDF value:\n",
      " life         0.012576\n",
      "father       0.010263\n",
      "country      0.010017\n",
      "return       0.008079\n",
      "elizabeth    0.007678\n",
      "long         0.007471\n",
      "ernest       0.007360\n",
      "years        0.007303\n",
      "happy        0.007277\n",
      "day          0.007198\n",
      "dtype: float64\n"
     ]
    }
   ],
   "source": [
    "## Extract TF-IDF Vector using library - Extra done to check the accuracy of the self implemented TF-IDF algorithm ##\n",
    "\n",
    "# instantiate the vectorizer object\n",
    "tfidfvectorizer = TfidfVectorizer(analyzer='word',stop_words= 'english')\n",
    "# convert th sentences into a matrix\n",
    "#hf = sentence['sentences'].values #[\" \".join(review) for review in sentence['sentences'].values]\n",
    "hf = [\" \".join(review) for review in sentence['sentences'].values]\n",
    "'''\n",
    "for review in tqdm(sentence['sentences'].values):\n",
    "    hf = hf + \" \" + review\n",
    "'''\n",
    "#print(hf)\n",
    "tfidf_wm = tfidfvectorizer.fit_transform(sentence['sentences'])# becauase TFIDF vectorizer takes texts and not lists\n",
    "#retrieve the terms found in the corpora\n",
    "\n",
    "\n",
    "tfidf_tokens = tfidfvectorizer.get_feature_names()\n",
    "df_tfidfvect = pd.DataFrame(data = tfidf_wm.toarray(),columns = tfidf_tokens)#index = ['Doc1','Doc2'])\n",
    "\n",
    "print(\"\\nTD-IDF Vectorizer\\n\")\n",
    "print(df_tfidfvect)\n",
    "\n",
    "\n",
    "print(\"Top 10 words with the highest TFIDF value:\\n\",df_tfidfvect.mean().sort_values(ascending=False)[:10])"
   ]
  },
  {
   "cell_type": "markdown",
   "metadata": {},
   "source": [
    "# Perform Part of Speech Tagging using the Viterbi Algorithm, \n",
    "\n",
    "\n",
    "6) Label the cleaned Tf-IDF dataset ( obtained after performing step 1 and step 2 )   ( 2 Mark )\n",
    "\n",
    "7) Split the Train and the Test Dataset                      (1 Mark)\n",
    "\n",
    "8) Implement the Viterbi Algorithm ( you can use Library) to get the Part of Speech Tagging.        ( 3 Marks)\n",
    "\n",
    "9) Calculate the Accuracy and F1 score. ( Number of Predicted Correct Tag in the test set / Total number of Data points in the test set)   (2 Marks)"
   ]
  },
  {
   "cell_type": "code",
   "execution_count": 9,
   "metadata": {},
   "outputs": [
    {
     "name": "stdout",
     "output_type": "stream",
     "text": [
      "[[('birth', 'NN'), ('genevese', 'JJ'), ('family', 'NN')], [('distinguished', 'VBN'), ('republic', 'JJ'), ('ancestors', 'NNS'), ('years', 'NNS')], [('counsellors', 'NNS'), ('syndics', 'VBP'), ('father', 'RB'), ('filled', 'VBN'), ('public', 'NN')], [('situations', 'NNS'), ('honour', 'VBP'), ('reputation', 'NN'), ('respected', 'VBD')], [('knew', 'JJ'), ('integrity', 'NN'), ('indefatigable', 'JJ'), ('attention', 'NN'), ('public', 'NN')], [('business', 'NN'), ('passed', 'VBD'), ('younger', 'JJR'), ('days', 'NNS'), ('perpetually', 'RB'), ('occupied', 'VBD')], [('affairs', 'NNS'), ('country', 'NN'), ('variety', 'NN'), ('circumstances', 'NNS'), ('prevented', 'VBD')], [('marrying', 'VBG'), ('early', 'JJ'), ('decline', 'NN'), ('life', 'NN')], [('husband', 'NN'), ('father', 'RBR'), ('family', 'NN')], [('circumstances', 'NNS'), ('marriage', 'NN'), ('illustrate', 'VBP'), ('character', 'NN')], [('refrain', 'NN'), ('relating', 'VBG'), ('one', 'CD'), ('intimate', 'NN'), ('friends', 'NNS')], [('merchant', 'NN'), ('flourishing', 'VBG'), ('state', 'NN'), ('fell', 'VBD'), ('numerous', 'JJ')], [('mischances', 'NNS'), ('poverty', 'VBP'), ('man', 'NN'), ('beaufort', 'NN')], [('proud', 'JJ'), ('unbending', 'JJ'), ('disposition', 'NN'), ('bear', 'IN'), ('live', 'JJ'), ('poverty', 'NN')], [('oblivion', 'NN'), ('country', 'NN')], [('distinguished', 'VBN'), ('rank', 'NN'), ('magnificence', 'NN'), ('paid', 'VBD'), ('debts', 'NNS')], [('honourable', 'JJ'), ('manner', 'NN'), ('retreated', 'VBD')], [('daughter', 'NN'), ('town', 'NN'), ('lucerne', 'JJ'), ('lived', 'VBD'), ('unknown', 'JJ')], [('wretchedness', 'NN'), ('father', 'NN'), ('loved', 'VBD'), ('beaufort', 'NN'), ('truest', 'NN'), ('friendship', 'NN')], [('deeply', 'RB'), ('grieved', 'VBN'), ('retreat', 'NN'), ('unfortunate', 'JJ'), ('circumstances', 'NNS')], [('bitterly', 'RB'), ('deplored', 'VBN'), ('false', 'JJ'), ('pride', 'NN'), ('led', 'VBD'), ('friend', 'NN'), ('conduct', 'NN')], [('little', 'JJ'), ('worthy', 'JJ'), ('affection', 'NN'), ('united', 'VBD'), ('lost', 'JJ'), ('time', 'NN')], [('endeavouring', 'VBG'), ('seek', 'JJ'), ('hope', 'NN'), ('persuading', 'VBG'), ('begin', 'VB')], [('world', 'NN'), ('credit', 'NN'), ('assistance', 'NN')], [('brought', 'JJ'), ('year', 'NN'), ('difference', 'NN')], [('ages', 'NNS'), ('need', 'VBP'), ('strangers', 'NNS'), ('species', 'NNS')], [('disunion', 'NN'), ('dispute', 'NN'), ('harmony', 'NN'), ('soul', 'NN'), ('companionship', 'NN')], [('diversity', 'NN'), ('contrast', 'NN'), ('subsisted', 'VBD'), ('characters', 'NNS'), ('drew', 'VBD')], [('nearer', 'NN'), ('elizabeth', 'VBZ'), ('calmer', 'NN'), ('concentrated', 'VBD')], [('disposition', 'NN'), ('ardour', 'NN'), ('capable', 'JJ'), ('intense', 'NN')], [('application', 'NN'), ('deeply', 'RB'), ('smitten', 'JJ'), ('thirst', 'JJ'), ('knowledge', 'NN')], [('busied', 'VBN'), ('following', 'VBG'), ('aerial', 'JJ'), ('creations', 'NNS'), ('poets', 'NNS')], [('majestic', 'JJ'), ('wondrous', 'JJ'), ('scenes', 'NNS'), ('surrounded', 'VBD'), ('swiss', 'JJ')], [('home', 'NN'), ('the', 'DT'), ('sublime', 'JJ'), ('shapes', 'NNS'), ('mountains', 'NNS'), ('changes', 'NNS'), ('seasons', 'NNS')], [('tempest', 'JJS'), ('calm', 'NN'), ('silence', 'NN'), ('winter', 'NN'), ('life', 'NN'), ('turbulence', 'NN')], [('alpine', 'NN'), ('summersshe', 'NN'), ('ample', 'JJ'), ('scope', 'NN'), ('admiration', 'NN'), ('delight', 'NN')], [('companion', 'NN'), ('contemplated', 'VBD'), ('satisfied', 'JJ'), ('spirit', 'NN')], [('magnificent', 'JJ'), ('appearances', 'NNS'), ('things', 'NNS'), ('delighted', 'VBD'), ('investigating', 'VBG')], [('causes', 'NNS'), ('world', 'NN'), ('secret', 'NN'), ('desired', 'VBD'), ('divine', 'NN')], [('curiosity', 'NN'), ('earnest', 'JJS'), ('research', 'NN'), ('learn', 'NN'), ('hidden', 'VBD'), ('laws', 'NNS'), ('nature', 'NN')], [('gladness', 'NN'), ('akin', 'JJ'), ('rapture', 'NN'), ('unfolded', 'VBD')], [('earliest', 'JJS'), ('sensations', 'NNS'), ('remember', 'VB')], [('birth', 'JJ'), ('second', 'JJ'), ('son', 'NN'), ('junior', 'JJ'), ('seven', 'CD'), ('years', 'NNS'), ('parents', 'NNS'), ('gave', 'VBD')], [('entirely', 'RB'), ('wandering', 'VBG'), ('life', 'NN'), ('fixed', 'VBN'), ('native', 'JJ')], [('country', 'NN'), ('possessed', 'VBD'), ('house', 'NN'), ('geneva', 'NN'), ('campagne', 'NN'), ('belrive', 'NN')], [('eastern', 'JJ'), ('shore', 'RB'), ('lake', 'JJ'), ('distance', 'NN')], [('league', 'JJ'), ('city', 'NN'), ('resided', 'VBD'), ('principally', 'RB')], [('lives', 'NNS'), ('parents', 'NNS'), ('passed', 'VBD'), ('considerable', 'JJ'), ('seclusion', 'NN')], [('temper', 'NN'), ('avoid', 'NN'), ('crowd', 'NN'), ('attach', 'VBP'), ('fervently', 'RB')], [('indifferent', 'NN'), ('schoolfellows', 'VBZ'), ('general', 'JJ'), ('united', 'JJ')], [('bonds', 'NNS'), ('closest', 'JJS'), ('friendship', 'NN'), ('henry', 'NN')], [('clerval', 'JJ'), ('son', 'NN'), ('merchant', 'NN'), ('geneva', 'NN'), ('boy', 'NN'), ('singular', 'NN')], [('talent', 'NN'), ('fancy', 'NN'), ('loved', 'VBD'), ('enterprise', 'JJ'), ('hardship', 'NN'), ('danger', 'NN')], [('sake', 'VB'), ('deeply', 'NN'), ('read', 'JJ'), ('books', 'NNS'), ('chivalry', 'VBP'), ('romance', 'NN')], [('composed', 'VBN'), ('heroic', 'JJ'), ('songs', 'NNS'), ('began', 'VBD'), ('write', 'JJ'), ('tale', 'NN'), ('enchantment', 'NN')], [('knightly', 'RB'), ('adventure', 'NN'), ('tried', 'VBN'), ('act', 'NN'), ('plays', 'VBZ'), ('enter', 'NN')], [('masquerades', 'NNS'), ('characters', 'NNS'), ('drawn', 'VBP'), ('heroes', 'NNS')], [('roncesvalles', 'NNS'), ('round', 'VBP'), ('table', 'JJ'), ('king', 'NN'), ('arthur', 'RB'), ('chivalrous', 'JJ')], [('train', 'NN'), ('shed', 'VBD'), ('blood', 'NN'), ('redeem', 'NN'), ('holy', 'NN'), ('sepulchre', 'NN'), ('hands', 'NNS')], [('infidels', 'NNS')], [('attained', 'VBN'), ('age', 'NN'), ('seventeen', 'JJ'), ('parents', 'NNS'), ('resolved', 'VBD')], [('student', 'NN'), ('university', 'NN'), ('ingolstadt', 'NN')], [('hitherto', 'NN'), ('attended', 'VBD'), ('schools', 'NNS'), ('geneva', 'FW'), ('father', 'RB'), ('thought', 'VBD')], [('necessary', 'JJ'), ('completion', 'NN'), ('education', 'NN')], [('acquainted', 'VBN'), ('customs', 'NNS'), ('native', 'JJ'), ('country', 'NN')], [('departure', 'NN'), ('fixed', 'VBD'), ('early', 'JJ'), ('date', 'NN'), ('day', 'NN')], [('resolved', 'VBN'), ('arrive', 'JJ'), ('misfortune', 'NN'), ('life', 'NN')], [('occurredan', 'JJ'), ('omen', 'NNS'), ('future', 'JJ'), ('misery', 'NN')], [('elizabeth', 'RB'), ('caught', 'VBN'), ('scarlet', 'NN'), ('fever', 'NN'), ('illness', 'NN'), ('severe', 'JJ')], [('greatest', 'JJS'), ('danger', 'NN'), ('illness', 'NN'), ('arguments', 'NNS'), ('urged', 'VBD')], [('persuade', 'NN'), ('mother', 'NN'), ('refrain', 'NN'), ('attending', 'VBG')], [('yielded', 'VBN'), ('entreaties', 'NNS'), ('heard', 'VBD'), ('life', 'NN')], [('favourite', 'RB'), ('menaced', 'VBN'), ('longer', 'JJR'), ('control', 'NN'), ('anxiety', 'NN')], [('attended', 'VBN'), ('sickbed', 'JJ'), ('watchful', 'JJ'), ('attentions', 'NNS'), ('triumphed', 'VBD'), ('malignity', 'NN')], [('distemperelizabeth', 'NNS'), ('saved', 'VBD'), ('consequences', 'NNS')], [('imprudence', 'NN'), ('fatal', 'JJ'), ('preserver', 'RB'), ('day', 'NN'), ('mother', 'NN')], [('sickened', 'VBN'), ('fever', 'RB'), ('accompanied', 'VBN'), ('alarming', 'NN'), ('symptoms', 'NNS')], [('looks', 'VBZ'), ('medical', 'JJ'), ('attendants', 'NNS'), ('prognosticated', 'VBN'), ('worst', 'CD'), ('event', 'NN')], [('deathbed', 'VBN'), ('fortitude', 'JJ'), ('benignity', 'NN'), ('best', 'JJS'), ('women', 'NNS'), ('desert', 'NN')], [('joined', 'VBN'), ('hands', 'NNS'), ('elizabeth', 'RBR'), ('my', 'PRP$')], [('children', 'NNS'), ('said', 'VBD'), ('my', 'PRP$'), ('firmest', 'JJS'), ('hopes', 'VBZ'), ('future', 'JJ'), ('happiness', 'NN')], [('placed', 'VBN'), ('prospect', 'JJ'), ('union', 'NN'), ('expectation', 'NN')], [('consolation', 'NN'), ('father', 'NN'), ('elizabeth', 'VBZ'), ('love', 'VBP'), ('supply', 'NN'), ('place', 'NN')], [('younger', 'JJR'), ('children', 'NNS'), ('alas', 'VBP'), ('regret', 'NN'), ('taken', 'VBN'), ('happy', 'JJ')], [('beloved', 'VBN'), ('hard', 'JJ'), ('quit', 'NN')], [('thoughts', 'NNS'), ('befitting', 'VBG'), ('endeavour', 'JJ'), ('resign', 'NN'), ('cheerfully', 'RB')], [('death', 'NN'), ('indulge', 'NNS'), ('hope', 'VBP'), ('meeting', 'NN'), ('world', 'NN')], [('day', 'NN'), ('natural', 'JJ'), ('philosophy', 'NN'), ('particularly', 'RB'), ('chemistry', 'NN')], [('comprehensive', 'JJ'), ('sense', 'NN'), ('term', 'NN'), ('nearly', 'RB'), ('sole', 'JJ'), ('occupation', 'NN')], [('read', 'VB'), ('ardour', 'NN'), ('works', 'NNS'), ('genius', 'VBP'), ('discrimination', 'NN')], [('modern', 'JJ'), ('inquirers', 'NNS'), ('written', 'VBN'), ('subjects', 'NNS'), ('attended', 'VBD')], [('lectures', 'NNS'), ('cultivated', 'VBD'), ('acquaintance', 'NN'), ('men', 'NNS'), ('science', 'NN')], [('university', 'NN'), ('krempe', 'VBZ'), ('great', 'JJ'), ('deal', 'NN'), ('sound', 'NN'), ('sense', 'NN')], [('real', 'JJ'), ('information', 'NN'), ('combined', 'VBN'), ('true', 'JJ'), ('repulsive', 'NN')], [('physiognomy', 'NN'), ('manners', 'NNS'), ('account', 'VBP'), ('valuable', 'JJ')], [('waldman', 'JJ'), ('true', 'JJ'), ('friend', 'NN'), ('gentleness', 'NN'), ('tinged', 'VBD')], [('dogmatism', 'NN'), ('instructions', 'NNS'), ('given', 'VBN'), ('air', 'NN'), ('frankness', 'NN')], [('good', 'JJ'), ('nature', 'NN'), ('banished', 'VBD'), ('idea', 'NN'), ('pedantry', 'NN'), ('thousand', 'CD'), ('ways', 'NNS')], [('smoothed', 'VBN'), ('path', 'NN'), ('knowledge', 'NN'), ('abstruse', 'NN')], [('inquiries', 'NNS'), ('clear', 'VBP'), ('facile', 'JJ'), ('apprehension', 'NN'), ('application', 'NN')], [('fluctuating', 'VBG'), ('uncertain', 'JJ'), ('gained', 'JJ'), ('strength', 'NN'), ('proceeded', 'VBD')], [('soon', 'RB'), ('ardent', 'JJ'), ('eager', 'JJ'), ('stars', 'NNS'), ('disappeared', 'VBD')], [('light', 'JJ'), ('morning', 'NN'), ('whilst', 'NN'), ('engaged', 'VBD'), ('laboratory', 'NN')], [('applied', 'VBN'), ('closely', 'RB'), ('easily', 'RB'), ('conceived', 'VBN'), ('progress', 'NN')], [('rapid', 'JJ'), ('ardour', 'CD'), ('astonishment', 'NN'), ('students', 'NNS')], [('proficiency', 'NN'), ('masters', 'NNS'), ('professor', 'VBP'), ('krempe', 'NN'), ('asked', 'VBD')], [('sly', 'RB'), ('smile', 'JJ'), ('cornelius', 'NN'), ('agrippa', 'NN'), ('went', 'VBD'), ('whilst', 'JJ'), ('waldman', 'NN')], [('expressed', 'VBN'), ('heartfelt', 'NN'), ('exultation', 'NN'), ('progress', 'NN'), ('two', 'CD'), ('years', 'NNS')], [('passed', 'VBN'), ('manner', 'NN'), ('paid', 'VBN'), ('visit', 'NN'), ('geneva', 'NN')], [('engaged', 'VBN'), ('heart', 'NN'), ('soul', 'NN'), ('pursuit', 'NN'), ('discoveries', 'NNS')], [('hoped', 'VBD'), ('none', 'NN'), ('experienced', 'VBD'), ('conceive', 'JJ')], [('enticements', 'NNS'), ('science', 'NN'), ('studies', 'NNS'), ('far', 'RB')], [('gone', 'VBN'), ('know', 'JJ')], [('scientific', 'JJ'), ('pursuit', 'NN'), ('continual', 'JJ'), ('food', 'NN'), ('discovery', 'NN'), ('wonder', 'NN')], [('mind', 'NN'), ('moderate', 'JJ'), ('capacity', 'NN'), ('closely', 'RB'), ('pursues', 'VBZ'), ('study', 'NN')], [('infallibly', 'RB'), ('arrive', 'JJ'), ('great', 'JJ'), ('proficiency', 'NN'), ('study', 'NN')], [('continually', 'RB'), ('sought', 'VBN'), ('attainment', 'NN'), ('object', 'NN'), ('pursuit', 'NN')], [('solely', 'RB'), ('wrapped', 'VBD'), ('improved', 'VBN'), ('rapidly', 'RB'), ('end', 'VB')], [('years', 'NNS'), ('discoveries', 'VBZ'), ('improvement', 'NN'), ('chemical', 'NN')], [('instruments', 'NNS'), ('procured', 'VBD'), ('great', 'JJ'), ('esteem', 'JJ'), ('admiration', 'NN')], [('university', 'NN'), ('arrived', 'VBD'), ('point', 'NN')], [('acquainted', 'VBN'), ('theory', 'NN'), ('practice', 'NN'), ('natural', 'JJ'), ('philosophy', 'NN')], [('depended', 'JJ'), ('lessons', 'NNS'), ('professors', 'NNS'), ('ingolstadt', 'VBP')], [('residence', 'NN'), ('longer', 'RBR'), ('conducive', 'JJ'), ('improvements', 'NNS'), ('thought', 'VBD')], [('returning', 'VBG'), ('friends', 'NNS'), ('native', 'JJ'), ('town', 'NN'), ('incident', 'NN')], [('happened', 'VBN'), ('protracted', 'VBD'), ('stay', 'NN')], [('dreary', 'JJ'), ('night', 'NN'), ('november', 'NNP'), ('beheld', 'VBD'), ('accomplishment', 'NN')], [('toils', 'NNS'), ('anxiety', 'NN'), ('amounted', 'VBD'), ('agony', 'NN')], [('collected', 'VBN'), ('instruments', 'NNS'), ('life', 'NN'), ('infuse', 'NN')], [('spark', 'NN'), ('lifeless', 'JJ'), ('thing', 'NN'), ('lay', 'VBD'), ('feet', 'NNS')], [('morning', 'NN'), ('rain', 'NN'), ('pattered', 'VBD'), ('dismally', 'RB')], [('panes', 'NNS'), ('candle', 'VBP'), ('nearly', 'RB'), ('burnt', 'JJ'), ('glimmer', 'NN')], [('halfextinguished', 'VBN'), ('light', 'NN'), ('saw', 'VBD'), ('dull', 'JJ'), ('yellow', 'JJ'), ('eye', 'NN'), ('creature', 'NN')], [('open', 'JJ'), ('breathed', 'VBD'), ('hard', 'JJ'), ('convulsive', 'JJ'), ('motion', 'NN'), ('agitated', 'VBD'), ('limbs', 'NNS')], [('emotions', 'NNS'), ('catastrophe', 'VBP'), ('delineate', 'NN')], [('wretch', 'NN'), ('infinite', 'NN'), ('pains', 'NNS'), ('care', 'NN'), ('endeavoured', 'VBD')], [('form', 'NN'), ('limbs', 'VBZ'), ('proportion', 'NN'), ('selected', 'VBD'), ('features', 'NNS')], [('beautiful', 'JJ'), ('beautiful', 'JJ'), ('great', 'JJ'), ('god', 'NN'), ('yellow', 'JJ'), ('skin', 'NN'), ('scarcely', 'RB'), ('covered', 'VBD')], [('work', 'NN'), ('muscles', 'NNS'), ('arteries', 'NNS'), ('beneath', 'VBP'), ('hair', 'NN'), ('lustrous', 'JJ')], [('black', 'JJ'), ('flowing', 'VBG'), ('teeth', 'JJ'), ('pearly', 'RB'), ('whiteness', 'NN')], [('luxuriances', 'NNS'), ('formed', 'VBD'), ('horrid', 'JJ'), ('contrast', 'NN'), ('watery', 'NN'), ('eyes', 'NNS')], [('colour', 'NN'), ('dunwhite', 'NN'), ('sockets', 'NNS')], [('set', 'NN'), ('shrivelled', 'VBD'), ('complexion', 'NN'), ('straight', 'RB'), ('black', 'JJ'), ('lips', 'NNS')], [('chapter', 'NN'), ('6', 'CD')], [('you', 'PRP'), ('ill', 'VBP'), ('ill', 'VB'), ('constant', 'JJ'), ('letters', 'NNS'), ('dear', 'VBP')], [('kind', 'NN'), ('henry', 'NN'), ('sufficient', 'JJ'), ('reassure', 'NN'), ('account', 'NN')], [('forbidden', 'JJ'), ('writeto', 'NN'), ('hold', 'NN'), ('pen', 'JJ'), ('word', 'NN'), ('dear', 'NN'), ('victor', 'NN')], [('necessary', 'JJ'), ('calm', 'NN'), ('apprehensions', 'NNS'), ('long', 'JJ'), ('time', 'NN'), ('thought', 'NN')], [('post', 'NN'), ('bring', 'NN'), ('line', 'NN'), ('persuasions', 'NNS')], [('restrained', 'VBN'), ('uncle', 'JJ'), ('undertaking', 'VBG'), ('journey', 'NN'), ('ingolstadt', 'NN')], [('prevented', 'VBN'), ('encountering', 'NN'), ('inconveniences', 'NNS'), ('dangers', 'NNS')], [('long', 'JJ'), ('journey', 'NN'), ('regretted', 'VBN'), ('able', 'JJ')], [('perform', 'JJ'), ('figure', 'NN'), ('task', 'NN'), ('attending', 'VBG')], [('sickbed', 'VBN'), ('devolved', 'JJ'), ('mercenary', 'JJ'), ('old', 'JJ'), ('nurse', 'NN')], [('guess', 'NN'), ('wishes', 'NNS'), ('minister', 'NN'), ('care', 'NN'), ('affection', 'NN')], [('poor', 'JJ'), ('cousin', 'NN'), ('yet', 'RB'), ('clerval', 'JJ'), ('writes', 'NNS')], [('getting', 'VBG'), ('better', 'JJR'), ('eagerly', 'RB'), ('hope', 'VBP'), ('confirm', 'NN')], [('intelligence', 'NN'), ('soon', 'RB'), ('handwriting', 'VBG')], [('get', 'NN'), ('welland', 'WRB'), ('return', 'NN'), ('happy', 'JJ'), ('cheerful', 'JJ'), ('home', 'NN')], [('friends', 'NNS'), ('love', 'VBP'), ('dearly', 'RB'), ('fathers', 'NNS'), ('health', 'NN'), ('vigorous', 'JJ')], [('asks', 'NNS'), ('assured', 'VBD')], [('care', 'NN'), ('cloud', 'JJ'), ('benevolent', 'NN'), ('countenance', 'NN'), ('pleased', 'VBD')], [('remark', 'NN'), ('improvement', 'NN'), ('ernest', 'JJS'), ('sixteen', 'NN')], [('activity', 'NN'), ('spirit', 'VBP'), ('desirous', 'JJ'), ('true', 'JJ'), ('swiss', 'JJ'), ('enter', 'NN')], [('foreign', 'JJ'), ('service', 'NN')], [('elder', 'NN'), ('brother', 'NN'), ('returns', 'NNS'), ('uncle', 'VBP'), ('pleased', 'JJ'), ('idea', 'NN')], [('military', 'JJ'), ('career', 'NN'), ('distant', 'JJ'), ('country', 'NN'), ('ernest', 'JJS')], [('powers', 'NNS'), ('application', 'VBP'), ('looks', 'VBZ'), ('study', 'VBP'), ('odious', 'JJ'), ('fetter', 'NN')], [('time', 'NN'), ('spent', 'VBN'), ('open', 'JJ'), ('air', 'NN'), ('climbing', 'VBG'), ('hills', 'NNS'), ('rowing', 'VBG')], [('lake', 'NN'), ('fear', 'NN'), ('idler', 'JJ'), ('yield', 'NN'), ('point', 'NN')], [('permit', 'NN'), ('enter', 'NN'), ('profession', 'NN'), ('selected', 'VBD')], [('you', 'PRP'), ('probably', 'RB'), ('waited', 'VBD'), ('impatiently', 'RB'), ('letter', 'NN'), ('fix', 'NN'), ('date', 'NN')], [('return', 'NN'), ('tempted', 'VBD'), ('write', 'JJ')], [('lines', 'NNS'), ('merely', 'RB'), ('mentioning', 'VBG'), ('day', 'NN'), ('expect', 'VB')], [('cruel', 'NN'), ('kindness', 'NN'), ('dare', 'NN')], [('surprise', 'NN'), ('son', 'NN'), ('expected', 'VBD'), ('happy', 'JJ'), ('glad', 'JJ'), ('welcome', 'NN')], [('behold', 'JJ'), ('contrary', 'JJ'), ('tears', 'NNS'), ('wretchedness', 'JJ'), ('victor', 'NN')], [('relate', 'NN'), ('misfortune', 'NN'), ('absence', 'NN'), ('rendered', 'VBD'), ('callous', 'JJ')], [('joys', 'NNS'), ('griefs', 'VBP'), ('shall', 'MD'), ('inflict', 'VB'), ('pain', 'NN'), ('long', 'JJ'), ('absent', 'NN')], [('son', 'NN'), ('wish', 'JJ'), ('prepare', 'NN'), ('woeful', 'JJ'), ('news', 'NN'), ('know', 'NNS')], [('impossible', 'JJ'), ('eye', 'NN'), ('skims', 'NNS'), ('page', 'VBP'), ('seek', 'JJ'), ('words', 'NNS')], [('convey', 'NN'), ('horrible', 'JJ'), ('tidings', 'NNS')], [('last', 'JJ'), ('thursday', 'NN'), ('may', 'MD'), ('7th', 'VB'), ('niece', 'NN'), ('brothers', 'NNS'), ('went', 'VBD')], [('walk', 'NN'), ('plainpalais', 'NN'), ('evening', 'VBG'), ('warm', 'JJ'), ('serene', 'NN'), ('prolonged', 'VBD')], [('walk', 'NN'), ('farther', 'RB'), ('usual', 'JJ'), ('dusk', 'NN'), ('thought', 'VBD')], [('returning', 'VBG'), ('discovered', 'VBN'), ('william', 'JJ'), ('ernest', 'NN'), ('gone', 'VBN')], [('accordingly', 'RB'), ('rested', 'VBN'), ('seat', 'NN')], [('return', 'NN'), ('presently', 'RB'), ('ernest', 'JJS'), ('came', 'VBD'), ('enquired', 'VBN'), ('seen', 'VBN')], [('brother', 'NN'), ('said', 'VBD'), ('playing', 'NN'), ('william', 'NN')], [('run', 'VB'), ('away', 'RP'), ('hide', 'JJ'), ('vainly', 'RB'), ('sought', 'VBD')], [('waited', 'VBN'), ('long', 'JJ'), ('time', 'NN'), ('return', 'NN')], [('passed', 'VBN'), ('sad', 'JJ'), ('hours', 'NNS'), ('oclock', 'VBP'), ('trial', 'NN')], [('commence', 'NN'), ('father', 'NN'), ('rest', 'NN'), ('family', 'NN'), ('obliged', 'VBD'), ('attend', 'NN')], [('witnesses', 'NNS'), ('accompanied', 'VBN'), ('court', 'NN')], [('wretched', 'VBN'), ('mockery', 'NN'), ('justice', 'NN'), ('suffered', 'VBD'), ('living', 'JJ'), ('torture', 'NN')], [('decided', 'VBD'), ('result', 'NN'), ('curiosity', 'NN'), ('lawless', 'NN'), ('devices', 'NNS')], [('cause', 'NN'), ('death', 'NN'), ('fellow', 'JJ'), ('beings', 'NNS'), ('smiling', 'VBG'), ('babe', 'NN')], [('innocence', 'NN'), ('joy', 'NN'), ('far', 'RB'), ('dreadfully', 'RB'), ('murdered', 'VBN')], [('aggravation', 'NN'), ('infamy', 'NN'), ('murder', 'NN'), ('memorable', 'JJ'), ('horror', 'NN')], [('justine', 'NN'), ('girl', 'NN'), ('merit', 'NN'), ('possessed', 'VBD'), ('qualities', 'NNS'), ('promised', 'VBD')], [('render', 'NN'), ('life', 'NN'), ('happy', 'JJ'), ('obliterated', 'VBD')], [('ignominious', 'JJ'), ('grave', 'NN'), ('cause', 'NN'), ('thousand', 'CD'), ('times', 'NNS')], [('confessed', 'VBN'), ('guilty', 'JJ'), ('crime', 'NN'), ('ascribed', 'VBN'), ('justine', 'NN')], [('absent', 'NN'), ('committed', 'VBN'), ('declaration', 'NN')], [('considered', 'VBN'), ('ravings', 'NNS'), ('madman', 'NN')], [('exculpated', 'VBN'), ('suffered', 'VBD')], [('appearance', 'NN'), ('justine', 'NN'), ('calm', 'NN'), ('dressed', 'VBD'), ('mourning', 'VBG')], [('countenance', 'NN'), ('engaging', 'VBG'), ('rendered', 'VBN'), ('solemnity', 'NN')], [('feelings', 'NNS'), ('exquisitely', 'RB'), ('beautiful', 'JJ'), ('yet', 'RB'), ('appeared', 'VBN'), ('confident', 'NN')], [('innocence', 'NN'), ('tremble', 'JJ'), ('gazed', 'VBN'), ('execrated', 'VBD')], [('thousands', 'NNS'), ('kindness', 'JJ'), ('beauty', 'NN')], [('excited', 'VBN'), ('obliterated', 'JJ'), ('minds', 'NNS'), ('spectators', 'NNS')], [('imagination', 'NN'), ('enormity', 'NN'), ('supposed', 'VBN'), ('committed', 'VBD')], [('tranquil', 'JJ'), ('tranquillity', 'NN'), ('evidently', 'RB'), ('constrained', 'VBD')], [('confusion', 'NN'), ('adduced', 'VBD'), ('proof', 'NN'), ('guilt', 'NN')], [('worked', 'VBN'), ('mind', 'NN'), ('appearance', 'NN'), ('courage', 'NN'), ('entered', 'VBD')], [('court', 'NN'), ('threw', 'VBD'), ('eyes', 'NNS'), ('round', 'JJ'), ('quickly', 'RB'), ('discovered', 'VBD')], [('seated', 'VBN'), ('tear', 'JJ'), ('dim', 'NN'), ('eye', 'NN'), ('saw', 'VBD'), ('quickly', 'RB')], [('recovered', 'VBN'), ('look', 'NN'), ('sorrowful', 'JJ'), ('affection', 'NN'), ('attest', 'NN')], [('utter', 'JJ'), ('guiltlessness', 'NN')]]"
     ]
    },
    {
     "name": "stdout",
     "output_type": "stream",
     "text": [
      "\n"
     ]
    }
   ],
   "source": [
    "## Create the POS tagging label for cleaned corpus ##\n",
    "tagged_text = []\n",
    "for index , row in sentence_duplicate.iterrows():\n",
    "      \n",
    "    # Word tokenizers is used to find the words \n",
    "    # and punctuation in a string\n",
    "    wordsList = nltk.word_tokenize(row[\"sentences\"])\n",
    "  \n",
    "    #  Using a Tagger. Which is part-of-speech \n",
    "    # tagger or POS-tagger. \n",
    "    tagged = nltk.pos_tag(wordsList)\n",
    "    tagged_text.extend([tagged])\n",
    "\n",
    "print(tagged_text)"
   ]
  },
  {
   "cell_type": "code",
   "execution_count": 10,
   "metadata": {},
   "outputs": [
    {
     "name": "stdout",
     "output_type": "stream",
     "text": [
      "[[('##', '##'), ('birth', 'NN'), ('genevese', 'JJ'), ('family', 'NN'), ('&&', '&&')], [('##', '##'), ('distinguished', 'VBN'), ('republic', 'JJ'), ('ancestors', 'NNS'), ('years', 'NNS'), ('&&', '&&')], [('##', '##'), ('counsellors', 'NNS'), ('syndics', 'VBP'), ('father', 'RB'), ('filled', 'VBN'), ('public', 'NN'), ('&&', '&&')], [('##', '##'), ('situations', 'NNS'), ('honour', 'VBP'), ('reputation', 'NN'), ('respected', 'VBD'), ('&&', '&&')], [('##', '##'), ('knew', 'JJ'), ('integrity', 'NN'), ('indefatigable', 'JJ'), ('attention', 'NN'), ('public', 'NN'), ('&&', '&&')], [('##', '##'), ('business', 'NN'), ('passed', 'VBD'), ('younger', 'JJR'), ('days', 'NNS'), ('perpetually', 'RB'), ('occupied', 'VBD'), ('&&', '&&')], [('##', '##'), ('affairs', 'NNS'), ('country', 'NN'), ('variety', 'NN'), ('circumstances', 'NNS'), ('prevented', 'VBD'), ('&&', '&&')], [('##', '##'), ('marrying', 'VBG'), ('early', 'JJ'), ('decline', 'NN'), ('life', 'NN'), ('&&', '&&')], [('##', '##'), ('husband', 'NN'), ('father', 'RBR'), ('family', 'NN'), ('&&', '&&')], [('##', '##'), ('circumstances', 'NNS'), ('marriage', 'NN'), ('illustrate', 'VBP'), ('character', 'NN'), ('&&', '&&')], [('##', '##'), ('refrain', 'NN'), ('relating', 'VBG'), ('one', 'CD'), ('intimate', 'NN'), ('friends', 'NNS'), ('&&', '&&')], [('##', '##'), ('merchant', 'NN'), ('flourishing', 'VBG'), ('state', 'NN'), ('fell', 'VBD'), ('numerous', 'JJ'), ('&&', '&&')], [('##', '##'), ('mischances', 'NNS'), ('poverty', 'VBP'), ('man', 'NN'), ('beaufort', 'NN'), ('&&', '&&')], [('##', '##'), ('proud', 'JJ'), ('unbending', 'JJ'), ('disposition', 'NN'), ('bear', 'IN'), ('live', 'JJ'), ('poverty', 'NN'), ('&&', '&&')], [('##', '##'), ('oblivion', 'NN'), ('country', 'NN'), ('&&', '&&')], [('##', '##'), ('distinguished', 'VBN'), ('rank', 'NN'), ('magnificence', 'NN'), ('paid', 'VBD'), ('debts', 'NNS'), ('&&', '&&')], [('##', '##'), ('honourable', 'JJ'), ('manner', 'NN'), ('retreated', 'VBD'), ('&&', '&&')], [('##', '##'), ('daughter', 'NN'), ('town', 'NN'), ('lucerne', 'JJ'), ('lived', 'VBD'), ('unknown', 'JJ'), ('&&', '&&')], [('##', '##'), ('wretchedness', 'NN'), ('father', 'NN'), ('loved', 'VBD'), ('beaufort', 'NN'), ('truest', 'NN'), ('friendship', 'NN'), ('&&', '&&')], [('##', '##'), ('deeply', 'RB'), ('grieved', 'VBN'), ('retreat', 'NN'), ('unfortunate', 'JJ'), ('circumstances', 'NNS'), ('&&', '&&')], [('##', '##'), ('bitterly', 'RB'), ('deplored', 'VBN'), ('false', 'JJ'), ('pride', 'NN'), ('led', 'VBD'), ('friend', 'NN'), ('conduct', 'NN'), ('&&', '&&')], [('##', '##'), ('little', 'JJ'), ('worthy', 'JJ'), ('affection', 'NN'), ('united', 'VBD'), ('lost', 'JJ'), ('time', 'NN'), ('&&', '&&')], [('##', '##'), ('endeavouring', 'VBG'), ('seek', 'JJ'), ('hope', 'NN'), ('persuading', 'VBG'), ('begin', 'VB'), ('&&', '&&')], [('##', '##'), ('world', 'NN'), ('credit', 'NN'), ('assistance', 'NN'), ('&&', '&&')], [('##', '##'), ('brought', 'JJ'), ('year', 'NN'), ('difference', 'NN'), ('&&', '&&')], [('##', '##'), ('ages', 'NNS'), ('need', 'VBP'), ('strangers', 'NNS'), ('species', 'NNS'), ('&&', '&&')], [('##', '##'), ('disunion', 'NN'), ('dispute', 'NN'), ('harmony', 'NN'), ('soul', 'NN'), ('companionship', 'NN'), ('&&', '&&')], [('##', '##'), ('diversity', 'NN'), ('contrast', 'NN'), ('subsisted', 'VBD'), ('characters', 'NNS'), ('drew', 'VBD'), ('&&', '&&')], [('##', '##'), ('nearer', 'NN'), ('elizabeth', 'VBZ'), ('calmer', 'NN'), ('concentrated', 'VBD'), ('&&', '&&')], [('##', '##'), ('disposition', 'NN'), ('ardour', 'NN'), ('capable', 'JJ'), ('intense', 'NN'), ('&&', '&&')], [('##', '##'), ('application', 'NN'), ('deeply', 'RB'), ('smitten', 'JJ'), ('thirst', 'JJ'), ('knowledge', 'NN'), ('&&', '&&')], [('##', '##'), ('busied', 'VBN'), ('following', 'VBG'), ('aerial', 'JJ'), ('creations', 'NNS'), ('poets', 'NNS'), ('&&', '&&')], [('##', '##'), ('majestic', 'JJ'), ('wondrous', 'JJ'), ('scenes', 'NNS'), ('surrounded', 'VBD'), ('swiss', 'JJ'), ('&&', '&&')], [('##', '##'), ('home', 'NN'), ('the', 'DT'), ('sublime', 'JJ'), ('shapes', 'NNS'), ('mountains', 'NNS'), ('changes', 'NNS'), ('seasons', 'NNS'), ('&&', '&&')], [('##', '##'), ('tempest', 'JJS'), ('calm', 'NN'), ('silence', 'NN'), ('winter', 'NN'), ('life', 'NN'), ('turbulence', 'NN'), ('&&', '&&')], [('##', '##'), ('alpine', 'NN'), ('summersshe', 'NN'), ('ample', 'JJ'), ('scope', 'NN'), ('admiration', 'NN'), ('delight', 'NN'), ('&&', '&&')], [('##', '##'), ('companion', 'NN'), ('contemplated', 'VBD'), ('satisfied', 'JJ'), ('spirit', 'NN'), ('&&', '&&')], [('##', '##'), ('magnificent', 'JJ'), ('appearances', 'NNS'), ('things', 'NNS'), ('delighted', 'VBD'), ('investigating', 'VBG'), ('&&', '&&')], [('##', '##'), ('causes', 'NNS'), ('world', 'NN'), ('secret', 'NN'), ('desired', 'VBD'), ('divine', 'NN'), ('&&', '&&')], [('##', '##'), ('curiosity', 'NN'), ('earnest', 'JJS'), ('research', 'NN'), ('learn', 'NN'), ('hidden', 'VBD'), ('laws', 'NNS'), ('nature', 'NN'), ('&&', '&&')], [('##', '##'), ('gladness', 'NN'), ('akin', 'JJ'), ('rapture', 'NN'), ('unfolded', 'VBD'), ('&&', '&&')], [('##', '##'), ('earliest', 'JJS'), ('sensations', 'NNS'), ('remember', 'VB'), ('&&', '&&')], [('##', '##'), ('birth', 'JJ'), ('second', 'JJ'), ('son', 'NN'), ('junior', 'JJ'), ('seven', 'CD'), ('years', 'NNS'), ('parents', 'NNS'), ('gave', 'VBD'), ('&&', '&&')], [('##', '##'), ('entirely', 'RB'), ('wandering', 'VBG'), ('life', 'NN'), ('fixed', 'VBN'), ('native', 'JJ'), ('&&', '&&')], [('##', '##'), ('country', 'NN'), ('possessed', 'VBD'), ('house', 'NN'), ('geneva', 'NN'), ('campagne', 'NN'), ('belrive', 'NN'), ('&&', '&&')], [('##', '##'), ('eastern', 'JJ'), ('shore', 'RB'), ('lake', 'JJ'), ('distance', 'NN'), ('&&', '&&')], [('##', '##'), ('league', 'JJ'), ('city', 'NN'), ('resided', 'VBD'), ('principally', 'RB'), ('&&', '&&')], [('##', '##'), ('lives', 'NNS'), ('parents', 'NNS'), ('passed', 'VBD'), ('considerable', 'JJ'), ('seclusion', 'NN'), ('&&', '&&')], [('##', '##'), ('temper', 'NN'), ('avoid', 'NN'), ('crowd', 'NN'), ('attach', 'VBP'), ('fervently', 'RB'), ('&&', '&&')], [('##', '##'), ('indifferent', 'NN'), ('schoolfellows', 'VBZ'), ('general', 'JJ'), ('united', 'JJ'), ('&&', '&&')], [('##', '##'), ('bonds', 'NNS'), ('closest', 'JJS'), ('friendship', 'NN'), ('henry', 'NN'), ('&&', '&&')], [('##', '##'), ('clerval', 'JJ'), ('son', 'NN'), ('merchant', 'NN'), ('geneva', 'NN'), ('boy', 'NN'), ('singular', 'NN'), ('&&', '&&')], [('##', '##'), ('talent', 'NN'), ('fancy', 'NN'), ('loved', 'VBD'), ('enterprise', 'JJ'), ('hardship', 'NN'), ('danger', 'NN'), ('&&', '&&')], [('##', '##'), ('sake', 'VB'), ('deeply', 'NN'), ('read', 'JJ'), ('books', 'NNS'), ('chivalry', 'VBP'), ('romance', 'NN'), ('&&', '&&')], [('##', '##'), ('composed', 'VBN'), ('heroic', 'JJ'), ('songs', 'NNS'), ('began', 'VBD'), ('write', 'JJ'), ('tale', 'NN'), ('enchantment', 'NN'), ('&&', '&&')], [('##', '##'), ('knightly', 'RB'), ('adventure', 'NN'), ('tried', 'VBN'), ('act', 'NN'), ('plays', 'VBZ'), ('enter', 'NN'), ('&&', '&&')], [('##', '##'), ('masquerades', 'NNS'), ('characters', 'NNS'), ('drawn', 'VBP'), ('heroes', 'NNS'), ('&&', '&&')], [('##', '##'), ('roncesvalles', 'NNS'), ('round', 'VBP'), ('table', 'JJ'), ('king', 'NN'), ('arthur', 'RB'), ('chivalrous', 'JJ'), ('&&', '&&')], [('##', '##'), ('train', 'NN'), ('shed', 'VBD'), ('blood', 'NN'), ('redeem', 'NN'), ('holy', 'NN'), ('sepulchre', 'NN'), ('hands', 'NNS'), ('&&', '&&')], [('##', '##'), ('infidels', 'NNS'), ('&&', '&&')], [('##', '##'), ('attained', 'VBN'), ('age', 'NN'), ('seventeen', 'JJ'), ('parents', 'NNS'), ('resolved', 'VBD'), ('&&', '&&')], [('##', '##'), ('student', 'NN'), ('university', 'NN'), ('ingolstadt', 'NN'), ('&&', '&&')], [('##', '##'), ('hitherto', 'NN'), ('attended', 'VBD'), ('schools', 'NNS'), ('geneva', 'FW'), ('father', 'RB'), ('thought', 'VBD'), ('&&', '&&')], [('##', '##'), ('necessary', 'JJ'), ('completion', 'NN'), ('education', 'NN'), ('&&', '&&')], [('##', '##'), ('acquainted', 'VBN'), ('customs', 'NNS'), ('native', 'JJ'), ('country', 'NN'), ('&&', '&&')], [('##', '##'), ('departure', 'NN'), ('fixed', 'VBD'), ('early', 'JJ'), ('date', 'NN'), ('day', 'NN'), ('&&', '&&')], [('##', '##'), ('resolved', 'VBN'), ('arrive', 'JJ'), ('misfortune', 'NN'), ('life', 'NN'), ('&&', '&&')], [('##', '##'), ('occurredan', 'JJ'), ('omen', 'NNS'), ('future', 'JJ'), ('misery', 'NN'), ('&&', '&&')], [('##', '##'), ('elizabeth', 'RB'), ('caught', 'VBN'), ('scarlet', 'NN'), ('fever', 'NN'), ('illness', 'NN'), ('severe', 'JJ'), ('&&', '&&')], [('##', '##'), ('greatest', 'JJS'), ('danger', 'NN'), ('illness', 'NN'), ('arguments', 'NNS'), ('urged', 'VBD'), ('&&', '&&')], [('##', '##'), ('persuade', 'NN'), ('mother', 'NN'), ('refrain', 'NN'), ('attending', 'VBG'), ('&&', '&&')], [('##', '##'), ('yielded', 'VBN'), ('entreaties', 'NNS'), ('heard', 'VBD'), ('life', 'NN'), ('&&', '&&')], [('##', '##'), ('favourite', 'RB'), ('menaced', 'VBN'), ('longer', 'JJR'), ('control', 'NN'), ('anxiety', 'NN'), ('&&', '&&')], [('##', '##'), ('attended', 'VBN'), ('sickbed', 'JJ'), ('watchful', 'JJ'), ('attentions', 'NNS'), ('triumphed', 'VBD'), ('malignity', 'NN'), ('&&', '&&')], [('##', '##'), ('distemperelizabeth', 'NNS'), ('saved', 'VBD'), ('consequences', 'NNS'), ('&&', '&&')], [('##', '##'), ('imprudence', 'NN'), ('fatal', 'JJ'), ('preserver', 'RB'), ('day', 'NN'), ('mother', 'NN'), ('&&', '&&')], [('##', '##'), ('sickened', 'VBN'), ('fever', 'RB'), ('accompanied', 'VBN'), ('alarming', 'NN'), ('symptoms', 'NNS'), ('&&', '&&')], [('##', '##'), ('looks', 'VBZ'), ('medical', 'JJ'), ('attendants', 'NNS'), ('prognosticated', 'VBN'), ('worst', 'CD'), ('event', 'NN'), ('&&', '&&')], [('##', '##'), ('deathbed', 'VBN'), ('fortitude', 'JJ'), ('benignity', 'NN'), ('best', 'JJS'), ('women', 'NNS'), ('desert', 'NN'), ('&&', '&&')], [('##', '##'), ('joined', 'VBN'), ('hands', 'NNS'), ('elizabeth', 'RBR'), ('my', 'PRP$'), ('&&', '&&')], [('##', '##'), ('children', 'NNS'), ('said', 'VBD'), ('my', 'PRP$'), ('firmest', 'JJS'), ('hopes', 'VBZ'), ('future', 'JJ'), ('happiness', 'NN'), ('&&', '&&')], [('##', '##'), ('placed', 'VBN'), ('prospect', 'JJ'), ('union', 'NN'), ('expectation', 'NN'), ('&&', '&&')], [('##', '##'), ('consolation', 'NN'), ('father', 'NN'), ('elizabeth', 'VBZ'), ('love', 'VBP'), ('supply', 'NN'), ('place', 'NN'), ('&&', '&&')], [('##', '##'), ('younger', 'JJR'), ('children', 'NNS'), ('alas', 'VBP'), ('regret', 'NN'), ('taken', 'VBN'), ('happy', 'JJ'), ('&&', '&&')], [('##', '##'), ('beloved', 'VBN'), ('hard', 'JJ'), ('quit', 'NN'), ('&&', '&&')], [('##', '##'), ('thoughts', 'NNS'), ('befitting', 'VBG'), ('endeavour', 'JJ'), ('resign', 'NN'), ('cheerfully', 'RB'), ('&&', '&&')], [('##', '##'), ('death', 'NN'), ('indulge', 'NNS'), ('hope', 'VBP'), ('meeting', 'NN'), ('world', 'NN'), ('&&', '&&')], [('##', '##'), ('day', 'NN'), ('natural', 'JJ'), ('philosophy', 'NN'), ('particularly', 'RB'), ('chemistry', 'NN'), ('&&', '&&')], [('##', '##'), ('comprehensive', 'JJ'), ('sense', 'NN'), ('term', 'NN'), ('nearly', 'RB'), ('sole', 'JJ'), ('occupation', 'NN'), ('&&', '&&')], [('##', '##'), ('read', 'VB'), ('ardour', 'NN'), ('works', 'NNS'), ('genius', 'VBP'), ('discrimination', 'NN'), ('&&', '&&')], [('##', '##'), ('modern', 'JJ'), ('inquirers', 'NNS'), ('written', 'VBN'), ('subjects', 'NNS'), ('attended', 'VBD'), ('&&', '&&')], [('##', '##'), ('lectures', 'NNS'), ('cultivated', 'VBD'), ('acquaintance', 'NN'), ('men', 'NNS'), ('science', 'NN'), ('&&', '&&')], [('##', '##'), ('university', 'NN'), ('krempe', 'VBZ'), ('great', 'JJ'), ('deal', 'NN'), ('sound', 'NN'), ('sense', 'NN'), ('&&', '&&')], [('##', '##'), ('real', 'JJ'), ('information', 'NN'), ('combined', 'VBN'), ('true', 'JJ'), ('repulsive', 'NN'), ('&&', '&&')], [('##', '##'), ('physiognomy', 'NN'), ('manners', 'NNS'), ('account', 'VBP'), ('valuable', 'JJ'), ('&&', '&&')], [('##', '##'), ('waldman', 'JJ'), ('true', 'JJ'), ('friend', 'NN'), ('gentleness', 'NN'), ('tinged', 'VBD'), ('&&', '&&')], [('##', '##'), ('dogmatism', 'NN'), ('instructions', 'NNS'), ('given', 'VBN'), ('air', 'NN'), ('frankness', 'NN'), ('&&', '&&')], [('##', '##'), ('good', 'JJ'), ('nature', 'NN'), ('banished', 'VBD'), ('idea', 'NN'), ('pedantry', 'NN'), ('thousand', 'CD'), ('ways', 'NNS'), ('&&', '&&')], [('##', '##'), ('smoothed', 'VBN'), ('path', 'NN'), ('knowledge', 'NN'), ('abstruse', 'NN'), ('&&', '&&')], [('##', '##'), ('inquiries', 'NNS'), ('clear', 'VBP'), ('facile', 'JJ'), ('apprehension', 'NN'), ('application', 'NN'), ('&&', '&&')], [('##', '##'), ('fluctuating', 'VBG'), ('uncertain', 'JJ'), ('gained', 'JJ'), ('strength', 'NN'), ('proceeded', 'VBD'), ('&&', '&&')], [('##', '##'), ('soon', 'RB'), ('ardent', 'JJ'), ('eager', 'JJ'), ('stars', 'NNS'), ('disappeared', 'VBD'), ('&&', '&&')], [('##', '##'), ('light', 'JJ'), ('morning', 'NN'), ('whilst', 'NN'), ('engaged', 'VBD'), ('laboratory', 'NN'), ('&&', '&&')], [('##', '##'), ('applied', 'VBN'), ('closely', 'RB'), ('easily', 'RB'), ('conceived', 'VBN'), ('progress', 'NN'), ('&&', '&&')], [('##', '##'), ('rapid', 'JJ'), ('ardour', 'CD'), ('astonishment', 'NN'), ('students', 'NNS'), ('&&', '&&')], [('##', '##'), ('proficiency', 'NN'), ('masters', 'NNS'), ('professor', 'VBP'), ('krempe', 'NN'), ('asked', 'VBD'), ('&&', '&&')], [('##', '##'), ('sly', 'RB'), ('smile', 'JJ'), ('cornelius', 'NN'), ('agrippa', 'NN'), ('went', 'VBD'), ('whilst', 'JJ'), ('waldman', 'NN'), ('&&', '&&')], [('##', '##'), ('expressed', 'VBN'), ('heartfelt', 'NN'), ('exultation', 'NN'), ('progress', 'NN'), ('two', 'CD'), ('years', 'NNS'), ('&&', '&&')], [('##', '##'), ('passed', 'VBN'), ('manner', 'NN'), ('paid', 'VBN'), ('visit', 'NN'), ('geneva', 'NN'), ('&&', '&&')], [('##', '##'), ('engaged', 'VBN'), ('heart', 'NN'), ('soul', 'NN'), ('pursuit', 'NN'), ('discoveries', 'NNS'), ('&&', '&&')], [('##', '##'), ('hoped', 'VBD'), ('none', 'NN'), ('experienced', 'VBD'), ('conceive', 'JJ'), ('&&', '&&')], [('##', '##'), ('enticements', 'NNS'), ('science', 'NN'), ('studies', 'NNS'), ('far', 'RB'), ('&&', '&&')], [('##', '##'), ('gone', 'VBN'), ('know', 'JJ'), ('&&', '&&')], [('##', '##'), ('scientific', 'JJ'), ('pursuit', 'NN'), ('continual', 'JJ'), ('food', 'NN'), ('discovery', 'NN'), ('wonder', 'NN'), ('&&', '&&')], [('##', '##'), ('mind', 'NN'), ('moderate', 'JJ'), ('capacity', 'NN'), ('closely', 'RB'), ('pursues', 'VBZ'), ('study', 'NN'), ('&&', '&&')], [('##', '##'), ('infallibly', 'RB'), ('arrive', 'JJ'), ('great', 'JJ'), ('proficiency', 'NN'), ('study', 'NN'), ('&&', '&&')], [('##', '##'), ('continually', 'RB'), ('sought', 'VBN'), ('attainment', 'NN'), ('object', 'NN'), ('pursuit', 'NN'), ('&&', '&&')], [('##', '##'), ('solely', 'RB'), ('wrapped', 'VBD'), ('improved', 'VBN'), ('rapidly', 'RB'), ('end', 'VB'), ('&&', '&&')], [('##', '##'), ('years', 'NNS'), ('discoveries', 'VBZ'), ('improvement', 'NN'), ('chemical', 'NN'), ('&&', '&&')], [('##', '##'), ('instruments', 'NNS'), ('procured', 'VBD'), ('great', 'JJ'), ('esteem', 'JJ'), ('admiration', 'NN'), ('&&', '&&')], [('##', '##'), ('university', 'NN'), ('arrived', 'VBD'), ('point', 'NN'), ('&&', '&&')], [('##', '##'), ('acquainted', 'VBN'), ('theory', 'NN'), ('practice', 'NN'), ('natural', 'JJ'), ('philosophy', 'NN'), ('&&', '&&')], [('##', '##'), ('depended', 'JJ'), ('lessons', 'NNS'), ('professors', 'NNS'), ('ingolstadt', 'VBP'), ('&&', '&&')], [('##', '##'), ('residence', 'NN'), ('longer', 'RBR'), ('conducive', 'JJ'), ('improvements', 'NNS'), ('thought', 'VBD'), ('&&', '&&')], [('##', '##'), ('returning', 'VBG'), ('friends', 'NNS'), ('native', 'JJ'), ('town', 'NN'), ('incident', 'NN'), ('&&', '&&')], [('##', '##'), ('happened', 'VBN'), ('protracted', 'VBD'), ('stay', 'NN'), ('&&', '&&')], [('##', '##'), ('dreary', 'JJ'), ('night', 'NN'), ('november', 'NNP'), ('beheld', 'VBD'), ('accomplishment', 'NN'), ('&&', '&&')], [('##', '##'), ('toils', 'NNS'), ('anxiety', 'NN'), ('amounted', 'VBD'), ('agony', 'NN'), ('&&', '&&')], [('##', '##'), ('collected', 'VBN'), ('instruments', 'NNS'), ('life', 'NN'), ('infuse', 'NN'), ('&&', '&&')], [('##', '##'), ('spark', 'NN'), ('lifeless', 'JJ'), ('thing', 'NN'), ('lay', 'VBD'), ('feet', 'NNS'), ('&&', '&&')], [('##', '##'), ('morning', 'NN'), ('rain', 'NN'), ('pattered', 'VBD'), ('dismally', 'RB'), ('&&', '&&')], [('##', '##'), ('panes', 'NNS'), ('candle', 'VBP'), ('nearly', 'RB'), ('burnt', 'JJ'), ('glimmer', 'NN'), ('&&', '&&')], [('##', '##'), ('halfextinguished', 'VBN'), ('light', 'NN'), ('saw', 'VBD'), ('dull', 'JJ'), ('yellow', 'JJ'), ('eye', 'NN'), ('creature', 'NN'), ('&&', '&&')], [('##', '##'), ('open', 'JJ'), ('breathed', 'VBD'), ('hard', 'JJ'), ('convulsive', 'JJ'), ('motion', 'NN'), ('agitated', 'VBD'), ('limbs', 'NNS'), ('&&', '&&')], [('##', '##'), ('emotions', 'NNS'), ('catastrophe', 'VBP'), ('delineate', 'NN'), ('&&', '&&')], [('##', '##'), ('wretch', 'NN'), ('infinite', 'NN'), ('pains', 'NNS'), ('care', 'NN'), ('endeavoured', 'VBD'), ('&&', '&&')], [('##', '##'), ('form', 'NN'), ('limbs', 'VBZ'), ('proportion', 'NN'), ('selected', 'VBD'), ('features', 'NNS'), ('&&', '&&')], [('##', '##'), ('beautiful', 'JJ'), ('beautiful', 'JJ'), ('great', 'JJ'), ('god', 'NN'), ('yellow', 'JJ'), ('skin', 'NN'), ('scarcely', 'RB'), ('covered', 'VBD'), ('&&', '&&')], [('##', '##'), ('work', 'NN'), ('muscles', 'NNS'), ('arteries', 'NNS'), ('beneath', 'VBP'), ('hair', 'NN'), ('lustrous', 'JJ'), ('&&', '&&')], [('##', '##'), ('black', 'JJ'), ('flowing', 'VBG'), ('teeth', 'JJ'), ('pearly', 'RB'), ('whiteness', 'NN'), ('&&', '&&')], [('##', '##'), ('luxuriances', 'NNS'), ('formed', 'VBD'), ('horrid', 'JJ'), ('contrast', 'NN'), ('watery', 'NN'), ('eyes', 'NNS'), ('&&', '&&')], [('##', '##'), ('colour', 'NN'), ('dunwhite', 'NN'), ('sockets', 'NNS'), ('&&', '&&')], [('##', '##'), ('set', 'NN'), ('shrivelled', 'VBD'), ('complexion', 'NN'), ('straight', 'RB'), ('black', 'JJ'), ('lips', 'NNS'), ('&&', '&&')], [('##', '##'), ('chapter', 'NN'), ('6', 'CD'), ('&&', '&&')], [('##', '##'), ('you', 'PRP'), ('ill', 'VBP'), ('ill', 'VB'), ('constant', 'JJ'), ('letters', 'NNS'), ('dear', 'VBP'), ('&&', '&&')], [('##', '##'), ('kind', 'NN'), ('henry', 'NN'), ('sufficient', 'JJ'), ('reassure', 'NN'), ('account', 'NN'), ('&&', '&&')], [('##', '##'), ('forbidden', 'JJ'), ('writeto', 'NN'), ('hold', 'NN'), ('pen', 'JJ'), ('word', 'NN'), ('dear', 'NN'), ('victor', 'NN'), ('&&', '&&')], [('##', '##'), ('necessary', 'JJ'), ('calm', 'NN'), ('apprehensions', 'NNS'), ('long', 'JJ'), ('time', 'NN'), ('thought', 'NN'), ('&&', '&&')], [('##', '##'), ('post', 'NN'), ('bring', 'NN'), ('line', 'NN'), ('persuasions', 'NNS'), ('&&', '&&')], [('##', '##'), ('restrained', 'VBN'), ('uncle', 'JJ'), ('undertaking', 'VBG'), ('journey', 'NN'), ('ingolstadt', 'NN'), ('&&', '&&')], [('##', '##'), ('prevented', 'VBN'), ('encountering', 'NN'), ('inconveniences', 'NNS'), ('dangers', 'NNS'), ('&&', '&&')], [('##', '##'), ('long', 'JJ'), ('journey', 'NN'), ('regretted', 'VBN'), ('able', 'JJ'), ('&&', '&&')], [('##', '##'), ('perform', 'JJ'), ('figure', 'NN'), ('task', 'NN'), ('attending', 'VBG'), ('&&', '&&')], [('##', '##'), ('sickbed', 'VBN'), ('devolved', 'JJ'), ('mercenary', 'JJ'), ('old', 'JJ'), ('nurse', 'NN'), ('&&', '&&')], [('##', '##'), ('guess', 'NN'), ('wishes', 'NNS'), ('minister', 'NN'), ('care', 'NN'), ('affection', 'NN'), ('&&', '&&')], [('##', '##'), ('poor', 'JJ'), ('cousin', 'NN'), ('yet', 'RB'), ('clerval', 'JJ'), ('writes', 'NNS'), ('&&', '&&')], [('##', '##'), ('getting', 'VBG'), ('better', 'JJR'), ('eagerly', 'RB'), ('hope', 'VBP'), ('confirm', 'NN'), ('&&', '&&')], [('##', '##'), ('intelligence', 'NN'), ('soon', 'RB'), ('handwriting', 'VBG'), ('&&', '&&')], [('##', '##'), ('get', 'NN'), ('welland', 'WRB'), ('return', 'NN'), ('happy', 'JJ'), ('cheerful', 'JJ'), ('home', 'NN'), ('&&', '&&')], [('##', '##'), ('friends', 'NNS'), ('love', 'VBP'), ('dearly', 'RB'), ('fathers', 'NNS'), ('health', 'NN'), ('vigorous', 'JJ'), ('&&', '&&')], [('##', '##'), ('asks', 'NNS'), ('assured', 'VBD'), ('&&', '&&')], [('##', '##'), ('care', 'NN'), ('cloud', 'JJ'), ('benevolent', 'NN'), ('countenance', 'NN'), ('pleased', 'VBD'), ('&&', '&&')], [('##', '##'), ('remark', 'NN'), ('improvement', 'NN'), ('ernest', 'JJS'), ('sixteen', 'NN'), ('&&', '&&')], [('##', '##'), ('activity', 'NN'), ('spirit', 'VBP'), ('desirous', 'JJ'), ('true', 'JJ'), ('swiss', 'JJ'), ('enter', 'NN'), ('&&', '&&')], [('##', '##'), ('foreign', 'JJ'), ('service', 'NN'), ('&&', '&&')], [('##', '##'), ('elder', 'NN'), ('brother', 'NN'), ('returns', 'NNS'), ('uncle', 'VBP'), ('pleased', 'JJ'), ('idea', 'NN'), ('&&', '&&')], [('##', '##'), ('military', 'JJ'), ('career', 'NN'), ('distant', 'JJ'), ('country', 'NN'), ('ernest', 'JJS'), ('&&', '&&')], [('##', '##'), ('powers', 'NNS'), ('application', 'VBP'), ('looks', 'VBZ'), ('study', 'VBP'), ('odious', 'JJ'), ('fetter', 'NN'), ('&&', '&&')], [('##', '##'), ('time', 'NN'), ('spent', 'VBN'), ('open', 'JJ'), ('air', 'NN'), ('climbing', 'VBG'), ('hills', 'NNS'), ('rowing', 'VBG'), ('&&', '&&')], [('##', '##'), ('lake', 'NN'), ('fear', 'NN'), ('idler', 'JJ'), ('yield', 'NN'), ('point', 'NN'), ('&&', '&&')], [('##', '##'), ('permit', 'NN'), ('enter', 'NN'), ('profession', 'NN'), ('selected', 'VBD'), ('&&', '&&')], [('##', '##'), ('you', 'PRP'), ('probably', 'RB'), ('waited', 'VBD'), ('impatiently', 'RB'), ('letter', 'NN'), ('fix', 'NN'), ('date', 'NN'), ('&&', '&&')], [('##', '##'), ('return', 'NN'), ('tempted', 'VBD'), ('write', 'JJ'), ('&&', '&&')], [('##', '##'), ('lines', 'NNS'), ('merely', 'RB'), ('mentioning', 'VBG'), ('day', 'NN'), ('expect', 'VB'), ('&&', '&&')], [('##', '##'), ('cruel', 'NN'), ('kindness', 'NN'), ('dare', 'NN'), ('&&', '&&')], [('##', '##'), ('surprise', 'NN'), ('son', 'NN'), ('expected', 'VBD'), ('happy', 'JJ'), ('glad', 'JJ'), ('welcome', 'NN'), ('&&', '&&')], [('##', '##'), ('behold', 'JJ'), ('contrary', 'JJ'), ('tears', 'NNS'), ('wretchedness', 'JJ'), ('victor', 'NN'), ('&&', '&&')], [('##', '##'), ('relate', 'NN'), ('misfortune', 'NN'), ('absence', 'NN'), ('rendered', 'VBD'), ('callous', 'JJ'), ('&&', '&&')], [('##', '##'), ('joys', 'NNS'), ('griefs', 'VBP'), ('shall', 'MD'), ('inflict', 'VB'), ('pain', 'NN'), ('long', 'JJ'), ('absent', 'NN'), ('&&', '&&')], [('##', '##'), ('son', 'NN'), ('wish', 'JJ'), ('prepare', 'NN'), ('woeful', 'JJ'), ('news', 'NN'), ('know', 'NNS'), ('&&', '&&')], [('##', '##'), ('impossible', 'JJ'), ('eye', 'NN'), ('skims', 'NNS'), ('page', 'VBP'), ('seek', 'JJ'), ('words', 'NNS'), ('&&', '&&')], [('##', '##'), ('convey', 'NN'), ('horrible', 'JJ'), ('tidings', 'NNS'), ('&&', '&&')], [('##', '##'), ('last', 'JJ'), ('thursday', 'NN'), ('may', 'MD'), ('7th', 'VB'), ('niece', 'NN'), ('brothers', 'NNS'), ('went', 'VBD'), ('&&', '&&')], [('##', '##'), ('walk', 'NN'), ('plainpalais', 'NN'), ('evening', 'VBG'), ('warm', 'JJ'), ('serene', 'NN'), ('prolonged', 'VBD'), ('&&', '&&')], [('##', '##'), ('walk', 'NN'), ('farther', 'RB'), ('usual', 'JJ'), ('dusk', 'NN'), ('thought', 'VBD'), ('&&', '&&')], [('##', '##'), ('returning', 'VBG'), ('discovered', 'VBN'), ('william', 'JJ'), ('ernest', 'NN'), ('gone', 'VBN'), ('&&', '&&')], [('##', '##'), ('accordingly', 'RB'), ('rested', 'VBN'), ('seat', 'NN'), ('&&', '&&')], [('##', '##'), ('return', 'NN'), ('presently', 'RB'), ('ernest', 'JJS'), ('came', 'VBD'), ('enquired', 'VBN'), ('seen', 'VBN'), ('&&', '&&')], [('##', '##'), ('brother', 'NN'), ('said', 'VBD'), ('playing', 'NN'), ('william', 'NN'), ('&&', '&&')], [('##', '##'), ('run', 'VB'), ('away', 'RP'), ('hide', 'JJ'), ('vainly', 'RB'), ('sought', 'VBD'), ('&&', '&&')], [('##', '##'), ('waited', 'VBN'), ('long', 'JJ'), ('time', 'NN'), ('return', 'NN'), ('&&', '&&')], [('##', '##'), ('passed', 'VBN'), ('sad', 'JJ'), ('hours', 'NNS'), ('oclock', 'VBP'), ('trial', 'NN'), ('&&', '&&')], [('##', '##'), ('commence', 'NN'), ('father', 'NN'), ('rest', 'NN'), ('family', 'NN'), ('obliged', 'VBD'), ('attend', 'NN'), ('&&', '&&')], [('##', '##'), ('witnesses', 'NNS'), ('accompanied', 'VBN'), ('court', 'NN'), ('&&', '&&')], [('##', '##'), ('wretched', 'VBN'), ('mockery', 'NN'), ('justice', 'NN'), ('suffered', 'VBD'), ('living', 'JJ'), ('torture', 'NN'), ('&&', '&&')], [('##', '##'), ('decided', 'VBD'), ('result', 'NN'), ('curiosity', 'NN'), ('lawless', 'NN'), ('devices', 'NNS'), ('&&', '&&')], [('##', '##'), ('cause', 'NN'), ('death', 'NN'), ('fellow', 'JJ'), ('beings', 'NNS'), ('smiling', 'VBG'), ('babe', 'NN'), ('&&', '&&')], [('##', '##'), ('innocence', 'NN'), ('joy', 'NN'), ('far', 'RB'), ('dreadfully', 'RB'), ('murdered', 'VBN'), ('&&', '&&')], [('##', '##'), ('aggravation', 'NN'), ('infamy', 'NN'), ('murder', 'NN'), ('memorable', 'JJ'), ('horror', 'NN'), ('&&', '&&')], [('##', '##'), ('justine', 'NN'), ('girl', 'NN'), ('merit', 'NN'), ('possessed', 'VBD'), ('qualities', 'NNS'), ('promised', 'VBD'), ('&&', '&&')], [('##', '##'), ('render', 'NN'), ('life', 'NN'), ('happy', 'JJ'), ('obliterated', 'VBD'), ('&&', '&&')], [('##', '##'), ('ignominious', 'JJ'), ('grave', 'NN'), ('cause', 'NN'), ('thousand', 'CD'), ('times', 'NNS'), ('&&', '&&')], [('##', '##'), ('confessed', 'VBN'), ('guilty', 'JJ'), ('crime', 'NN'), ('ascribed', 'VBN'), ('justine', 'NN'), ('&&', '&&')], [('##', '##'), ('absent', 'NN'), ('committed', 'VBN'), ('declaration', 'NN'), ('&&', '&&')], [('##', '##'), ('considered', 'VBN'), ('ravings', 'NNS'), ('madman', 'NN'), ('&&', '&&')], [('##', '##'), ('exculpated', 'VBN'), ('suffered', 'VBD'), ('&&', '&&')], [('##', '##'), ('appearance', 'NN'), ('justine', 'NN'), ('calm', 'NN'), ('dressed', 'VBD'), ('mourning', 'VBG'), ('&&', '&&')], [('##', '##'), ('countenance', 'NN'), ('engaging', 'VBG'), ('rendered', 'VBN'), ('solemnity', 'NN'), ('&&', '&&')], [('##', '##'), ('feelings', 'NNS'), ('exquisitely', 'RB'), ('beautiful', 'JJ'), ('yet', 'RB'), ('appeared', 'VBN'), ('confident', 'NN'), ('&&', '&&')], [('##', '##'), ('innocence', 'NN'), ('tremble', 'JJ'), ('gazed', 'VBN'), ('execrated', 'VBD'), ('&&', '&&')], [('##', '##'), ('thousands', 'NNS'), ('kindness', 'JJ'), ('beauty', 'NN'), ('&&', '&&')], [('##', '##'), ('excited', 'VBN'), ('obliterated', 'JJ'), ('minds', 'NNS'), ('spectators', 'NNS'), ('&&', '&&')], [('##', '##'), ('imagination', 'NN'), ('enormity', 'NN'), ('supposed', 'VBN'), ('committed', 'VBD'), ('&&', '&&')], [('##', '##'), ('tranquil', 'JJ'), ('tranquillity', 'NN'), ('evidently', 'RB'), ('constrained', 'VBD'), ('&&', '&&')], [('##', '##'), ('confusion', 'NN'), ('adduced', 'VBD'), ('proof', 'NN'), ('guilt', 'NN'), ('&&', '&&')], [('##', '##'), ('worked', 'VBN'), ('mind', 'NN'), ('appearance', 'NN'), ('courage', 'NN'), ('entered', 'VBD'), ('&&', '&&')], [('##', '##'), ('court', 'NN'), ('threw', 'VBD'), ('eyes', 'NNS'), ('round', 'JJ'), ('quickly', 'RB'), ('discovered', 'VBD'), ('&&', '&&')], [('##', '##'), ('seated', 'VBN'), ('tear', 'JJ'), ('dim', 'NN'), ('eye', 'NN'), ('saw', 'VBD'), ('quickly', 'RB'), ('&&', '&&')], [('##', '##'), ('recovered', 'VBN'), ('look', 'NN'), ('sorrowful', 'JJ'), ('affection', 'NN'), ('attest', 'NN'), ('&&', '&&')], [('##', '##'), ('utter', 'JJ'), ('guiltlessness', 'NN'), ('&&', '&&')]]"
     ]
    },
    {
     "name": "stdout",
     "output_type": "stream",
     "text": [
      "\n"
     ]
    }
   ],
   "source": [
    "#Getting the tagged sentences\n",
    "#sent_tag = brown.tagged_sents()\n",
    "mod_sent_tag=[]\n",
    "for s in tagged_text:\n",
    "  s.insert(0,('##','##'))\n",
    "  s.append(('&&','&&'))\n",
    "  mod_sent_tag.append(s)\n",
    "print(mod_sent_tag)"
   ]
  },
  {
   "cell_type": "code",
   "execution_count": 11,
   "metadata": {},
   "outputs": [
    {
     "name": "stdout",
     "output_type": "stream",
     "text": [
      "[[('##', '##'), ('endeavouring', 'VBG'), ('seek', 'JJ'), ('hope', 'NN'), ('persuading', 'VBG'), ('begin', 'VB'), ('&&', '&&')], [('##', '##'), ('you', 'PRP'), ('ill', 'VBP'), ('ill', 'VB'), ('constant', 'JJ'), ('letters', 'NNS'), ('dear', 'VBP'), ('&&', '&&')], [('##', '##'), ('you', 'PRP'), ('probably', 'RB'), ('waited', 'VBD'), ('impatiently', 'RB'), ('letter', 'NN'), ('fix', 'NN'), ('date', 'NN'), ('&&', '&&')], [('##', '##'), ('curiosity', 'NN'), ('earnest', 'JJS'), ('research', 'NN'), ('learn', 'NN'), ('hidden', 'VBD'), ('laws', 'NNS'), ('nature', 'NN'), ('&&', '&&')], [('##', '##'), ('resolved', 'VBN'), ('arrive', 'JJ'), ('misfortune', 'NN'), ('life', 'NN'), ('&&', '&&')]]\n"
     ]
    }
   ],
   "source": [
    "\n",
    "# split data into training and validation set in the ratio 80:20\n",
    "train_data,test_data =train_test_split(mod_sent_tag,train_size=0.80,test_size=0.20,random_state = 101)\n",
    "print(train_data[:5])\n"
   ]
  },
  {
   "cell_type": "code",
   "execution_count": 12,
   "metadata": {},
   "outputs": [
    {
     "name": "stdout",
     "output_type": "stream",
     "text": [
      "{'##': {'##': 176}, 'VBG': {'endeavouring': 1, 'persuading': 1, 'wandering': 1, 'mourning': 1, 'fluctuating': 1, 'returning': 2, 'evening': 1, 'flowing': 1, 'engaging': 1, 'relating': 1, 'attending': 2, 'mentioning': 1, 'marrying': 1, 'smiling': 1, 'handwriting': 1, 'climbing': 1, 'rowing': 1, 'flourishing': 1}, 'JJ': {'seek': 1, 'constant': 1, 'arrive': 2, 'majestic': 1, 'wondrous': 1, 'swiss': 1, 'birth': 1, 'second': 1, 'junior': 1, 'poor': 1, 'clerval': 2, 'happy': 3, 'glad': 1, 'tremble': 1, 'honourable': 1, 'living': 1, 'cloud': 1, 'black': 2, 'republic': 1, 'native': 3, 'natural': 2, 'write': 1, 'satisfied': 1, 'eastern': 1, 'lake': 1, 'ignominious': 1, 'sorrowful': 1, 'read': 1, 'future': 2, 'obliterated': 1, 'comprehensive': 1, 'sole': 1, 'burnt': 1, 'brought': 1, 'modern': 1, 'proud': 1, 'unbending': 1, 'live': 1, 'enterprise': 1, 'long': 3, 'open': 2, 'hard': 2, 'convulsive': 1, 'behold': 1, 'contrary': 1, 'wretchedness': 1, 'know': 1, 'tranquil': 1, 'devolved': 1, 'mercenary': 1, 'old': 1, 'lifeless': 1, 'uncertain': 1, 'gained': 1, 'valuable': 1, 'william': 1, 'tear': 1, 'memorable': 1, 'little': 1, 'worthy': 1, 'lost': 1, 'able': 1, 'capable': 1, 'warm': 1, 'league': 1, 'medical': 1, 'table': 1, 'chivalrous': 1, 'occurredan': 1, 'ample': 1, 'wish': 1, 'woeful': 1, 'severe': 1, 'ardent': 1, 'eager': 1, 'idler': 1, 'necessary': 2, 'callous': 1, 'scientific': 1, 'continual': 1, 'teeth': 1, 'great': 3, 'considerable': 1, 'usual': 1, 'depended': 1, 'horrible': 1, 'false': 1, 'smitten': 1, 'thirst': 1, 'hide': 1, 'perform': 1, 'good': 1, 'lucerne': 1, 'unknown': 1, 'guilty': 1, 'smile': 1, 'whilst': 1, 'genevese': 1, 'sad': 1, 'forbidden': 1, 'pen': 1, 'sickbed': 1, 'watchful': 1, 'early': 1, 'beautiful': 3, 'facile': 1, 'foreign': 1, 'lustrous': 1, 'dreary': 1, 'unfortunate': 1, 'fellow': 1, 'general': 1, 'united': 1, 'kindness': 1, 'horrid': 1, 'conceive': 1, 'seventeen': 1, 'dull': 1, 'yellow': 2, 'akin': 1, 'fatal': 1, 'prospect': 1, 'numerous': 1, 'waldman': 1, 'true': 1}, 'NN': {'hope': 1, 'letter': 1, 'fix': 1, 'date': 1, 'curiosity': 1, 'research': 1, 'learn': 1, 'nature': 2, 'misfortune': 2, 'life': 6, 'son': 4, 'cousin': 1, 'permit': 1, 'enter': 1, 'profession': 1, 'surprise': 1, 'welcome': 1, 'innocence': 2, 'manner': 2, 'anxiety': 2, 'agony': 1, 'mockery': 1, 'justice': 1, 'torture': 1, 'visit': 1, 'geneva': 3, 'care': 3, 'benevolent': 1, 'countenance': 2, 'set': 1, 'complexion': 1, 'acquaintance': 1, 'science': 2, 'merchant': 2, 'boy': 1, 'singular': 1, 'wretchedness': 1, 'father': 3, 'beaufort': 1, 'truest': 1, 'friendship': 1, 'student': 1, 'university': 3, 'ingolstadt': 1, 'theory': 1, 'practice': 1, 'philosophy': 2, 'heart': 1, 'soul': 2, 'pursuit': 3, 'marriage': 1, 'character': 1, 'return': 2, 'companion': 1, 'spirit': 1, 'joy': 1, 'distance': 1, 'grave': 1, 'cause': 2, 'look': 1, 'affection': 3, 'attest': 1, 'deeply': 1, 'romance': 1, 'happiness': 1, 'encountering': 1, 'appearance': 2, 'justine': 3, 'calm': 2, 'sense': 2, 'term': 1, 'occupation': 1, 'country': 4, 'glimmer': 1, 'year': 1, 'difference': 1, 'wretch': 1, 'infinite': 1, 'disposition': 2, 'poverty': 1, 'talent': 1, 'fancy': 1, 'hardship': 1, 'danger': 1, 'post': 1, 'bring': 1, 'line': 1, 'pain': 1, 'absent': 2, 'delineate': 1, 'brother': 1, 'playing': 1, 'william': 1, 'improvement': 2, 'chemical': 1, 'motion': 1, 'victor': 2, 'ardour': 2, 'discrimination': 1, 'render': 1, 'declaration': 1, 'tranquillity': 1, 'diversity': 1, 'contrast': 2, 'nurse': 1, 'spark': 1, 'thing': 1, 'strength': 1, 'physiognomy': 1, 'ernest': 1, 'stay': 1, 'dim': 1, 'eye': 2, 'aggravation': 1, 'infamy': 1, 'murder': 1, 'horror': 1, 'time': 3, 'journey': 1, 'intense': 1, 'walk': 2, 'plainpalais': 1, 'serene': 1, 'colour': 1, 'dunwhite': 1, 'city': 1, 'event': 1, 'king': 1, 'consolation': 1, 'supply': 1, 'place': 1, 'misery': 1, 'path': 1, 'knowledge': 2, 'abstruse': 1, 'alpine': 1, 'summersshe': 1, 'scope': 1, 'admiration': 1, 'delight': 1, 'world': 3, 'credit': 1, 'assistance': 1, 'prepare': 1, 'news': 1, 'scarlet': 1, 'fever': 1, 'illness': 1, 'lake': 1, 'fear': 1, 'yield': 1, 'point': 2, 'madman': 1, 'guess': 1, 'minister': 1, 'variety': 1, 'oblivion': 1, 'thought': 1, 'quit': 1, 'girl': 1, 'merit': 1, 'reputation': 1, 'relate': 1, 'absence': 1, 'food': 1, 'discovery': 1, 'wonder': 1, 'cruel': 1, 'kindness': 1, 'dare': 1, 'whiteness': 1, 'deal': 1, 'sound': 1, 'train': 1, 'blood': 1, 'redeem': 1, 'holy': 1, 'sepulchre': 1, 'morning': 1, 'rain': 1, 'imagination': 1, 'enormity': 1, 'seclusion': 1, 'dusk': 1, 'disunion': 1, 'dispute': 1, 'harmony': 1, 'companionship': 1, 'death': 2, 'meeting': 1, 'convey': 1, 'pride': 1, 'friend': 2, 'conduct': 1, 'solemnity': 1, 'refrain': 2, 'intimate': 1, 'application': 2, 'town': 2, 'incident': 1, 'figure': 1, 'task': 1, 'idea': 1, 'pedantry': 1, 'daughter': 1, 'crime': 1, 'cornelius': 1, 'agrippa': 1, 'waldman': 1, 'attainment': 1, 'object': 1, 'birth': 1, 'family': 3, 'trial': 1, 'chapter': 1, 'day': 3, 'writeto': 1, 'hold': 1, 'word': 1, 'dear': 1, 'malignity': 1, 'secret': 1, 'divine': 1, 'progress': 2, 'decline': 1, 'confident': 1, 'nearer': 1, 'calmer': 1, 'apprehension': 1, 'service': 1, 'hitherto': 1, 'husband': 1, 'proficiency': 2, 'krempe': 1, 'infuse': 1, 'confusion': 1, 'proof': 1, 'guilt': 1, 'heartfelt': 1, 'exultation': 1, 'alarming': 1, 'work': 1, 'hair': 1, 'night': 1, 'accomplishment': 1, 'retreat': 1, 'control': 1, 'house': 1, 'campagne': 1, 'belrive': 1, 'remark': 1, 'sixteen': 1, 'babe': 1, 'intelligence': 1, 'study': 1, 'form': 1, 'proportion': 1, 'regret': 1, 'indifferent': 1, 'beauty': 1, 'watery': 1, 'business': 1, 'none': 1, 'commence': 1, 'rest': 1, 'attend': 1, 'age': 1, 'air': 1, 'mind': 1, 'courage': 1, 'light': 1, 'creature': 1, 'gladness': 1, 'rapture': 1, 'god': 1, 'skin': 1, 'imprudence': 1, 'mother': 2, 'chemistry': 1, 'completion': 1, 'education': 1, 'persuade': 1, 'union': 1, 'expectation': 1, 'state': 1, 'gentleness': 1}, 'VB': {'begin': 1, 'ill': 1, 'sake': 1, 'inflict': 1, 'read': 1, 'end': 1, 'run': 1, 'expect': 1}, '&&': {'&&': 176}, 'PRP': {'you': 2}, 'VBP': {'ill': 1, 'dear': 1, 'illustrate': 1, 'chivalry': 1, 'candle': 1, 'griefs': 1, 'catastrophe': 1, 'drawn': 1, 'genius': 1, 'account': 1, 'round': 1, 'love': 1, 'honour': 1, 'ingolstadt': 1, 'hope': 1, 'oclock': 1, 'clear': 1, 'professor': 1, 'beneath': 1, 'alas': 1}, 'NNS': {'letters': 1, 'laws': 1, 'scenes': 1, 'years': 4, 'parents': 3, 'writes': 1, 'toils': 1, 'lips': 1, 'lectures': 1, 'men': 1, 'ancestors': 1, 'discoveries': 1, 'circumstances': 3, 'times': 1, 'books': 1, 'children': 2, 'minds': 1, 'spectators': 1, 'inconveniences': 1, 'dangers': 1, 'customs': 1, 'panes': 1, 'inquirers': 1, 'subjects': 1, 'pains': 1, 'persuasions': 1, 'joys': 1, 'emotions': 1, 'masquerades': 1, 'characters': 2, 'heroes': 1, 'limbs': 1, 'tears': 1, 'works': 1, 'feet': 1, 'manners': 1, 'sockets': 1, 'attendants': 1, 'roncesvalles': 1, 'omen': 1, 'hands': 2, 'know': 1, 'stars': 1, 'ravings': 1, 'wishes': 1, 'affairs': 1, 'apprehensions': 1, 'qualities': 1, 'situations': 1, 'lives': 1, 'lessons': 1, 'professors': 1, 'indulge': 1, 'tidings': 1, 'friends': 2, 'ways': 1, 'hours': 1, 'lines': 1, 'entreaties': 1, 'attentions': 1, 'causes': 1, 'feelings': 1, 'inquiries': 1, 'schools': 1, 'masters': 1, 'instruments': 1, 'symptoms': 1, 'muscles': 1, 'arteries': 1, 'infidels': 1, 'beings': 1, 'features': 1, 'enticements': 1, 'studies': 1, 'thousands': 1, 'luxuriances': 1, 'eyes': 1, 'days': 1, 'hills': 1}, 'RB': {'probably': 1, 'impatiently': 1, 'yet': 2, 'straight': 1, 'entirely': 1, 'far': 2, 'dreadfully': 1, 'shore': 1, 'nearly': 2, 'evidently': 1, 'quickly': 1, 'solely': 1, 'rapidly': 1, 'principally': 1, 'arthur': 1, 'elizabeth': 1, 'soon': 2, 'pearly': 1, 'dismally': 1, 'farther': 1, 'bitterly': 1, 'deeply': 2, 'vainly': 1, 'sly': 1, 'continually': 1, 'merely': 1, 'closely': 1, 'easily': 1, 'presently': 1, 'exquisitely': 1, 'father': 1, 'fever': 1, 'favourite': 1, 'infallibly': 1, 'perpetually': 1, 'scarcely': 1, 'preserver': 1, 'particularly': 1}, 'VBD': {'waited': 1, 'hidden': 1, 'surrounded': 1, 'gave': 1, 'selected': 2, 'expected': 1, 'execrated': 1, 'retreated': 1, 'amounted': 1, 'suffered': 2, 'pleased': 1, 'shrivelled': 1, 'cultivated': 1, 'loved': 2, 'tempted': 1, 'contemplated': 1, 'said': 2, 'dressed': 1, 'attended': 2, 'endeavoured': 1, 'breathed': 1, 'agitated': 1, 'obliterated': 1, 'constrained': 1, 'subsisted': 1, 'drew': 1, 'lay': 1, 'proceeded': 1, 'protracted': 1, 'saw': 2, 'united': 1, 'prolonged': 1, 'wrapped': 1, 'resided': 1, 'disappeared': 1, 'prevented': 1, 'arrived': 1, 'possessed': 2, 'promised': 1, 'respected': 1, 'rendered': 1, 'shed': 1, 'pattered': 1, 'committed': 1, 'passed': 2, 'thought': 2, 'led': 1, 'sought': 1, 'banished': 1, 'lived': 1, 'went': 1, 'heard': 1, 'triumphed': 1, 'desired': 1, 'came': 1, 'concentrated': 1, 'asked': 1, 'adduced': 1, 'beheld': 1, 'formed': 1, 'occupied': 1, 'hoped': 1, 'experienced': 1, 'obliged': 1, 'resolved': 1, 'entered': 1, 'unfolded': 1, 'covered': 1, 'fell': 1, 'tinged': 1}, 'JJS': {'earnest': 1, 'firmest': 1, 'ernest': 2}, 'VBN': {'resolved': 1, 'gazed': 1, 'wretched': 1, 'passed': 2, 'paid': 1, 'distinguished': 1, 'fixed': 1, 'acquainted': 2, 'engaged': 1, 'murdered': 1, 'recovered': 1, 'excited': 1, 'prevented': 1, 'written': 1, 'gone': 2, 'committed': 1, 'sickbed': 1, 'discovered': 1, 'happened': 1, 'seated': 1, 'regretted': 1, 'improved': 1, 'prognosticated': 1, 'smoothed': 1, 'joined': 1, 'caught': 1, 'considered': 1, 'beloved': 1, 'supposed': 1, 'deplored': 1, 'rendered': 1, 'confessed': 1, 'ascribed': 1, 'sought': 1, 'yielded': 1, 'attended': 1, 'applied': 1, 'conceived': 1, 'enquired': 1, 'seen': 1, 'appeared': 1, 'collected': 1, 'expressed': 1, 'sickened': 1, 'accompanied': 1, 'grieved': 1, 'menaced': 1, 'taken': 1, 'attained': 1, 'spent': 1, 'worked': 1, 'halfextinguished': 1, 'exculpated': 1, 'placed': 1}, 'CD': {'seven': 1, 'thousand': 2, 'worst': 1, 'one': 1, '6': 1, 'two': 1}, 'PRP$': {'my': 2}, 'VBZ': {'hopes': 1, 'discoveries': 1, 'looks': 1, 'elizabeth': 2, 'krempe': 1, 'limbs': 1, 'schoolfellows': 1}, 'IN': {'bear': 1}, 'MD': {'shall': 1}, 'RBR': {'elizabeth': 1, 'father': 1}, 'RP': {'away': 1}, 'FW': {'geneva': 1}, 'NNP': {'november': 1}, 'JJR': {'longer': 1, 'younger': 2}}"
     ]
    },
    {
     "name": "stdout",
     "output_type": "stream",
     "text": [
      "\n"
     ]
    }
   ],
   "source": [
    "#Creating a dictionary whose keys are tags and values contain words which were assigned the correspoding tag\n",
    "# ex:- 'TAG':{word1: count(word1,'TAG')}\n",
    "train_word_tag = {}\n",
    "for s in train_data:\n",
    "  for (w,t) in s:\n",
    "    w=w.lower()\n",
    "    try:\n",
    "      try:\n",
    "        train_word_tag[t][w]+=1\n",
    "      except:\n",
    "        train_word_tag[t][w]=1\n",
    "    except:\n",
    "      train_word_tag[t]={w:1}\n",
    "print(train_word_tag)"
   ]
  },
  {
   "cell_type": "code",
   "execution_count": 13,
   "metadata": {},
   "outputs": [
    {
     "name": "stdout",
     "output_type": "stream",
     "text": [
      "{'##': {'##': 1.0}, 'VBG': {'endeavouring': 0.05, 'persuading': 0.05, 'wandering': 0.05, 'mourning': 0.05, 'fluctuating': 0.05, 'returning': 0.1, 'evening': 0.05, 'flowing': 0.05, 'engaging': 0.05, 'relating': 0.05, 'attending': 0.1, 'mentioning': 0.05, 'marrying': 0.05, 'smiling': 0.05, 'handwriting': 0.05, 'climbing': 0.05, 'rowing': 0.05, 'flourishing': 0.05}, 'JJ': {'seek': 0.006944444444444444, 'constant': 0.006944444444444444, 'arrive': 0.013888888888888888, 'majestic': 0.006944444444444444, 'wondrous': 0.006944444444444444, 'swiss': 0.006944444444444444, 'birth': 0.006944444444444444, 'second': 0.006944444444444444, 'junior': 0.006944444444444444, 'poor': 0.006944444444444444, 'clerval': 0.013888888888888888, 'happy': 0.020833333333333332, 'glad': 0.006944444444444444, 'tremble': 0.006944444444444444, 'honourable': 0.006944444444444444, 'living': 0.006944444444444444, 'cloud': 0.006944444444444444, 'black': 0.013888888888888888, 'republic': 0.006944444444444444, 'native': 0.020833333333333332, 'natural': 0.013888888888888888, 'write': 0.006944444444444444, 'satisfied': 0.006944444444444444, 'eastern': 0.006944444444444444, 'lake': 0.006944444444444444, 'ignominious': 0.006944444444444444, 'sorrowful': 0.006944444444444444, 'read': 0.006944444444444444, 'future': 0.013888888888888888, 'obliterated': 0.006944444444444444, 'comprehensive': 0.006944444444444444, 'sole': 0.006944444444444444, 'burnt': 0.006944444444444444, 'brought': 0.006944444444444444, 'modern': 0.006944444444444444, 'proud': 0.006944444444444444, 'unbending': 0.006944444444444444, 'live': 0.006944444444444444, 'enterprise': 0.006944444444444444, 'long': 0.020833333333333332, 'open': 0.013888888888888888, 'hard': 0.013888888888888888, 'convulsive': 0.006944444444444444, 'behold': 0.006944444444444444, 'contrary': 0.006944444444444444, 'wretchedness': 0.006944444444444444, 'know': 0.006944444444444444, 'tranquil': 0.006944444444444444, 'devolved': 0.006944444444444444, 'mercenary': 0.006944444444444444, 'old': 0.006944444444444444, 'lifeless': 0.006944444444444444, 'uncertain': 0.006944444444444444, 'gained': 0.006944444444444444, 'valuable': 0.006944444444444444, 'william': 0.006944444444444444, 'tear': 0.006944444444444444, 'memorable': 0.006944444444444444, 'little': 0.006944444444444444, 'worthy': 0.006944444444444444, 'lost': 0.006944444444444444, 'able': 0.006944444444444444, 'capable': 0.006944444444444444, 'warm': 0.006944444444444444, 'league': 0.006944444444444444, 'medical': 0.006944444444444444, 'table': 0.006944444444444444, 'chivalrous': 0.006944444444444444, 'occurredan': 0.006944444444444444, 'ample': 0.006944444444444444, 'wish': 0.006944444444444444, 'woeful': 0.006944444444444444, 'severe': 0.006944444444444444, 'ardent': 0.006944444444444444, 'eager': 0.006944444444444444, 'idler': 0.006944444444444444, 'necessary': 0.013888888888888888, 'callous': 0.006944444444444444, 'scientific': 0.006944444444444444, 'continual': 0.006944444444444444, 'teeth': 0.006944444444444444, 'great': 0.020833333333333332, 'considerable': 0.006944444444444444, 'usual': 0.006944444444444444, 'depended': 0.006944444444444444, 'horrible': 0.006944444444444444, 'false': 0.006944444444444444, 'smitten': 0.006944444444444444, 'thirst': 0.006944444444444444, 'hide': 0.006944444444444444, 'perform': 0.006944444444444444, 'good': 0.006944444444444444, 'lucerne': 0.006944444444444444, 'unknown': 0.006944444444444444, 'guilty': 0.006944444444444444, 'smile': 0.006944444444444444, 'whilst': 0.006944444444444444, 'genevese': 0.006944444444444444, 'sad': 0.006944444444444444, 'forbidden': 0.006944444444444444, 'pen': 0.006944444444444444, 'sickbed': 0.006944444444444444, 'watchful': 0.006944444444444444, 'early': 0.006944444444444444, 'beautiful': 0.020833333333333332, 'facile': 0.006944444444444444, 'foreign': 0.006944444444444444, 'lustrous': 0.006944444444444444, 'dreary': 0.006944444444444444, 'unfortunate': 0.006944444444444444, 'fellow': 0.006944444444444444, 'general': 0.006944444444444444, 'united': 0.006944444444444444, 'kindness': 0.006944444444444444, 'horrid': 0.006944444444444444, 'conceive': 0.006944444444444444, 'seventeen': 0.006944444444444444, 'dull': 0.006944444444444444, 'yellow': 0.013888888888888888, 'akin': 0.006944444444444444, 'fatal': 0.006944444444444444, 'prospect': 0.006944444444444444, 'numerous': 0.006944444444444444, 'waldman': 0.006944444444444444, 'true': 0.006944444444444444}, 'NN': {'hope': 0.002840909090909091, 'letter': 0.002840909090909091, 'fix': 0.002840909090909091, 'date': 0.002840909090909091, 'curiosity': 0.002840909090909091, 'research': 0.002840909090909091, 'learn': 0.002840909090909091, 'nature': 0.005681818181818182, 'misfortune': 0.005681818181818182, 'life': 0.017045454545454544, 'son': 0.011363636363636364, 'cousin': 0.002840909090909091, 'permit': 0.002840909090909091, 'enter': 0.002840909090909091, 'profession': 0.002840909090909091, 'surprise': 0.002840909090909091, 'welcome': 0.002840909090909091, 'innocence': 0.005681818181818182, 'manner': 0.005681818181818182, 'anxiety': 0.005681818181818182, 'agony': 0.002840909090909091, 'mockery': 0.002840909090909091, 'justice': 0.002840909090909091, 'torture': 0.002840909090909091, 'visit': 0.002840909090909091, 'geneva': 0.008522727272727272, 'care': 0.008522727272727272, 'benevolent': 0.002840909090909091, 'countenance': 0.005681818181818182, 'set': 0.002840909090909091, 'complexion': 0.002840909090909091, 'acquaintance': 0.002840909090909091, 'science': 0.005681818181818182, 'merchant': 0.005681818181818182, 'boy': 0.002840909090909091, 'singular': 0.002840909090909091, 'wretchedness': 0.002840909090909091, 'father': 0.008522727272727272, 'beaufort': 0.002840909090909091, 'truest': 0.002840909090909091, 'friendship': 0.002840909090909091, 'student': 0.002840909090909091, 'university': 0.008522727272727272, 'ingolstadt': 0.002840909090909091, 'theory': 0.002840909090909091, 'practice': 0.002840909090909091, 'philosophy': 0.005681818181818182, 'heart': 0.002840909090909091, 'soul': 0.005681818181818182, 'pursuit': 0.008522727272727272, 'marriage': 0.002840909090909091, 'character': 0.002840909090909091, 'return': 0.005681818181818182, 'companion': 0.002840909090909091, 'spirit': 0.002840909090909091, 'joy': 0.002840909090909091, 'distance': 0.002840909090909091, 'grave': 0.002840909090909091, 'cause': 0.005681818181818182, 'look': 0.002840909090909091, 'affection': 0.008522727272727272, 'attest': 0.002840909090909091, 'deeply': 0.002840909090909091, 'romance': 0.002840909090909091, 'happiness': 0.002840909090909091, 'encountering': 0.002840909090909091, 'appearance': 0.005681818181818182, 'justine': 0.008522727272727272, 'calm': 0.005681818181818182, 'sense': 0.005681818181818182, 'term': 0.002840909090909091, 'occupation': 0.002840909090909091, 'country': 0.011363636363636364, 'glimmer': 0.002840909090909091, 'year': 0.002840909090909091, 'difference': 0.002840909090909091, 'wretch': 0.002840909090909091, 'infinite': 0.002840909090909091, 'disposition': 0.005681818181818182, 'poverty': 0.002840909090909091, 'talent': 0.002840909090909091, 'fancy': 0.002840909090909091, 'hardship': 0.002840909090909091, 'danger': 0.002840909090909091, 'post': 0.002840909090909091, 'bring': 0.002840909090909091, 'line': 0.002840909090909091, 'pain': 0.002840909090909091, 'absent': 0.005681818181818182, 'delineate': 0.002840909090909091, 'brother': 0.002840909090909091, 'playing': 0.002840909090909091, 'william': 0.002840909090909091, 'improvement': 0.005681818181818182, 'chemical': 0.002840909090909091, 'motion': 0.002840909090909091, 'victor': 0.005681818181818182, 'ardour': 0.005681818181818182, 'discrimination': 0.002840909090909091, 'render': 0.002840909090909091, 'declaration': 0.002840909090909091, 'tranquillity': 0.002840909090909091, 'diversity': 0.002840909090909091, 'contrast': 0.005681818181818182, 'nurse': 0.002840909090909091, 'spark': 0.002840909090909091, 'thing': 0.002840909090909091, 'strength': 0.002840909090909091, 'physiognomy': 0.002840909090909091, 'ernest': 0.002840909090909091, 'stay': 0.002840909090909091, 'dim': 0.002840909090909091, 'eye': 0.005681818181818182, 'aggravation': 0.002840909090909091, 'infamy': 0.002840909090909091, 'murder': 0.002840909090909091, 'horror': 0.002840909090909091, 'time': 0.008522727272727272, 'journey': 0.002840909090909091, 'intense': 0.002840909090909091, 'walk': 0.005681818181818182, 'plainpalais': 0.002840909090909091, 'serene': 0.002840909090909091, 'colour': 0.002840909090909091, 'dunwhite': 0.002840909090909091, 'city': 0.002840909090909091, 'event': 0.002840909090909091, 'king': 0.002840909090909091, 'consolation': 0.002840909090909091, 'supply': 0.002840909090909091, 'place': 0.002840909090909091, 'misery': 0.002840909090909091, 'path': 0.002840909090909091, 'knowledge': 0.005681818181818182, 'abstruse': 0.002840909090909091, 'alpine': 0.002840909090909091, 'summersshe': 0.002840909090909091, 'scope': 0.002840909090909091, 'admiration': 0.002840909090909091, 'delight': 0.002840909090909091, 'world': 0.008522727272727272, 'credit': 0.002840909090909091, 'assistance': 0.002840909090909091, 'prepare': 0.002840909090909091, 'news': 0.002840909090909091, 'scarlet': 0.002840909090909091, 'fever': 0.002840909090909091, 'illness': 0.002840909090909091, 'lake': 0.002840909090909091, 'fear': 0.002840909090909091, 'yield': 0.002840909090909091, 'point': 0.005681818181818182, 'madman': 0.002840909090909091, 'guess': 0.002840909090909091, 'minister': 0.002840909090909091, 'variety': 0.002840909090909091, 'oblivion': 0.002840909090909091, 'thought': 0.002840909090909091, 'quit': 0.002840909090909091, 'girl': 0.002840909090909091, 'merit': 0.002840909090909091, 'reputation': 0.002840909090909091, 'relate': 0.002840909090909091, 'absence': 0.002840909090909091, 'food': 0.002840909090909091, 'discovery': 0.002840909090909091, 'wonder': 0.002840909090909091, 'cruel': 0.002840909090909091, 'kindness': 0.002840909090909091, 'dare': 0.002840909090909091, 'whiteness': 0.002840909090909091, 'deal': 0.002840909090909091, 'sound': 0.002840909090909091, 'train': 0.002840909090909091, 'blood': 0.002840909090909091, 'redeem': 0.002840909090909091, 'holy': 0.002840909090909091, 'sepulchre': 0.002840909090909091, 'morning': 0.002840909090909091, 'rain': 0.002840909090909091, 'imagination': 0.002840909090909091, 'enormity': 0.002840909090909091, 'seclusion': 0.002840909090909091, 'dusk': 0.002840909090909091, 'disunion': 0.002840909090909091, 'dispute': 0.002840909090909091, 'harmony': 0.002840909090909091, 'companionship': 0.002840909090909091, 'death': 0.005681818181818182, 'meeting': 0.002840909090909091, 'convey': 0.002840909090909091, 'pride': 0.002840909090909091, 'friend': 0.005681818181818182, 'conduct': 0.002840909090909091, 'solemnity': 0.002840909090909091, 'refrain': 0.005681818181818182, 'intimate': 0.002840909090909091, 'application': 0.005681818181818182, 'town': 0.005681818181818182, 'incident': 0.002840909090909091, 'figure': 0.002840909090909091, 'task': 0.002840909090909091, 'idea': 0.002840909090909091, 'pedantry': 0.002840909090909091, 'daughter': 0.002840909090909091, 'crime': 0.002840909090909091, 'cornelius': 0.002840909090909091, 'agrippa': 0.002840909090909091, 'waldman': 0.002840909090909091, 'attainment': 0.002840909090909091, 'object': 0.002840909090909091, 'birth': 0.002840909090909091, 'family': 0.008522727272727272, 'trial': 0.002840909090909091, 'chapter': 0.002840909090909091, 'day': 0.008522727272727272, 'writeto': 0.002840909090909091, 'hold': 0.002840909090909091, 'word': 0.002840909090909091, 'dear': 0.002840909090909091, 'malignity': 0.002840909090909091, 'secret': 0.002840909090909091, 'divine': 0.002840909090909091, 'progress': 0.005681818181818182, 'decline': 0.002840909090909091, 'confident': 0.002840909090909091, 'nearer': 0.002840909090909091, 'calmer': 0.002840909090909091, 'apprehension': 0.002840909090909091, 'service': 0.002840909090909091, 'hitherto': 0.002840909090909091, 'husband': 0.002840909090909091, 'proficiency': 0.005681818181818182, 'krempe': 0.002840909090909091, 'infuse': 0.002840909090909091, 'confusion': 0.002840909090909091, 'proof': 0.002840909090909091, 'guilt': 0.002840909090909091, 'heartfelt': 0.002840909090909091, 'exultation': 0.002840909090909091, 'alarming': 0.002840909090909091, 'work': 0.002840909090909091, 'hair': 0.002840909090909091, 'night': 0.002840909090909091, 'accomplishment': 0.002840909090909091, 'retreat': 0.002840909090909091, 'control': 0.002840909090909091, 'house': 0.002840909090909091, 'campagne': 0.002840909090909091, 'belrive': 0.002840909090909091, 'remark': 0.002840909090909091, 'sixteen': 0.002840909090909091, 'babe': 0.002840909090909091, 'intelligence': 0.002840909090909091, 'study': 0.002840909090909091, 'form': 0.002840909090909091, 'proportion': 0.002840909090909091, 'regret': 0.002840909090909091, 'indifferent': 0.002840909090909091, 'beauty': 0.002840909090909091, 'watery': 0.002840909090909091, 'business': 0.002840909090909091, 'none': 0.002840909090909091, 'commence': 0.002840909090909091, 'rest': 0.002840909090909091, 'attend': 0.002840909090909091, 'age': 0.002840909090909091, 'air': 0.002840909090909091, 'mind': 0.002840909090909091, 'courage': 0.002840909090909091, 'light': 0.002840909090909091, 'creature': 0.002840909090909091, 'gladness': 0.002840909090909091, 'rapture': 0.002840909090909091, 'god': 0.002840909090909091, 'skin': 0.002840909090909091, 'imprudence': 0.002840909090909091, 'mother': 0.005681818181818182, 'chemistry': 0.002840909090909091, 'completion': 0.002840909090909091, 'education': 0.002840909090909091, 'persuade': 0.002840909090909091, 'union': 0.002840909090909091, 'expectation': 0.002840909090909091, 'state': 0.002840909090909091, 'gentleness': 0.002840909090909091}, 'VB': {'begin': 0.125, 'ill': 0.125, 'sake': 0.125, 'inflict': 0.125, 'read': 0.125, 'end': 0.125, 'run': 0.125, 'expect': 0.125}, '&&': {'&&': 1.0}, 'PRP': {'you': 1.0}, 'VBP': {'ill': 0.05, 'dear': 0.05, 'illustrate': 0.05, 'chivalry': 0.05, 'candle': 0.05, 'griefs': 0.05, 'catastrophe': 0.05, 'drawn': 0.05, 'genius': 0.05, 'account': 0.05, 'round': 0.05, 'love': 0.05, 'honour': 0.05, 'ingolstadt': 0.05, 'hope': 0.05, 'oclock': 0.05, 'clear': 0.05, 'professor': 0.05, 'beneath': 0.05, 'alas': 0.05}, 'NNS': {'letters': 0.011111111111111112, 'laws': 0.011111111111111112, 'scenes': 0.011111111111111112, 'years': 0.044444444444444446, 'parents': 0.03333333333333333, 'writes': 0.011111111111111112, 'toils': 0.011111111111111112, 'lips': 0.011111111111111112, 'lectures': 0.011111111111111112, 'men': 0.011111111111111112, 'ancestors': 0.011111111111111112, 'discoveries': 0.011111111111111112, 'circumstances': 0.03333333333333333, 'times': 0.011111111111111112, 'books': 0.011111111111111112, 'children': 0.022222222222222223, 'minds': 0.011111111111111112, 'spectators': 0.011111111111111112, 'inconveniences': 0.011111111111111112, 'dangers': 0.011111111111111112, 'customs': 0.011111111111111112, 'panes': 0.011111111111111112, 'inquirers': 0.011111111111111112, 'subjects': 0.011111111111111112, 'pains': 0.011111111111111112, 'persuasions': 0.011111111111111112, 'joys': 0.011111111111111112, 'emotions': 0.011111111111111112, 'masquerades': 0.011111111111111112, 'characters': 0.022222222222222223, 'heroes': 0.011111111111111112, 'limbs': 0.011111111111111112, 'tears': 0.011111111111111112, 'works': 0.011111111111111112, 'feet': 0.011111111111111112, 'manners': 0.011111111111111112, 'sockets': 0.011111111111111112, 'attendants': 0.011111111111111112, 'roncesvalles': 0.011111111111111112, 'omen': 0.011111111111111112, 'hands': 0.022222222222222223, 'know': 0.011111111111111112, 'stars': 0.011111111111111112, 'ravings': 0.011111111111111112, 'wishes': 0.011111111111111112, 'affairs': 0.011111111111111112, 'apprehensions': 0.011111111111111112, 'qualities': 0.011111111111111112, 'situations': 0.011111111111111112, 'lives': 0.011111111111111112, 'lessons': 0.011111111111111112, 'professors': 0.011111111111111112, 'indulge': 0.011111111111111112, 'tidings': 0.011111111111111112, 'friends': 0.022222222222222223, 'ways': 0.011111111111111112, 'hours': 0.011111111111111112, 'lines': 0.011111111111111112, 'entreaties': 0.011111111111111112, 'attentions': 0.011111111111111112, 'causes': 0.011111111111111112, 'feelings': 0.011111111111111112, 'inquiries': 0.011111111111111112, 'schools': 0.011111111111111112, 'masters': 0.011111111111111112, 'instruments': 0.011111111111111112, 'symptoms': 0.011111111111111112, 'muscles': 0.011111111111111112, 'arteries': 0.011111111111111112, 'infidels': 0.011111111111111112, 'beings': 0.011111111111111112, 'features': 0.011111111111111112, 'enticements': 0.011111111111111112, 'studies': 0.011111111111111112, 'thousands': 0.011111111111111112, 'luxuriances': 0.011111111111111112, 'eyes': 0.011111111111111112, 'days': 0.011111111111111112, 'hills': 0.011111111111111112}, 'RB': {'probably': 0.023255813953488372, 'impatiently': 0.023255813953488372, 'yet': 0.046511627906976744, 'straight': 0.023255813953488372, 'entirely': 0.023255813953488372, 'far': 0.046511627906976744, 'dreadfully': 0.023255813953488372, 'shore': 0.023255813953488372, 'nearly': 0.046511627906976744, 'evidently': 0.023255813953488372, 'quickly': 0.023255813953488372, 'solely': 0.023255813953488372, 'rapidly': 0.023255813953488372, 'principally': 0.023255813953488372, 'arthur': 0.023255813953488372, 'elizabeth': 0.023255813953488372, 'soon': 0.046511627906976744, 'pearly': 0.023255813953488372, 'dismally': 0.023255813953488372, 'farther': 0.023255813953488372, 'bitterly': 0.023255813953488372, 'deeply': 0.046511627906976744, 'vainly': 0.023255813953488372, 'sly': 0.023255813953488372, 'continually': 0.023255813953488372, 'merely': 0.023255813953488372, 'closely': 0.023255813953488372, 'easily': 0.023255813953488372, 'presently': 0.023255813953488372, 'exquisitely': 0.023255813953488372, 'father': 0.023255813953488372, 'fever': 0.023255813953488372, 'favourite': 0.023255813953488372, 'infallibly': 0.023255813953488372, 'perpetually': 0.023255813953488372, 'scarcely': 0.023255813953488372, 'preserver': 0.023255813953488372, 'particularly': 0.023255813953488372}, 'VBD': {'waited': 0.012658227848101266, 'hidden': 0.012658227848101266, 'surrounded': 0.012658227848101266, 'gave': 0.012658227848101266, 'selected': 0.02531645569620253, 'expected': 0.012658227848101266, 'execrated': 0.012658227848101266, 'retreated': 0.012658227848101266, 'amounted': 0.012658227848101266, 'suffered': 0.02531645569620253, 'pleased': 0.012658227848101266, 'shrivelled': 0.012658227848101266, 'cultivated': 0.012658227848101266, 'loved': 0.02531645569620253, 'tempted': 0.012658227848101266, 'contemplated': 0.012658227848101266, 'said': 0.02531645569620253, 'dressed': 0.012658227848101266, 'attended': 0.02531645569620253, 'endeavoured': 0.012658227848101266, 'breathed': 0.012658227848101266, 'agitated': 0.012658227848101266, 'obliterated': 0.012658227848101266, 'constrained': 0.012658227848101266, 'subsisted': 0.012658227848101266, 'drew': 0.012658227848101266, 'lay': 0.012658227848101266, 'proceeded': 0.012658227848101266, 'protracted': 0.012658227848101266, 'saw': 0.02531645569620253, 'united': 0.012658227848101266, 'prolonged': 0.012658227848101266, 'wrapped': 0.012658227848101266, 'resided': 0.012658227848101266, 'disappeared': 0.012658227848101266, 'prevented': 0.012658227848101266, 'arrived': 0.012658227848101266, 'possessed': 0.02531645569620253, 'promised': 0.012658227848101266, 'respected': 0.012658227848101266, 'rendered': 0.012658227848101266, 'shed': 0.012658227848101266, 'pattered': 0.012658227848101266, 'committed': 0.012658227848101266, 'passed': 0.02531645569620253, 'thought': 0.02531645569620253, 'led': 0.012658227848101266, 'sought': 0.012658227848101266, 'banished': 0.012658227848101266, 'lived': 0.012658227848101266, 'went': 0.012658227848101266, 'heard': 0.012658227848101266, 'triumphed': 0.012658227848101266, 'desired': 0.012658227848101266, 'came': 0.012658227848101266, 'concentrated': 0.012658227848101266, 'asked': 0.012658227848101266, 'adduced': 0.012658227848101266, 'beheld': 0.012658227848101266, 'formed': 0.012658227848101266, 'occupied': 0.012658227848101266, 'hoped': 0.012658227848101266, 'experienced': 0.012658227848101266, 'obliged': 0.012658227848101266, 'resolved': 0.012658227848101266, 'entered': 0.012658227848101266, 'unfolded': 0.012658227848101266, 'covered': 0.012658227848101266, 'fell': 0.012658227848101266, 'tinged': 0.012658227848101266}, 'JJS': {'earnest': 0.25, 'firmest': 0.25, 'ernest': 0.5}, 'VBN': {'resolved': 0.017543859649122806, 'gazed': 0.017543859649122806, 'wretched': 0.017543859649122806, 'passed': 0.03508771929824561, 'paid': 0.017543859649122806, 'distinguished': 0.017543859649122806, 'fixed': 0.017543859649122806, 'acquainted': 0.03508771929824561, 'engaged': 0.017543859649122806, 'murdered': 0.017543859649122806, 'recovered': 0.017543859649122806, 'excited': 0.017543859649122806, 'prevented': 0.017543859649122806, 'written': 0.017543859649122806, 'gone': 0.03508771929824561, 'committed': 0.017543859649122806, 'sickbed': 0.017543859649122806, 'discovered': 0.017543859649122806, 'happened': 0.017543859649122806, 'seated': 0.017543859649122806, 'regretted': 0.017543859649122806, 'improved': 0.017543859649122806, 'prognosticated': 0.017543859649122806, 'smoothed': 0.017543859649122806, 'joined': 0.017543859649122806, 'caught': 0.017543859649122806, 'considered': 0.017543859649122806, 'beloved': 0.017543859649122806, 'supposed': 0.017543859649122806, 'deplored': 0.017543859649122806, 'rendered': 0.017543859649122806, 'confessed': 0.017543859649122806, 'ascribed': 0.017543859649122806, 'sought': 0.017543859649122806, 'yielded': 0.017543859649122806, 'attended': 0.017543859649122806, 'applied': 0.017543859649122806, 'conceived': 0.017543859649122806, 'enquired': 0.017543859649122806, 'seen': 0.017543859649122806, 'appeared': 0.017543859649122806, 'collected': 0.017543859649122806, 'expressed': 0.017543859649122806, 'sickened': 0.017543859649122806, 'accompanied': 0.017543859649122806, 'grieved': 0.017543859649122806, 'menaced': 0.017543859649122806, 'taken': 0.017543859649122806, 'attained': 0.017543859649122806, 'spent': 0.017543859649122806, 'worked': 0.017543859649122806, 'halfextinguished': 0.017543859649122806, 'exculpated': 0.017543859649122806, 'placed': 0.017543859649122806}, 'CD': {'seven': 0.14285714285714285, 'thousand': 0.2857142857142857, 'worst': 0.14285714285714285, 'one': 0.14285714285714285, '6': 0.14285714285714285, 'two': 0.14285714285714285}, 'PRP$': {'my': 1.0}, 'VBZ': {'hopes': 0.125, 'discoveries': 0.125, 'looks': 0.125, 'elizabeth': 0.25, 'krempe': 0.125, 'limbs': 0.125, 'schoolfellows': 0.125}, 'IN': {'bear': 1.0}, 'MD': {'shall': 1.0}, 'RBR': {'elizabeth': 0.5, 'father': 0.5}, 'RP': {'away': 1.0}, 'FW': {'geneva': 1.0}, 'NNP': {'november': 1.0}, 'JJR': {'longer': 0.3333333333333333, 'younger': 0.6666666666666666}}"
     ]
    },
    {
     "name": "stdout",
     "output_type": "stream",
     "text": [
      "\n"
     ]
    }
   ],
   "source": [
    "#Calculating the emission probabilities using train_word_tag\n",
    "train_emission_prob={}\n",
    "for k in train_word_tag.keys():\n",
    "  train_emission_prob[k]={}\n",
    "  count = sum(train_word_tag[k].values())\n",
    "  for k2 in train_word_tag[k].keys():\n",
    "    train_emission_prob[k][k2]=train_word_tag[k][k2]/count\n",
    "print(train_emission_prob)"
   ]
  },
  {
   "cell_type": "code",
   "execution_count": 14,
   "metadata": {},
   "outputs": [
    {
     "name": "stdout",
     "output_type": "stream",
     "text": [
      "{'##': {'VBG': 5, 'PRP': 2, 'NN': 71, 'VBN': 31, 'JJ': 30, 'NNS': 21, 'RB': 10, 'VB': 3, 'VBZ': 1, 'JJR': 1, 'VBD': 1}, 'VBG': {'JJ': 5, 'VB': 1, 'NN': 4, '&&': 5, 'VBN': 2, 'CD': 1, 'NNS': 2}, 'JJ': {'NN': 80, 'NNS': 19, 'JJ': 19, '&&': 15, 'CD': 1, 'VBN': 1, 'RB': 5, 'VBD': 3, 'VBG': 1}, 'NN': {'VBG': 8, 'NN': 120, '&&': 90, 'JJS': 2, 'VBD': 48, 'JJ': 29, 'RB': 12, 'VBN': 9, 'NNS': 20, 'VBP': 1, 'CD': 4, 'IN': 1, 'VBZ': 5, 'VB': 1, 'RBR': 1, 'NNP': 1}, 'VB': {'&&': 3, 'JJ': 1, 'NN': 3, 'RP': 1}, 'PRP': {'VBP': 1, 'RB': 1}, 'VBP': {'VB': 1, '&&': 2, 'NN': 11, 'RB': 1, 'MD': 1, 'NNS': 1, 'JJ': 3}, 'NNS': {'VBP': 17, 'NN': 11, 'VBD': 14, 'NNS': 8, '&&': 23, 'JJ': 6, 'VBN': 2, 'VBZ': 1, 'RBR': 1, 'RB': 4, 'FW': 1, 'VBG': 2}, 'RB': {'VBD': 7, 'NN': 4, 'JJ': 12, 'VBG': 3, 'RB': 2, 'VBN': 9, '&&': 4, 'VB': 1, 'JJS': 1}, 'VBD': {'RB': 4, 'NNS': 7, 'JJ': 16, '&&': 29, 'NN': 18, 'PRP$': 1, 'VBG': 1, 'VBN': 2, 'JJR': 1}, 'JJS': {'NN': 2, 'VBZ': 1, 'VBD': 1}, 'VBN': {'JJ': 17, 'VBD': 4, 'NN': 21, '&&': 3, 'NNS': 6, 'RB': 3, 'CD': 1, 'VBN': 1, 'JJR': 1}, 'CD': {'NNS': 4, 'NN': 2, '&&': 1}, 'PRP$': {'JJS': 1, '&&': 1}, 'VBZ': {'JJ': 4, 'NN': 3, 'VBP': 1}, 'IN': {'JJ': 1}, 'MD': {'VB': 1}, 'RBR': {'PRP$': 1, 'NN': 1}, 'RP': {'JJ': 1}, 'FW': {'RB': 1}, 'NNP': {'VBD': 1}, 'JJR': {'NN': 1, 'NNS': 2}}\n"
     ]
    }
   ],
   "source": [
    "#Estimating the bigram of tags to be used for transition probability\n",
    "bigram_tag_data = {}\n",
    "for s in train_data:\n",
    "  bi=list(nltk.bigrams(s))\n",
    "  for b1,b2 in bi:\n",
    "    try:\n",
    "      try:\n",
    "        bigram_tag_data[b1[1]][b2[1]]+=1\n",
    "      except:\n",
    "        bigram_tag_data[b1[1]][b2[1]]=1\n",
    "    except:\n",
    "      bigram_tag_data[b1[1]]={b2[1]:1}\n",
    "print(bigram_tag_data)"
   ]
  },
  {
   "cell_type": "code",
   "execution_count": 15,
   "metadata": {},
   "outputs": [
    {
     "name": "stdout",
     "output_type": "stream",
     "text": [
      "{'##': {'VBG': 0.028409090909090908, 'PRP': 0.011363636363636364, 'NN': 0.4034090909090909, 'VBN': 0.17613636363636365, 'JJ': 0.17045454545454544, 'NNS': 0.11931818181818182, 'RB': 0.056818181818181816, 'VB': 0.017045454545454544, 'VBZ': 0.005681818181818182, 'JJR': 0.005681818181818182, 'VBD': 0.005681818181818182}, 'VBG': {'JJ': 0.25, 'VB': 0.05, 'NN': 0.2, '&&': 0.25, 'VBN': 0.1, 'CD': 0.05, 'NNS': 0.1}, 'JJ': {'NN': 0.5555555555555556, 'NNS': 0.13194444444444445, 'JJ': 0.13194444444444445, '&&': 0.10416666666666667, 'CD': 0.006944444444444444, 'VBN': 0.006944444444444444, 'RB': 0.034722222222222224, 'VBD': 0.020833333333333332, 'VBG': 0.006944444444444444}, 'NN': {'VBG': 0.022727272727272728, 'NN': 0.3409090909090909, '&&': 0.2556818181818182, 'JJS': 0.005681818181818182, 'VBD': 0.13636363636363635, 'JJ': 0.08238636363636363, 'RB': 0.03409090909090909, 'VBN': 0.02556818181818182, 'NNS': 0.056818181818181816, 'VBP': 0.002840909090909091, 'CD': 0.011363636363636364, 'IN': 0.002840909090909091, 'VBZ': 0.014204545454545454, 'VB': 0.002840909090909091, 'RBR': 0.002840909090909091, 'NNP': 0.002840909090909091}, 'VB': {'&&': 0.375, 'JJ': 0.125, 'NN': 0.375, 'RP': 0.125}, 'PRP': {'VBP': 0.5, 'RB': 0.5}, 'VBP': {'VB': 0.05, '&&': 0.1, 'NN': 0.55, 'RB': 0.05, 'MD': 0.05, 'NNS': 0.05, 'JJ': 0.15}, 'NNS': {'VBP': 0.18888888888888888, 'NN': 0.12222222222222222, 'VBD': 0.15555555555555556, 'NNS': 0.08888888888888889, '&&': 0.25555555555555554, 'JJ': 0.06666666666666667, 'VBN': 0.022222222222222223, 'VBZ': 0.011111111111111112, 'RBR': 0.011111111111111112, 'RB': 0.044444444444444446, 'FW': 0.011111111111111112, 'VBG': 0.022222222222222223}, 'RB': {'VBD': 0.16279069767441862, 'NN': 0.09302325581395349, 'JJ': 0.27906976744186046, 'VBG': 0.06976744186046512, 'RB': 0.046511627906976744, 'VBN': 0.20930232558139536, '&&': 0.09302325581395349, 'VB': 0.023255813953488372, 'JJS': 0.023255813953488372}, 'VBD': {'RB': 0.05063291139240506, 'NNS': 0.08860759493670886, 'JJ': 0.20253164556962025, '&&': 0.3670886075949367, 'NN': 0.22784810126582278, 'PRP$': 0.012658227848101266, 'VBG': 0.012658227848101266, 'VBN': 0.02531645569620253, 'JJR': 0.012658227848101266}, 'JJS': {'NN': 0.5, 'VBZ': 0.25, 'VBD': 0.25}, 'VBN': {'JJ': 0.2982456140350877, 'VBD': 0.07017543859649122, 'NN': 0.3684210526315789, '&&': 0.05263157894736842, 'NNS': 0.10526315789473684, 'RB': 0.05263157894736842, 'CD': 0.017543859649122806, 'VBN': 0.017543859649122806, 'JJR': 0.017543859649122806}, 'CD': {'NNS': 0.5714285714285714, 'NN': 0.2857142857142857, '&&': 0.14285714285714285}, 'PRP$': {'JJS': 0.5, '&&': 0.5}, 'VBZ': {'JJ': 0.5, 'NN': 0.375, 'VBP': 0.125}, 'IN': {'JJ': 1.0}, 'MD': {'VB': 1.0}, 'RBR': {'PRP$': 0.5, 'NN': 0.5}, 'RP': {'JJ': 1.0}, 'FW': {'RB': 1.0}, 'NNP': {'VBD': 1.0}, 'JJR': {'NN': 0.3333333333333333, 'NNS': 0.6666666666666666}}\n"
     ]
    }
   ],
   "source": [
    "#Calculating the probabilities of tag bigrams for transition probability  \n",
    "bigram_tag_prob={}\n",
    "for k in bigram_tag_data.keys():\n",
    "  bigram_tag_prob[k]={}\n",
    "  count=sum(bigram_tag_data[k].values())\n",
    "  for k2 in bigram_tag_data[k].keys():\n",
    "    bigram_tag_prob[k][k2]=bigram_tag_data[k][k2]/count\n",
    "print(bigram_tag_prob)"
   ]
  },
  {
   "cell_type": "code",
   "execution_count": 16,
   "metadata": {},
   "outputs": [
    {
     "name": "stdout",
     "output_type": "stream",
     "text": [
      "{'##': ['##'], 'endeavouring': ['VBG'], 'seek': ['JJ'], 'hope': ['NN', 'VBP'], 'persuading': ['VBG'], 'begin': ['VB'], '&&': ['&&'], 'you': ['PRP'], 'ill': ['VBP', 'VB'], 'constant': ['JJ'], 'letters': ['NNS'], 'dear': ['VBP', 'NN'], 'probably': ['RB'], 'waited': ['VBD', 'VBN'], 'impatiently': ['RB'], 'letter': ['NN'], 'fix': ['NN'], 'date': ['NN'], 'curiosity': ['NN'], 'earnest': ['JJS'], 'research': ['NN'], 'learn': ['NN'], 'hidden': ['VBD'], 'laws': ['NNS'], 'nature': ['NN'], 'resolved': ['VBN', 'VBD'], 'arrive': ['JJ'], 'misfortune': ['NN'], 'life': ['NN'], 'majestic': ['JJ'], 'wondrous': ['JJ'], 'scenes': ['NNS'], 'surrounded': ['VBD'], 'swiss': ['JJ'], 'birth': ['JJ', 'NN'], 'second': ['JJ'], 'son': ['NN'], 'junior': ['JJ'], 'seven': ['CD'], 'years': ['NNS'], 'parents': ['NNS'], 'gave': ['VBD'], 'poor': ['JJ'], 'cousin': ['NN'], 'yet': ['RB'], 'clerval': ['JJ'], 'writes': ['NNS'], 'permit': ['NN'], 'enter': ['NN'], 'profession': ['NN'], 'selected': ['VBD'], 'surprise': ['NN'], 'expected': ['VBD'], 'happy': ['JJ'], 'glad': ['JJ'], 'welcome': ['NN'], 'innocence': ['NN'], 'tremble': ['JJ'], 'gazed': ['VBN'], 'execrated': ['VBD'], 'honourable': ['JJ'], 'manner': ['NN'], 'retreated': ['VBD'], 'toils': ['NNS'], 'anxiety': ['NN'], 'amounted': ['VBD'], 'agony': ['NN'], 'wretched': ['VBN'], 'mockery': ['NN'], 'justice': ['NN'], 'suffered': ['VBD'], 'living': ['JJ'], 'torture': ['NN'], 'passed': ['VBN', 'VBD'], 'paid': ['VBN', 'VBD'], 'visit': ['NN'], 'geneva': ['NN', 'FW'], 'care': ['NN'], 'cloud': ['JJ'], 'benevolent': ['NN'], 'countenance': ['NN'], 'pleased': ['VBD', 'JJ'], 'set': ['NN'], 'shrivelled': ['VBD'], 'complexion': ['NN'], 'straight': ['RB'], 'black': ['JJ'], 'lips': ['NNS'], 'lectures': ['NNS'], 'cultivated': ['VBD'], 'acquaintance': ['NN'], 'men': ['NNS'], 'science': ['NN'], 'merchant': ['NN'], 'boy': ['NN'], 'singular': ['NN'], 'wretchedness': ['NN', 'JJ'], 'father': ['NN', 'RB', 'RBR'], 'loved': ['VBD'], 'beaufort': ['NN'], 'truest': ['NN'], 'friendship': ['NN'], 'student': ['NN'], 'university': ['NN'], 'ingolstadt': ['NN', 'VBP'], 'distinguished': ['VBN'], 'republic': ['JJ'], 'ancestors': ['NNS'], 'entirely': ['RB'], 'wandering': ['VBG'], 'fixed': ['VBN', 'VBD'], 'native': ['JJ'], 'acquainted': ['VBN'], 'theory': ['NN'], 'practice': ['NN'], 'natural': ['JJ'], 'philosophy': ['NN'], 'engaged': ['VBN', 'VBD'], 'heart': ['NN'], 'soul': ['NN'], 'pursuit': ['NN'], 'discoveries': ['NNS', 'VBZ'], 'circumstances': ['NNS'], 'marriage': ['NN'], 'illustrate': ['VBP'], 'character': ['NN'], 'return': ['NN'], 'tempted': ['VBD'], 'write': ['JJ'], 'companion': ['NN'], 'contemplated': ['VBD'], 'satisfied': ['JJ'], 'spirit': ['NN', 'VBP'], 'joy': ['NN'], 'far': ['RB'], 'dreadfully': ['RB'], 'murdered': ['VBN'], 'eastern': ['JJ'], 'shore': ['RB'], 'lake': ['JJ', 'NN'], 'distance': ['NN'], 'ignominious': ['JJ'], 'grave': ['NN'], 'cause': ['NN'], 'thousand': ['CD'], 'times': ['NNS'], 'recovered': ['VBN'], 'look': ['NN'], 'sorrowful': ['JJ'], 'affection': ['NN'], 'attest': ['NN'], 'sake': ['VB'], 'deeply': ['NN', 'RB'], 'read': ['JJ', 'VB'], 'books': ['NNS'], 'chivalry': ['VBP'], 'romance': ['NN'], 'children': ['NNS'], 'said': ['VBD'], 'my': ['PRP$'], 'firmest': ['JJS'], 'hopes': ['VBZ'], 'future': ['JJ'], 'happiness': ['NN'], 'excited': ['VBN'], 'obliterated': ['JJ', 'VBD'], 'minds': ['NNS'], 'spectators': ['NNS'], 'prevented': ['VBN', 'VBD'], 'encountering': ['NN'], 'inconveniences': ['NNS'], 'dangers': ['NNS'], 'appearance': ['NN'], 'justine': ['NN'], 'calm': ['NN'], 'dressed': ['VBD'], 'mourning': ['VBG'], 'comprehensive': ['JJ'], 'sense': ['NN'], 'term': ['NN'], 'nearly': ['RB'], 'sole': ['JJ'], 'occupation': ['NN'], 'customs': ['NNS'], 'country': ['NN'], 'panes': ['NNS'], 'candle': ['VBP'], 'burnt': ['JJ'], 'glimmer': ['NN'], 'brought': ['JJ'], 'year': ['NN'], 'difference': ['NN'], 'modern': ['JJ'], 'inquirers': ['NNS'], 'written': ['VBN'], 'subjects': ['NNS'], 'attended': ['VBD', 'VBN'], 'wretch': ['NN'], 'infinite': ['NN'], 'pains': ['NNS'], 'endeavoured': ['VBD'], 'proud': ['JJ'], 'unbending': ['JJ'], 'disposition': ['NN'], 'bear': ['IN'], 'live': ['JJ'], 'poverty': ['NN', 'VBP'], 'talent': ['NN'], 'fancy': ['NN'], 'enterprise': ['JJ'], 'hardship': ['NN'], 'danger': ['NN'], 'post': ['NN'], 'bring': ['NN'], 'line': ['NN'], 'persuasions': ['NNS'], 'joys': ['NNS'], 'griefs': ['VBP'], 'shall': ['MD'], 'inflict': ['VB'], 'pain': ['NN'], 'long': ['JJ'], 'absent': ['NN'], 'emotions': ['NNS'], 'catastrophe': ['VBP'], 'delineate': ['NN'], 'masquerades': ['NNS'], 'characters': ['NNS'], 'drawn': ['VBP'], 'heroes': ['NNS'], 'brother': ['NN'], 'playing': ['NN'], 'william': ['NN', 'JJ'], 'improvement': ['NN'], 'chemical': ['NN'], 'open': ['JJ'], 'breathed': ['VBD'], 'hard': ['JJ'], 'convulsive': ['JJ'], 'motion': ['NN'], 'agitated': ['VBD'], 'limbs': ['NNS', 'VBZ'], 'behold': ['JJ'], 'contrary': ['JJ'], 'tears': ['NNS'], 'victor': ['NN'], 'ardour': ['NN', 'CD'], 'works': ['NNS'], 'genius': ['VBP'], 'discrimination': ['NN'], 'gone': ['VBN'], 'know': ['JJ', 'NNS'], 'render': ['NN'], 'committed': ['VBN', 'VBD'], 'declaration': ['NN'], 'tranquil': ['JJ'], 'tranquillity': ['NN'], 'evidently': ['RB'], 'constrained': ['VBD'], 'diversity': ['NN'], 'contrast': ['NN'], 'subsisted': ['VBD'], 'drew': ['VBD'], 'sickbed': ['VBN', 'JJ'], 'devolved': ['JJ'], 'mercenary': ['JJ'], 'old': ['JJ'], 'nurse': ['NN'], 'spark': ['NN'], 'lifeless': ['JJ'], 'thing': ['NN'], 'lay': ['VBD'], 'feet': ['NNS'], 'fluctuating': ['VBG'], 'uncertain': ['JJ'], 'gained': ['JJ'], 'strength': ['NN'], 'proceeded': ['VBD'], 'physiognomy': ['NN'], 'manners': ['NNS'], 'account': ['VBP', 'NN'], 'valuable': ['JJ'], 'returning': ['VBG'], 'discovered': ['VBN', 'VBD'], 'ernest': ['NN', 'JJS'], 'happened': ['VBN'], 'protracted': ['VBD'], 'stay': ['NN'], 'seated': ['VBN'], 'tear': ['JJ'], 'dim': ['NN'], 'eye': ['NN'], 'saw': ['VBD'], 'quickly': ['RB'], 'aggravation': ['NN'], 'infamy': ['NN'], 'murder': ['NN'], 'memorable': ['JJ'], 'horror': ['NN'], 'little': ['JJ'], 'worthy': ['JJ'], 'united': ['VBD', 'JJ'], 'lost': ['JJ'], 'time': ['NN'], 'journey': ['NN'], 'regretted': ['VBN'], 'able': ['JJ'], 'capable': ['JJ'], 'intense': ['NN'], 'walk': ['NN'], 'plainpalais': ['NN'], 'evening': ['VBG'], 'warm': ['JJ'], 'serene': ['NN'], 'prolonged': ['VBD'], 'solely': ['RB'], 'wrapped': ['VBD'], 'improved': ['VBN'], 'rapidly': ['RB'], 'end': ['VB'], 'colour': ['NN'], 'dunwhite': ['NN'], 'sockets': ['NNS'], 'league': ['JJ'], 'city': ['NN'], 'resided': ['VBD'], 'principally': ['RB'], 'looks': ['VBZ'], 'medical': ['JJ'], 'attendants': ['NNS'], 'prognosticated': ['VBN'], 'worst': ['CD'], 'event': ['NN'], 'roncesvalles': ['NNS'], 'round': ['VBP', 'JJ'], 'table': ['JJ'], 'king': ['NN'], 'arthur': ['RB'], 'chivalrous': ['JJ'], 'consolation': ['NN'], 'elizabeth': ['VBZ', 'RBR', 'RB'], 'love': ['VBP'], 'supply': ['NN'], 'place': ['NN'], 'occurredan': ['JJ'], 'omen': ['NNS'], 'misery': ['NN'], 'smoothed': ['VBN'], 'path': ['NN'], 'knowledge': ['NN'], 'abstruse': ['NN'], 'joined': ['VBN'], 'hands': ['NNS'], 'alpine': ['NN'], 'summersshe': ['NN'], 'ample': ['JJ'], 'scope': ['NN'], 'admiration': ['NN'], 'delight': ['NN'], 'world': ['NN'], 'credit': ['NN'], 'assistance': ['NN'], 'wish': ['JJ'], 'prepare': ['NN'], 'woeful': ['JJ'], 'news': ['NN'], 'caught': ['VBN'], 'scarlet': ['NN'], 'fever': ['NN', 'RB'], 'illness': ['NN'], 'severe': ['JJ'], 'soon': ['RB'], 'ardent': ['JJ'], 'eager': ['JJ'], 'stars': ['NNS'], 'disappeared': ['VBD'], 'fear': ['NN'], 'idler': ['JJ'], 'yield': ['NN'], 'point': ['NN'], 'considered': ['VBN'], 'ravings': ['NNS'], 'madman': ['NN'], 'guess': ['NN'], 'wishes': ['NNS'], 'minister': ['NN'], 'affairs': ['NNS'], 'variety': ['NN'], 'arrived': ['VBD'], 'oblivion': ['NN'], 'necessary': ['JJ'], 'apprehensions': ['NNS'], 'thought': ['NN', 'VBD'], 'beloved': ['VBN'], 'quit': ['NN'], 'girl': ['NN'], 'merit': ['NN'], 'possessed': ['VBD'], 'qualities': ['NNS'], 'promised': ['VBD'], 'situations': ['NNS'], 'honour': ['VBP'], 'reputation': ['NN'], 'respected': ['VBD'], 'relate': ['NN'], 'absence': ['NN'], 'rendered': ['VBD', 'VBN'], 'callous': ['JJ'], 'scientific': ['JJ'], 'continual': ['JJ'], 'food': ['NN'], 'discovery': ['NN'], 'wonder': ['NN'], 'cruel': ['NN'], 'kindness': ['NN', 'JJ'], 'dare': ['NN'], 'flowing': ['VBG'], 'teeth': ['JJ'], 'pearly': ['RB'], 'whiteness': ['NN'], 'krempe': ['VBZ', 'NN'], 'great': ['JJ'], 'deal': ['NN'], 'sound': ['NN'], 'train': ['NN'], 'shed': ['VBD'], 'blood': ['NN'], 'redeem': ['NN'], 'holy': ['NN'], 'sepulchre': ['NN'], 'morning': ['NN'], 'rain': ['NN'], 'pattered': ['VBD'], 'dismally': ['RB'], 'imagination': ['NN'], 'enormity': ['NN'], 'supposed': ['VBN'], 'lives': ['NNS'], 'considerable': ['JJ'], 'seclusion': ['NN'], 'farther': ['RB'], 'usual': ['JJ'], 'dusk': ['NN'], 'disunion': ['NN'], 'dispute': ['NN'], 'harmony': ['NN'], 'companionship': ['NN'], 'depended': ['JJ'], 'lessons': ['NNS'], 'professors': ['NNS'], 'death': ['NN'], 'indulge': ['NNS'], 'meeting': ['NN'], 'convey': ['NN'], 'horrible': ['JJ'], 'tidings': ['NNS'], 'bitterly': ['RB'], 'deplored': ['VBN'], 'false': ['JJ'], 'pride': ['NN'], 'led': ['VBD'], 'friend': ['NN'], 'conduct': ['NN'], 'engaging': ['VBG'], 'solemnity': ['NN'], 'refrain': ['NN'], 'relating': ['VBG'], 'one': ['CD'], 'intimate': ['NN'], 'friends': ['NNS'], 'application': ['NN', 'VBP'], 'smitten': ['JJ'], 'thirst': ['JJ'], 'run': ['VB'], 'away': ['RP'], 'hide': ['JJ'], 'vainly': ['RB'], 'sought': ['VBD', 'VBN'], 'town': ['NN'], 'incident': ['NN'], 'perform': ['JJ'], 'figure': ['NN'], 'task': ['NN'], 'attending': ['VBG'], 'good': ['JJ'], 'banished': ['VBD'], 'idea': ['NN'], 'pedantry': ['NN'], 'ways': ['NNS'], 'daughter': ['NN'], 'lucerne': ['JJ'], 'lived': ['VBD'], 'unknown': ['JJ'], 'confessed': ['VBN'], 'guilty': ['JJ'], 'crime': ['NN'], 'ascribed': ['VBN'], 'sly': ['RB'], 'smile': ['JJ'], 'cornelius': ['NN'], 'agrippa': ['NN'], 'went': ['VBD'], 'whilst': ['JJ', 'NN'], 'waldman': ['NN', 'JJ'], 'continually': ['RB'], 'attainment': ['NN'], 'object': ['NN'], 'genevese': ['JJ'], 'family': ['NN'], 'sad': ['JJ'], 'hours': ['NNS'], 'oclock': ['VBP'], 'trial': ['NN'], 'chapter': ['NN'], '6': ['CD'], 'lines': ['NNS'], 'merely': ['RB'], 'mentioning': ['VBG'], 'day': ['NN'], 'expect': ['VB'], 'yielded': ['VBN'], 'entreaties': ['NNS'], 'heard': ['VBD'], 'forbidden': ['JJ'], 'writeto': ['NN'], 'hold': ['NN'], 'pen': ['JJ'], 'word': ['NN'], 'watchful': ['JJ'], 'attentions': ['NNS'], 'triumphed': ['VBD'], 'malignity': ['NN'], 'causes': ['NNS'], 'secret': ['NN'], 'desired': ['VBD'], 'divine': ['NN'], 'applied': ['VBN'], 'closely': ['RB'], 'easily': ['RB'], 'conceived': ['VBN'], 'progress': ['NN'], 'presently': ['RB'], 'came': ['VBD'], 'enquired': ['VBN'], 'seen': ['VBN'], 'marrying': ['VBG'], 'early': ['JJ'], 'decline': ['NN'], 'feelings': ['NNS'], 'exquisitely': ['RB'], 'beautiful': ['JJ'], 'appeared': ['VBN'], 'confident': ['NN'], 'nearer': ['NN'], 'calmer': ['NN'], 'concentrated': ['VBD'], 'inquiries': ['NNS'], 'clear': ['VBP'], 'facile': ['JJ'], 'apprehension': ['NN'], 'foreign': ['JJ'], 'service': ['NN'], 'hitherto': ['NN'], 'schools': ['NNS'], 'husband': ['NN'], 'proficiency': ['NN'], 'masters': ['NNS'], 'professor': ['VBP'], 'asked': ['VBD'], 'collected': ['VBN'], 'instruments': ['NNS'], 'infuse': ['NN'], 'confusion': ['NN'], 'adduced': ['VBD'], 'proof': ['NN'], 'guilt': ['NN'], 'expressed': ['VBN'], 'heartfelt': ['NN'], 'exultation': ['NN'], 'two': ['CD'], 'sickened': ['VBN'], 'accompanied': ['VBN'], 'alarming': ['NN'], 'symptoms': ['NNS'], 'work': ['NN'], 'muscles': ['NNS'], 'arteries': ['NNS'], 'beneath': ['VBP'], 'hair': ['NN'], 'lustrous': ['JJ'], 'dreary': ['JJ'], 'night': ['NN'], 'november': ['NNP'], 'beheld': ['VBD'], 'accomplishment': ['NN'], 'grieved': ['VBN'], 'retreat': ['NN'], 'unfortunate': ['JJ'], 'favourite': ['RB'], 'menaced': ['VBN'], 'longer': ['JJR', 'RBR'], 'control': ['NN'], 'house': ['NN'], 'campagne': ['NN'], 'belrive': ['NN'], 'remark': ['NN'], 'sixteen': ['NN'], 'infidels': ['NNS'], 'fellow': ['JJ'], 'beings': ['NNS'], 'smiling': ['VBG'], 'babe': ['NN'], 'intelligence': ['NN'], 'handwriting': ['VBG'], 'infallibly': ['RB'], 'study': ['NN', 'VBP'], 'form': ['NN'], 'proportion': ['NN'], 'features': ['NNS'], 'enticements': ['NNS'], 'studies': ['NNS'], 'younger': ['JJR'], 'alas': ['VBP'], 'regret': ['NN'], 'taken': ['VBN'], 'indifferent': ['NN'], 'schoolfellows': ['VBZ'], 'general': ['JJ'], 'thousands': ['NNS'], 'beauty': ['NN'], 'luxuriances': ['NNS'], 'formed': ['VBD'], 'horrid': ['JJ'], 'watery': ['NN'], 'eyes': ['NNS'], 'business': ['NN'], 'days': ['NNS'], 'perpetually': ['RB'], 'occupied': ['VBD'], 'hoped': ['VBD'], 'none': ['NN'], 'experienced': ['VBD'], 'conceive': ['JJ'], 'commence': ['NN'], 'rest': ['NN'], 'obliged': ['VBD'], 'attend': ['NN'], 'attained': ['VBN'], 'age': ['NN'], 'seventeen': ['JJ'], 'spent': ['VBN'], 'air': ['NN'], 'climbing': ['VBG'], 'hills': ['NNS'], 'rowing': ['VBG'], 'worked': ['VBN'], 'mind': ['NN'], 'courage': ['NN'], 'entered': ['VBD'], 'halfextinguished': ['VBN'], 'light': ['NN', 'JJ'], 'dull': ['JJ'], 'yellow': ['JJ'], 'creature': ['NN'], 'gladness': ['NN'], 'akin': ['JJ'], 'rapture': ['NN'], 'unfolded': ['VBD'], 'exculpated': ['VBN'], 'god': ['NN'], 'skin': ['NN'], 'scarcely': ['RB'], 'covered': ['VBD'], 'imprudence': ['NN'], 'fatal': ['JJ'], 'preserver': ['RB'], 'mother': ['NN'], 'particularly': ['RB'], 'chemistry': ['NN'], 'completion': ['NN'], 'education': ['NN'], 'persuade': ['NN'], 'placed': ['VBN'], 'prospect': ['JJ'], 'union': ['NN'], 'expectation': ['NN'], 'flourishing': ['VBG'], 'state': ['NN'], 'fell': ['VBD'], 'numerous': ['JJ'], 'true': ['JJ'], 'gentleness': ['NN'], 'tinged': ['VBD'], 'tempest': ['JJS'], 'silence': ['NN'], 'winter': ['NN'], 'turbulence': ['NN'], 'moderate': ['JJ'], 'capacity': ['NN'], 'pursues': ['VBZ'], 'bonds': ['NNS'], 'closest': ['JJS'], 'henry': ['NN'], 'last': ['JJ'], 'thursday': ['NN'], 'may': ['MD'], '7th': ['VB'], 'niece': ['NN'], 'brothers': ['NNS'], 'thoughts': ['NNS'], 'befitting': ['VBG'], 'endeavour': ['JJ'], 'resign': ['NN'], 'cheerfully': ['RB'], 'greatest': ['JJS'], 'arguments': ['NNS'], 'urged': ['VBD'], 'temper': ['NN'], 'avoid': ['NN'], 'crowd': ['NN'], 'attach': ['VBP'], 'fervently': ['RB'], 'real': ['JJ'], 'information': ['NN'], 'combined': ['VBN'], 'repulsive': ['NN'], 'knew': ['JJ'], 'integrity': ['NN'], 'indefatigable': ['JJ'], 'attention': ['NN'], 'public': ['NN'], 'laboratory': ['NN'], 'asks': ['NNS'], 'assured': ['VBD'], 'getting': ['VBG'], 'better': ['JJR'], 'eagerly': ['RB'], 'confirm': ['NN'], 'residence': ['NN'], 'conducive': ['JJ'], 'improvements': ['NNS'], 'decided': ['VBD'], 'result': ['NN'], 'lawless': ['NN'], 'devices': ['NNS'], 'dogmatism': ['NN'], 'instructions': ['NNS'], 'given': ['VBN'], 'frankness': ['NN'], 'earliest': ['JJS'], 'sensations': ['NNS'], 'remember': ['VB'], 'elder': ['NN'], 'returns': ['NNS'], 'uncle': ['VBP', 'JJ'], 'procured': ['VBD'], 'esteem': ['JJ'], 'dearly': ['RB'], 'fathers': ['NNS'], 'health': ['NN'], 'vigorous': ['JJ'], 'accordingly': ['RB'], 'rested': ['VBN'], 'seat': ['NN'], 'utter': ['JJ'], 'guiltlessness': ['NN'], 'court': ['NN'], 'threw': ['VBD'], 'home': ['NN'], 'the': ['DT'], 'sublime': ['JJ'], 'shapes': ['NNS'], 'mountains': ['NNS'], 'changes': ['NNS'], 'seasons': ['NNS'], 'get': ['NN'], 'welland': ['WRB'], 'cheerful': ['JJ'], 'powers': ['NNS'], 'odious': ['JJ'], 'fetter': ['NN'], 'busied': ['VBN'], 'following': ['VBG'], 'aerial': ['JJ'], 'creations': ['NNS'], 'poets': ['NNS'], 'military': ['JJ'], 'career': ['NN'], 'distant': ['JJ'], 'impossible': ['JJ'], 'skims': ['NNS'], 'page': ['VBP'], 'words': ['NNS'], 'activity': ['NN'], 'desirous': ['JJ'], 'composed': ['VBN'], 'heroic': ['JJ'], 'songs': ['NNS'], 'began': ['VBD'], 'tale': ['NN'], 'enchantment': ['NN'], 'deathbed': ['VBN'], 'fortitude': ['JJ'], 'benignity': ['NN'], 'best': ['JJS'], 'women': ['NNS'], 'desert': ['NN'], 'magnificent': ['JJ'], 'appearances': ['NNS'], 'things': ['NNS'], 'delighted': ['VBD'], 'investigating': ['VBG'], 'rank': ['NN'], 'magnificence': ['NN'], 'debts': ['NNS'], 'rapid': ['JJ'], 'astonishment': ['NN'], 'students': ['NNS'], 'knightly': ['RB'], 'adventure': ['NN'], 'tried': ['VBN'], 'act': ['NN'], 'plays': ['VBZ'], 'distemperelizabeth': ['NNS'], 'saved': ['VBD'], 'consequences': ['NNS'], 'ages': ['NNS'], 'need': ['VBP'], 'strangers': ['NNS'], 'species': ['NNS'], 'departure': ['NN'], 'witnesses': ['NNS'], 'counsellors': ['NNS'], 'syndics': ['VBP'], 'filled': ['VBN'], 'mischances': ['NNS'], 'man': ['NN'], 'restrained': ['VBN'], 'undertaking': ['VBG'], 'kind': ['NN'], 'sufficient': ['JJ'], 'reassure': ['NN']}"
     ]
    },
    {
     "name": "stdout",
     "output_type": "stream",
     "text": [
      "\n"
     ]
    }
   ],
   "source": [
    "#Calculating the possible tags for each word\n",
    "#Note: Here we have used the whole data(Train+Test)\n",
    "#Reason: There may be some words which are not present in train data but are present in test data \n",
    "tags_of_tokens = {}\n",
    "count=0\n",
    "for s in train_data:\n",
    "  for (w,t) in s:\n",
    "    w=w.lower()\n",
    "    try:\n",
    "      if t not in tags_of_tokens[w]:\n",
    "        tags_of_tokens[w].append(t)\n",
    "    except:\n",
    "      l = []\n",
    "      l.append(t)\n",
    "      tags_of_tokens[w] = l\n",
    "        \n",
    "for s in test_data:\n",
    "  for (w,t) in s:\n",
    "    w=w.lower()\n",
    "    try:\n",
    "      if t not in tags_of_tokens[w]:\n",
    "        tags_of_tokens[w].append(t)\n",
    "    except:\n",
    "      l = []\n",
    "      l.append(t)\n",
    "      tags_of_tokens[w] = l\n",
    "\n",
    "print(tags_of_tokens)"
   ]
  },
  {
   "cell_type": "code",
   "execution_count": 17,
   "metadata": {},
   "outputs": [],
   "source": [
    "#Dividing the test data into test words and test tags\n",
    "test_words=[]\n",
    "test_tags=[]\n",
    "for s in test_data:\n",
    "  temp_word=[]\n",
    "  temp_tag=[]\n",
    "  for (w,t) in s:\n",
    "    temp_word.append(w.lower())\n",
    "    temp_tag.append(t)\n",
    "  test_words.append(temp_word)\n",
    "  test_tags.append(temp_tag)"
   ]
  },
  {
   "cell_type": "code",
   "execution_count": 18,
   "metadata": {},
   "outputs": [],
   "source": [
    "#Executing the Viterbi Algorithm\n",
    "predicted_tags = []                #intializing the predicted tags\n",
    "for x in range(len(test_words)):   # for each tokenized sentence in the test data\n",
    "  s = test_words[x]\n",
    "  #storing_values is a dictionary which stores the required values\n",
    "  #ex: storing_values = {step_no.:{state1:[previous_best_state,value_of_the_state]}}                \n",
    "  storing_values = {}              \n",
    "  for q in range(len(s)):\n",
    "    step = s[q]\n",
    "    #for the starting word of the sentence\n",
    "    if q == 1:                \n",
    "      storing_values[q] = {}\n",
    "      tags = tags_of_tokens[step]\n",
    "      for t in tags:\n",
    "        #this is applied since we do not know whether the word in the test data is present in train data or not\n",
    "        try:\n",
    "          storing_values[q][t] = ['##',bigram_tag_prob['##'][t]*train_emission_prob[t][step]]\n",
    "        #if word is not present in the train data but present in test data we assign a very low probability of 0.0001\n",
    "        except:\n",
    "          storing_values[q][t] = ['##',0.0001]#*train_emission_prob[t][step]]\n",
    "    \n",
    "    #if the word is not at the start of the sentence\n",
    "    if q>1:\n",
    "      storing_values[q] = {}\n",
    "      previous_states = list(storing_values[q-1].keys())   # loading the previous states\n",
    "      current_states  = tags_of_tokens[step]               # loading the current states\n",
    "      #calculation of the best previous state for each current state and then storing\n",
    "      #it in storing_values\n",
    "      for t in current_states:                             \n",
    "        temp = []\n",
    "        for pt in previous_states:                         \n",
    "          try:\n",
    "            temp.append(storing_values[q-1][pt][1]*bigram_tag_prob[pt][t]*train_emission_prob[t][step])\n",
    "          except:\n",
    "            temp.append(storing_values[q-1][pt][1]*0.0001)\n",
    "        max_temp_index = temp.index(max(temp))\n",
    "        best_pt = previous_states[max_temp_index]\n",
    "        storing_values[q][t]=[best_pt,max(temp)]\n",
    "\n",
    "  #Backtracing to extract the best possible tags for the sentence\n",
    "  pred_tags = []\n",
    "  total_steps_num = storing_values.keys()\n",
    "  last_step_num = max(total_steps_num)\n",
    "  for bs in range(len(total_steps_num)):\n",
    "    step_num = last_step_num - bs\n",
    "    if step_num == last_step_num:\n",
    "      pred_tags.append('&&')\n",
    "      pred_tags.append(storing_values[step_num]['&&'][0])\n",
    "    if step_num<last_step_num and step_num>0:\n",
    "      pred_tags.append(storing_values[step_num][pred_tags[len(pred_tags)-1]][0])\n",
    "  predicted_tags.append(list(reversed(pred_tags)))"
   ]
  },
  {
   "cell_type": "code",
   "execution_count": 19,
   "metadata": {},
   "outputs": [
    {
     "name": "stdout",
     "output_type": "stream",
     "text": [
      "Accuracy on the test data is:  0.9379084967320261\n",
      "Loss on the test data is:  0.06209150326797386\n",
      "F1 Score is: 0.9379084967320261\n"
     ]
    }
   ],
   "source": [
    "#Calculating the accuracy based on tagging each word in the test data.\n",
    "right = 0 \n",
    "wrong = 0\n",
    "total_data_points = 0\n",
    "for i in range(len(test_tags)):\n",
    "  gt = test_tags[i]\n",
    "  total_data_points = total_data_points + len(gt)\n",
    "  pred = predicted_tags[i]\n",
    "  for h in range(len(gt)):\n",
    "    if gt[h] == pred[h]:\n",
    "      right = right+1\n",
    "    else:\n",
    "      wrong = wrong +1 \n",
    "\n",
    "print('Accuracy on the test data is: ',right/(right+wrong))\n",
    "print('Loss on the test data is: ',wrong/(right+wrong))\n",
    "print('F1 Score is:',right/(total_data_points))"
   ]
  },
  {
   "cell_type": "markdown",
   "metadata": {},
   "source": [
    "#    Topic Modelling        \n",
    "\n",
    "10) Using the LDA algorithm create the Topics (10) for the Corpus             (3 Marks)\n",
    "\n",
    "11) List down the 10 words in each of the Topics Extracted.           (2 Marks)"
   ]
  },
  {
   "cell_type": "code",
   "execution_count": 20,
   "metadata": {},
   "outputs": [
    {
     "name": "stdout",
     "output_type": "stream",
     "text": [
      "['situations', 'honour', 'reputation', 'respected']\n"
     ]
    }
   ],
   "source": [
    "## Create the word corpus ##\n",
    "tagged_text = []\n",
    "for index , row in sentence_duplicate.iterrows():\n",
    "      \n",
    "    # Word tokenizers is used to find the words \n",
    "    # and punctuation in a string\n",
    "    wordsList = nltk.word_tokenize(row[\"sentences\"])\n",
    "  \n",
    "    #  Using a Tagger. Which is part-of-speech \n",
    "    # tagger or POS-tagger. \n",
    "    tagged_text.extend([wordsList])\n",
    "\n",
    "print(tagged_text[:4][3][:100])"
   ]
  },
  {
   "cell_type": "code",
   "execution_count": 21,
   "metadata": {},
   "outputs": [
    {
     "name": "stdout",
     "output_type": "stream",
     "text": [
      "[(0, 1), (1, 1), (2, 1)]\n"
     ]
    }
   ],
   "source": [
    "## Create the dictionary ##\n",
    "\n",
    "\n",
    "# Create Dictionary\n",
    "id2word = corpora.Dictionary(tagged_text)\n",
    "# Create Corpus\n",
    "texts = tagged_text\n",
    "# Term Document Frequency\n",
    "corpus = [id2word.doc2bow(text) for text in texts]\n",
    "# View\n",
    "print(corpus[:1][0][:30])"
   ]
  },
  {
   "cell_type": "code",
   "execution_count": 22,
   "metadata": {},
   "outputs": [
    {
     "name": "stdout",
     "output_type": "stream",
     "text": [
      "[(0,\n",
      "  '0.011*\"public\" + 0.011*\"hope\" + 0.011*\"black\" + 0.011*\"ardour\" + '\n",
      "  '0.006*\"friend\" + 0.006*\"shed\" + 0.006*\"sepulchre\" + 0.006*\"redeem\" + '\n",
      "  '0.006*\"father\" + 0.006*\"endeavouring\"'),\n",
      " (1,\n",
      "  '0.015*\"ernest\" + 0.015*\"country\" + 0.010*\"waldman\" + 0.010*\"true\" + '\n",
      "  '0.008*\"passed\" + 0.005*\"seen\" + 0.005*\"climbing\" + 0.005*\"write\" + '\n",
      "  '0.005*\"return\" + 0.005*\"town\"'),\n",
      " (2,\n",
      "  '0.015*\"great\" + 0.010*\"beautiful\" + 0.010*\"life\" + 0.010*\"you\" + '\n",
      "  '0.010*\"pursuit\" + 0.010*\"united\" + 0.010*\"ill\" + 0.005*\"nearly\" + '\n",
      "  '0.005*\"krempe\" + 0.005*\"letter\"'),\n",
      " (3,\n",
      "  '0.010*\"quickly\" + 0.010*\"day\" + 0.010*\"saw\" + 0.010*\"eye\" + '\n",
      "  '0.010*\"discovered\" + 0.010*\"early\" + 0.010*\"yet\" + 0.010*\"thought\" + '\n",
      "  '0.005*\"returning\" + 0.005*\"necessary\"'),\n",
      " (4,\n",
      "  '0.015*\"life\" + 0.010*\"parents\" + 0.010*\"journey\" + 0.010*\"prevented\" + '\n",
      "  '0.010*\"countenance\" + 0.010*\"circumstances\" + 0.008*\"elizabeth\" + '\n",
      "  '0.005*\"junior\" + 0.005*\"unfortunate\" + 0.005*\"table\"'),\n",
      " (5,\n",
      "  '0.010*\"limbs\" + 0.010*\"contrast\" + 0.010*\"innocence\" + 0.010*\"soul\" + '\n",
      "  '0.010*\"idea\" + 0.010*\"son\" + 0.010*\"know\" + 0.005*\"formed\" + '\n",
      "  '0.005*\"thousand\" + 0.005*\"open\"'),\n",
      " (6,\n",
      "  '0.020*\"father\" + 0.020*\"family\" + 0.007*\"geneva\" + 0.007*\"expected\" + '\n",
      "  '0.007*\"sought\" + 0.007*\"schools\" + 0.007*\"commence\" + 0.007*\"distinguished\" '\n",
      "  '+ 0.007*\"nearly\" + 0.007*\"dismally\"'),\n",
      " (7,\n",
      "  '0.011*\"enter\" + 0.011*\"study\" + 0.006*\"promised\" + 0.006*\"father\" + '\n",
      "  '0.006*\"elizabeth\" + 0.006*\"discrimination\" + 0.006*\"adduced\" + '\n",
      "  '0.006*\"fellow\" + 0.006*\"alas\" + 0.006*\"beings\"'),\n",
      " (8,\n",
      "  '0.007*\"griefs\" + 0.007*\"temper\" + 0.007*\"courage\" + 0.007*\"page\" + '\n",
      "  '0.007*\"expect\" + 0.007*\"earnest\" + 0.007*\"two\" + 0.007*\"life\" + '\n",
      "  '0.007*\"friends\" + 0.007*\"endeavoured\"'),\n",
      " (9,\n",
      "  '0.013*\"loved\" + 0.013*\"application\" + 0.013*\"future\" + 0.007*\"mountains\" + '\n",
      "  '0.007*\"desert\" + 0.007*\"my\" + 0.007*\"malignity\" + 0.007*\"belrive\" + '\n",
      "  '0.007*\"mockery\" + 0.007*\"happiness\"')]\n"
     ]
    }
   ],
   "source": [
    "## Print number of topics and 10 words in each topic ##\n",
    "num_topics = 10\n",
    "# Build LDA model\n",
    "lda_model = gensim.models.LdaMulticore(corpus=corpus,\n",
    "                                       id2word=id2word,\n",
    "                                       num_topics=num_topics)\n",
    "# Print the top 10 Keyword in the 10 topics\n",
    "pprint(lda_model.print_topics())\n",
    "doc_lda = lda_model[corpus]"
   ]
  },
  {
   "cell_type": "code",
   "execution_count": 23,
   "metadata": {},
   "outputs": [
    {
     "data": {
      "text/html": [
       "\n",
       "<link rel=\"stylesheet\" type=\"text/css\" href=\"https://cdn.jsdelivr.net/gh/bmabey/pyLDAvis@3.3.1/pyLDAvis/js/ldavis.v1.0.0.css\">\n",
       "\n",
       "\n",
       "<div id=\"ldavis_el1567222777304717528249686813\"></div>\n",
       "<script type=\"text/javascript\">\n",
       "\n",
       "var ldavis_el1567222777304717528249686813_data = {\"mdsDat\": {\"x\": [-0.14413346293880977, 0.11865765705481937, 0.04072056581816074, 0.04805104101705221, -0.04115096488279371, -0.016426278186301078, -0.00904314092971156, -0.018104402308811152, 0.043532677616716135, -0.02210369226032149], \"y\": [0.10060191291629164, 0.09147062415361111, 0.04578892877854199, -0.03313234786109747, 0.01489868598886106, -0.10496150090360884, -0.08091825304737232, -0.03976767361461208, 0.01438538002217454, -0.008365756432789771], \"topics\": [1, 2, 3, 4, 5, 6, 7, 8, 9, 10], \"cluster\": [1, 1, 1, 1, 1, 1, 1, 1, 1, 1], \"Freq\": [11.973613380657188, 11.58924895768376, 11.316498478167876, 10.902124210432952, 10.835961987149686, 10.354919493367372, 9.86475575069722, 8.124272042560067, 7.796439854670218, 7.2421658446136625]}, \"tinfo\": {\"Term\": [\"father\", \"family\", \"life\", \"country\", \"great\", \"ernest\", \"application\", \"loved\", \"future\", \"thought\", \"day\", \"son\", \"ardour\", \"eye\", \"hope\", \"study\", \"enter\", \"true\", \"beautiful\", \"public\", \"black\", \"happy\", \"pursuit\", \"circumstances\", \"parents\", \"geneva\", \"attended\", \"you\", \"united\", \"ill\", \"limbs\", \"contrast\", \"soul\", \"innocence\", \"idea\", \"know\", \"formed\", \"pen\", \"good\", \"motion\", \"horrid\", \"plainpalais\", \"serene\", \"warm\", \"woeful\", \"writeto\", \"professor\", \"dreadfully\", \"dispute\", \"asked\", \"scope\", \"hold\", \"convulsive\", \"heart\", \"returns\", \"befitting\", \"mercenary\", \"form\", \"prepare\", \"cheerfully\", \"son\", \"thousand\", \"open\", \"uncle\", \"lake\", \"dear\", \"clerval\", \"walk\", \"quickly\", \"saw\", \"discovered\", \"early\", \"yet\", \"exquisitely\", \"chivalry\", \"creature\", \"muscles\", \"unbending\", \"menaced\", \"instructions\", \"sake\", \"books\", \"dogmatism\", \"greatest\", \"proud\", \"romance\", \"apprehensions\", \"cousin\", \"appeared\", \"farther\", \"arteries\", \"dusk\", \"live\", \"relating\", \"confident\", \"writes\", \"bear\", \"tear\", \"arguments\", \"eye\", \"thought\", \"day\", \"returning\", \"necessary\", \"natural\", \"deeply\", \"beautiful\", \"ernest\", \"illness\", \"light\", \"clerval\", \"court\", \"disposition\", \"obliterated\", \"journey\", \"prevented\", \"countenance\", \"junior\", \"unfortunate\", \"table\", \"arthur\", \"turbulence\", \"fluctuating\", \"considerable\", \"winter\", \"second\", \"variety\", \"gave\", \"retreat\", \"magnificent\", \"recovered\", \"delighted\", \"rapture\", \"tempted\", \"restrained\", \"tempest\", \"affairs\", \"undertaking\", \"seven\", \"gained\", \"cloud\", \"proceeded\", \"roncesvalles\", \"behold\", \"tranquil\", \"circumstances\", \"parents\", \"life\", \"elizabeth\", \"my\", \"birth\", \"victor\", \"passed\", \"native\", \"pleased\", \"calm\", \"waldman\", \"ernest\", \"climbing\", \"seen\", \"enquired\", \"enchantment\", \"health\", \"presently\", \"tale\", \"desirous\", \"songs\", \"vigorous\", \"activity\", \"gentleness\", \"getting\", \"night\", \"dearly\", \"cornelius\", \"eagerly\", \"lay\", \"agrippa\", \"began\", \"grave\", \"spent\", \"times\", \"lifeless\", \"numerous\", \"hills\", \"none\", \"lucerne\", \"ages\", \"country\", \"true\", \"passed\", \"write\", \"return\", \"town\", \"went\", \"open\", \"thought\", \"cause\", \"you\", \"united\", \"ill\", \"great\", \"letter\", \"impatiently\", \"get\", \"constant\", \"scientific\", \"wonder\", \"event\", \"god\", \"panes\", \"heard\", \"drawn\", \"yield\", \"skin\", \"cheerful\", \"burnt\", \"probably\", \"attendants\", \"lost\", \"prognosticated\", \"fear\", \"scarcely\", \"medical\", \"covered\", \"little\", \"bonds\", \"fix\", \"heroes\", \"beautiful\", \"pursuit\", \"life\", \"nearly\", \"krempe\", \"point\", \"geneva\", \"time\", \"manner\", \"sense\", \"date\", \"happy\", \"home\", \"friendship\", \"affection\", \"promised\", \"fellow\", \"discrimination\", \"alas\", \"beings\", \"last\", \"adduced\", \"may\", \"combined\", \"fetter\", \"guess\", \"babe\", \"thursday\", \"7th\", \"brothers\", \"tried\", \"qualities\", \"merit\", \"minister\", \"aerial\", \"repulsive\", \"place\", \"following\", \"permit\", \"knightly\", \"powers\", \"poets\", \"niece\", \"odious\", \"adventure\", \"enter\", \"study\", \"creations\", \"respected\", \"father\", \"elizabeth\", \"affection\", \"closely\", \"younger\", \"death\", \"love\", \"knowledge\", \"application\", \"happy\", \"public\", \"black\", \"shed\", \"sepulchre\", \"redeem\", \"holy\", \"endeavouring\", \"pride\", \"conduct\", \"filled\", \"symptoms\", \"devices\", \"relate\", \"eager\", \"alarming\", \"callous\", \"straight\", \"flowing\", \"bitterly\", \"decided\", \"led\", \"complexion\", \"indulge\", \"arrived\", \"stars\", \"rapid\", \"men\", \"begin\", \"teeth\", \"cultivated\", \"ardour\", \"hope\", \"friend\", \"father\", \"soon\", \"hands\", \"world\", \"loved\", \"future\", \"mountains\", \"desert\", \"malignity\", \"belrive\", \"happiness\", \"mockery\", \"enterprise\", \"firmest\", \"campagne\", \"applied\", \"changes\", \"apprehension\", \"hardship\", \"benignity\", \"best\", \"house\", \"shapes\", \"desired\", \"truest\", \"easily\", \"calmer\", \"justice\", \"sublime\", \"wretched\", \"attentions\", \"facile\", \"the\", \"hopes\", \"triumphed\", \"application\", \"secret\", \"concentrated\", \"my\", \"home\", \"suffered\", \"father\", \"kindness\", \"country\", \"said\", \"wretchedness\", \"griefs\", \"temper\", \"courage\", \"page\", \"earnest\", \"two\", \"expect\", \"laws\", \"endeavoured\", \"expressed\", \"hidden\", \"aggravation\", \"impossible\", \"skims\", \"words\", \"pain\", \"kind\", \"incident\", \"infinite\", \"murder\", \"exultation\", \"avoid\", \"pains\", \"line\", \"theory\", \"mentioning\", \"research\", \"entered\", \"inflict\", \"sufficient\", \"merely\", \"life\", \"friends\", \"day\", \"long\", \"happy\", \"years\", \"curiosity\", \"progress\", \"family\", \"expected\", \"schools\", \"commence\", \"playing\", \"dismally\", \"term\", \"run\", \"occupation\", \"magnificence\", \"attend\", \"obliged\", \"hide\", \"comprehensive\", \"glad\", \"majestic\", \"mourning\", \"hitherto\", \"surrounded\", \"difference\", \"away\", \"vainly\", \"sole\", \"debts\", \"studies\", \"surprise\", \"dressed\", \"scenes\", \"pattered\", \"persuade\", \"brought\", \"father\", \"year\", \"geneva\", \"sought\", \"distinguished\", \"nearly\", \"morning\", \"paid\", \"swiss\", \"son\", \"calm\", \"attended\", \"justine\"], \"Freq\": [3.0, 2.0, 4.0, 3.0, 2.0, 2.0, 2.0, 1.0, 1.0, 2.0, 2.0, 2.0, 2.0, 2.0, 2.0, 2.0, 2.0, 2.0, 2.0, 1.0, 1.0, 2.0, 2.0, 2.0, 2.0, 2.0, 2.0, 1.0, 1.0, 1.0, 1.240210635816436, 1.2401931942959765, 1.2401771765731056, 1.240183346362656, 1.2401517855161102, 1.2400178298929896, 0.6496419988822079, 0.6496376681645428, 0.6496367782910499, 0.6496341086705715, 0.6496369562657486, 0.6496368376159495, 0.6496351171938634, 0.6496371342404471, 0.6496329221725811, 0.6496305491766001, 0.6496358884175572, 0.6496329814974806, 0.6496313204002939, 0.6496321509488873, 0.6496277609063227, 0.6496234895135571, 0.6496203452938824, 0.6496255065601408, 0.6496209978677772, 0.6496223030155666, 0.6496230149143609, 0.6496213538171742, 0.6496188621713943, 0.6496186841966958, 1.2401453784269618, 0.6496413463083132, 0.649640990358916, 0.6496408123842174, 0.6496377868143418, 0.6496374308649447, 0.6496276422565236, 0.6496261591340355, 1.2330679765159818, 1.2330206620127764, 1.2329355648116231, 1.2329294782371818, 1.2329106443087214, 0.6458764449120576, 0.6458754113428129, 0.6458723106350786, 0.6458742055120273, 0.645873975829973, 0.6458747222966497, 0.6458742629325409, 0.6458681763580995, 0.6458650756503651, 0.6458682911991267, 0.6458683486196403, 0.6458628362503348, 0.6458605968503044, 0.6458593910195188, 0.6458640995016339, 0.6458589890759237, 0.6458568070964069, 0.6458517540912102, 0.6458532470245638, 0.645849055327071, 0.6458523857168598, 0.645846930768068, 0.6458491127475847, 0.6458447487885511, 0.6458449784706056, 0.645848481121935, 1.2329510683502949, 1.2328535683182043, 1.2330350171411761, 0.6458845986249887, 0.6458832779531759, 0.6458831631121487, 0.6458798327223599, 0.64587839720952, 0.645873975829973, 0.6458714493273746, 0.6458692673478578, 0.6458691525068306, 0.645868233778613, 0.6458657646965283, 0.6458654775939603, 1.225205338483855, 1.2251701270675954, 1.225124598930648, 0.6418008951382688, 0.6418007269308663, 0.6417962414001326, 0.6417958489161933, 0.641789513104032, 0.6417922044224722, 0.6417861489559817, 0.6417828408770656, 0.6417804299042962, 0.6417822801857238, 0.6417737016081956, 0.6417828408770656, 0.6417823923239921, 0.6417786917611369, 0.6417755518896233, 0.6417805420425645, 0.6417838501214806, 0.6417740940921348, 0.641768262902181, 0.641770225321877, 0.6417694964231327, 0.6417599646703236, 0.6417693842848644, 0.6417683750404494, 0.6417661883442166, 0.6417634970257764, 0.6417614224678121, 0.6417689357317911, 1.225111815168057, 1.225220365011813, 1.8084906349193268, 0.9722381137040652, 0.6417942229113024, 0.6417908026941179, 0.6417877188917385, 0.6417873824769335, 0.641785924679445, 0.6417844668819566, 0.641776785410575, 1.1944725918194812, 1.7631336895783818, 0.6256840701741397, 0.6256850424632266, 0.6256805051141545, 0.6256765079256863, 0.6256768860381089, 0.6256782364396185, 0.6256759677650825, 0.6256765079256863, 0.6256731589299426, 0.6256752655562975, 0.625673212946003, 0.6256752655562975, 0.625672510737218, 0.6256728888496407, 0.6256645703763418, 0.6256592768024244, 0.6256635440711946, 0.6256607352360547, 0.6256533350357825, 0.6256529029072994, 0.6256583585293979, 0.6256502561203406, 0.625653551100024, 0.6256523627466956, 0.6256550095336543, 0.6256484195742876, 0.6256547394533524, 0.6256526868430579, 0.6256585745936395, 1.763109274319089, 1.1944146866027519, 0.9255385107110021, 0.6256838000938378, 0.6256823956762679, 0.6256807751944564, 0.6256752115402371, 0.625673645074486, 0.6256686215808706, 0.6256636521033153, 1.2044962249834095, 1.2044496235818638, 1.2044302958116375, 1.7781012799469715, 0.630934013243849, 0.6309298792485506, 0.6309223628934625, 0.6309223628934625, 0.6309203764281893, 0.6309187120924198, 0.630917101444901, 0.6309126453200987, 0.6309161887446403, 0.6309193026631768, 0.6309179067686603, 0.6309133432673569, 0.6309051289650107, 0.6309072228067852, 0.6309136653968607, 0.6309058806005196, 0.6309083502600484, 0.6309096924663141, 0.6309056121592664, 0.6309067933007803, 0.630899169569191, 0.6309021224229755, 0.6308930491086193, 0.6308964314684089, 0.6309052900297626, 0.6308927269791155, 0.6309031424997374, 1.2045153380006333, 1.2044691661050926, 1.204506103621525, 0.630937341915388, 0.6309348185676084, 0.63093154358432, 0.6309306845723099, 0.630929664495548, 0.6309278390950267, 0.6309256378767509, 0.630924027229232, 0.630921128063698, 0.630919410039678, 0.6309178530804097, 0.6309138801498632, 0.6214933246543725, 0.6214724435763419, 0.6214749062096231, 0.6214677748340794, 0.621466902651459, 0.621464901761918, 0.6214731105395223, 0.6214606947633958, 0.6214658252493985, 0.6214563338502936, 0.6214581295203946, 0.6214540251315924, 0.621451152059431, 0.621451203364291, 0.6214528451198119, 0.6214524346809317, 0.6214509468399909, 0.6214535120829923, 0.6214515624983112, 0.6214518703274714, 0.6214515624983112, 0.6214487920358698, 0.6214521781566316, 0.6214552564482331, 0.6214485868164297, 0.621447047670629, 0.6214494589990501, 0.6214368380034837, 0.6214410450020058, 0.6214408397825657, 1.1864638797984883, 1.1864272481284297, 0.6214427380623867, 0.621443199806127, 0.6214776253672045, 0.6214773688429044, 0.6214644913230378, 0.6214634652258373, 0.6214619260800365, 0.6214615669460163, 0.6214603869342357, 0.6214602330196557, 0.6214558721065534, 0.6214554103628132, 1.166139482827006, 1.1661003818054438, 0.610855171717014, 0.6108488178010101, 0.6108488178010101, 0.6108456897192851, 0.6108464228634394, 0.6108403622050973, 0.6108372341233723, 0.6108435880393761, 0.6108424150087293, 0.6108404110813742, 0.6108380161438035, 0.6108369897419875, 0.6108358655876176, 0.6108361588452793, 0.6108319554854613, 0.610832248743123, 0.6108251128066879, 0.6108321998668461, 0.6108238420234872, 0.6108243307862568, 0.6108259925796731, 0.6108330796398312, 0.6108228644979481, 0.6108265790949966, 0.6108217403435783, 0.610821984724963, 0.6108206650654853, 0.6108233043844408, 1.1660861099325734, 1.166135377219742, 0.6108627475399416, 0.6108469605024859, 0.610843783544484, 0.6108297071767216, 0.6108285830223517, 1.10000496866933, 1.0999738934975478, 0.5762419649100101, 0.5762352426902075, 0.5762335520720535, 0.5762305331110643, 0.576229406032295, 0.5762296475491742, 0.5762274738972619, 0.576220912688712, 0.5762238108912617, 0.5762275544028883, 0.5762199868740087, 0.5762242134193936, 0.5762213554696571, 0.5762182157502284, 0.5762127413676346, 0.5762135464238984, 0.5762111715079202, 0.576213667182338, 0.5762098834178981, 0.5762100041763377, 0.5762154785589315, 0.5762079915356783, 0.5762015108327547, 0.5762030001868428, 0.5761999812258536, 0.5762048115634363, 0.5761967610007984, 0.5761940640623148, 0.5761978880795677, 1.099982024565812, 0.5762006252708646, 0.5762019536136999, 0.5762335923248667, 0.576229406032295, 0.576226226060053, 0.5762254210037893, 0.5762220397674813, 0.576217491199591, 0.5762155993173711, 0.576213667182338, 0.5632336614961913, 0.5632300304149419, 0.5632282148743172, 0.5632215707682011, 0.5632199097416721, 0.5632190599141457, 0.5632201028842918, 0.5632151584332287, 0.5632172443735209, 0.5632129952358885, 0.5632108706670724, 0.5632147335194655, 0.5632109865526442, 0.5632076258710622, 0.5632089392408759, 0.5632048446173393, 0.5632080507848255, 0.5632055013022461, 0.5632050763884828, 0.5632041106753846, 0.5632018315924727, 0.5632007499938027, 0.5631990889672737, 0.5632029518196667, 0.5631981232541754, 0.5631974279407447, 0.563192251718538, 0.563192251718538, 0.5631826718446032, 0.5631886592658125, 0.5631880412094296, 0.5632189826570978, 0.5632179010584277, 0.5632171671164731, 0.5632160082607551, 0.5632122226654099, 0.5632087847267802, 0.5632042265609564, 0.5632033767334299, 1.530995597821949, 0.5432948397944141, 0.5432917180345055, 0.5432897803904244, 0.5432863356898358, 0.5432864074544314, 0.5432792309948715, 0.5432822809901844, 0.5432776880560661, 0.5432808098159747, 0.5432760015880697, 0.5432751762952203, 0.5432761092349631, 0.5432700810089328, 0.5432678563064693, 0.5432679639533627, 0.5432667798375354, 0.5432609669052919, 0.5432633351369467, 0.5432727004166722, 0.5432612180813765, 0.5432652010164322, 0.5432573069109164, 0.5432606798469095, 0.5432607157292073, 0.5432510633910994, 0.5432562663242803, 0.5432498433929743, 0.5432572710286186, 0.5432547951500705, 0.5432589216143174, 1.5310400918712197, 0.543258275732957, 0.5433019086070804, 0.5432942297953515, 0.5432896368612332, 0.5432889909798728, 0.5432855103969864, 0.5432829268715448, 0.5432817427557175, 0.5432808815805703, 0.5432748533545401, 0.5432742074731797, 0.5432679639533627], \"Total\": [3.0, 2.0, 4.0, 3.0, 2.0, 2.0, 2.0, 1.0, 1.0, 2.0, 2.0, 2.0, 2.0, 2.0, 2.0, 2.0, 2.0, 2.0, 2.0, 1.0, 1.0, 2.0, 2.0, 2.0, 2.0, 2.0, 2.0, 1.0, 1.0, 1.0, 1.7366394393871138, 1.7366283144326833, 1.7366144311931102, 1.7366273579130678, 1.736587552737535, 1.7365220708442382, 1.1460524048669167, 1.1460453001502782, 1.1460437951796612, 1.1460421384454689, 1.1460472277304552, 1.1460476741737935, 1.1460452122877274, 1.1460493286137876, 1.1460419310587937, 1.1460385367879462, 1.1460497309693571, 1.1460462732843877, 1.1460441608865282, 1.146046196909553, 1.146039472760569, 1.1460325807789378, 1.1460281585492986, 1.1460395165017478, 1.1460324359017706, 1.146035934310507, 1.1460382393685058, 1.1460359915708125, 1.1460324788541758, 1.1460332213320195, 2.813887575978451, 1.714832347531421, 1.7148448801640006, 1.7294291106614594, 1.719604358952266, 1.7195958022578928, 1.7331980245244356, 1.7331524460891043, 1.7298311056684186, 1.7297923392819605, 1.7297302968746542, 1.7297311227923464, 1.7297086083701432, 1.1426260908685373, 1.1426277034938075, 1.142622652168148, 1.1426261078066573, 1.1426266021238958, 1.1426283469760052, 1.1426296990927491, 1.14262041241936, 1.1426175620148231, 1.1426236460924342, 1.1426251359856507, 1.142616332532234, 1.1426136368488629, 1.1426122207454394, 1.1426213775237524, 1.1426143833590028, 1.1426119309588205, 1.1426076887296825, 1.1426117517223933, 1.142606032886266, 1.1426124164000173, 1.1426029686841455, 1.1426081905788605, 1.142601682286561, 1.1426024338700989, 1.142608808587238, 2.2417084757232115, 2.792327045925661, 2.797085898322392, 1.6546417100368658, 1.6365249464304448, 1.6546149082894663, 2.249850838509521, 2.2897985502812457, 2.8489524357512517, 1.7182895201157469, 1.707573768489627, 1.7331980245244356, 1.7161783536673654, 1.6978664940117538, 1.654631736931191, 1.7223624540341762, 1.722335074178864, 1.722300644600914, 1.1389170761929264, 1.1389247131218154, 1.138918305325897, 1.1389202348494407, 1.138911138880276, 1.1389173319015218, 1.1389125742495247, 1.1389071508374458, 1.1389033648610818, 1.1389090988879012, 1.1388945216069648, 1.13891098444112, 1.13891152644454, 1.138906530555532, 1.1389042444436621, 1.1389139726027246, 1.1389199435515622, 1.1389046871510762, 1.1388943895910997, 1.1389004499099236, 1.1388998536513375, 1.1388829442705128, 1.1389002651144313, 1.1388991692364683, 1.1388957476999333, 1.138891402727203, 1.1388906904410183, 1.1389044738722462, 2.2958319043259965, 2.309488253094745, 4.551999007207372, 2.804777291434613, 1.662773061276626, 1.6327980215870521, 1.7294447332005125, 2.86032764072803, 2.2196851719151014, 1.7294771932764657, 2.2199260696265943, 1.693077387381547, 2.8489524357512517, 1.124268265520852, 1.124271967005949, 1.1242684945814196, 1.1242622258421353, 1.12426348572597, 1.1242664845234416, 1.1242625662691397, 1.1242643723734018, 1.1242592006480967, 1.1242655200654648, 1.1242621868508174, 1.1242671629042018, 1.1242648727250726, 1.1242656070828763, 1.1242539014123458, 1.124247964555018, 1.124256719268289, 1.1242529256474074, 1.1242422520920776, 1.1242434121743525, 1.1242538707643577, 1.1242409067579648, 1.1242477620643392, 1.1242457838957252, 1.1242507708120124, 1.124239444980186, 1.124250968581196, 1.1242490047767564, 1.12426012702919, 3.369048905209489, 2.257967077792664, 2.86032764072803, 1.7076803200778137, 2.8461831251760774, 1.6362779521730795, 1.6892149238240552, 1.7148448801640006, 2.792327045925661, 1.6891654994190217, 1.7026264279497958, 1.7025957517049963, 1.7025710183795753, 2.8411821319428934, 1.1290418471034995, 1.1290386266423513, 1.1290335728710232, 1.129035087457474, 1.1290330515077216, 1.129031238653551, 1.1290293793142887, 1.129022992642394, 1.1290308438245966, 1.1290371857441184, 1.129037104216796, 1.1290294569229378, 1.1290148679010357, 1.1290193814507499, 1.1290310779827264, 1.1290172908189966, 1.1290218514618307, 1.1290248838640669, 1.1290196342531673, 1.1290231354424973, 1.129010009504529, 1.1290171565591702, 1.1290041974857452, 1.1290114379111253, 1.1290288440846243, 1.1290076262058082, 1.1290277740390497, 2.2897985502812457, 2.293158243130598, 4.551999007207372, 1.6229593509314355, 1.7196004441194266, 1.684319499046197, 2.737313510448855, 2.849873012597808, 1.6843434338161523, 1.6229042977499246, 1.716182370128277, 2.699888844199567, 1.6528813206937678, 1.6528673437945876, 2.277428624775033, 1.1204604478860911, 1.1204422731096755, 1.120447736904286, 1.1204395724398357, 1.120438162628883, 1.120435307939761, 1.1204506044772349, 1.12043145280545, 1.1204417963048758, 1.120430789177967, 1.120434519375786, 1.120427210201937, 1.120423358643932, 1.1204236787388466, 1.1204272839657412, 1.120427039447755, 1.1204245921593194, 1.1204297847837756, 1.1204271073509497, 1.1204283029167932, 1.1204282493184867, 1.1204237882631354, 1.1204304306986868, 1.120436352482983, 1.1204250971148766, 1.1204226651056493, 1.1204286500660467, 1.1204103409392314, 1.1204183587805867, 1.120418288253095, 2.2541759217982604, 2.2589681303418927, 1.120422286768356, 1.1204281182508258, 3.681306275293288, 2.804777291434613, 2.277428624775033, 1.644252304235871, 1.6892009178787044, 1.6757368048507644, 1.6891981199491002, 1.6442685575379203, 2.168068286178794, 2.699888844199567, 1.666104582547642, 1.666069491097136, 1.1107875003998313, 1.1107823120086722, 1.11078243769108, 1.1107807733524604, 1.1107876571928288, 1.1107774358018891, 1.1107720338043336, 1.1107836168681555, 1.1107836110173128, 1.1107819123070073, 1.110780452605356, 1.1107793517560358, 1.1107778205890968, 1.110779669407994, 1.1107723208208637, 1.1107734106356297, 1.1107614239406685, 1.110774746673621, 1.110761381643194, 1.1107639096160888, 1.1107690886916939, 1.1107841267773464, 1.1107674666671854, 1.110774349632188, 1.1107656108445156, 1.1107669642002256, 1.1107646556844821, 1.1107696471671091, 2.231027059144212, 2.2348480240841955, 1.6795597133214946, 3.681306275293288, 1.701292053128691, 1.6941936961336712, 2.1995207906623784, 1.6031231873032734, 1.60310437412904, 1.079321866957311, 1.0793188472298836, 1.0793173619790024, 1.0793144761029216, 1.0793125000746744, 1.079315005533928, 1.0793134465571452, 1.0793036801006595, 1.079310135932583, 1.0793172701316909, 1.079303512730009, 1.079312221564933, 1.079308306737803, 1.0793041320727523, 1.0792992433200161, 1.0793008474386354, 1.0792967786095538, 1.0793039898330528, 1.0792990752243028, 1.0793008706037288, 1.0793112507221378, 1.079297330760752, 1.0792886731960254, 1.0792935649355517, 1.079288640970722, 1.0792980407539736, 1.0792859738170313, 1.0792810258488406, 1.0792882152433794, 2.168068286178794, 1.0792942931788243, 1.0793023485605677, 1.662773061276626, 1.6528813206937678, 1.5912770693097522, 3.681306275293288, 1.6528660482449016, 3.369048905209489, 1.573196146889136, 1.6626870441986437, 1.0674970306646872, 1.0674993538863797, 1.0674969147921822, 1.0674881975136539, 1.067485065636246, 1.0674853261463713, 1.0674897375871069, 1.0674818703463855, 1.0674873217130543, 1.067481794354737, 1.067477823451993, 1.067485185172178, 1.067481226160939, 1.067476732875778, 1.0674793982621722, 1.0674725369556197, 1.067482107584219, 1.067479350321597, 1.0674787905145195, 1.0674772795393956, 1.067474265473481, 1.0674731379515432, 1.0674714637255547, 1.067479367675271, 1.0674724822378436, 1.0674738074589574, 1.0674642662117122, 1.0674676847905837, 1.0674540854034555, 1.0674659285944317, 1.0674659094268895, 4.551999007207372, 2.2233984884249756, 2.797085898322392, 2.802959410132215, 2.699888844199567, 2.811576618169753, 1.6227657669873867, 1.5913150375749268, 2.0371662917133655, 1.0493746641351573, 1.0493703643101628, 1.04937090021631, 1.049375010963494, 1.0493754720779955, 1.049363265452568, 1.0493692143925877, 1.0493604811637738, 1.049367219171913, 1.0493593061334847, 1.0493599663402697, 1.049364645159971, 1.0493537349523687, 1.0493546129601738, 1.0493556355133387, 1.049354654067281, 1.0493473210174782, 1.0493519979954202, 1.0493715591090165, 1.04934972059009, 1.0493577487822594, 1.0493446614896211, 1.0493524297957957, 1.049355876920404, 1.0493387405438406, 1.0493495698943365, 1.0493399589521466, 1.049354563530403, 1.0493540748614794, 1.0493627587249945, 3.681306275293288, 1.049361450379424, 2.737313510448855, 1.622930338428152, 1.622879555932191, 1.6229593509314355, 1.6143258547710535, 1.622889712449345, 1.618137039982226, 2.813887575978451, 2.2199260696265943, 2.163731316182719, 2.1695778925934834], \"Category\": [\"Default\", \"Default\", \"Default\", \"Default\", \"Default\", \"Default\", \"Default\", \"Default\", \"Default\", \"Default\", \"Default\", \"Default\", \"Default\", \"Default\", \"Default\", \"Default\", \"Default\", \"Default\", \"Default\", \"Default\", \"Default\", \"Default\", \"Default\", \"Default\", \"Default\", \"Default\", \"Default\", \"Default\", \"Default\", \"Default\", \"Topic1\", \"Topic1\", \"Topic1\", \"Topic1\", \"Topic1\", \"Topic1\", \"Topic1\", \"Topic1\", \"Topic1\", \"Topic1\", \"Topic1\", \"Topic1\", \"Topic1\", \"Topic1\", \"Topic1\", \"Topic1\", \"Topic1\", \"Topic1\", \"Topic1\", \"Topic1\", \"Topic1\", \"Topic1\", \"Topic1\", \"Topic1\", \"Topic1\", \"Topic1\", \"Topic1\", \"Topic1\", \"Topic1\", \"Topic1\", \"Topic1\", \"Topic1\", \"Topic1\", \"Topic1\", \"Topic1\", \"Topic1\", \"Topic1\", \"Topic1\", \"Topic2\", \"Topic2\", \"Topic2\", \"Topic2\", \"Topic2\", \"Topic2\", \"Topic2\", \"Topic2\", \"Topic2\", \"Topic2\", \"Topic2\", \"Topic2\", \"Topic2\", \"Topic2\", \"Topic2\", \"Topic2\", \"Topic2\", \"Topic2\", \"Topic2\", \"Topic2\", \"Topic2\", \"Topic2\", \"Topic2\", \"Topic2\", \"Topic2\", \"Topic2\", \"Topic2\", \"Topic2\", \"Topic2\", \"Topic2\", \"Topic2\", \"Topic2\", \"Topic2\", \"Topic2\", \"Topic2\", \"Topic2\", \"Topic2\", \"Topic2\", \"Topic2\", \"Topic2\", \"Topic2\", \"Topic2\", \"Topic2\", \"Topic2\", \"Topic2\", \"Topic2\", \"Topic3\", \"Topic3\", \"Topic3\", \"Topic3\", \"Topic3\", \"Topic3\", \"Topic3\", \"Topic3\", \"Topic3\", \"Topic3\", \"Topic3\", \"Topic3\", \"Topic3\", \"Topic3\", \"Topic3\", \"Topic3\", \"Topic3\", \"Topic3\", \"Topic3\", \"Topic3\", \"Topic3\", \"Topic3\", \"Topic3\", \"Topic3\", \"Topic3\", \"Topic3\", \"Topic3\", \"Topic3\", \"Topic3\", \"Topic3\", \"Topic3\", \"Topic3\", \"Topic3\", \"Topic3\", \"Topic3\", \"Topic3\", \"Topic3\", \"Topic3\", \"Topic3\", \"Topic3\", \"Topic3\", \"Topic3\", \"Topic4\", \"Topic4\", \"Topic4\", \"Topic4\", \"Topic4\", \"Topic4\", \"Topic4\", \"Topic4\", \"Topic4\", \"Topic4\", \"Topic4\", \"Topic4\", \"Topic4\", \"Topic4\", \"Topic4\", \"Topic4\", \"Topic4\", \"Topic4\", \"Topic4\", \"Topic4\", \"Topic4\", \"Topic4\", \"Topic4\", \"Topic4\", \"Topic4\", \"Topic4\", \"Topic4\", \"Topic4\", \"Topic4\", \"Topic4\", \"Topic4\", \"Topic4\", \"Topic4\", \"Topic4\", \"Topic4\", \"Topic4\", \"Topic4\", \"Topic4\", \"Topic4\", \"Topic4\", \"Topic4\", \"Topic5\", \"Topic5\", \"Topic5\", \"Topic5\", \"Topic5\", \"Topic5\", \"Topic5\", \"Topic5\", \"Topic5\", \"Topic5\", \"Topic5\", \"Topic5\", \"Topic5\", \"Topic5\", \"Topic5\", \"Topic5\", \"Topic5\", \"Topic5\", \"Topic5\", \"Topic5\", \"Topic5\", \"Topic5\", \"Topic5\", \"Topic5\", \"Topic5\", \"Topic5\", \"Topic5\", \"Topic5\", \"Topic5\", \"Topic5\", \"Topic5\", \"Topic5\", \"Topic5\", \"Topic5\", \"Topic5\", \"Topic5\", \"Topic5\", \"Topic5\", \"Topic5\", \"Topic5\", \"Topic5\", \"Topic5\", \"Topic5\", \"Topic5\", \"Topic5\", \"Topic5\", \"Topic6\", \"Topic6\", \"Topic6\", \"Topic6\", \"Topic6\", \"Topic6\", \"Topic6\", \"Topic6\", \"Topic6\", \"Topic6\", \"Topic6\", \"Topic6\", \"Topic6\", \"Topic6\", \"Topic6\", \"Topic6\", \"Topic6\", \"Topic6\", \"Topic6\", \"Topic6\", \"Topic6\", \"Topic6\", \"Topic6\", \"Topic6\", \"Topic6\", \"Topic6\", \"Topic6\", \"Topic6\", \"Topic6\", \"Topic6\", \"Topic6\", \"Topic6\", \"Topic6\", \"Topic6\", \"Topic6\", \"Topic6\", \"Topic6\", \"Topic6\", \"Topic6\", \"Topic6\", \"Topic6\", \"Topic6\", \"Topic6\", \"Topic6\", \"Topic7\", \"Topic7\", \"Topic7\", \"Topic7\", \"Topic7\", \"Topic7\", \"Topic7\", \"Topic7\", \"Topic7\", \"Topic7\", \"Topic7\", \"Topic7\", \"Topic7\", \"Topic7\", \"Topic7\", \"Topic7\", \"Topic7\", \"Topic7\", \"Topic7\", \"Topic7\", \"Topic7\", \"Topic7\", \"Topic7\", \"Topic7\", \"Topic7\", \"Topic7\", \"Topic7\", \"Topic7\", \"Topic7\", \"Topic7\", \"Topic7\", \"Topic7\", \"Topic7\", \"Topic7\", \"Topic7\", \"Topic7\", \"Topic7\", \"Topic8\", \"Topic8\", \"Topic8\", \"Topic8\", \"Topic8\", \"Topic8\", \"Topic8\", \"Topic8\", \"Topic8\", \"Topic8\", \"Topic8\", \"Topic8\", \"Topic8\", \"Topic8\", \"Topic8\", \"Topic8\", \"Topic8\", \"Topic8\", \"Topic8\", \"Topic8\", \"Topic8\", \"Topic8\", \"Topic8\", \"Topic8\", \"Topic8\", \"Topic8\", \"Topic8\", \"Topic8\", \"Topic8\", \"Topic8\", \"Topic8\", \"Topic8\", \"Topic8\", \"Topic8\", \"Topic8\", \"Topic8\", \"Topic8\", \"Topic8\", \"Topic8\", \"Topic8\", \"Topic8\", \"Topic8\", \"Topic9\", \"Topic9\", \"Topic9\", \"Topic9\", \"Topic9\", \"Topic9\", \"Topic9\", \"Topic9\", \"Topic9\", \"Topic9\", \"Topic9\", \"Topic9\", \"Topic9\", \"Topic9\", \"Topic9\", \"Topic9\", \"Topic9\", \"Topic9\", \"Topic9\", \"Topic9\", \"Topic9\", \"Topic9\", \"Topic9\", \"Topic9\", \"Topic9\", \"Topic9\", \"Topic9\", \"Topic9\", \"Topic9\", \"Topic9\", \"Topic9\", \"Topic9\", \"Topic9\", \"Topic9\", \"Topic9\", \"Topic9\", \"Topic9\", \"Topic9\", \"Topic9\", \"Topic10\", \"Topic10\", \"Topic10\", \"Topic10\", \"Topic10\", \"Topic10\", \"Topic10\", \"Topic10\", \"Topic10\", \"Topic10\", \"Topic10\", \"Topic10\", \"Topic10\", \"Topic10\", \"Topic10\", \"Topic10\", \"Topic10\", \"Topic10\", \"Topic10\", \"Topic10\", \"Topic10\", \"Topic10\", \"Topic10\", \"Topic10\", \"Topic10\", \"Topic10\", \"Topic10\", \"Topic10\", \"Topic10\", \"Topic10\", \"Topic10\", \"Topic10\", \"Topic10\", \"Topic10\", \"Topic10\", \"Topic10\", \"Topic10\", \"Topic10\", \"Topic10\", \"Topic10\", \"Topic10\", \"Topic10\", \"Topic10\", \"Topic10\"], \"logprob\": [30.0, 29.0, 28.0, 27.0, 26.0, 25.0, 24.0, 23.0, 22.0, 21.0, 20.0, 19.0, 18.0, 17.0, 16.0, 15.0, 14.0, 13.0, 12.0, 11.0, 10.0, 9.0, 8.0, 7.0, 6.0, 5.0, 4.0, 3.0, 2.0, 1.0, -4.632, -4.6321, -4.6321, -4.6321, -4.6321, -4.6322, -5.2787, -5.2787, -5.2787, -5.2787, -5.2787, -5.2787, -5.2787, -5.2787, -5.2787, -5.2787, -5.2787, -5.2787, -5.2787, -5.2787, -5.2787, -5.2787, -5.2787, -5.2787, -5.2787, -5.2787, -5.2787, -5.2787, -5.2787, -5.2787, -4.6321, -5.2787, -5.2787, -5.2787, -5.2787, -5.2787, -5.2787, -5.2787, -4.6052, -4.6052, -4.6053, -4.6053, -4.6053, -5.2518, -5.2518, -5.2519, -5.2518, -5.2518, -5.2518, -5.2518, -5.2519, -5.2519, -5.2519, -5.2519, -5.2519, -5.2519, -5.2519, -5.2519, -5.2519, -5.2519, -5.2519, -5.2519, -5.2519, -5.2519, -5.2519, -5.2519, -5.2519, -5.2519, -5.2519, -4.6053, -4.6054, -4.6052, -5.2518, -5.2518, -5.2518, -5.2518, -5.2518, -5.2518, -5.2519, -5.2519, -5.2519, -5.2519, -5.2519, -5.2519, -4.5878, -4.5878, -4.5878, -5.2344, -5.2344, -5.2344, -5.2344, -5.2344, -5.2344, -5.2344, -5.2344, -5.2344, -5.2344, -5.2344, -5.2344, -5.2344, -5.2344, -5.2344, -5.2344, -5.2344, -5.2344, -5.2344, -5.2344, -5.2344, -5.2344, -5.2344, -5.2344, -5.2344, -5.2344, -5.2344, -5.2344, -4.5879, -4.5878, -4.1984, -4.819, -5.2344, -5.2344, -5.2344, -5.2344, -5.2344, -5.2344, -5.2344, -4.5759, -4.1865, -5.2225, -5.2225, -5.2225, -5.2225, -5.2225, -5.2225, -5.2225, -5.2225, -5.2225, -5.2225, -5.2225, -5.2225, -5.2225, -5.2225, -5.2225, -5.2225, -5.2225, -5.2225, -5.2225, -5.2225, -5.2225, -5.2225, -5.2225, -5.2225, -5.2225, -5.2225, -5.2225, -5.2225, -5.2225, -4.1865, -4.5759, -4.831, -5.2225, -5.2225, -5.2225, -5.2225, -5.2225, -5.2225, -5.2225, -4.5614, -4.5615, -4.5615, -4.1719, -5.208, -5.2081, -5.2081, -5.2081, -5.2081, -5.2081, -5.2081, -5.2081, -5.2081, -5.2081, -5.2081, -5.2081, -5.2081, -5.2081, -5.2081, -5.2081, -5.2081, -5.2081, -5.2081, -5.2081, -5.2081, -5.2081, -5.2081, -5.2081, -5.2081, -5.2081, -5.2081, -4.5614, -4.5615, -4.5614, -5.208, -5.208, -5.208, -5.2081, -5.2081, -5.2081, -5.2081, -5.2081, -5.2081, -5.2081, -5.2081, -5.2081, -5.1777, -5.1777, -5.1777, -5.1778, -5.1778, -5.1778, -5.1777, -5.1778, -5.1778, -5.1778, -5.1778, -5.1778, -5.1778, -5.1778, -5.1778, -5.1778, -5.1778, -5.1778, -5.1778, -5.1778, -5.1778, -5.1778, -5.1778, -5.1778, -5.1778, -5.1778, -5.1778, -5.1778, -5.1778, -5.1778, -4.5311, -4.5311, -5.1778, -5.1778, -5.1777, -5.1777, -5.1778, -5.1778, -5.1778, -5.1778, -5.1778, -5.1778, -5.1778, -5.1778, -4.4999, -4.4999, -5.1465, -5.1465, -5.1465, -5.1465, -5.1465, -5.1465, -5.1465, -5.1465, -5.1465, -5.1465, -5.1465, -5.1465, -5.1465, -5.1465, -5.1465, -5.1465, -5.1465, -5.1465, -5.1465, -5.1465, -5.1465, -5.1465, -5.1465, -5.1465, -5.1465, -5.1465, -5.1465, -5.1465, -4.4999, -4.4999, -5.1465, -5.1465, -5.1465, -5.1465, -5.1465, -4.3642, -4.3642, -5.0107, -5.0107, -5.0107, -5.0107, -5.0107, -5.0107, -5.0107, -5.0107, -5.0107, -5.0107, -5.0107, -5.0107, -5.0107, -5.0107, -5.0108, -5.0108, -5.0108, -5.0108, -5.0108, -5.0108, -5.0108, -5.0108, -5.0108, -5.0108, -5.0108, -5.0108, -5.0108, -5.0108, -5.0108, -4.3642, -5.0108, -5.0108, -5.0107, -5.0107, -5.0107, -5.0107, -5.0107, -5.0107, -5.0108, -5.0108, -4.9923, -4.9924, -4.9924, -4.9924, -4.9924, -4.9924, -4.9924, -4.9924, -4.9924, -4.9924, -4.9924, -4.9924, -4.9924, -4.9924, -4.9924, -4.9924, -4.9924, -4.9924, -4.9924, -4.9924, -4.9924, -4.9924, -4.9924, -4.9924, -4.9924, -4.9924, -4.9924, -4.9924, -4.9924, -4.9924, -4.9924, -4.9924, -4.9924, -4.9924, -4.9924, -4.9924, -4.9924, -4.9924, -4.9924, -3.9186, -4.9546, -4.9546, -4.9547, -4.9547, -4.9547, -4.9547, -4.9547, -4.9547, -4.9547, -4.9547, -4.9547, -4.9547, -4.9547, -4.9547, -4.9547, -4.9547, -4.9547, -4.9547, -4.9547, -4.9547, -4.9547, -4.9547, -4.9547, -4.9547, -4.9547, -4.9547, -4.9547, -4.9547, -4.9547, -4.9547, -3.9186, -4.9547, -4.9546, -4.9546, -4.9547, -4.9547, -4.9547, -4.9547, -4.9547, -4.9547, -4.9547, -4.9547, -4.9547], \"loglift\": [30.0, 29.0, 28.0, 27.0, 26.0, 25.0, 24.0, 23.0, 22.0, 21.0, 20.0, 19.0, 18.0, 17.0, 16.0, 15.0, 14.0, 13.0, 12.0, 11.0, 10.0, 9.0, 8.0, 7.0, 6.0, 5.0, 4.0, 3.0, 2.0, 1.0, 1.7858, 1.7858, 1.7858, 1.7858, 1.7858, 1.7857, 1.5548, 1.5548, 1.5548, 1.5548, 1.5548, 1.5548, 1.5548, 1.5548, 1.5548, 1.5548, 1.5548, 1.5548, 1.5548, 1.5548, 1.5548, 1.5548, 1.5548, 1.5548, 1.5548, 1.5548, 1.5548, 1.5548, 1.5548, 1.5548, 1.3031, 1.1518, 1.1518, 1.1433, 1.149, 1.149, 1.1411, 1.1412, 1.8166, 1.8166, 1.8165, 1.8165, 1.8165, 1.5846, 1.5846, 1.5846, 1.5846, 1.5846, 1.5846, 1.5846, 1.5846, 1.5846, 1.5846, 1.5846, 1.5846, 1.5846, 1.5846, 1.5846, 1.5846, 1.5846, 1.5846, 1.5846, 1.5846, 1.5846, 1.5846, 1.5846, 1.5846, 1.5846, 1.5846, 1.5573, 1.3375, 1.336, 1.2144, 1.2254, 1.2144, 0.9071, 0.8895, 0.671, 1.1766, 1.1829, 1.168, 1.1778, 1.1886, 1.2143, 1.8383, 1.8383, 1.8383, 1.6054, 1.6053, 1.6053, 1.6053, 1.6053, 1.6053, 1.6053, 1.6053, 1.6053, 1.6053, 1.6053, 1.6053, 1.6053, 1.6053, 1.6053, 1.6053, 1.6053, 1.6053, 1.6053, 1.6053, 1.6053, 1.6053, 1.6053, 1.6053, 1.6053, 1.6053, 1.6053, 1.6053, 1.5508, 1.545, 1.2558, 1.1194, 1.2269, 1.2451, 1.1876, 0.6845, 0.938, 1.1876, 0.9379, 1.8674, 1.7364, 1.6302, 1.6302, 1.6302, 1.6302, 1.6302, 1.6302, 1.6302, 1.6302, 1.6302, 1.6302, 1.6302, 1.6302, 1.6302, 1.6302, 1.6302, 1.6301, 1.6301, 1.6301, 1.6301, 1.6301, 1.6301, 1.6301, 1.6301, 1.6301, 1.6301, 1.6301, 1.6301, 1.6301, 1.6301, 1.5687, 1.5794, 1.0879, 1.2122, 0.7013, 1.2549, 1.223, 1.208, 0.7204, 1.223, 1.8762, 1.8762, 1.8762, 1.7536, 1.6404, 1.6404, 1.6404, 1.6404, 1.6404, 1.6404, 1.6404, 1.6404, 1.6404, 1.6404, 1.6404, 1.6404, 1.6404, 1.6404, 1.6404, 1.6404, 1.6404, 1.6404, 1.6404, 1.6403, 1.6403, 1.6403, 1.6403, 1.6403, 1.6403, 1.6403, 1.6403, 1.5799, 1.5784, 0.8928, 1.2775, 1.2197, 1.2404, 0.7548, 0.7145, 1.2404, 1.2775, 1.2216, 0.7685, 1.2592, 1.2592, 0.9387, 1.6783, 1.6783, 1.6783, 1.6783, 1.6783, 1.6783, 1.6783, 1.6783, 1.6783, 1.6783, 1.6783, 1.6783, 1.6783, 1.6783, 1.6783, 1.6783, 1.6783, 1.6783, 1.6783, 1.6783, 1.6783, 1.6783, 1.6783, 1.6783, 1.6783, 1.6783, 1.6783, 1.6783, 1.6783, 1.6783, 1.6259, 1.6237, 1.6783, 1.6783, 0.4888, 0.7607, 0.969, 1.2947, 1.2678, 1.2758, 1.2678, 1.2947, 1.0182, 0.7988, 1.9594, 1.9594, 1.7182, 1.7182, 1.7182, 1.7182, 1.7182, 1.7182, 1.7182, 1.7182, 1.7182, 1.7182, 1.7182, 1.7182, 1.7182, 1.7182, 1.7182, 1.7182, 1.7182, 1.7182, 1.7182, 1.7182, 1.7182, 1.7182, 1.7182, 1.7182, 1.7182, 1.7182, 1.7182, 1.7182, 1.6674, 1.6657, 1.3048, 0.52, 1.2919, 1.2961, 1.035, 2.1337, 2.1337, 1.8828, 1.8827, 1.8827, 1.8827, 1.8827, 1.8827, 1.8827, 1.8827, 1.8827, 1.8827, 1.8827, 1.8827, 1.8827, 1.8827, 1.8827, 1.8827, 1.8827, 1.8827, 1.8827, 1.8827, 1.8827, 1.8827, 1.8827, 1.8827, 1.8827, 1.8827, 1.8827, 1.8827, 1.8827, 1.8318, 1.8827, 1.8827, 1.4506, 1.4565, 1.4945, 0.6558, 1.4565, 0.7444, 1.5059, 1.4506, 1.9121, 1.9121, 1.9121, 1.9121, 1.9121, 1.9121, 1.9121, 1.9121, 1.9121, 1.9121, 1.9121, 1.9121, 1.9121, 1.9121, 1.9121, 1.9121, 1.9121, 1.9121, 1.9121, 1.9121, 1.9121, 1.9121, 1.9121, 1.9121, 1.9121, 1.9121, 1.9121, 1.9121, 1.9121, 1.9121, 1.9121, 0.4618, 1.1784, 0.9488, 0.9467, 0.9842, 0.9437, 1.4933, 1.5128, 2.3396, 1.967, 1.967, 1.9669, 1.9669, 1.9669, 1.9669, 1.9669, 1.9669, 1.9669, 1.9669, 1.9669, 1.9669, 1.9669, 1.9669, 1.9669, 1.9669, 1.9669, 1.9669, 1.9669, 1.9669, 1.9669, 1.9669, 1.9669, 1.9669, 1.9669, 1.9669, 1.9669, 1.9669, 1.9669, 1.9669, 1.7479, 1.9669, 1.0082, 1.5309, 1.5309, 1.5309, 1.5362, 1.5309, 1.5338, 0.9806, 1.2176, 1.2433, 1.2406]}, \"token.table\": {\"Topic\": [6, 4, 6, 6, 6, 3, 3, 5, 6, 4, 9, 4, 7, 6, 2, 6, 8, 8, 8, 2, 6, 7, 2, 7, 2, 3, 1, 10, 5, 1, 8, 10, 8, 9, 10, 6, 2, 2, 5, 1, 4, 7, 3, 6, 8, 8, 8, 3, 10, 7, 7, 5, 2, 6, 10, 5, 7, 2, 3, 10, 8, 8, 4, 6, 8, 5, 1, 2, 3, 5, 1, 2, 4, 6, 8, 3, 6, 10, 7, 10, 8, 7, 2, 3, 5, 1, 1, 4, 3, 3, 4, 8, 9, 2, 5, 2, 5, 6, 2, 7, 7, 9, 2, 5, 2, 7, 9, 1, 5, 4, 6, 7, 10, 7, 2, 3, 8, 3, 8, 8, 4, 7, 10, 2, 6, 10, 2, 7, 1, 5, 10, 2, 5, 1, 10, 2, 7, 4, 2, 9, 8, 3, 6, 8, 4, 9, 7, 4, 4, 6, 9, 8, 2, 4, 5, 9, 10, 9, 2, 9, 2, 9, 8, 10, 2, 6, 7, 8, 10, 5, 6, 6, 7, 8, 5, 7, 3, 6, 1, 1, 4, 7, 2, 4, 9, 5, 8, 8, 3, 3, 1, 5, 8, 10, 4, 5, 4, 10, 5, 1, 4, 5, 6, 2, 9, 6, 3, 7, 8, 5, 6, 9, 10, 8, 4, 5, 1, 5, 9, 10, 4, 10, 1, 7, 5, 8, 4, 7, 8, 1, 8, 1, 5, 2, 5, 9, 9, 7, 9, 9, 1, 2, 3, 3, 8, 6, 7, 10, 9, 5, 8, 6, 1, 6, 8, 1, 5, 1, 5, 6, 9, 4, 7, 5, 2, 3, 5, 9, 4, 2, 6, 1, 9, 5, 2, 2, 3, 6, 9, 5, 4, 6, 8, 4, 10, 3, 10, 8, 5, 7, 6, 5, 7, 2, 9, 1, 9, 6, 6, 8, 6, 10, 1, 8, 10, 9, 2, 3, 8, 3, 4, 9, 2, 9, 5, 10, 2, 10, 6, 4, 4, 4, 10, 2, 9, 10, 6, 1, 4, 9, 5, 10, 9, 9, 5, 2, 3, 3, 4, 5, 10, 1, 6, 10, 6, 1, 10, 1, 3, 6, 5, 7, 6, 1, 4, 3, 7, 5, 3, 1, 5, 8, 9, 6, 2, 7, 1, 5, 6, 2, 7, 3, 3, 7, 7, 2, 6, 9, 6, 3, 3, 3, 4, 5, 6, 2, 9, 1, 2, 3, 10, 8, 10, 2, 2, 5, 10, 10, 5, 1, 3, 8, 4, 5, 10, 7, 1, 3, 8, 7, 9, 5, 10, 1, 3, 10, 4, 1, 7, 5, 10, 1, 4, 7, 7, 10, 5, 6, 8, 8, 9, 9, 10, 10, 4, 10, 7, 3, 4, 2, 7, 9, 3, 3, 10, 8, 9, 2, 4, 10, 1, 4, 6, 2, 4, 5, 6, 4, 4, 9, 3, 6, 8, 4, 6, 8, 3, 9, 2, 1, 3, 3, 3, 5, 10, 3, 1, 3, 4, 4, 1, 2, 1, 4, 6, 3, 1, 5, 9, 6, 7, 8, 8, 3, 8, 3, 4, 2, 1, 10, 2, 3, 5, 9, 2, 5, 5, 4, 6], \"Freq\": [0.8925195164793411, 0.8894722349429101, 0.892498068191562, 0.8925238105129061, 0.8925158329156055, 0.8780398673818162, 0.439091697154189, 0.439091697154189, 0.439091697154189, 0.8894738645961391, 0.936781150586841, 0.889488006823371, 0.9002700463263246, 0.8925068558783852, 0.8751859022291039, 0.4612400847219132, 0.4612400847219132, 0.9265116270010085, 0.9265159608311159, 0.8751875586868839, 0.4482240571226352, 0.4482240571226352, 0.8751901722483967, 0.900264935277066, 0.8751910300129089, 0.8780246143683581, 0.8725651746819774, 0.9529624354165627, 0.8857224496631521, 0.4621645915650064, 0.4621645915650064, 0.4621645915650064, 0.9265362036059148, 0.9367917228521342, 0.9529711404865685, 0.8925167033561848, 0.875195630728297, 0.436719640632655, 0.436719640632655, 0.8725729883868195, 0.8894870889800827, 0.9002788453652112, 0.8780473915479676, 0.8925079788907768, 0.9265140254679969, 0.9265229051607052, 0.9265271019035601, 0.6124456220421047, 0.6124456220421047, 0.9002833357790567, 0.6002150602622718, 0.8857169639547728, 0.875183467543296, 0.8925166445969701, 0.9529592999993904, 0.8857152114773758, 0.9002685478866969, 0.4504654518374147, 0.4504654518374147, 0.4504654518374147, 0.9265167942342185, 0.9265177512077614, 0.5920083025280495, 0.5920083025280495, 0.9265234368325019, 0.8857243874016011, 0.8725750540090915, 0.8751756997859448, 0.4355719589555826, 0.4355719589555826, 0.5769681166549826, 0.5769681166549826, 0.8894674257631199, 0.6081791689899607, 0.6081791689899607, 0.8780408547232605, 0.8925050844210891, 0.9529519065126228, 0.9002813211185697, 0.9529674948413759, 0.9265244362098064, 0.9002747364596987, 0.8751946453908035, 0.8780305201731048, 0.8857120660899441, 0.5758284554554652, 0.8725789087642065, 0.8894834872089843, 0.5806187224830986, 0.2968196746724932, 0.5936393493449864, 0.2968196746724932, 0.936770857267234, 0.5826900204533304, 0.5826900204533304, 0.875180545078864, 0.8857362994991221, 0.8925206253120053, 0.8751795687775673, 0.9002766708204402, 0.6162318803757294, 0.6162318803757294, 0.5826886567569474, 0.5826886567569474, 0.35751494103193965, 0.35751494103193965, 0.35751494103193965, 0.5815320080957183, 0.5815320080957183, 0.889478790105819, 0.5967524238324865, 0.5967524238324865, 0.9529686801169368, 0.9002725376991578, 0.44447391039597944, 0.44447391039597944, 0.44447391039597944, 0.8780369419805659, 0.9265102731843712, 0.9265230272656367, 0.889470505846351, 0.9002667300578185, 0.9529513081611092, 0.578124810444056, 0.8925003523706745, 0.9529477547438562, 0.5889744591385271, 0.5889744591385271, 0.8725667248515494, 0.6161886729946477, 0.6161886729946477, 0.8751788074925797, 0.885710483973591, 0.8725651165324746, 0.9529712773415386, 0.875187917936764, 0.9002688053384281, 0.8894765607012246, 0.5781245343991245, 0.9367812554866767, 0.9265257049599429, 0.3565345466300859, 0.3565345466300859, 0.3565345466300859, 0.8894722040945066, 0.936779275650081, 0.9002620739657746, 0.8894672445413615, 0.44362109910314973, 0.44362109910314973, 0.9367965084546614, 0.9265149092600081, 0.3510062110729153, 0.7020124221458306, 0.8857165440702224, 0.9367771555915312, 0.952948488444926, 0.9367841262383985, 0.8751769349498016, 0.9367907333639068, 0.44608833433499145, 0.44608833433499145, 0.9265281342505006, 0.9817558871533719, 0.8751877806499465, 0.2716427064793272, 0.2716427064793272, 0.2716427064793272, 0.5432854129586544, 0.8857214423759976, 0.8925047046150802, 0.8925138524028564, 0.9002653485469033, 0.9265232931539126, 0.8857336095776812, 0.9002736205467498, 0.8780268523356413, 0.892514137960723, 0.8725729447897631, 0.8725604481551812, 0.5953941333960682, 0.5953941333960682, 0.44976193210798937, 0.44976193210798937, 0.44976193210798937, 0.6050092306284178, 0.6050092306284178, 0.623789702116742, 0.8780400098506648, 0.8780444378545377, 0.3653216908413328, 0.3653216908413328, 0.3653216908413328, 0.3653216908413328, 0.8894682981016759, 0.8857132542631985, 0.8894701099894097, 0.9529666974818483, 0.885721554403046, 0.872567003290859, 0.8894788143536655, 0.7039323447498717, 0.3519661723749358, 0.8751776663283191, 0.9367707555845289, 0.8925108810081268, 0.5902512813511852, 0.5902512813511852, 0.9265157217495517, 0.37038561870737635, 0.37038561870737635, 0.37038561870737635, 0.37038561870737635, 0.9265193214555055, 0.8894712073249187, 0.8857104200167921, 0.87257026097361, 0.8857178034004795, 0.9367876109746389, 0.9529575868715822, 0.8894902277847263, 0.9529733196730044, 0.8725755417182973, 0.9002676531588573, 0.6050041146210471, 0.6050041146210471, 0.44745771937211876, 0.44745771937211876, 0.9265427410006702, 0.8725643898465895, 0.926525724846015, 0.5758419714707804, 0.5873470117867692, 0.5819741017408047, 0.885709289658141, 0.9367846248653696, 0.9367862710400275, 0.9002771234639217, 0.9367867623093522, 0.9368084432615568, 0.5758287726168932, 0.8751741712945169, 0.5805978861521081, 0.8780270494694079, 0.9265287437476949, 0.4609191508697638, 0.4609191508697638, 0.4609191508697638, 0.9367838513594057, 0.6050097048468335, 0.6050097048468335, 0.8925183866150675, 0.5758636856909247, 0.6081731572471171, 0.6081731572471171, 0.5815304383176525, 0.5815304383176525, 0.581529114411694, 0.581529114411694, 0.89251025285769, 0.9367840595508302, 0.8894795621048923, 0.9002833700615877, 0.8857067632749398, 0.21968370344911275, 0.4393674068982255, 0.21968370344911275, 0.21968370344911275, 0.8894852125082561, 0.5856262367420378, 0.5856262367420378, 0.5758247666843931, 0.9367862558109897, 0.8857306192133715, 0.8751922983234758, 0.3567657799057569, 0.3567657799057569, 0.3567657799057569, 0.3567657799057569, 0.8857200707370757, 0.5919968701067063, 0.5919968701067063, 0.6237823817408383, 0.8894826642062017, 0.9529552493445811, 0.8780313279661023, 0.952965768855671, 0.9265115481570976, 0.5937031486116453, 0.5937031486116453, 0.8925133237701409, 0.8857261328495953, 0.9002799422640565, 0.8751752069222903, 0.9367911353070351, 0.872571233356946, 0.9367980664945907, 0.8925146524848796, 0.8925167852858557, 0.9265135709896931, 0.6194536233465837, 0.6194536233465837, 0.8725682646856551, 0.926507680993321, 0.9529666601506144, 0.9367880882968195, 0.8751769219763085, 0.6014049802035106, 0.6014049802035106, 0.4505143398949768, 0.4505143398949768, 0.4505143398949768, 0.6043702344213709, 0.6043702344213709, 0.61615837724222, 0.61615837724222, 0.6110508747093528, 0.6110508747093528, 0.8925301413781201, 0.889469528997416, 0.8894811104872778, 0.8894812669576647, 0.9529618358584645, 0.6043640875973273, 0.6043640875973273, 0.9529613683288021, 0.8925237543307978, 0.5831431236534724, 0.5831431236534724, 0.9367785070871562, 0.616184816706214, 0.616184816706214, 0.9367922502736715, 0.9367931921195586, 0.8857153951724612, 0.4329963569461705, 0.4329963569461705, 0.3496102984011556, 0.3496102984011556, 0.3496102984011556, 0.9529667423712758, 0.8725658574481064, 0.8925094208019173, 0.9529671861540211, 0.8925194292332773, 0.872564049938776, 0.9529481734864642, 0.5782094172086286, 0.5782094172086286, 0.8925155563819724, 0.5937115853413107, 0.5937115853413107, 0.8925203239312424, 0.8725756193226026, 0.8894688348055523, 0.5806071158811867, 0.9002703581911375, 0.8857260275213265, 0.8780434925844254, 0.872562483963218, 0.8857241890762049, 0.6284110791310958, 0.6284110791310958, 0.8924902274655415, 0.8751844092617057, 0.6002024185485998, 0.43607980521867934, 0.43607980521867934, 0.8925187888573267, 0.5780911192561734, 0.9002728594976389, 0.8780294421313763, 0.8780351795087376, 0.9002663042446394, 0.900267913118638, 0.8751874088246472, 0.8925158756111883, 0.9367995085670325, 0.8925159800176793, 0.8780366006759173, 0.8780317458178827, 0.3513477369584698, 0.3513477369584698, 0.3513477369584698, 0.3513477369584698, 0.6043604448830918, 0.6043604448830918, 0.8725756520260588, 0.8751864740191905, 0.8780468423990101, 0.9529534374408303, 0.635648645578885, 0.635648645578885, 0.8751812842924988, 0.5781040748597034, 0.8857317398265179, 0.9529800056395292, 0.9529523931785342, 0.8857136632666248, 0.8725702942772202, 0.8780376200942873, 0.9265313513839859, 0.889464497334308, 0.61617927895468, 0.61617927895468, 0.9002664061076557, 0.8725659243441252, 0.878053363632141, 0.9265292177451776, 0.9002622010420958, 0.936788568033707, 0.8857279283302188, 0.9529757349510191, 0.3553802250440933, 0.3553802250440933, 0.3553802250440933, 0.8894745975158882, 0.5877885564450802, 0.5877885564450802, 0.6161693920692398, 0.6161693920692398, 0.5758330588747714, 0.8894890712380809, 0.9002784381149199, 0.9002745038344108, 0.9529655496234021, 0.44267999471451197, 0.44267999471451197, 0.9265361759414809, 0.6284260731751572, 0.6284260731751572, 0.9367980496733359, 0.952981112163771, 0.9529690722563091, 0.6179946291885046, 0.6179946291885046, 0.9002653532888809, 0.8780261018931063, 0.8894719347620864, 0.8751950550401933, 0.9002807164257256, 0.936768716870283, 0.8780445396337695, 0.8780248389378802, 0.952958839824378, 0.9265384932812326, 0.9367922982928846, 0.3581242395868778, 0.3581242395868778, 0.3581242395868778, 0.5831473854803039, 0.5831473854803039, 0.8925197714641699, 0.3508928277082942, 0.3508928277082942, 0.3508928277082942, 0.3508928277082942, 0.8894836474157655, 0.6111431121295361, 0.6111431121295361, 0.8780367651028935, 0.8925168393766078, 0.9265365690799284, 0.44287625352694543, 0.44287625352694543, 0.9265272462057631, 0.8780316267546151, 0.936781026873696, 0.8751765433617739, 0.5782254929301655, 0.5782254929301655, 0.8780403270700039, 0.8780211619598455, 0.5873384794943779, 0.9529638497075594, 0.8780331994682101, 0.5782202696638931, 0.5782202696638931, 0.8894695978417724, 0.590640455925387, 0.5769832897599524, 0.5769832897599524, 0.8725627903028897, 0.5919909810743288, 0.5919909810743288, 0.8780347013052764, 0.8725684225847915, 0.8857150854325078, 0.9367862289688899, 0.45464448631051735, 0.45464448631051735, 0.45464448631051735, 0.9265319765523788, 0.6014360931536366, 0.6014360931536366, 0.5855896962930586, 0.5855896962930586, 0.875190645617013, 0.8725710069076255, 0.9529604881506024, 0.35567232759638195, 0.35567232759638195, 0.35567232759638195, 0.35567232759638195, 0.578132059446864, 0.8857164831867228, 0.5873278974085596, 0.5919958895450982, 0.5919958895450982], \"Term\": [\"7th\", \"activity\", \"adduced\", \"adventure\", \"aerial\", \"affairs\", \"affection\", \"affection\", \"affection\", \"ages\", \"aggravation\", \"agrippa\", \"alarming\", \"alas\", \"appeared\", \"application\", \"application\", \"applied\", \"apprehension\", \"apprehensions\", \"ardour\", \"ardour\", \"arguments\", \"arrived\", \"arteries\", \"arthur\", \"asked\", \"attend\", \"attendants\", \"attended\", \"attended\", \"attended\", \"attentions\", \"avoid\", \"away\", \"babe\", \"bear\", \"beautiful\", \"beautiful\", \"befitting\", \"began\", \"begin\", \"behold\", \"beings\", \"belrive\", \"benignity\", \"best\", \"birth\", \"birth\", \"bitterly\", \"black\", \"bonds\", \"books\", \"brothers\", \"brought\", \"burnt\", \"callous\", \"calm\", \"calm\", \"calm\", \"calmer\", \"campagne\", \"cause\", \"cause\", \"changes\", \"cheerful\", \"cheerfully\", \"chivalry\", \"circumstances\", \"circumstances\", \"clerval\", \"clerval\", \"climbing\", \"closely\", \"closely\", \"cloud\", \"combined\", \"commence\", \"complexion\", \"comprehensive\", \"concentrated\", \"conduct\", \"confident\", \"considerable\", \"constant\", \"contrast\", \"convulsive\", \"cornelius\", \"countenance\", \"country\", \"country\", \"country\", \"courage\", \"court\", \"court\", \"cousin\", \"covered\", \"creations\", \"creature\", \"cultivated\", \"curiosity\", \"curiosity\", \"date\", \"date\", \"day\", \"day\", \"day\", \"dear\", \"dear\", \"dearly\", \"death\", \"death\", \"debts\", \"decided\", \"deeply\", \"deeply\", \"deeply\", \"delighted\", \"desert\", \"desired\", \"desirous\", \"devices\", \"difference\", \"discovered\", \"discrimination\", \"dismally\", \"disposition\", \"disposition\", \"dispute\", \"distinguished\", \"distinguished\", \"dogmatism\", \"drawn\", \"dreadfully\", \"dressed\", \"dusk\", \"eager\", \"eagerly\", \"early\", \"earnest\", \"easily\", \"elizabeth\", \"elizabeth\", \"elizabeth\", \"enchantment\", \"endeavoured\", \"endeavouring\", \"enquired\", \"enter\", \"enter\", \"entered\", \"enterprise\", \"ernest\", \"ernest\", \"event\", \"expect\", \"expected\", \"expressed\", \"exquisitely\", \"exultation\", \"eye\", \"eye\", \"facile\", \"family\", \"farther\", \"father\", \"father\", \"father\", \"father\", \"fear\", \"fellow\", \"fetter\", \"filled\", \"firmest\", \"fix\", \"flowing\", \"fluctuating\", \"following\", \"form\", \"formed\", \"friend\", \"friend\", \"friends\", \"friends\", \"friends\", \"friendship\", \"friendship\", \"future\", \"gained\", \"gave\", \"geneva\", \"geneva\", \"geneva\", \"geneva\", \"gentleness\", \"get\", \"getting\", \"glad\", \"god\", \"good\", \"grave\", \"great\", \"great\", \"greatest\", \"griefs\", \"guess\", \"hands\", \"hands\", \"happiness\", \"happy\", \"happy\", \"happy\", \"happy\", \"hardship\", \"health\", \"heard\", \"heart\", \"heroes\", \"hidden\", \"hide\", \"hills\", \"hitherto\", \"hold\", \"holy\", \"home\", \"home\", \"hope\", \"hope\", \"hopes\", \"horrid\", \"house\", \"idea\", \"ill\", \"illness\", \"impatiently\", \"impossible\", \"incident\", \"indulge\", \"infinite\", \"inflict\", \"innocence\", \"instructions\", \"journey\", \"junior\", \"justice\", \"justine\", \"justine\", \"justine\", \"kind\", \"kindness\", \"kindness\", \"knightly\", \"know\", \"knowledge\", \"knowledge\", \"krempe\", \"krempe\", \"lake\", \"lake\", \"last\", \"laws\", \"lay\", \"led\", \"letter\", \"life\", \"life\", \"life\", \"life\", \"lifeless\", \"light\", \"light\", \"limbs\", \"line\", \"little\", \"live\", \"long\", \"long\", \"long\", \"long\", \"lost\", \"love\", \"love\", \"loved\", \"lucerne\", \"magnificence\", \"magnificent\", \"majestic\", \"malignity\", \"manner\", \"manner\", \"may\", \"medical\", \"men\", \"menaced\", \"mentioning\", \"mercenary\", \"merely\", \"merit\", \"minister\", \"mockery\", \"morning\", \"morning\", \"motion\", \"mountains\", \"mourning\", \"murder\", \"muscles\", \"my\", \"my\", \"native\", \"native\", \"native\", \"natural\", \"natural\", \"nearly\", \"nearly\", \"necessary\", \"necessary\", \"niece\", \"night\", \"none\", \"numerous\", \"obliged\", \"obliterated\", \"obliterated\", \"occupation\", \"odious\", \"open\", \"open\", \"page\", \"paid\", \"paid\", \"pain\", \"pains\", \"panes\", \"parents\", \"parents\", \"passed\", \"passed\", \"passed\", \"pattered\", \"pen\", \"permit\", \"persuade\", \"place\", \"plainpalais\", \"playing\", \"pleased\", \"pleased\", \"poets\", \"point\", \"point\", \"powers\", \"prepare\", \"presently\", \"prevented\", \"pride\", \"probably\", \"proceeded\", \"professor\", \"prognosticated\", \"progress\", \"progress\", \"promised\", \"proud\", \"public\", \"pursuit\", \"pursuit\", \"qualities\", \"quickly\", \"rapid\", \"rapture\", \"recovered\", \"redeem\", \"relate\", \"relating\", \"repulsive\", \"research\", \"respected\", \"restrained\", \"retreat\", \"return\", \"return\", \"return\", \"return\", \"returning\", \"returning\", \"returns\", \"romance\", \"roncesvalles\", \"run\", \"said\", \"said\", \"sake\", \"saw\", \"scarcely\", \"scenes\", \"schools\", \"scientific\", \"scope\", \"second\", \"secret\", \"seen\", \"sense\", \"sense\", \"sepulchre\", \"serene\", \"seven\", \"shapes\", \"shed\", \"skims\", \"skin\", \"sole\", \"son\", \"son\", \"son\", \"songs\", \"soon\", \"soon\", \"sought\", \"sought\", \"soul\", \"spent\", \"stars\", \"straight\", \"studies\", \"study\", \"study\", \"sublime\", \"suffered\", \"suffered\", \"sufficient\", \"surprise\", \"surrounded\", \"swiss\", \"swiss\", \"symptoms\", \"table\", \"tale\", \"tear\", \"teeth\", \"temper\", \"tempest\", \"tempted\", \"term\", \"the\", \"theory\", \"thought\", \"thought\", \"thought\", \"thousand\", \"thousand\", \"thursday\", \"time\", \"time\", \"time\", \"time\", \"times\", \"town\", \"town\", \"tranquil\", \"tried\", \"triumphed\", \"true\", \"true\", \"truest\", \"turbulence\", \"two\", \"unbending\", \"uncle\", \"uncle\", \"undertaking\", \"unfortunate\", \"united\", \"vainly\", \"variety\", \"victor\", \"victor\", \"vigorous\", \"waldman\", \"walk\", \"walk\", \"warm\", \"went\", \"went\", \"winter\", \"woeful\", \"wonder\", \"words\", \"world\", \"world\", \"world\", \"wretched\", \"wretchedness\", \"wretchedness\", \"write\", \"write\", \"writes\", \"writeto\", \"year\", \"years\", \"years\", \"years\", \"years\", \"yet\", \"yield\", \"you\", \"younger\", \"younger\"]}, \"R\": 30, \"lambda.step\": 0.01, \"plot.opts\": {\"xlab\": \"PC1\", \"ylab\": \"PC2\"}, \"topic.order\": [6, 4, 5, 2, 3, 8, 1, 10, 9, 7]};\n",
       "\n",
       "function LDAvis_load_lib(url, callback){\n",
       "  var s = document.createElement('script');\n",
       "  s.src = url;\n",
       "  s.async = true;\n",
       "  s.onreadystatechange = s.onload = callback;\n",
       "  s.onerror = function(){console.warn(\"failed to load library \" + url);};\n",
       "  document.getElementsByTagName(\"head\")[0].appendChild(s);\n",
       "}\n",
       "\n",
       "if(typeof(LDAvis) !== \"undefined\"){\n",
       "   // already loaded: just create the visualization\n",
       "   !function(LDAvis){\n",
       "       new LDAvis(\"#\" + \"ldavis_el1567222777304717528249686813\", ldavis_el1567222777304717528249686813_data);\n",
       "   }(LDAvis);\n",
       "}else if(typeof define === \"function\" && define.amd){\n",
       "   // require.js is available: use it to load d3/LDAvis\n",
       "   require.config({paths: {d3: \"https://d3js.org/d3.v5\"}});\n",
       "   require([\"d3\"], function(d3){\n",
       "      window.d3 = d3;\n",
       "      LDAvis_load_lib(\"https://cdn.jsdelivr.net/gh/bmabey/pyLDAvis@3.3.1/pyLDAvis/js/ldavis.v3.0.0.js\", function(){\n",
       "        new LDAvis(\"#\" + \"ldavis_el1567222777304717528249686813\", ldavis_el1567222777304717528249686813_data);\n",
       "      });\n",
       "    });\n",
       "}else{\n",
       "    // require.js not available: dynamically load d3 & LDAvis\n",
       "    LDAvis_load_lib(\"https://d3js.org/d3.v5.js\", function(){\n",
       "         LDAvis_load_lib(\"https://cdn.jsdelivr.net/gh/bmabey/pyLDAvis@3.3.1/pyLDAvis/js/ldavis.v3.0.0.js\", function(){\n",
       "                 new LDAvis(\"#\" + \"ldavis_el1567222777304717528249686813\", ldavis_el1567222777304717528249686813_data);\n",
       "            })\n",
       "         });\n",
       "}\n",
       "</script>"
      ],
      "text/plain": [
       "PreparedData(topic_coordinates=              x         y  topics  cluster       Freq\n",
       "topic                                                \n",
       "5     -0.144133  0.100602       1        1  11.973613\n",
       "3      0.118658  0.091471       2        1  11.589249\n",
       "4      0.040721  0.045789       3        1  11.316498\n",
       "1      0.048051 -0.033132       4        1  10.902124\n",
       "2     -0.041151  0.014899       5        1  10.835962\n",
       "7     -0.016426 -0.104962       6        1  10.354919\n",
       "0     -0.009043 -0.080918       7        1   9.864756\n",
       "9     -0.018104 -0.039768       8        1   8.124272\n",
       "8      0.043533  0.014385       9        1   7.796440\n",
       "6     -0.022104 -0.008366      10        1   7.242166, topic_info=         Term      Freq     Total Category  logprob  loglift\n",
       "8      father  3.000000  3.000000  Default  30.0000  30.0000\n",
       "1      family  2.000000  2.000000  Default  29.0000  29.0000\n",
       "33       life  4.000000  4.000000  Default  28.0000  28.0000\n",
       "28    country  3.000000  3.000000  Default  27.0000  27.0000\n",
       "387     great  2.000000  2.000000  Default  26.0000  26.0000\n",
       "..        ...       ...       ...      ...      ...      ...\n",
       "136     swiss  0.543282  1.618137  Topic10  -4.9547   1.5338\n",
       "188       son  0.543281  2.813888  Topic10  -4.9547   0.9806\n",
       "145      calm  0.543275  2.219926  Topic10  -4.9547   1.2176\n",
       "270  attended  0.543274  2.163731  Topic10  -4.9547   1.2433\n",
       "779   justine  0.543268  2.169578  Topic10  -4.9547   1.2406\n",
       "\n",
       "[449 rows x 6 columns], token_table=      Topic      Freq       Term\n",
       "term                            \n",
       "715       6  0.892520        7th\n",
       "652       4  0.889472   activity\n",
       "822       6  0.892498    adduced\n",
       "241       6  0.892524  adventure\n",
       "128       6  0.892516     aerial\n",
       "...     ...       ...        ...\n",
       "628       2  0.578132        yet\n",
       "671       5  0.885716      yield\n",
       "590       5  0.587328        you\n",
       "25        4  0.591996    younger\n",
       "25        6  0.591996    younger\n",
       "\n",
       "[509 rows x 3 columns], R=30, lambda_step=0.01, plot_opts={'xlab': 'PC1', 'ylab': 'PC2'}, topic_order=[6, 4, 5, 2, 3, 8, 1, 10, 9, 7])"
      ]
     },
     "execution_count": 23,
     "metadata": {},
     "output_type": "execute_result"
    }
   ],
   "source": [
    "# Visualize the topics\n",
    "pyLDAvis.enable_notebook()\n",
    "#LDAvis_data_filepath = os.path.join('results')\n",
    "# # this is a bit time consuming - make the if statement True\n",
    "# # if you want to execute visualization prep yourself\n",
    "if 1 == 1:\n",
    "    LDAvis_prepared = pyLDAvis.gensim_models.prepare(lda_model, corpus, id2word)\n",
    "    with open('ldavisfile', 'wb') as f:\n",
    "        pickle.dump(LDAvis_prepared,f)\n",
    "# load the pre-prepared pyLDAvis data from disk\n",
    "with open('ldavisfile', 'rb') as f:\n",
    "    LDAvis_prepared = pickle.load(f)\n",
    "pyLDAvis.save_html(LDAvis_prepared, './/results//ldavis_prepared_'+ str(num_topics) +'.html')\n",
    "LDAvis_prepared"
   ]
  },
  {
   "cell_type": "code",
   "execution_count": 24,
   "metadata": {},
   "outputs": [
    {
     "name": "stdout",
     "output_type": "stream",
     "text": [
      "Run started at :  Fri, 02 Jul 2021 17:03:48 +0000\n",
      "Run ended at :  Fri, 02 Jul 2021 17:04:06 +0000\n"
     ]
    }
   ],
   "source": [
    "endTime = strftime(\"%a, %d %b %Y %H:%M:%S +0000\", gmtime())\n",
    "print (\"Run started at : \",startTime)\n",
    "print (\"Run ended at : \",endTime)"
   ]
  },
  {
   "cell_type": "code",
   "execution_count": null,
   "metadata": {},
   "outputs": [],
   "source": []
  }
 ],
 "metadata": {
  "kernelspec": {
   "display_name": "Python 3",
   "language": "python",
   "name": "python3"
  },
  "language_info": {
   "codemirror_mode": {
    "name": "ipython",
    "version": 3
   },
   "file_extension": ".py",
   "mimetype": "text/x-python",
   "name": "python",
   "nbconvert_exporter": "python",
   "pygments_lexer": "ipython3",
   "version": "3.7.4"
  }
 },
 "nbformat": 4,
 "nbformat_minor": 2
}
