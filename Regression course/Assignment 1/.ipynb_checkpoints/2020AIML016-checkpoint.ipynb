{
 "cells": [
  {
   "cell_type": "code",
   "execution_count": 1,
   "metadata": {},
   "outputs": [
    {
     "data": {
      "text/plain": [
       "'\\nQ.2 solve the following matrix using simultaneous equations in python (2M)\\n                        6x+2y−5z=13\\n                        3x+3y−2z=13\\n                        7x+5y−3z=26\\n\\nAns. Here the following matrices can be formed:\\n     \\n     A=[6 2 -5] X=[x] B=[13] \\n       [3 3 -2]   [y]   [13]\\n       [7 5 -3]   [z]   [26]\\n       \\n    Linear equation can be written as AX = B \\n    Hence X = A-inverse*B\\n    \\n    Solution is mentioned below\\n\\n'"
      ]
     },
     "execution_count": 1,
     "metadata": {},
     "output_type": "execute_result"
    }
   ],
   "source": [
    "'''\n",
    "Q.2 solve the following matrix using simultaneous equations in python (2M)\n",
    "                        6x+2y−5z=13\n",
    "                        3x+3y−2z=13\n",
    "                        7x+5y−3z=26\n",
    "\n",
    "Ans. Here the following matrices can be formed:\n",
    "     \n",
    "     A=[6 2 -5] X=[x] B=[13] \n",
    "       [3 3 -2]   [y]   [13]\n",
    "       [7 5 -3]   [z]   [26]\n",
    "       \n",
    "    Linear equation can be written as AX = B \n",
    "    Hence X = A-inverse*B\n",
    "    \n",
    "    Solution is mentioned below\n",
    "\n",
    "'''"
   ]
  },
  {
   "cell_type": "code",
   "execution_count": 2,
   "metadata": {
    "scrolled": true
   },
   "outputs": [
    {
     "name": "stderr",
     "output_type": "stream",
     "text": [
      "C:\\Users\\jaghos\\AppData\\Local\\Continuum\\anaconda3\\lib\\site-packages\\numpy\\_distributor_init.py:32: UserWarning: loaded more than 1 DLL from .libs:\n",
      "C:\\Users\\jaghos\\AppData\\Local\\Continuum\\anaconda3\\lib\\site-packages\\numpy\\.libs\\libopenblas.IPBC74C7KURV7CB2PKT5Z5FNR3SIBV4J.gfortran-win_amd64.dll\n",
      "C:\\Users\\jaghos\\AppData\\Local\\Continuum\\anaconda3\\lib\\site-packages\\numpy\\.libs\\libopenblas.NOIJJG62EMASZI6NYURL6JBKM4EVBGM7.gfortran-win_amd64.dll\n",
      "  stacklevel=1)\n"
     ]
    },
    {
     "name": "stdout",
     "output_type": "stream",
     "text": [
      "Solutions:[x y z]= [2. 3. 1.]\n"
     ]
    }
   ],
   "source": [
    "import numpy as np \n",
    "# use numpy to create matrix A\n",
    "A = np.array([[6, 2, -5], [3, 3, -2], [7, 5, -3]]) \n",
    "# use numpy to create matrix B \n",
    "B = np.array([13, 13, 26]) \n",
    "# use numpy functions to solve the equation \n",
    "print (\"Solutions:[x y z]=\",np.linalg.solve(A, B))"
   ]
  },
  {
   "cell_type": "code",
   "execution_count": 3,
   "metadata": {},
   "outputs": [
    {
     "data": {
      "text/plain": [
       "'\\nQ.3 The following dataset of size n = 63 provides total payment (in thousands)\\nfor all the claims of Swedish Kronor for geographical zones in Sweden. The\\nvariables are y = total payment in thousands and x = number of claims. \\nFind the intercept, coefficient value and error term for this regression problem. \\nHow would you convey these numbers in a business context?\\n\\nAns. Here Lets take y = Mx+C\\n\\nwhere where M = intercept and C = coefficient \\n\\nM = sum((x(i) - mean(x)) * (y(i) - mean(y))) / sum( (x(i) - mean(x))^2 )\\n  = covariance(x, y) / variance(x)\\n\\nC = mean(y) - M * mean(x)\\n'"
      ]
     },
     "execution_count": 3,
     "metadata": {},
     "output_type": "execute_result"
    }
   ],
   "source": [
    "'''\n",
    "Q.3 The following dataset of size n = 63 provides total payment (in thousands)\n",
    "for all the claims of Swedish Kronor for geographical zones in Sweden. The\n",
    "variables are y = total payment in thousands and x = number of claims. \n",
    "Find the intercept, coefficient value and error term for this regression problem. \n",
    "How would you convey these numbers in a business context?\n",
    "\n",
    "Ans. Here Lets take y = Mx+C\n",
    "\n",
    "where where M = intercept and C = coefficient \n",
    "\n",
    "M = sum((x(i) - mean(x)) * (y(i) - mean(y))) / sum( (x(i) - mean(x))^2 )\n",
    "  = covariance(x, y) / variance(x)\n",
    "\n",
    "C = mean(y) - M * mean(x)\n",
    "'''"
   ]
  },
  {
   "cell_type": "code",
   "execution_count": 4,
   "metadata": {},
   "outputs": [
    {
     "name": "stdout",
     "output_type": "stream",
     "text": [
      "reading files\n",
      "coefficient is  3.4138235600663664  intercept is  19.99448575911481\n",
      "Error: 35.366\n"
     ]
    }
   ],
   "source": [
    "import numpy as np\n",
    "import pandas as pd\n",
    "from math import sqrt\n",
    "\n",
    "###############################################################################\n",
    "#                       Reading Files and pre processing                      #\n",
    "###############################################################################\n",
    "\n",
    "print(\"reading files\")\n",
    "dataset = pd.read_excel('slr06-1.xls')\n",
    "dataset = np.array(dataset)\n",
    "#print(dataset)\n",
    "x = dataset[:,0]\n",
    "y = dataset[:,1]\n",
    "#print(x)\n",
    "#print(y)\n",
    "\n",
    "###############################################################################\n",
    "#                     Find mean , variance and covariance                     #\n",
    "###############################################################################\n",
    "\n",
    "# Calculate the mean value of a list of numbers\n",
    "def mean(values):\n",
    "    return sum(values) / float(len(values))\n",
    " \n",
    "# Calculate the variance of a list of numbers\n",
    "def variance(values, mean):\n",
    "    return sum([(x-mean)**2 for x in values])\n",
    "\n",
    " # Calculate covariance between x and y\n",
    "def covariance(x, mean_x, y, mean_y):\n",
    "    covar = 0.0\n",
    "    for i in range(len(x)):\n",
    "        covar += (x[i] - mean_x) * (y[i] - mean_y)\n",
    "    return covar\n",
    "\n",
    "###############################################################################\n",
    "#                      calculate intercept and coefficient                    #\n",
    "###############################################################################\n",
    "\n",
    "x_mean, y_mean = mean(x), mean(y)\n",
    "M = covariance(x, x_mean, y, y_mean) / variance(x, x_mean)\n",
    "C = y_mean - M * x_mean\n",
    "print('coefficient is ',M,' intercept is ',C)\n",
    "\n",
    "###############################################################################\n",
    "#                              find error value                               #\n",
    "###############################################################################\n",
    "\n",
    "\n",
    "# Calculate root mean squared error\n",
    "def calculate_error(actual, predicted):\n",
    "    sum_error = 0.0\n",
    "    for i in range(len(actual)):\n",
    "        prediction_error = predicted[i] - actual[i]\n",
    "        sum_error += (prediction_error ** 2)\n",
    "    mean_error = sum_error / float(len(actual))\n",
    "    return sqrt(mean_error)\n",
    "\n",
    "# linear regression algorithm\n",
    "\n",
    "predictions = list()\n",
    "for row in dataset:\n",
    "    ydash = C + M * row[0]\n",
    "    predictions.append(ydash)\n",
    "    \n",
    "predictions=np.array(predictions)\n",
    "#print(predictions)\n",
    "\n",
    "print('Error: %.3f' % (calculate_error(y, predictions)))\n"
   ]
  },
  {
   "cell_type": "code",
   "execution_count": null,
   "metadata": {},
   "outputs": [],
   "source": []
  }
 ],
 "metadata": {
  "kernelspec": {
   "display_name": "Python 3",
   "language": "python",
   "name": "python3"
  },
  "language_info": {
   "codemirror_mode": {
    "name": "ipython",
    "version": 3
   },
   "file_extension": ".py",
   "mimetype": "text/x-python",
   "name": "python",
   "nbconvert_exporter": "python",
   "pygments_lexer": "ipython3",
   "version": "3.7.4"
  }
 },
 "nbformat": 4,
 "nbformat_minor": 2
}
